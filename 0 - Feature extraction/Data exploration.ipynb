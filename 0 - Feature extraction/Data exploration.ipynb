{
 "cells": [
  {
   "cell_type": "markdown",
   "metadata": {},
   "source": [
    "# Interpretable Feature extraction\n",
    "\n",
    "This is the first notebook to run to extract the features from the `.h5` files. It is assumed that the folder straucture with the following format is available:\n",
    "\n",
    "The files are saved as `.h5` files with at least three keys: `image` (numpy array), `mask` (numpy array), `label` (str).\n",
    "\n",
    "Apart from each file, we assume that the data comes from different experiments, donors and conditions. For example, in case we have N experiments, M donors and K conditions, the data path folder should look like this.\n",
    "\n",
    "\n",
    "```\n",
    "data_path/Experiment_1/Donor_1/condition_1/*.h5\n",
    "data_path/Experiment_1/Donor_1/condition_2/*.h5\n",
    ".\n",
    ".\n",
    ".\n",
    "data_path/Experiment_1/Donor_2/condition_1/*.h5\n",
    "data_path/Experiment_1/Donor_2/condition_2/*.h5\n",
    ".\n",
    ".\n",
    ".\n",
    "data_path/Experiment_N/Donor_M/condition_K/*.h5\n",
    "```\n",
    "\n",
    "For the the feature extraction and analysis we use the `scifAI` package. For installing it you can simply install it from github \n",
    "\n",
    "```\n",
    "git clone https://github.com/marrlab/scifAI.git\n",
    "pip install <path to the package>\n",
    "```"
   ]
  },
  {
   "cell_type": "markdown",
   "metadata": {},
   "source": [
    "here we import a series of needed modules."
   ]
  },
  {
   "cell_type": "code",
   "execution_count": 1,
   "metadata": {},
   "outputs": [],
   "source": [
    "import scifAI\n",
    "import matplotlib.pyplot as plt\n",
    "from scifAI.ml import features\n",
    "from scifAI.ml import AutoFeatureSelection\n",
    "from scifAI.ml import FeatureExtractor \n",
    "import numpy as np\n",
    "import pandas as pd\n",
    "import glob\n",
    "import warnings\n",
    "warnings.filterwarnings(\"ignore\")\n",
    "from tqdm import tqdm \n",
    "from sklearn.model_selection import train_test_split\n",
    "import h5py\n",
    "from sklearn.pipeline import  FeatureUnion, Pipeline\n",
    "from sklearn.feature_extraction import DictVectorizer\n",
    "from scifAI.utils import list_of_dict_to_dict\n",
    "from sklearn.preprocessing import MinMaxScaler \n",
    "from sklearn.ensemble import RandomForestClassifier\n",
    "from sklearn.model_selection import GridSearchCV\n",
    "from xgboost import XGBClassifier\n",
    "import seaborn as sns\n"
   ]
  },
  {
   "cell_type": "markdown",
   "metadata": {},
   "source": [
    "now lets calculate the metadata:"
   ]
  },
  {
   "cell_type": "code",
   "execution_count": 2,
   "metadata": {
    "scrolled": true
   },
   "outputs": [
    {
     "name": "stdout",
     "output_type": "stream",
     "text": [
      "Metadata prepration starts...\n",
      "Experiment_1 Donor_1 +SEA\n"
     ]
    },
    {
     "name": "stderr",
     "output_type": "stream",
     "text": [
      "100%|██████████| 60000/60000 [01:13<00:00, 820.57it/s] \n"
     ]
    },
    {
     "name": "stdout",
     "output_type": "stream",
     "text": [
      "Experiment_1 Donor_1 -SEA\n"
     ]
    },
    {
     "name": "stderr",
     "output_type": "stream",
     "text": [
      "100%|██████████| 60000/60000 [00:38<00:00, 1539.04it/s]\n"
     ]
    },
    {
     "name": "stdout",
     "output_type": "stream",
     "text": [
      "Experiment_1 Donor_1 Isotype\n"
     ]
    },
    {
     "name": "stderr",
     "output_type": "stream",
     "text": [
      "100%|██████████| 60000/60000 [00:55<00:00, 1088.27it/s]\n"
     ]
    },
    {
     "name": "stdout",
     "output_type": "stream",
     "text": [
      "Experiment_1 Donor_1 Teplizumab\n"
     ]
    },
    {
     "name": "stderr",
     "output_type": "stream",
     "text": [
      "100%|██████████| 60000/60000 [00:55<00:00, 1084.90it/s]\n"
     ]
    },
    {
     "name": "stdout",
     "output_type": "stream",
     "text": [
      "Experiment_1 Donor_2 +SEA\n"
     ]
    },
    {
     "name": "stderr",
     "output_type": "stream",
     "text": [
      "100%|██████████| 60000/60000 [00:54<00:00, 1104.17it/s]\n"
     ]
    },
    {
     "name": "stdout",
     "output_type": "stream",
     "text": [
      "Experiment_1 Donor_2 -SEA\n"
     ]
    },
    {
     "name": "stderr",
     "output_type": "stream",
     "text": [
      "100%|██████████| 60000/60000 [00:53<00:00, 1112.79it/s]\n"
     ]
    },
    {
     "name": "stdout",
     "output_type": "stream",
     "text": [
      "Experiment_1 Donor_2 Isotype\n"
     ]
    },
    {
     "name": "stderr",
     "output_type": "stream",
     "text": [
      "100%|██████████| 60000/60000 [00:55<00:00, 1083.91it/s]\n"
     ]
    },
    {
     "name": "stdout",
     "output_type": "stream",
     "text": [
      "Experiment_1 Donor_2 Teplizumab\n"
     ]
    },
    {
     "name": "stderr",
     "output_type": "stream",
     "text": [
      "100%|██████████| 60000/60000 [00:54<00:00, 1101.67it/s]\n"
     ]
    },
    {
     "name": "stdout",
     "output_type": "stream",
     "text": [
      "Experiment_2 Donor_3 +SEA\n"
     ]
    },
    {
     "name": "stderr",
     "output_type": "stream",
     "text": [
      "100%|██████████| 60000/60000 [00:55<00:00, 1077.27it/s]\n"
     ]
    },
    {
     "name": "stdout",
     "output_type": "stream",
     "text": [
      "Experiment_2 Donor_3 -SEA\n"
     ]
    },
    {
     "name": "stderr",
     "output_type": "stream",
     "text": [
      "100%|██████████| 60001/60001 [00:55<00:00, 1084.18it/s]\n"
     ]
    },
    {
     "name": "stdout",
     "output_type": "stream",
     "text": [
      "Experiment_2 Donor_3 Isotype\n"
     ]
    },
    {
     "name": "stderr",
     "output_type": "stream",
     "text": [
      "100%|██████████| 60000/60000 [00:54<00:00, 1095.39it/s]\n"
     ]
    },
    {
     "name": "stdout",
     "output_type": "stream",
     "text": [
      "Experiment_2 Donor_3 Teplizumab\n"
     ]
    },
    {
     "name": "stderr",
     "output_type": "stream",
     "text": [
      "100%|██████████| 60000/60000 [00:56<00:00, 1068.06it/s]\n"
     ]
    },
    {
     "name": "stdout",
     "output_type": "stream",
     "text": [
      "Experiment_2 Donor_4 +SEA\n"
     ]
    },
    {
     "name": "stderr",
     "output_type": "stream",
     "text": [
      "100%|██████████| 60000/60000 [00:55<00:00, 1084.65it/s]\n"
     ]
    },
    {
     "name": "stdout",
     "output_type": "stream",
     "text": [
      "Experiment_2 Donor_4 -SEA\n"
     ]
    },
    {
     "name": "stderr",
     "output_type": "stream",
     "text": [
      "100%|██████████| 60000/60000 [00:55<00:00, 1089.97it/s]\n"
     ]
    },
    {
     "name": "stdout",
     "output_type": "stream",
     "text": [
      "Experiment_2 Donor_4 Isotype\n"
     ]
    },
    {
     "name": "stderr",
     "output_type": "stream",
     "text": [
      "100%|██████████| 60000/60000 [00:55<00:00, 1074.76it/s]\n"
     ]
    },
    {
     "name": "stdout",
     "output_type": "stream",
     "text": [
      "Experiment_2 Donor_4 Teplizumab\n"
     ]
    },
    {
     "name": "stderr",
     "output_type": "stream",
     "text": [
      "100%|██████████| 60000/60000 [00:55<00:00, 1079.73it/s]\n"
     ]
    },
    {
     "name": "stdout",
     "output_type": "stream",
     "text": [
      "Experiment_3 Donor_1 +SEA\n"
     ]
    },
    {
     "name": "stderr",
     "output_type": "stream",
     "text": [
      "100%|██████████| 55000/55000 [00:50<00:00, 1084.79it/s]\n"
     ]
    },
    {
     "name": "stdout",
     "output_type": "stream",
     "text": [
      "Experiment_3 Donor_1 -SEA\n"
     ]
    },
    {
     "name": "stderr",
     "output_type": "stream",
     "text": [
      "100%|██████████| 55000/55000 [00:51<00:00, 1076.43it/s]\n"
     ]
    },
    {
     "name": "stdout",
     "output_type": "stream",
     "text": [
      "Experiment_3 Donor_1 CD19-TCB\n"
     ]
    },
    {
     "name": "stderr",
     "output_type": "stream",
     "text": [
      "100%|██████████| 55000/55000 [00:50<00:00, 1082.74it/s]\n"
     ]
    },
    {
     "name": "stdout",
     "output_type": "stream",
     "text": [
      "Experiment_3 Donor_1 CD20-TCB\n"
     ]
    },
    {
     "name": "stderr",
     "output_type": "stream",
     "text": [
      "100%|██████████| 28701/28701 [00:27<00:00, 1053.53it/s]\n"
     ]
    },
    {
     "name": "stdout",
     "output_type": "stream",
     "text": [
      "Experiment_3 Donor_1 DIG-TCB\n"
     ]
    },
    {
     "name": "stderr",
     "output_type": "stream",
     "text": [
      "100%|██████████| 55000/55000 [00:52<00:00, 1046.83it/s]\n"
     ]
    },
    {
     "name": "stdout",
     "output_type": "stream",
     "text": [
      "Experiment_3 Donor_1 Isotype\n"
     ]
    },
    {
     "name": "stderr",
     "output_type": "stream",
     "text": [
      "100%|██████████| 55000/55000 [00:55<00:00, 996.94it/s] \n"
     ]
    },
    {
     "name": "stdout",
     "output_type": "stream",
     "text": [
      "Experiment_3 Donor_1 Teplizumab\n"
     ]
    },
    {
     "name": "stderr",
     "output_type": "stream",
     "text": [
      "100%|██████████| 53375/53375 [00:48<00:00, 1089.31it/s]\n"
     ]
    },
    {
     "name": "stdout",
     "output_type": "stream",
     "text": [
      "Experiment_3 Donor_5 +SEA\n"
     ]
    },
    {
     "name": "stderr",
     "output_type": "stream",
     "text": [
      "100%|██████████| 55000/55000 [00:50<00:00, 1093.71it/s]\n"
     ]
    },
    {
     "name": "stdout",
     "output_type": "stream",
     "text": [
      "Experiment_3 Donor_5 -SEA\n"
     ]
    },
    {
     "name": "stderr",
     "output_type": "stream",
     "text": [
      "100%|██████████| 55000/55000 [00:50<00:00, 1089.78it/s]\n"
     ]
    },
    {
     "name": "stdout",
     "output_type": "stream",
     "text": [
      "Experiment_3 Donor_5 CD19-TCB\n"
     ]
    },
    {
     "name": "stderr",
     "output_type": "stream",
     "text": [
      "100%|██████████| 49020/49020 [00:44<00:00, 1094.02it/s]\n"
     ]
    },
    {
     "name": "stdout",
     "output_type": "stream",
     "text": [
      "Experiment_3 Donor_5 CD20-TCB\n"
     ]
    },
    {
     "name": "stderr",
     "output_type": "stream",
     "text": [
      "100%|██████████| 21208/21208 [00:19<00:00, 1108.21it/s]\n"
     ]
    },
    {
     "name": "stdout",
     "output_type": "stream",
     "text": [
      "Experiment_3 Donor_5 DIG-TCB\n"
     ]
    },
    {
     "name": "stderr",
     "output_type": "stream",
     "text": [
      "100%|██████████| 55000/55000 [00:48<00:00, 1130.26it/s]\n"
     ]
    },
    {
     "name": "stdout",
     "output_type": "stream",
     "text": [
      "Experiment_3 Donor_5 Isotype\n"
     ]
    },
    {
     "name": "stderr",
     "output_type": "stream",
     "text": [
      "100%|██████████| 55000/55000 [00:49<00:00, 1111.95it/s]\n"
     ]
    },
    {
     "name": "stdout",
     "output_type": "stream",
     "text": [
      "Experiment_3 Donor_5 Teplizumab\n"
     ]
    },
    {
     "name": "stderr",
     "output_type": "stream",
     "text": [
      "100%|██████████| 55000/55000 [00:49<00:00, 1118.15it/s]\n"
     ]
    },
    {
     "name": "stdout",
     "output_type": "stream",
     "text": [
      "Experiment_3 Donor_6 +SEA\n"
     ]
    },
    {
     "name": "stderr",
     "output_type": "stream",
     "text": [
      "100%|██████████| 55000/55000 [00:49<00:00, 1106.50it/s]\n"
     ]
    },
    {
     "name": "stdout",
     "output_type": "stream",
     "text": [
      "Experiment_3 Donor_6 -SEA\n"
     ]
    },
    {
     "name": "stderr",
     "output_type": "stream",
     "text": [
      "100%|██████████| 55000/55000 [00:50<00:00, 1096.48it/s]\n"
     ]
    },
    {
     "name": "stdout",
     "output_type": "stream",
     "text": [
      "Experiment_3 Donor_6 Isotype\n"
     ]
    },
    {
     "name": "stderr",
     "output_type": "stream",
     "text": [
      "100%|██████████| 55000/55000 [00:50<00:00, 1089.99it/s]\n"
     ]
    },
    {
     "name": "stdout",
     "output_type": "stream",
     "text": [
      "Experiment_3 Donor_6 Teplizumab\n"
     ]
    },
    {
     "name": "stderr",
     "output_type": "stream",
     "text": [
      "100%|██████████| 55000/55000 [00:50<00:00, 1094.45it/s]\n"
     ]
    },
    {
     "name": "stdout",
     "output_type": "stream",
     "text": [
      "Experiment_4 Donor_2 +SEA\n"
     ]
    },
    {
     "name": "stderr",
     "output_type": "stream",
     "text": [
      "0it [00:00, ?it/s]"
     ]
    },
    {
     "name": "stdout",
     "output_type": "stream",
     "text": [
      "Experiment_4 Donor_2 -SEA\n"
     ]
    },
    {
     "name": "stderr",
     "output_type": "stream",
     "text": [
      "\n",
      "100%|██████████| 55000/55000 [00:49<00:00, 1116.72it/s]\n"
     ]
    },
    {
     "name": "stdout",
     "output_type": "stream",
     "text": [
      "Experiment_4 Donor_2 CD19-TCB\n"
     ]
    },
    {
     "name": "stderr",
     "output_type": "stream",
     "text": [
      "100%|██████████| 55000/55000 [00:50<00:00, 1095.00it/s]\n"
     ]
    },
    {
     "name": "stdout",
     "output_type": "stream",
     "text": [
      "Experiment_4 Donor_2 CD20-TCB\n"
     ]
    },
    {
     "name": "stderr",
     "output_type": "stream",
     "text": [
      "100%|██████████| 51821/51821 [00:46<00:00, 1120.93it/s]\n"
     ]
    },
    {
     "name": "stdout",
     "output_type": "stream",
     "text": [
      "Experiment_4 Donor_2 DIG-TCB\n"
     ]
    },
    {
     "name": "stderr",
     "output_type": "stream",
     "text": [
      "100%|██████████| 55000/55000 [00:49<00:00, 1108.52it/s]\n"
     ]
    },
    {
     "name": "stdout",
     "output_type": "stream",
     "text": [
      "Experiment_4 Donor_7 +SEA\n"
     ]
    },
    {
     "name": "stderr",
     "output_type": "stream",
     "text": [
      "100%|██████████| 55000/55000 [00:51<00:00, 1065.00it/s]\n"
     ]
    },
    {
     "name": "stdout",
     "output_type": "stream",
     "text": [
      "Experiment_4 Donor_7 -SEA\n"
     ]
    },
    {
     "name": "stderr",
     "output_type": "stream",
     "text": [
      "100%|██████████| 55000/55000 [00:51<00:00, 1076.26it/s]\n"
     ]
    },
    {
     "name": "stdout",
     "output_type": "stream",
     "text": [
      "Experiment_4 Donor_7 CD19-TCB\n"
     ]
    },
    {
     "name": "stderr",
     "output_type": "stream",
     "text": [
      "100%|██████████| 55000/55000 [00:51<00:00, 1067.77it/s]\n"
     ]
    },
    {
     "name": "stdout",
     "output_type": "stream",
     "text": [
      "Experiment_4 Donor_7 CD20-TCB\n"
     ]
    },
    {
     "name": "stderr",
     "output_type": "stream",
     "text": [
      "100%|██████████| 55000/55000 [00:52<00:00, 1055.19it/s]\n"
     ]
    },
    {
     "name": "stdout",
     "output_type": "stream",
     "text": [
      "Experiment_4 Donor_7 DIG-TCB\n"
     ]
    },
    {
     "name": "stderr",
     "output_type": "stream",
     "text": [
      "100%|██████████| 55000/55000 [00:50<00:00, 1078.57it/s]\n"
     ]
    },
    {
     "name": "stdout",
     "output_type": "stream",
     "text": [
      "Experiment_4 Donor_8 +SEA\n"
     ]
    },
    {
     "name": "stderr",
     "output_type": "stream",
     "text": [
      "100%|██████████| 42781/42781 [00:36<00:00, 1167.11it/s]\n"
     ]
    },
    {
     "name": "stdout",
     "output_type": "stream",
     "text": [
      "Experiment_4 Donor_8 -SEA\n"
     ]
    },
    {
     "name": "stderr",
     "output_type": "stream",
     "text": [
      "100%|██████████| 55000/55000 [00:50<00:00, 1083.09it/s]\n"
     ]
    },
    {
     "name": "stdout",
     "output_type": "stream",
     "text": [
      "Experiment_4 Donor_8 CD19-TCB\n"
     ]
    },
    {
     "name": "stderr",
     "output_type": "stream",
     "text": [
      "100%|██████████| 55000/55000 [00:50<00:00, 1095.06it/s]\n"
     ]
    },
    {
     "name": "stdout",
     "output_type": "stream",
     "text": [
      "Experiment_4 Donor_8 CD20-TCB\n"
     ]
    },
    {
     "name": "stderr",
     "output_type": "stream",
     "text": [
      "100%|██████████| 48357/48357 [00:43<00:00, 1101.64it/s]\n"
     ]
    },
    {
     "name": "stdout",
     "output_type": "stream",
     "text": [
      "Experiment_4 Donor_8 DIG-TCB\n"
     ]
    },
    {
     "name": "stderr",
     "output_type": "stream",
     "text": [
      "100%|██████████| 55000/55000 [00:49<00:00, 1102.16it/s]\n"
     ]
    },
    {
     "name": "stdout",
     "output_type": "stream",
     "text": [
      "Experiment_4 Donor_9 +SEA\n"
     ]
    },
    {
     "name": "stderr",
     "output_type": "stream",
     "text": [
      "100%|██████████| 55000/55000 [00:50<00:00, 1092.16it/s]\n"
     ]
    },
    {
     "name": "stdout",
     "output_type": "stream",
     "text": [
      "Experiment_4 Donor_9 -SEA\n"
     ]
    },
    {
     "name": "stderr",
     "output_type": "stream",
     "text": [
      "100%|██████████| 55000/55000 [00:49<00:00, 1103.16it/s]\n"
     ]
    },
    {
     "name": "stdout",
     "output_type": "stream",
     "text": [
      "Experiment_4 Donor_9 CD19-TCB\n"
     ]
    },
    {
     "name": "stderr",
     "output_type": "stream",
     "text": [
      "100%|██████████| 55000/55000 [00:50<00:00, 1091.25it/s]\n"
     ]
    },
    {
     "name": "stdout",
     "output_type": "stream",
     "text": [
      "Experiment_4 Donor_9 CD20-TCB\n"
     ]
    },
    {
     "name": "stderr",
     "output_type": "stream",
     "text": [
      "100%|██████████| 49311/49311 [00:44<00:00, 1111.98it/s]\n"
     ]
    },
    {
     "name": "stdout",
     "output_type": "stream",
     "text": [
      "Experiment_4 Donor_9 DIG-TCB\n"
     ]
    },
    {
     "name": "stderr",
     "output_type": "stream",
     "text": [
      "100%|██████████| 55000/55000 [00:49<00:00, 1104.85it/s]\n"
     ]
    },
    {
     "name": "stdout",
     "output_type": "stream",
     "text": [
      "...metadata prepration ended.\n"
     ]
    }
   ],
   "source": [
    "data_path = \"/pstore/data/DS4/synapse_formation_full_data/\"\n",
    "\n",
    "metadata = scifAI.metadata_generator(data_path)\n"
   ]
  },
  {
   "cell_type": "markdown",
   "metadata": {},
   "source": [
    "`scifAI` can run on multiple nodes, therefore it can be parallelized. Considering that we have more than 2.8 millions images, it takes some time to calculate the metadata and features. Now, lets save the metadata as a zipped csv."
   ]
  },
  {
   "cell_type": "code",
   "execution_count": 3,
   "metadata": {
    "scrolled": true
   },
   "outputs": [],
   "source": [
    "metadata.to_csv(\"/pstore/data/DS4/synapse_data_features/metadata.csv.gz\", compression='gzip', index = False )"
   ]
  },
  {
   "cell_type": "code",
   "execution_count": 4,
   "metadata": {},
   "outputs": [
    {
     "data": {
      "text/html": [
       "<div>\n",
       "<style scoped>\n",
       "    .dataframe tbody tr th:only-of-type {\n",
       "        vertical-align: middle;\n",
       "    }\n",
       "\n",
       "    .dataframe tbody tr th {\n",
       "        vertical-align: top;\n",
       "    }\n",
       "\n",
       "    .dataframe thead th {\n",
       "        text-align: right;\n",
       "    }\n",
       "</style>\n",
       "<table border=\"1\" class=\"dataframe\">\n",
       "  <thead>\n",
       "    <tr style=\"text-align: right;\">\n",
       "      <th></th>\n",
       "      <th>file</th>\n",
       "      <th>experiment</th>\n",
       "      <th>donor</th>\n",
       "      <th>condition</th>\n",
       "      <th>object_number</th>\n",
       "      <th>set</th>\n",
       "      <th>label</th>\n",
       "    </tr>\n",
       "  </thead>\n",
       "  <tbody>\n",
       "    <tr>\n",
       "      <th>0</th>\n",
       "      <td>/pstore/data/DS4/synapse_formation_full_data/E...</td>\n",
       "      <td>Experiment_1</td>\n",
       "      <td>Donor_1</td>\n",
       "      <td>+SEA</td>\n",
       "      <td>47389</td>\n",
       "      <td>unlabeled</td>\n",
       "      <td>-1</td>\n",
       "    </tr>\n",
       "    <tr>\n",
       "      <th>1</th>\n",
       "      <td>/pstore/data/DS4/synapse_formation_full_data/E...</td>\n",
       "      <td>Experiment_1</td>\n",
       "      <td>Donor_1</td>\n",
       "      <td>+SEA</td>\n",
       "      <td>5156</td>\n",
       "      <td>unlabeled</td>\n",
       "      <td>-1</td>\n",
       "    </tr>\n",
       "    <tr>\n",
       "      <th>2</th>\n",
       "      <td>/pstore/data/DS4/synapse_formation_full_data/E...</td>\n",
       "      <td>Experiment_1</td>\n",
       "      <td>Donor_1</td>\n",
       "      <td>+SEA</td>\n",
       "      <td>32020</td>\n",
       "      <td>unlabeled</td>\n",
       "      <td>-1</td>\n",
       "    </tr>\n",
       "    <tr>\n",
       "      <th>3</th>\n",
       "      <td>/pstore/data/DS4/synapse_formation_full_data/E...</td>\n",
       "      <td>Experiment_1</td>\n",
       "      <td>Donor_1</td>\n",
       "      <td>+SEA</td>\n",
       "      <td>16752</td>\n",
       "      <td>unlabeled</td>\n",
       "      <td>-1</td>\n",
       "    </tr>\n",
       "    <tr>\n",
       "      <th>4</th>\n",
       "      <td>/pstore/data/DS4/synapse_formation_full_data/E...</td>\n",
       "      <td>Experiment_1</td>\n",
       "      <td>Donor_1</td>\n",
       "      <td>+SEA</td>\n",
       "      <td>55974</td>\n",
       "      <td>unlabeled</td>\n",
       "      <td>-1</td>\n",
       "    </tr>\n",
       "  </tbody>\n",
       "</table>\n",
       "</div>"
      ],
      "text/plain": [
       "                                                file    experiment    donor  \\\n",
       "0  /pstore/data/DS4/synapse_formation_full_data/E...  Experiment_1  Donor_1   \n",
       "1  /pstore/data/DS4/synapse_formation_full_data/E...  Experiment_1  Donor_1   \n",
       "2  /pstore/data/DS4/synapse_formation_full_data/E...  Experiment_1  Donor_1   \n",
       "3  /pstore/data/DS4/synapse_formation_full_data/E...  Experiment_1  Donor_1   \n",
       "4  /pstore/data/DS4/synapse_formation_full_data/E...  Experiment_1  Donor_1   \n",
       "\n",
       "  condition object_number        set label  \n",
       "0      +SEA         47389  unlabeled    -1  \n",
       "1      +SEA          5156  unlabeled    -1  \n",
       "2      +SEA         32020  unlabeled    -1  \n",
       "3      +SEA         16752  unlabeled    -1  \n",
       "4      +SEA         55974  unlabeled    -1  "
      ]
     },
     "execution_count": 4,
     "metadata": {},
     "output_type": "execute_result"
    }
   ],
   "source": [
    "metadata.head()"
   ]
  },
  {
   "cell_type": "markdown",
   "metadata": {},
   "source": [
    "so now, we have a dataframe which includes all the files, experiments, donors, conditions and their object numbers. In case an image is not labeled, it is assigned -1 as its labeled which can be useful for semi-supervised learning. Now lets how many files we have:"
   ]
  },
  {
   "cell_type": "code",
   "execution_count": 5,
   "metadata": {},
   "outputs": [
    {
     "data": {
      "text/plain": [
       "(2899575, 7)"
      ]
     },
     "execution_count": 5,
     "metadata": {},
     "output_type": "execute_result"
    }
   ],
   "source": [
    "metadata.shape"
   ]
  },
  {
   "cell_type": "markdown",
   "metadata": {},
   "source": [
    "also these are the possible combination of experiments, donors and conditions"
   ]
  },
  {
   "cell_type": "code",
   "execution_count": 6,
   "metadata": {},
   "outputs": [
    {
     "data": {
      "text/html": [
       "<div>\n",
       "<style scoped>\n",
       "    .dataframe tbody tr th:only-of-type {\n",
       "        vertical-align: middle;\n",
       "    }\n",
       "\n",
       "    .dataframe tbody tr th {\n",
       "        vertical-align: top;\n",
       "    }\n",
       "\n",
       "    .dataframe thead th {\n",
       "        text-align: right;\n",
       "    }\n",
       "</style>\n",
       "<table border=\"1\" class=\"dataframe\">\n",
       "  <thead>\n",
       "    <tr style=\"text-align: right;\">\n",
       "      <th></th>\n",
       "      <th>experiment</th>\n",
       "      <th>donor</th>\n",
       "      <th>condition</th>\n",
       "      <th>0</th>\n",
       "    </tr>\n",
       "  </thead>\n",
       "  <tbody>\n",
       "    <tr>\n",
       "      <th>0</th>\n",
       "      <td>Experiment_1</td>\n",
       "      <td>Donor_1</td>\n",
       "      <td>+SEA</td>\n",
       "      <td>60000</td>\n",
       "    </tr>\n",
       "    <tr>\n",
       "      <th>1</th>\n",
       "      <td>Experiment_1</td>\n",
       "      <td>Donor_1</td>\n",
       "      <td>-SEA</td>\n",
       "      <td>60000</td>\n",
       "    </tr>\n",
       "    <tr>\n",
       "      <th>2</th>\n",
       "      <td>Experiment_1</td>\n",
       "      <td>Donor_1</td>\n",
       "      <td>Isotype</td>\n",
       "      <td>60000</td>\n",
       "    </tr>\n",
       "    <tr>\n",
       "      <th>3</th>\n",
       "      <td>Experiment_1</td>\n",
       "      <td>Donor_1</td>\n",
       "      <td>Teplizumab</td>\n",
       "      <td>60000</td>\n",
       "    </tr>\n",
       "    <tr>\n",
       "      <th>4</th>\n",
       "      <td>Experiment_1</td>\n",
       "      <td>Donor_2</td>\n",
       "      <td>+SEA</td>\n",
       "      <td>60000</td>\n",
       "    </tr>\n",
       "    <tr>\n",
       "      <th>5</th>\n",
       "      <td>Experiment_1</td>\n",
       "      <td>Donor_2</td>\n",
       "      <td>-SEA</td>\n",
       "      <td>60000</td>\n",
       "    </tr>\n",
       "    <tr>\n",
       "      <th>6</th>\n",
       "      <td>Experiment_1</td>\n",
       "      <td>Donor_2</td>\n",
       "      <td>Isotype</td>\n",
       "      <td>60000</td>\n",
       "    </tr>\n",
       "    <tr>\n",
       "      <th>7</th>\n",
       "      <td>Experiment_1</td>\n",
       "      <td>Donor_2</td>\n",
       "      <td>Teplizumab</td>\n",
       "      <td>60000</td>\n",
       "    </tr>\n",
       "    <tr>\n",
       "      <th>8</th>\n",
       "      <td>Experiment_2</td>\n",
       "      <td>Donor_3</td>\n",
       "      <td>+SEA</td>\n",
       "      <td>60000</td>\n",
       "    </tr>\n",
       "    <tr>\n",
       "      <th>9</th>\n",
       "      <td>Experiment_2</td>\n",
       "      <td>Donor_3</td>\n",
       "      <td>-SEA</td>\n",
       "      <td>60001</td>\n",
       "    </tr>\n",
       "    <tr>\n",
       "      <th>10</th>\n",
       "      <td>Experiment_2</td>\n",
       "      <td>Donor_3</td>\n",
       "      <td>Isotype</td>\n",
       "      <td>60000</td>\n",
       "    </tr>\n",
       "    <tr>\n",
       "      <th>11</th>\n",
       "      <td>Experiment_2</td>\n",
       "      <td>Donor_3</td>\n",
       "      <td>Teplizumab</td>\n",
       "      <td>60000</td>\n",
       "    </tr>\n",
       "    <tr>\n",
       "      <th>12</th>\n",
       "      <td>Experiment_2</td>\n",
       "      <td>Donor_4</td>\n",
       "      <td>+SEA</td>\n",
       "      <td>60000</td>\n",
       "    </tr>\n",
       "    <tr>\n",
       "      <th>13</th>\n",
       "      <td>Experiment_2</td>\n",
       "      <td>Donor_4</td>\n",
       "      <td>-SEA</td>\n",
       "      <td>60000</td>\n",
       "    </tr>\n",
       "    <tr>\n",
       "      <th>14</th>\n",
       "      <td>Experiment_2</td>\n",
       "      <td>Donor_4</td>\n",
       "      <td>Isotype</td>\n",
       "      <td>60000</td>\n",
       "    </tr>\n",
       "    <tr>\n",
       "      <th>15</th>\n",
       "      <td>Experiment_2</td>\n",
       "      <td>Donor_4</td>\n",
       "      <td>Teplizumab</td>\n",
       "      <td>60000</td>\n",
       "    </tr>\n",
       "    <tr>\n",
       "      <th>16</th>\n",
       "      <td>Experiment_3</td>\n",
       "      <td>Donor_1</td>\n",
       "      <td>+SEA</td>\n",
       "      <td>55000</td>\n",
       "    </tr>\n",
       "    <tr>\n",
       "      <th>17</th>\n",
       "      <td>Experiment_3</td>\n",
       "      <td>Donor_1</td>\n",
       "      <td>-SEA</td>\n",
       "      <td>55000</td>\n",
       "    </tr>\n",
       "    <tr>\n",
       "      <th>18</th>\n",
       "      <td>Experiment_3</td>\n",
       "      <td>Donor_1</td>\n",
       "      <td>CD19-TCB</td>\n",
       "      <td>55000</td>\n",
       "    </tr>\n",
       "    <tr>\n",
       "      <th>19</th>\n",
       "      <td>Experiment_3</td>\n",
       "      <td>Donor_1</td>\n",
       "      <td>CD20-TCB</td>\n",
       "      <td>28701</td>\n",
       "    </tr>\n",
       "    <tr>\n",
       "      <th>20</th>\n",
       "      <td>Experiment_3</td>\n",
       "      <td>Donor_1</td>\n",
       "      <td>DIG-TCB</td>\n",
       "      <td>55000</td>\n",
       "    </tr>\n",
       "    <tr>\n",
       "      <th>21</th>\n",
       "      <td>Experiment_3</td>\n",
       "      <td>Donor_1</td>\n",
       "      <td>Isotype</td>\n",
       "      <td>55000</td>\n",
       "    </tr>\n",
       "    <tr>\n",
       "      <th>22</th>\n",
       "      <td>Experiment_3</td>\n",
       "      <td>Donor_1</td>\n",
       "      <td>Teplizumab</td>\n",
       "      <td>53375</td>\n",
       "    </tr>\n",
       "    <tr>\n",
       "      <th>23</th>\n",
       "      <td>Experiment_3</td>\n",
       "      <td>Donor_5</td>\n",
       "      <td>+SEA</td>\n",
       "      <td>55000</td>\n",
       "    </tr>\n",
       "    <tr>\n",
       "      <th>24</th>\n",
       "      <td>Experiment_3</td>\n",
       "      <td>Donor_5</td>\n",
       "      <td>-SEA</td>\n",
       "      <td>55000</td>\n",
       "    </tr>\n",
       "    <tr>\n",
       "      <th>25</th>\n",
       "      <td>Experiment_3</td>\n",
       "      <td>Donor_5</td>\n",
       "      <td>CD19-TCB</td>\n",
       "      <td>49020</td>\n",
       "    </tr>\n",
       "    <tr>\n",
       "      <th>26</th>\n",
       "      <td>Experiment_3</td>\n",
       "      <td>Donor_5</td>\n",
       "      <td>CD20-TCB</td>\n",
       "      <td>21208</td>\n",
       "    </tr>\n",
       "    <tr>\n",
       "      <th>27</th>\n",
       "      <td>Experiment_3</td>\n",
       "      <td>Donor_5</td>\n",
       "      <td>DIG-TCB</td>\n",
       "      <td>55000</td>\n",
       "    </tr>\n",
       "    <tr>\n",
       "      <th>28</th>\n",
       "      <td>Experiment_3</td>\n",
       "      <td>Donor_5</td>\n",
       "      <td>Isotype</td>\n",
       "      <td>55000</td>\n",
       "    </tr>\n",
       "    <tr>\n",
       "      <th>29</th>\n",
       "      <td>Experiment_3</td>\n",
       "      <td>Donor_5</td>\n",
       "      <td>Teplizumab</td>\n",
       "      <td>55000</td>\n",
       "    </tr>\n",
       "    <tr>\n",
       "      <th>30</th>\n",
       "      <td>Experiment_3</td>\n",
       "      <td>Donor_6</td>\n",
       "      <td>+SEA</td>\n",
       "      <td>55000</td>\n",
       "    </tr>\n",
       "    <tr>\n",
       "      <th>31</th>\n",
       "      <td>Experiment_3</td>\n",
       "      <td>Donor_6</td>\n",
       "      <td>-SEA</td>\n",
       "      <td>55000</td>\n",
       "    </tr>\n",
       "    <tr>\n",
       "      <th>32</th>\n",
       "      <td>Experiment_3</td>\n",
       "      <td>Donor_6</td>\n",
       "      <td>Isotype</td>\n",
       "      <td>55000</td>\n",
       "    </tr>\n",
       "    <tr>\n",
       "      <th>33</th>\n",
       "      <td>Experiment_3</td>\n",
       "      <td>Donor_6</td>\n",
       "      <td>Teplizumab</td>\n",
       "      <td>55000</td>\n",
       "    </tr>\n",
       "    <tr>\n",
       "      <th>34</th>\n",
       "      <td>Experiment_4</td>\n",
       "      <td>Donor_2</td>\n",
       "      <td>-SEA</td>\n",
       "      <td>55000</td>\n",
       "    </tr>\n",
       "    <tr>\n",
       "      <th>35</th>\n",
       "      <td>Experiment_4</td>\n",
       "      <td>Donor_2</td>\n",
       "      <td>CD19-TCB</td>\n",
       "      <td>55000</td>\n",
       "    </tr>\n",
       "    <tr>\n",
       "      <th>36</th>\n",
       "      <td>Experiment_4</td>\n",
       "      <td>Donor_2</td>\n",
       "      <td>CD20-TCB</td>\n",
       "      <td>51821</td>\n",
       "    </tr>\n",
       "    <tr>\n",
       "      <th>37</th>\n",
       "      <td>Experiment_4</td>\n",
       "      <td>Donor_2</td>\n",
       "      <td>DIG-TCB</td>\n",
       "      <td>55000</td>\n",
       "    </tr>\n",
       "    <tr>\n",
       "      <th>38</th>\n",
       "      <td>Experiment_4</td>\n",
       "      <td>Donor_7</td>\n",
       "      <td>+SEA</td>\n",
       "      <td>55000</td>\n",
       "    </tr>\n",
       "    <tr>\n",
       "      <th>39</th>\n",
       "      <td>Experiment_4</td>\n",
       "      <td>Donor_7</td>\n",
       "      <td>-SEA</td>\n",
       "      <td>55000</td>\n",
       "    </tr>\n",
       "    <tr>\n",
       "      <th>40</th>\n",
       "      <td>Experiment_4</td>\n",
       "      <td>Donor_7</td>\n",
       "      <td>CD19-TCB</td>\n",
       "      <td>55000</td>\n",
       "    </tr>\n",
       "    <tr>\n",
       "      <th>41</th>\n",
       "      <td>Experiment_4</td>\n",
       "      <td>Donor_7</td>\n",
       "      <td>CD20-TCB</td>\n",
       "      <td>55000</td>\n",
       "    </tr>\n",
       "    <tr>\n",
       "      <th>42</th>\n",
       "      <td>Experiment_4</td>\n",
       "      <td>Donor_7</td>\n",
       "      <td>DIG-TCB</td>\n",
       "      <td>55000</td>\n",
       "    </tr>\n",
       "    <tr>\n",
       "      <th>43</th>\n",
       "      <td>Experiment_4</td>\n",
       "      <td>Donor_8</td>\n",
       "      <td>+SEA</td>\n",
       "      <td>42781</td>\n",
       "    </tr>\n",
       "    <tr>\n",
       "      <th>44</th>\n",
       "      <td>Experiment_4</td>\n",
       "      <td>Donor_8</td>\n",
       "      <td>-SEA</td>\n",
       "      <td>55000</td>\n",
       "    </tr>\n",
       "    <tr>\n",
       "      <th>45</th>\n",
       "      <td>Experiment_4</td>\n",
       "      <td>Donor_8</td>\n",
       "      <td>CD19-TCB</td>\n",
       "      <td>55000</td>\n",
       "    </tr>\n",
       "    <tr>\n",
       "      <th>46</th>\n",
       "      <td>Experiment_4</td>\n",
       "      <td>Donor_8</td>\n",
       "      <td>CD20-TCB</td>\n",
       "      <td>48357</td>\n",
       "    </tr>\n",
       "    <tr>\n",
       "      <th>47</th>\n",
       "      <td>Experiment_4</td>\n",
       "      <td>Donor_8</td>\n",
       "      <td>DIG-TCB</td>\n",
       "      <td>55000</td>\n",
       "    </tr>\n",
       "    <tr>\n",
       "      <th>48</th>\n",
       "      <td>Experiment_4</td>\n",
       "      <td>Donor_9</td>\n",
       "      <td>+SEA</td>\n",
       "      <td>55000</td>\n",
       "    </tr>\n",
       "    <tr>\n",
       "      <th>49</th>\n",
       "      <td>Experiment_4</td>\n",
       "      <td>Donor_9</td>\n",
       "      <td>-SEA</td>\n",
       "      <td>55000</td>\n",
       "    </tr>\n",
       "    <tr>\n",
       "      <th>50</th>\n",
       "      <td>Experiment_4</td>\n",
       "      <td>Donor_9</td>\n",
       "      <td>CD19-TCB</td>\n",
       "      <td>55000</td>\n",
       "    </tr>\n",
       "    <tr>\n",
       "      <th>51</th>\n",
       "      <td>Experiment_4</td>\n",
       "      <td>Donor_9</td>\n",
       "      <td>CD20-TCB</td>\n",
       "      <td>49311</td>\n",
       "    </tr>\n",
       "    <tr>\n",
       "      <th>52</th>\n",
       "      <td>Experiment_4</td>\n",
       "      <td>Donor_9</td>\n",
       "      <td>DIG-TCB</td>\n",
       "      <td>55000</td>\n",
       "    </tr>\n",
       "  </tbody>\n",
       "</table>\n",
       "</div>"
      ],
      "text/plain": [
       "      experiment    donor   condition      0\n",
       "0   Experiment_1  Donor_1        +SEA  60000\n",
       "1   Experiment_1  Donor_1        -SEA  60000\n",
       "2   Experiment_1  Donor_1     Isotype  60000\n",
       "3   Experiment_1  Donor_1  Teplizumab  60000\n",
       "4   Experiment_1  Donor_2        +SEA  60000\n",
       "5   Experiment_1  Donor_2        -SEA  60000\n",
       "6   Experiment_1  Donor_2     Isotype  60000\n",
       "7   Experiment_1  Donor_2  Teplizumab  60000\n",
       "8   Experiment_2  Donor_3        +SEA  60000\n",
       "9   Experiment_2  Donor_3        -SEA  60001\n",
       "10  Experiment_2  Donor_3     Isotype  60000\n",
       "11  Experiment_2  Donor_3  Teplizumab  60000\n",
       "12  Experiment_2  Donor_4        +SEA  60000\n",
       "13  Experiment_2  Donor_4        -SEA  60000\n",
       "14  Experiment_2  Donor_4     Isotype  60000\n",
       "15  Experiment_2  Donor_4  Teplizumab  60000\n",
       "16  Experiment_3  Donor_1        +SEA  55000\n",
       "17  Experiment_3  Donor_1        -SEA  55000\n",
       "18  Experiment_3  Donor_1    CD19-TCB  55000\n",
       "19  Experiment_3  Donor_1    CD20-TCB  28701\n",
       "20  Experiment_3  Donor_1     DIG-TCB  55000\n",
       "21  Experiment_3  Donor_1     Isotype  55000\n",
       "22  Experiment_3  Donor_1  Teplizumab  53375\n",
       "23  Experiment_3  Donor_5        +SEA  55000\n",
       "24  Experiment_3  Donor_5        -SEA  55000\n",
       "25  Experiment_3  Donor_5    CD19-TCB  49020\n",
       "26  Experiment_3  Donor_5    CD20-TCB  21208\n",
       "27  Experiment_3  Donor_5     DIG-TCB  55000\n",
       "28  Experiment_3  Donor_5     Isotype  55000\n",
       "29  Experiment_3  Donor_5  Teplizumab  55000\n",
       "30  Experiment_3  Donor_6        +SEA  55000\n",
       "31  Experiment_3  Donor_6        -SEA  55000\n",
       "32  Experiment_3  Donor_6     Isotype  55000\n",
       "33  Experiment_3  Donor_6  Teplizumab  55000\n",
       "34  Experiment_4  Donor_2        -SEA  55000\n",
       "35  Experiment_4  Donor_2    CD19-TCB  55000\n",
       "36  Experiment_4  Donor_2    CD20-TCB  51821\n",
       "37  Experiment_4  Donor_2     DIG-TCB  55000\n",
       "38  Experiment_4  Donor_7        +SEA  55000\n",
       "39  Experiment_4  Donor_7        -SEA  55000\n",
       "40  Experiment_4  Donor_7    CD19-TCB  55000\n",
       "41  Experiment_4  Donor_7    CD20-TCB  55000\n",
       "42  Experiment_4  Donor_7     DIG-TCB  55000\n",
       "43  Experiment_4  Donor_8        +SEA  42781\n",
       "44  Experiment_4  Donor_8        -SEA  55000\n",
       "45  Experiment_4  Donor_8    CD19-TCB  55000\n",
       "46  Experiment_4  Donor_8    CD20-TCB  48357\n",
       "47  Experiment_4  Donor_8     DIG-TCB  55000\n",
       "48  Experiment_4  Donor_9        +SEA  55000\n",
       "49  Experiment_4  Donor_9        -SEA  55000\n",
       "50  Experiment_4  Donor_9    CD19-TCB  55000\n",
       "51  Experiment_4  Donor_9    CD20-TCB  49311\n",
       "52  Experiment_4  Donor_9     DIG-TCB  55000"
      ]
     },
     "execution_count": 6,
     "metadata": {},
     "output_type": "execute_result"
    }
   ],
   "source": [
    "all_combinations = metadata.groupby([\"experiment\", \"donor\", \"condition\"]).size().reset_index()\n",
    "all_combinations"
   ]
  },
  {
   "cell_type": "code",
   "execution_count": 7,
   "metadata": {},
   "outputs": [
    {
     "name": "stdout",
     "output_type": "stream",
     "text": [
      "54708\n"
     ]
    }
   ],
   "source": [
    "print(int(all_combinations[0].mean()))"
   ]
  },
  {
   "cell_type": "code",
   "execution_count": 8,
   "metadata": {},
   "outputs": [
    {
     "data": {
      "text/html": [
       "<div>\n",
       "<style scoped>\n",
       "    .dataframe tbody tr th:only-of-type {\n",
       "        vertical-align: middle;\n",
       "    }\n",
       "\n",
       "    .dataframe tbody tr th {\n",
       "        vertical-align: top;\n",
       "    }\n",
       "\n",
       "    .dataframe thead th {\n",
       "        text-align: right;\n",
       "    }\n",
       "</style>\n",
       "<table border=\"1\" class=\"dataframe\">\n",
       "  <thead>\n",
       "    <tr style=\"text-align: right;\">\n",
       "      <th></th>\n",
       "      <th>0</th>\n",
       "    </tr>\n",
       "    <tr>\n",
       "      <th>condition</th>\n",
       "      <th></th>\n",
       "    </tr>\n",
       "  </thead>\n",
       "  <tbody>\n",
       "    <tr>\n",
       "      <th>+SEA</th>\n",
       "      <td>557781</td>\n",
       "    </tr>\n",
       "    <tr>\n",
       "      <th>-SEA</th>\n",
       "      <td>625001</td>\n",
       "    </tr>\n",
       "    <tr>\n",
       "      <th>CD19-TCB</th>\n",
       "      <td>324020</td>\n",
       "    </tr>\n",
       "    <tr>\n",
       "      <th>CD20-TCB</th>\n",
       "      <td>254398</td>\n",
       "    </tr>\n",
       "    <tr>\n",
       "      <th>DIG-TCB</th>\n",
       "      <td>330000</td>\n",
       "    </tr>\n",
       "    <tr>\n",
       "      <th>Isotype</th>\n",
       "      <td>405000</td>\n",
       "    </tr>\n",
       "    <tr>\n",
       "      <th>Teplizumab</th>\n",
       "      <td>403375</td>\n",
       "    </tr>\n",
       "  </tbody>\n",
       "</table>\n",
       "</div>"
      ],
      "text/plain": [
       "                 0\n",
       "condition         \n",
       "+SEA        557781\n",
       "-SEA        625001\n",
       "CD19-TCB    324020\n",
       "CD20-TCB    254398\n",
       "DIG-TCB     330000\n",
       "Isotype     405000\n",
       "Teplizumab  403375"
      ]
     },
     "execution_count": 8,
     "metadata": {},
     "output_type": "execute_result"
    }
   ],
   "source": [
    "all_combinations.groupby(\"condition\").sum()"
   ]
  },
  {
   "cell_type": "markdown",
   "metadata": {},
   "source": [
    "so we have these many samples per condition! To reduce the number of samples and still have a meaningful dataset, we sample 20,000 from each combination. In addition, we make sure that the previously annotated images are in the sample"
   ]
  },
  {
   "cell_type": "code",
   "execution_count": 9,
   "metadata": {},
   "outputs": [
    {
     "name": "stderr",
     "output_type": "stream",
     "text": [
      "100%|██████████| 53/53 [00:22<00:00,  2.31it/s]\n"
     ]
    }
   ],
   "source": [
    "k = 20000 # number of samples\n",
    "\n",
    "indx = metadata[\"set\"] == \"labeled\"\n",
    "for i in tqdm(range(len(all_combinations)), position=0, leave=True):\n",
    "    indx_comb = (metadata[\"experiment\"] == all_combinations.loc[i,\"experiment\"])\n",
    "    indx_comb = indx_comb & (metadata[\"donor\"] == all_combinations.loc[i,\"donor\"])\n",
    "    indx_comb = indx_comb & (metadata[\"condition\"] == all_combinations.loc[i,\"condition\"])\n",
    "    indx_comb = indx_comb[indx_comb].sample(k,replace=False).index.tolist()\n",
    "    indx[indx_comb] = True\n"
   ]
  },
  {
   "cell_type": "markdown",
   "metadata": {},
   "source": [
    "now we reduce the metadata to the subsampled dataset"
   ]
  },
  {
   "cell_type": "code",
   "execution_count": 10,
   "metadata": {},
   "outputs": [],
   "source": [
    "\n",
    "metadata = metadata.loc[indx,:].reset_index(drop = True).copy()"
   ]
  },
  {
   "cell_type": "code",
   "execution_count": 11,
   "metadata": {},
   "outputs": [
    {
     "data": {
      "text/plain": [
       "(1065967, 7)"
      ]
     },
     "execution_count": 11,
     "metadata": {},
     "output_type": "execute_result"
    }
   ],
   "source": [
    "metadata.shape"
   ]
  },
  {
   "cell_type": "markdown",
   "metadata": {},
   "source": [
    "## train, validation and test split\n",
    "\n",
    "now let's defind the train, validation and test set. We assume that we have a clear set of relevant classes. We also assume -SEA and +SEA are the only conditions which are used for training"
   ]
  },
  {
   "cell_type": "code",
   "execution_count": 12,
   "metadata": {},
   "outputs": [],
   "source": [
    "set_of_interesting_classes = ['B_cell',  'T_cell', \n",
    "                        'T_cell_with_signaling',\n",
    "                        'T_cell_with_B_cell_fragments',\n",
    "                        'B_T_cell_in_one_layer',\n",
    "                        'Synapses_without_signaling', \n",
    "                        'Synapses_with_signaling',\n",
    "                        'No_cell_cell_interaction', \n",
    "                        'Multiplets'] \n",
    "\n"
   ]
  },
  {
   "cell_type": "code",
   "execution_count": 13,
   "metadata": {},
   "outputs": [],
   "source": [
    "from scifAI.dl.utils import train_validation_test_split\n",
    "\n",
    "\n",
    "labeled_index = metadata[\"label\"].isin(set_of_interesting_classes)\n",
    "labeled_index = labeled_index & metadata[\"condition\"].isin([\"-SEA\",\"+SEA\"])\n",
    "metadata.loc[labeled_index ,\"set\"] = \"train\"\n",
    "labeled_index.sum()\n",
    "\n",
    "train_index = metadata[\"set\"] == \"train\"\n",
    "train_index = train_index[train_index].index\n",
    "\n",
    "train_index, validation_index, test_index = train_validation_test_split(train_index, \n",
    "                                                                        metadata.loc[train_index,\"label\"] + metadata.loc[train_index,\"experiment\"] + metadata.loc[train_index,\"donor\"],\n",
    "                                                                        validation_size=0.20, \n",
    "                                                                        test_size=0.30)\n",
    "\n",
    "\n",
    "metadata.loc[validation_index , \"set\"] = \"validation\"\n",
    "metadata.loc[test_index , \"set\"] = \"test\""
   ]
  },
  {
   "cell_type": "markdown",
   "metadata": {},
   "source": [
    "From now now to the rest of the work, we use train_index, validation_index and test_index to refer to these sets. "
   ]
  },
  {
   "cell_type": "code",
   "execution_count": 14,
   "metadata": {},
   "outputs": [],
   "source": [
    "metadata.to_csv(\"/pstore/data/DS4/synapse_data_features/metadata_subset.csv.gz\", compression='gzip', index = False)"
   ]
  },
  {
   "cell_type": "code",
   "execution_count": null,
   "metadata": {},
   "outputs": [],
   "source": []
  },
  {
   "cell_type": "markdown",
   "metadata": {},
   "source": [
    "## Feature extraction\n",
    "\n",
    "so now we run the feature extraction for the new dataset"
   ]
  },
  {
   "cell_type": "code",
   "execution_count": 15,
   "metadata": {},
   "outputs": [],
   "source": [
    "feature_union = FeatureUnion([\n",
    "                                (\"MaskBasedFeatures\", features.MaskBasedFeatures()), \n",
    "                                (\"GLCMFeatures\", features.GLCMFeatures()),  \n",
    "                                (\"GradientRMS\", features.GradientRMS()),  \n",
    "                                (\"BackgroundMean\", features.BackgroundMean()), \n",
    "                                (\"CellShape\", features.CellShape()),  \n",
    "                                (\"Collocalization\", features.Collocalization()),    \n",
    "                                (\"IntersectionProperties\", features.IntersectionProperties())\n",
    "]\n",
    ")\n",
    "\n",
    "pipeline = Pipeline([(\"features\", feature_union)])\n",
    "\n",
    "feature_extractor = FeatureExtractor(pipeline)"
   ]
  },
  {
   "cell_type": "code",
   "execution_count": 16,
   "metadata": {},
   "outputs": [
    {
     "name": "stderr",
     "output_type": "stream",
     "text": [
      "100%|██████████| 2/2 [00:00<00:00, 1888.90it/s]\n"
     ]
    },
    {
     "name": "stdout",
     "output_type": "stream",
     "text": [
      "['Experiment_1', 'Donor_1', '+SEA', 60000]\n"
     ]
    },
    {
     "name": "stderr",
     "output_type": "stream",
     "text": [
      "100%|██████████| 20812/20812 [04:47<00:00, 72.27it/s]\n"
     ]
    },
    {
     "name": "stdout",
     "output_type": "stream",
     "text": [
      "----------\n",
      "['Experiment_1', 'Donor_1', '-SEA', 60000]\n"
     ]
    },
    {
     "name": "stderr",
     "output_type": "stream",
     "text": [
      "100%|██████████| 20135/20135 [04:26<00:00, 75.67it/s]\n"
     ]
    },
    {
     "name": "stdout",
     "output_type": "stream",
     "text": [
      "----------\n",
      "['Experiment_1', 'Donor_1', 'Isotype', 60000]\n"
     ]
    },
    {
     "name": "stderr",
     "output_type": "stream",
     "text": [
      "100%|██████████| 20000/20000 [04:49<00:00, 68.99it/s]\n"
     ]
    },
    {
     "name": "stdout",
     "output_type": "stream",
     "text": [
      "----------\n",
      "['Experiment_1', 'Donor_1', 'Teplizumab', 60000]\n"
     ]
    },
    {
     "name": "stderr",
     "output_type": "stream",
     "text": [
      "100%|██████████| 20160/20160 [04:51<00:00, 69.22it/s]\n"
     ]
    },
    {
     "name": "stdout",
     "output_type": "stream",
     "text": [
      "----------\n",
      "['Experiment_1', 'Donor_2', '+SEA', 60000]\n"
     ]
    },
    {
     "name": "stderr",
     "output_type": "stream",
     "text": [
      "100%|██████████| 20659/20659 [04:40<00:00, 73.67it/s]\n"
     ]
    },
    {
     "name": "stdout",
     "output_type": "stream",
     "text": [
      "----------\n",
      "['Experiment_1', 'Donor_2', '-SEA', 60000]\n"
     ]
    },
    {
     "name": "stderr",
     "output_type": "stream",
     "text": [
      "100%|██████████| 20000/20000 [04:17<00:00, 77.53it/s]\n"
     ]
    },
    {
     "name": "stdout",
     "output_type": "stream",
     "text": [
      "----------\n",
      "['Experiment_1', 'Donor_2', 'Isotype', 60000]\n"
     ]
    },
    {
     "name": "stderr",
     "output_type": "stream",
     "text": [
      "100%|██████████| 20000/20000 [04:43<00:00, 70.64it/s]\n"
     ]
    },
    {
     "name": "stdout",
     "output_type": "stream",
     "text": [
      "----------\n",
      "['Experiment_1', 'Donor_2', 'Teplizumab', 60000]\n"
     ]
    },
    {
     "name": "stderr",
     "output_type": "stream",
     "text": [
      "100%|██████████| 20000/20000 [04:45<00:00, 70.07it/s]\n"
     ]
    },
    {
     "name": "stdout",
     "output_type": "stream",
     "text": [
      "----------\n",
      "['Experiment_2', 'Donor_3', '+SEA', 60000]\n"
     ]
    },
    {
     "name": "stderr",
     "output_type": "stream",
     "text": [
      "100%|██████████| 20310/20310 [05:00<00:00, 67.55it/s]\n"
     ]
    },
    {
     "name": "stdout",
     "output_type": "stream",
     "text": [
      "----------\n",
      "['Experiment_2', 'Donor_3', '-SEA', 60001]\n"
     ]
    },
    {
     "name": "stderr",
     "output_type": "stream",
     "text": [
      "100%|██████████| 20229/20229 [04:43<00:00, 71.30it/s]\n"
     ]
    },
    {
     "name": "stdout",
     "output_type": "stream",
     "text": [
      "----------\n",
      "['Experiment_2', 'Donor_3', 'Isotype', 60000]\n"
     ]
    },
    {
     "name": "stderr",
     "output_type": "stream",
     "text": [
      "100%|██████████| 20000/20000 [04:45<00:00, 70.08it/s]\n"
     ]
    },
    {
     "name": "stdout",
     "output_type": "stream",
     "text": [
      "----------\n",
      "['Experiment_2', 'Donor_3', 'Teplizumab', 60000]\n"
     ]
    },
    {
     "name": "stderr",
     "output_type": "stream",
     "text": [
      "100%|██████████| 20000/20000 [04:54<00:00, 67.93it/s]\n"
     ]
    },
    {
     "name": "stdout",
     "output_type": "stream",
     "text": [
      "----------\n",
      "['Experiment_2', 'Donor_4', '+SEA', 60000]\n"
     ]
    },
    {
     "name": "stderr",
     "output_type": "stream",
     "text": [
      "100%|██████████| 20000/20000 [04:43<00:00, 70.56it/s]\n"
     ]
    },
    {
     "name": "stdout",
     "output_type": "stream",
     "text": [
      "----------\n",
      "['Experiment_2', 'Donor_4', '-SEA', 60000]\n"
     ]
    },
    {
     "name": "stderr",
     "output_type": "stream",
     "text": [
      "100%|██████████| 20000/20000 [04:40<00:00, 71.18it/s]\n"
     ]
    },
    {
     "name": "stdout",
     "output_type": "stream",
     "text": [
      "----------\n",
      "['Experiment_2', 'Donor_4', 'Isotype', 60000]\n"
     ]
    },
    {
     "name": "stderr",
     "output_type": "stream",
     "text": [
      "100%|██████████| 20000/20000 [04:59<00:00, 66.80it/s]\n"
     ]
    },
    {
     "name": "stdout",
     "output_type": "stream",
     "text": [
      "----------\n",
      "['Experiment_2', 'Donor_4', 'Teplizumab', 60000]\n"
     ]
    },
    {
     "name": "stderr",
     "output_type": "stream",
     "text": [
      "100%|██████████| 20000/20000 [04:57<00:00, 67.30it/s]\n"
     ]
    },
    {
     "name": "stdout",
     "output_type": "stream",
     "text": [
      "----------\n",
      "['Experiment_3', 'Donor_1', '+SEA', 55000]\n"
     ]
    },
    {
     "name": "stderr",
     "output_type": "stream",
     "text": [
      "100%|██████████| 21137/21137 [05:05<00:00, 69.27it/s]\n"
     ]
    },
    {
     "name": "stdout",
     "output_type": "stream",
     "text": [
      "----------\n",
      "['Experiment_3', 'Donor_1', '-SEA', 55000]\n"
     ]
    },
    {
     "name": "stderr",
     "output_type": "stream",
     "text": [
      "100%|██████████| 20138/20138 [04:43<00:00, 71.01it/s]\n"
     ]
    },
    {
     "name": "stdout",
     "output_type": "stream",
     "text": [
      "----------\n",
      "['Experiment_3', 'Donor_1', 'CD19-TCB', 55000]\n"
     ]
    },
    {
     "name": "stderr",
     "output_type": "stream",
     "text": [
      "100%|██████████| 20302/20302 [05:11<00:00, 65.16it/s]\n"
     ]
    },
    {
     "name": "stdout",
     "output_type": "stream",
     "text": [
      "----------\n",
      "['Experiment_3', 'Donor_1', 'CD20-TCB', 28701]\n"
     ]
    },
    {
     "name": "stderr",
     "output_type": "stream",
     "text": [
      "100%|██████████| 20000/20000 [04:36<00:00, 72.33it/s]\n"
     ]
    },
    {
     "name": "stdout",
     "output_type": "stream",
     "text": [
      "----------\n",
      "['Experiment_3', 'Donor_1', 'DIG-TCB', 55000]\n"
     ]
    },
    {
     "name": "stderr",
     "output_type": "stream",
     "text": [
      "100%|██████████| 20000/20000 [04:37<00:00, 72.15it/s]\n"
     ]
    },
    {
     "name": "stdout",
     "output_type": "stream",
     "text": [
      "----------\n",
      "['Experiment_3', 'Donor_1', 'Isotype', 55000]\n"
     ]
    },
    {
     "name": "stderr",
     "output_type": "stream",
     "text": [
      "100%|██████████| 20000/20000 [05:07<00:00, 65.06it/s]\n"
     ]
    },
    {
     "name": "stdout",
     "output_type": "stream",
     "text": [
      "----------\n",
      "['Experiment_3', 'Donor_1', 'Teplizumab', 53375]\n"
     ]
    },
    {
     "name": "stderr",
     "output_type": "stream",
     "text": [
      "100%|██████████| 20118/20118 [04:53<00:00, 68.52it/s]\n"
     ]
    },
    {
     "name": "stdout",
     "output_type": "stream",
     "text": [
      "----------\n",
      "['Experiment_3', 'Donor_5', '+SEA', 55000]\n"
     ]
    },
    {
     "name": "stderr",
     "output_type": "stream",
     "text": [
      "100%|██████████| 20723/20723 [04:53<00:00, 70.60it/s]\n"
     ]
    },
    {
     "name": "stdout",
     "output_type": "stream",
     "text": [
      "----------\n",
      "['Experiment_3', 'Donor_5', '-SEA', 55000]\n"
     ]
    },
    {
     "name": "stderr",
     "output_type": "stream",
     "text": [
      "100%|██████████| 20000/20000 [04:44<00:00, 70.25it/s]\n"
     ]
    },
    {
     "name": "stdout",
     "output_type": "stream",
     "text": [
      "----------\n",
      "['Experiment_3', 'Donor_5', 'CD19-TCB', 49020]\n"
     ]
    },
    {
     "name": "stderr",
     "output_type": "stream",
     "text": [
      "100%|██████████| 20000/20000 [05:15<00:00, 63.32it/s]\n"
     ]
    },
    {
     "name": "stdout",
     "output_type": "stream",
     "text": [
      "----------\n",
      "['Experiment_3', 'Donor_5', 'CD20-TCB', 21208]\n"
     ]
    },
    {
     "name": "stderr",
     "output_type": "stream",
     "text": [
      "100%|██████████| 20000/20000 [04:16<00:00, 77.89it/s]\n"
     ]
    },
    {
     "name": "stdout",
     "output_type": "stream",
     "text": [
      "----------\n",
      "['Experiment_3', 'Donor_5', 'DIG-TCB', 55000]\n"
     ]
    },
    {
     "name": "stderr",
     "output_type": "stream",
     "text": [
      "100%|██████████| 20000/20000 [04:31<00:00, 73.58it/s]\n"
     ]
    },
    {
     "name": "stdout",
     "output_type": "stream",
     "text": [
      "----------\n",
      "['Experiment_3', 'Donor_5', 'Isotype', 55000]\n"
     ]
    },
    {
     "name": "stderr",
     "output_type": "stream",
     "text": [
      "100%|██████████| 20000/20000 [04:39<00:00, 71.60it/s]\n"
     ]
    },
    {
     "name": "stdout",
     "output_type": "stream",
     "text": [
      "----------\n",
      "['Experiment_3', 'Donor_5', 'Teplizumab', 55000]\n"
     ]
    },
    {
     "name": "stderr",
     "output_type": "stream",
     "text": [
      "100%|██████████| 20000/20000 [04:49<00:00, 69.00it/s]\n"
     ]
    },
    {
     "name": "stdout",
     "output_type": "stream",
     "text": [
      "----------\n",
      "['Experiment_3', 'Donor_6', '+SEA', 55000]\n"
     ]
    },
    {
     "name": "stderr",
     "output_type": "stream",
     "text": [
      "100%|██████████| 20000/20000 [04:33<00:00, 73.08it/s]\n"
     ]
    },
    {
     "name": "stdout",
     "output_type": "stream",
     "text": [
      "----------\n",
      "['Experiment_3', 'Donor_6', '-SEA', 55000]\n"
     ]
    },
    {
     "name": "stderr",
     "output_type": "stream",
     "text": [
      "100%|██████████| 20000/20000 [04:38<00:00, 71.78it/s]\n"
     ]
    },
    {
     "name": "stdout",
     "output_type": "stream",
     "text": [
      "----------\n",
      "['Experiment_3', 'Donor_6', 'Isotype', 55000]\n"
     ]
    },
    {
     "name": "stderr",
     "output_type": "stream",
     "text": [
      "100%|██████████| 20000/20000 [04:54<00:00, 67.86it/s]\n"
     ]
    },
    {
     "name": "stdout",
     "output_type": "stream",
     "text": [
      "----------\n",
      "['Experiment_3', 'Donor_6', 'Teplizumab', 55000]\n"
     ]
    },
    {
     "name": "stderr",
     "output_type": "stream",
     "text": [
      "100%|██████████| 20000/20000 [04:41<00:00, 71.12it/s]\n"
     ]
    },
    {
     "name": "stdout",
     "output_type": "stream",
     "text": [
      "----------\n",
      "['Experiment_4', 'Donor_2', '-SEA', 55000]\n"
     ]
    },
    {
     "name": "stderr",
     "output_type": "stream",
     "text": [
      "100%|██████████| 20000/20000 [04:39<00:00, 71.46it/s]\n"
     ]
    },
    {
     "name": "stdout",
     "output_type": "stream",
     "text": [
      "----------\n",
      "['Experiment_4', 'Donor_2', 'CD19-TCB', 55000]\n"
     ]
    },
    {
     "name": "stderr",
     "output_type": "stream",
     "text": [
      "100%|██████████| 20000/20000 [05:08<00:00, 64.93it/s]\n"
     ]
    },
    {
     "name": "stdout",
     "output_type": "stream",
     "text": [
      "----------\n",
      "['Experiment_4', 'Donor_2', 'CD20-TCB', 51821]\n"
     ]
    },
    {
     "name": "stderr",
     "output_type": "stream",
     "text": [
      "100%|██████████| 20000/20000 [04:26<00:00, 75.14it/s]\n"
     ]
    },
    {
     "name": "stdout",
     "output_type": "stream",
     "text": [
      "----------\n",
      "['Experiment_4', 'Donor_2', 'DIG-TCB', 55000]\n"
     ]
    },
    {
     "name": "stderr",
     "output_type": "stream",
     "text": [
      "100%|██████████| 20000/20000 [04:48<00:00, 69.44it/s]\n"
     ]
    },
    {
     "name": "stdout",
     "output_type": "stream",
     "text": [
      "----------\n",
      "['Experiment_4', 'Donor_7', '+SEA', 55000]\n"
     ]
    },
    {
     "name": "stderr",
     "output_type": "stream",
     "text": [
      "100%|██████████| 20267/20267 [05:05<00:00, 66.37it/s]\n"
     ]
    },
    {
     "name": "stdout",
     "output_type": "stream",
     "text": [
      "----------\n",
      "['Experiment_4', 'Donor_7', '-SEA', 55000]\n"
     ]
    },
    {
     "name": "stderr",
     "output_type": "stream",
     "text": [
      "100%|██████████| 20308/20308 [05:04<00:00, 66.63it/s]\n"
     ]
    },
    {
     "name": "stdout",
     "output_type": "stream",
     "text": [
      "----------\n",
      "['Experiment_4', 'Donor_7', 'CD19-TCB', 55000]\n"
     ]
    },
    {
     "name": "stderr",
     "output_type": "stream",
     "text": [
      "100%|██████████| 20000/20000 [05:08<00:00, 64.84it/s]\n"
     ]
    },
    {
     "name": "stdout",
     "output_type": "stream",
     "text": [
      "----------\n",
      "['Experiment_4', 'Donor_7', 'CD20-TCB', 55000]\n"
     ]
    },
    {
     "name": "stderr",
     "output_type": "stream",
     "text": [
      "100%|██████████| 20000/20000 [05:19<00:00, 62.61it/s]\n"
     ]
    },
    {
     "name": "stdout",
     "output_type": "stream",
     "text": [
      "----------\n",
      "['Experiment_4', 'Donor_7', 'DIG-TCB', 55000]\n"
     ]
    },
    {
     "name": "stderr",
     "output_type": "stream",
     "text": [
      "100%|██████████| 20000/20000 [04:49<00:00, 69.08it/s]\n"
     ]
    },
    {
     "name": "stdout",
     "output_type": "stream",
     "text": [
      "----------\n",
      "['Experiment_4', 'Donor_8', '+SEA', 42781]\n"
     ]
    },
    {
     "name": "stderr",
     "output_type": "stream",
     "text": [
      "100%|██████████| 20148/20148 [04:18<00:00, 77.94it/s]\n"
     ]
    },
    {
     "name": "stdout",
     "output_type": "stream",
     "text": [
      "----------\n",
      "['Experiment_4', 'Donor_8', '-SEA', 55000]\n"
     ]
    },
    {
     "name": "stderr",
     "output_type": "stream",
     "text": [
      "100%|██████████| 20159/20159 [04:48<00:00, 69.86it/s]\n"
     ]
    },
    {
     "name": "stdout",
     "output_type": "stream",
     "text": [
      "----------\n",
      "['Experiment_4', 'Donor_8', 'CD19-TCB', 55000]\n"
     ]
    },
    {
     "name": "stderr",
     "output_type": "stream",
     "text": [
      "100%|██████████| 20000/20000 [05:02<00:00, 66.21it/s]\n"
     ]
    },
    {
     "name": "stdout",
     "output_type": "stream",
     "text": [
      "----------\n",
      "['Experiment_4', 'Donor_8', 'CD20-TCB', 48357]\n"
     ]
    },
    {
     "name": "stderr",
     "output_type": "stream",
     "text": [
      "100%|██████████| 20000/20000 [04:35<00:00, 72.58it/s]\n"
     ]
    },
    {
     "name": "stdout",
     "output_type": "stream",
     "text": [
      "----------\n",
      "['Experiment_4', 'Donor_8', 'DIG-TCB', 55000]\n"
     ]
    },
    {
     "name": "stderr",
     "output_type": "stream",
     "text": [
      "100%|██████████| 20000/20000 [04:33<00:00, 73.08it/s]\n"
     ]
    },
    {
     "name": "stdout",
     "output_type": "stream",
     "text": [
      "----------\n",
      "['Experiment_4', 'Donor_9', '+SEA', 55000]\n"
     ]
    },
    {
     "name": "stderr",
     "output_type": "stream",
     "text": [
      "100%|██████████| 20191/20191 [04:38<00:00, 72.49it/s]\n"
     ]
    },
    {
     "name": "stdout",
     "output_type": "stream",
     "text": [
      "----------\n",
      "['Experiment_4', 'Donor_9', '-SEA', 55000]\n"
     ]
    },
    {
     "name": "stderr",
     "output_type": "stream",
     "text": [
      "100%|██████████| 20171/20171 [04:36<00:00, 72.97it/s]\n"
     ]
    },
    {
     "name": "stdout",
     "output_type": "stream",
     "text": [
      "----------\n",
      "['Experiment_4', 'Donor_9', 'CD19-TCB', 55000]\n"
     ]
    },
    {
     "name": "stderr",
     "output_type": "stream",
     "text": [
      "100%|██████████| 20000/20000 [04:54<00:00, 68.02it/s]\n"
     ]
    },
    {
     "name": "stdout",
     "output_type": "stream",
     "text": [
      "----------\n",
      "['Experiment_4', 'Donor_9', 'CD20-TCB', 49311]\n"
     ]
    },
    {
     "name": "stderr",
     "output_type": "stream",
     "text": [
      "100%|██████████| 20000/20000 [04:34<00:00, 72.87it/s]\n"
     ]
    },
    {
     "name": "stdout",
     "output_type": "stream",
     "text": [
      "----------\n",
      "['Experiment_4', 'Donor_9', 'DIG-TCB', 55000]\n"
     ]
    },
    {
     "name": "stderr",
     "output_type": "stream",
     "text": [
      "100%|██████████| 20000/20000 [04:43<00:00, 70.55it/s]\n"
     ]
    },
    {
     "name": "stdout",
     "output_type": "stream",
     "text": [
      "----------\n"
     ]
    }
   ],
   "source": [
    "columns = feature_extractor.extract_features(metadata.loc[0:1,:])[0].keys()\n",
    "df_features = pd.DataFrame( columns= columns )\n",
    "\n",
    "indx = None\n",
    "\n",
    "for com in all_combinations.index:\n",
    "    indx = metadata[\"experiment\"] == all_combinations.loc[ com,\"experiment\"]\n",
    "    indx = indx&(metadata[\"donor\"] == all_combinations.loc[ com,\"donor\"])\n",
    "    indx = indx&(metadata[\"condition\"] == all_combinations.loc[ com,\"condition\"])\n",
    "    if indx.sum() > 0:\n",
    "        print(all_combinations.loc[ com,:].tolist())\n",
    "        features = feature_extractor.extract_features(metadata.loc[indx,:])\n",
    "        df_features = df_features.append(pd.DataFrame(features), \n",
    "                                             ignore_index = True )\n",
    "    print(\"----------\")\n",
    "    indx = None"
   ]
  },
  {
   "cell_type": "markdown",
   "metadata": {},
   "source": [
    "so it took some time to calculate the features for a 1,065,856 files. We used 24 CPUs for this calculation. In general, the more CPUs, the better it works. Now lets take a look if the metadata and the df_features have similar number of rows. "
   ]
  },
  {
   "cell_type": "code",
   "execution_count": 17,
   "metadata": {},
   "outputs": [
    {
     "data": {
      "text/plain": [
       "(1065967, 1456)"
      ]
     },
     "execution_count": 17,
     "metadata": {},
     "output_type": "execute_result"
    }
   ],
   "source": [
    "df_features.shape"
   ]
  },
  {
   "cell_type": "code",
   "execution_count": 18,
   "metadata": {},
   "outputs": [
    {
     "data": {
      "text/plain": [
       "(1065967, 7)"
      ]
     },
     "execution_count": 18,
     "metadata": {},
     "output_type": "execute_result"
    }
   ],
   "source": [
    "metadata.shape"
   ]
  },
  {
   "cell_type": "markdown",
   "metadata": {},
   "source": [
    "now lets fill the emtpy values with 0., delete the columns with no variation and rename the columns to what we they are"
   ]
  },
  {
   "cell_type": "code",
   "execution_count": 19,
   "metadata": {},
   "outputs": [],
   "source": [
    "df_features = df_features.fillna(0.)\n",
    "df_features = df_features.loc[:, df_features.std() > 0.]"
   ]
  },
  {
   "cell_type": "code",
   "execution_count": 20,
   "metadata": {},
   "outputs": [],
   "source": [
    "column_dict_rename = dict()\n",
    "\n",
    "channel_names = {   \n",
    "         \"Ch1\": \"BF\",\n",
    "         \"Ch2\": \"Antibody\",\n",
    "         \"Ch3\": \"CD18\",\n",
    "         \"Ch4\": \"F-Actin\",\n",
    "         \"Ch5\": \"MHCII\",\n",
    "         \"Ch6\": \"CD3\",\n",
    "         \"Ch7\": \"P-CD3zeta\",\n",
    "         \"Ch8\": \"Live-Dead\"}\n",
    "\n",
    "for col in df_features.columns:\n",
    "    new_col = col\n",
    "    for ch in channel_names:\n",
    "        new_col = new_col.replace(ch,channel_names[ch] )\n",
    "    column_dict_rename[col] = new_col\n",
    "    \n",
    "df_features = df_features.rename(columns=column_dict_rename).copy()"
   ]
  },
  {
   "cell_type": "markdown",
   "metadata": {},
   "source": [
    "considering that some of the brightfield related features can be biologically meaningless, we drop them from the dataframe already. These features are based on the intensity of the channel, or its relation to other channels"
   ]
  },
  {
   "cell_type": "code",
   "execution_count": 21,
   "metadata": {},
   "outputs": [],
   "source": [
    "df_features = df_features.drop(columns=[\n",
    "    'sum_intensity_BF',\n",
    "     'mean_intensity_BF',\n",
    "     'std_intensity_BF',\n",
    "     'kurtosis_intensity_BF',\n",
    "     'skew_intensity_BF',\n",
    "     'min_intensity_BF',\n",
    "     'max_intensity_BF',\n",
    "     'shannon_entropy_BF',\n",
    "     'correlation_distance_R1_BF_R2_Antibody',\n",
    "     'euclidean_distance_R1_BF_R2_Antibody',\n",
    "     'manders_overlap_coefficient_R1_BF_R2_Antibody',\n",
    "       'intensity_correlation_quotient_R1_BF_R2_Antibody',\n",
    "       'correlation_distance_R1_BF_R3_CD18',\n",
    "       'euclidean_distance_R1_BF_R3_CD18',\n",
    "       'manders_overlap_coefficient_R1_BF_R3_CD18',\n",
    "       'intensity_correlation_quotient_R1_BF_R3_CD18',\n",
    "       'correlation_distance_R1_BF_R4_F-Actin',\n",
    "       'euclidean_distance_R1_BF_R4_F-Actin',\n",
    "       'manders_overlap_coefficient_R1_BF_R4_F-Actin',\n",
    "       'intensity_correlation_quotient_R1_BF_R4_F-Actin',\n",
    "       'correlation_distance_R1_BF_R5_MHCII',\n",
    "       'euclidean_distance_R1_BF_R5_MHCII',\n",
    "       'manders_overlap_coefficient_R1_BF_R5_MHCII',\n",
    "       'intensity_correlation_quotient_R1_BF_R5_MHCII',\n",
    "       'correlation_distance_R1_BF_R6_CD3',\n",
    "       'euclidean_distance_R1_BF_R6_CD3',\n",
    "       'manders_overlap_coefficient_R1_BF_R6_CD3',\n",
    "       'intensity_correlation_quotient_R1_BF_R6_CD3',\n",
    "       'correlation_distance_R1_BF_R7_P-CD3zeta',\n",
    "       'euclidean_distance_R1_BF_R7_P-CD3zeta',\n",
    "       'manders_overlap_coefficient_R1_BF_R7_P-CD3zeta',\n",
    "       'intensity_correlation_quotient_R1_BF_R7_P-CD3zeta',\n",
    "       'correlation_distance_R1_BF_R8_Live-Dead',\n",
    "       'euclidean_distance_R1_BF_R8_Live-Dead',\n",
    "       'manders_overlap_coefficient_R1_BF_R8_Live-Dead',\n",
    "       'intensity_correlation_quotient_R1_BF_R8_Live-Dead',\n",
    "       'correlation_distance_R2_Antibody_R1_BF',\n",
    "       'euclidean_distance_R2_Antibody_R1_BF',\n",
    "       'manders_overlap_coefficient_R2_Antibody_R1_BF',\n",
    "       'intensity_correlation_quotient_R2_Antibody_R1_BF',\n",
    "       'correlation_distance_R3_CD18_R1_BF',\n",
    "       'euclidean_distance_R3_CD18_R1_BF',\n",
    "       'manders_overlap_coefficient_R3_CD18_R1_BF',\n",
    "       'intensity_correlation_quotient_R3_CD18_R1_BF',\n",
    "       'correlation_distance_R4_F-Actin_R1_BF',\n",
    "       'euclidean_distance_R4_F-Actin_R1_BF',\n",
    "       'manders_overlap_coefficient_R4_F-Actin_R1_BF',\n",
    "       'intensity_correlation_quotient_R4_F-Actin_R1_BF',\n",
    "       'correlation_distance_R5_MHCII_R1_BF',\n",
    "       'euclidean_distance_R5_MHCII_R1_BF',\n",
    "       'manders_overlap_coefficient_R5_MHCII_R1_BF',\n",
    "       'intensity_correlation_quotient_R5_MHCII_R1_BF',\n",
    "       'correlation_distance_R6_CD3_R1_BF',\n",
    "       'euclidean_distance_R6_CD3_R1_BF',\n",
    "       'manders_overlap_coefficient_R6_CD3_R1_BF',\n",
    "       'intensity_correlation_quotient_R6_CD3_R1_BF',\n",
    "       'correlation_distance_R7_P-CD3zeta_R1_BF',\n",
    "       'euclidean_distance_R7_P-CD3zeta_R1_BF',\n",
    "       'manders_overlap_coefficient_R7_P-CD3zeta_R1_BF',\n",
    "       'intensity_correlation_quotient_R7_P-CD3zeta_R1_BF',\n",
    "       'correlation_distance_R8_Live-Dead_R1_BF',\n",
    "       'euclidean_distance_R8_Live-Dead_R1_BF',\n",
    "       'manders_overlap_coefficient_R8_Live-Dead_R1_BF',\n",
    "       'intensity_correlation_quotient_R8_Live-Dead_R1_BF',\n",
    "       'sum_intensity_ratio_BF_R1_R2', 'mean_intensity_ratio_BF_R1_R2',\n",
    "       'max_intensity_ratio_BF_R1_R2', 'sum_intensity_ratio_BF_R1_R3',\n",
    "       'mean_intensity_ratio_BF_R1_R3', 'max_intensity_ratio_BF_R1_R3',\n",
    "       'sum_intensity_ratio_BF_R1_R4', 'mean_intensity_ratio_BF_R1_R4',\n",
    "       'max_intensity_ratio_BF_R1_R4', 'sum_intensity_ratio_BF_R1_R5',\n",
    "       'mean_intensity_ratio_BF_R1_R5', 'max_intensity_ratio_BF_R1_R5',\n",
    "       'sum_intensity_ratio_BF_R1_R6', 'mean_intensity_ratio_BF_R1_R6',\n",
    "       'max_intensity_ratio_BF_R1_R6', 'sum_intensity_ratio_BF_R1_R7',\n",
    "       'mean_intensity_ratio_BF_R1_R7', 'max_intensity_ratio_BF_R1_R7',\n",
    "       'sum_intensity_ratio_BF_R1_R8', 'mean_intensity_ratio_BF_R1_R8',\n",
    "       'max_intensity_ratio_BF_R1_R8'])"
   ]
  },
  {
   "cell_type": "code",
   "execution_count": 22,
   "metadata": {},
   "outputs": [],
   "source": [
    "more_columns_to_be_dropped = df_features.columns[(df_features.columns.str.contains( \"intensity\") & df_features.columns.str.contains( \"BF\"))]\n",
    "df_features = df_features.drop(columns=more_columns_to_be_dropped)\n",
    "more_columns_to_be_dropped = df_features.columns[(df_features.columns.str.contains( \"percentile\") & df_features.columns.str.contains( \"BF\"))]\n",
    "df_features = df_features.drop(columns=more_columns_to_be_dropped)"
   ]
  },
  {
   "cell_type": "markdown",
   "metadata": {},
   "source": [
    "finally, lets save the features"
   ]
  },
  {
   "cell_type": "code",
   "execution_count": 23,
   "metadata": {},
   "outputs": [],
   "source": [
    "\n",
    "df_features.to_csv(\"/pstore/data/DS4/synapse_data_features/df_features_subset.csv.gz\", compression='gzip', index = False)"
   ]
  },
  {
   "cell_type": "code",
   "execution_count": null,
   "metadata": {},
   "outputs": [],
   "source": []
  },
  {
   "cell_type": "markdown",
   "metadata": {},
   "source": [
    "# heatmap of the labeled data"
   ]
  },
  {
   "cell_type": "code",
   "execution_count": 7,
   "metadata": {},
   "outputs": [
    {
     "data": {
      "image/png": "[encoded data removed]",
      "text/plain": [
       "<Figure size 360x720 with 2 Axes>"
      ]
     },
     "metadata": {
      "needs_background": "light"
     },
     "output_type": "display_data"
    }
   ],
   "source": [
    "indx = metadata[\"label\"].isin(set_of_interesting_classes)\n",
    "indx = indx & metadata[\"condition\"].isin([\"-SEA\",\"+SEA\"])\n",
    "\n",
    "heatmap_plot =pd.pivot(metadata.loc[indx,[\"donor\", \"label\", \"experiment\" ]].groupby([\"donor\", \"label\", \"experiment\"]).size().reset_index(), index = \"label\",columns=[\"donor\", \"experiment\"]).loc[set_of_interesting_classes,:].reset_index(drop = True)\n",
    "fig, ax = plt.subplots(figsize = (5,10))\n",
    "sns.heatmap(heatmap_plot, cmap = \"Greys\", annot=True, fmt=\"d\", ax = ax, vmin = 0, vmax = heatmap_plot.sum(1).max())\n",
    "temp_data = pd.pivot(metadata.loc[indx,[\"donor\", \"label\", \"experiment\" ]].groupby([\"donor\", \"label\", \"experiment\"]).size().reset_index(), index = \"label\",columns=[\"donor\", \"experiment\"]).loc[set_of_interesting_classes,:].sum(axis = 1)\n",
    "\n",
    "fig.subplots_adjust(hspace=0, wspace= 0) \n",
    "plt.savefig('Supplementary Figure - heatmap of labeled images.svg', bbox_inches=\"tight\")"
   ]
  },
  {
   "cell_type": "code",
   "execution_count": 8,
   "metadata": {},
   "outputs": [
    {
     "data": {
      "image/png": "[encoded data removed]",
      "text/plain": [
       "<Figure size 144x1008 with 1 Axes>"
      ]
     },
     "metadata": {},
     "output_type": "display_data"
    }
   ],
   "source": [
    "\n",
    "sns.set(font_scale = 1.5)\n",
    "sns.set_style(\"whitegrid\")\n",
    "figsize = (2,14)\n",
    "fig, ax = plt.subplots(figsize=figsize)\n",
    "\n",
    "ax = sns.barplot(y=temp_data.index , x=temp_data.values, palette=['darkgray'], orient = \"h\", ax = ax)\n",
    "\n",
    "for bar in ax.patches:\n",
    "\n",
    "    ax.annotate(int(bar.get_width()) , \n",
    "                   (80, \n",
    "                    bar.get_y() + bar.get_height() / 2), ha='center', va='center',\n",
    "                   size=15, xytext=(0, 0),\n",
    "                   textcoords='offset points')\n",
    "\n",
    "ax.set_yticks([])\n",
    "ax.set_xlabel(\"\")\n",
    "ax.set_xticks([0,350,700])\n",
    "plt.savefig('Supplementary Figure - count of labeled images.svg', bbox_inches=\"tight\")"
   ]
  },
  {
   "cell_type": "code",
   "execution_count": null,
   "metadata": {},
   "outputs": [],
   "source": []
  }
 ],
 "metadata": {
  "kernelspec": {
   "display_name": "Python 3",
   "language": "python",
   "name": "python3"
  },
  "language_info": {
   "codemirror_mode": {
    "name": "ipython",
    "version": 3
   },
   "file_extension": ".py",
   "mimetype": "text/x-python",
   "name": "python",
   "nbconvert_exporter": "python",
   "pygments_lexer": "ipython3",
   "version": "3.7.6"
  }
 },
 "nbformat": 4,
 "nbformat_minor": 5
}
