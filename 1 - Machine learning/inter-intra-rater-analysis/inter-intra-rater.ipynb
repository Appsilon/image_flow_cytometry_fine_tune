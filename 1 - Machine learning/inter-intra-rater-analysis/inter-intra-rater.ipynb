{
 "cells": [
  {
   "cell_type": "code",
   "execution_count": 1,
   "metadata": {},
   "outputs": [],
   "source": [
    "import scifAI\n",
    "import matplotlib.pyplot as plt\n",
    "from scifAI.ml import features\n",
    "from scifAI.ml import AutoFeatureSelection\n",
    "from scifAI.ml import FeatureExtractor \n",
    "import numpy as np\n",
    "import pandas as pd\n",
    "import glob\n",
    "import warnings\n",
    "warnings.filterwarnings(\"ignore\")\n",
    "from tqdm import tqdm \n",
    "from sklearn.model_selection import train_test_split\n",
    "import h5py\n",
    "from sklearn.pipeline import  FeatureUnion, Pipeline\n",
    "from sklearn.feature_extraction import DictVectorizer\n",
    "from scifAI.utils import list_of_dict_to_dict\n",
    "from sklearn.preprocessing import MinMaxScaler \n",
    "from sklearn.ensemble import RandomForestClassifier\n",
    "from sklearn.model_selection import GridSearchCV\n",
    "from xgboost import XGBClassifier\n",
    "import seaborn as sns\n"
   ]
  },
  {
   "cell_type": "code",
   "execution_count": 2,
   "metadata": {},
   "outputs": [],
   "source": [
    "from sklearn.metrics import plot_confusion_matrix, matthews_corrcoef, classification_report,confusion_matrix, accuracy_score, balanced_accuracy_score, cohen_kappa_score, f1_score,  precision_score, recall_score\n",
    "from statsmodels.stats.contingency_tables import mcnemar\n",
    "from sklearn.metrics import confusion_matrix,ConfusionMatrixDisplay\n",
    "\n",
    "set_of_interesting_classes = ['B_cell',  'T_cell', \n",
    "                        'T_cell_with_signaling',\n",
    "                        'T_cell_with_B_cell_fragments',\n",
    "                        'B_T_cell_in_one_layer',\n",
    "                        'Synapses_without_signaling', \n",
    "                        'Synapses_with_signaling',\n",
    "                        'No_cell_cell_interaction', \n",
    "                        'Multiplets']\n",
    "\n",
    "def classification_complete_report(y_true, y_pred ,labels = None  ): \n",
    "    print(classification_report(y_true, y_pred, labels = labels))\n",
    "    print(15*\"----\")\n",
    "    print(\"matthews correlation coeff: %.4f\" % (matthews_corrcoef(y_true, y_pred)) )\n",
    "    print(\"Cohen Kappa score: %.4f\" % (cohen_kappa_score(y_true, y_pred)) )\n",
    "    print(\"Accuracy: %.4f & balanced Accuracy: %.4f\" % (accuracy_score(y_true, y_pred), balanced_accuracy_score(y_true, y_pred)) )\n",
    "    print(\"macro F1 score: %.4f & micro F1 score: %.4f\" % (f1_score(y_true, y_pred, average = \"macro\"), f1_score(y_true, y_pred, average = \"micro\")) )\n",
    "    print(\"macro Precision score: %.4f & micro Precision score: %.4f\" % (precision_score(y_true, y_pred, average = \"macro\"), precision_score(y_true, y_pred, average = \"micro\")) )\n",
    "    print(\"macro Recall score: %.4f & micro Recall score: %.4f\" % (recall_score(y_true, y_pred, average = \"macro\"), recall_score(y_true, y_pred, average = \"micro\")) )\n",
    "    cm = confusion_matrix(y_true, y_pred,labels= labels)\n",
    "    disp = ConfusionMatrixDisplay(confusion_matrix=cm, display_labels=labels)\n",
    "    disp.plot(cmap=plt.cm.Blues)\n",
    "    plt.show()\n",
    "    print(15*\"----\")"
   ]
  },
  {
   "cell_type": "code",
   "execution_count": 3,
   "metadata": {},
   "outputs": [
    {
     "data": {
      "text/html": [
       "<div>\n",
       "<style scoped>\n",
       "    .dataframe tbody tr th:only-of-type {\n",
       "        vertical-align: middle;\n",
       "    }\n",
       "\n",
       "    .dataframe tbody tr th {\n",
       "        vertical-align: top;\n",
       "    }\n",
       "\n",
       "    .dataframe thead th {\n",
       "        text-align: right;\n",
       "    }\n",
       "</style>\n",
       "<table border=\"1\" class=\"dataframe\">\n",
       "  <thead>\n",
       "    <tr style=\"text-align: right;\">\n",
       "      <th></th>\n",
       "      <th>object_number</th>\n",
       "      <th>label</th>\n",
       "    </tr>\n",
       "  </thead>\n",
       "  <tbody>\n",
       "    <tr>\n",
       "      <th>0</th>\n",
       "      <td>5513</td>\n",
       "      <td>T_cell</td>\n",
       "    </tr>\n",
       "    <tr>\n",
       "      <th>1</th>\n",
       "      <td>8190</td>\n",
       "      <td>T_cell</td>\n",
       "    </tr>\n",
       "    <tr>\n",
       "      <th>2</th>\n",
       "      <td>12834</td>\n",
       "      <td>T_cell</td>\n",
       "    </tr>\n",
       "    <tr>\n",
       "      <th>3</th>\n",
       "      <td>30937</td>\n",
       "      <td>T_cell_with_B_cell_fragments</td>\n",
       "    </tr>\n",
       "    <tr>\n",
       "      <th>4</th>\n",
       "      <td>31356</td>\n",
       "      <td>B_cell</td>\n",
       "    </tr>\n",
       "  </tbody>\n",
       "</table>\n",
       "</div>"
      ],
      "text/plain": [
       "   object_number                         label\n",
       "0           5513                        T_cell\n",
       "1           8190                        T_cell\n",
       "2          12834                        T_cell\n",
       "3          30937  T_cell_with_B_cell_fragments\n",
       "4          31356                        B_cell"
      ]
     },
     "execution_count": 3,
     "metadata": {},
     "output_type": "execute_result"
    }
   ],
   "source": [
    "selected_subset = pd.read_csv(\"ali_annotation.csv\")\n",
    "# selected_subset = pd.read_csv(\"nikos_annotation.csv\")\n",
    "# selected_subset = pd.read_csv(\"ke_annotation.csv\")\n",
    "# selected_subset = pd.read_csv(\"tijana_annotation.csv\")\n",
    "\n",
    "\n",
    "selected_subset.head()"
   ]
  },
  {
   "cell_type": "code",
   "execution_count": 4,
   "metadata": {},
   "outputs": [],
   "source": [
    "\n",
    "label_map = {'Single B-LCL':'B_cell',  \n",
    "             'single B-LCL cells':'B_cell',\n",
    "             'T cell w/o signaling':'T_cell', \n",
    "             'T cell w/ signaling':'T_cell_with_signaling',\n",
    "             'T cell w/ small B-LCL':'T_cell_with_B_cell_fragments',\n",
    "             'T cell w/ small B-LCL ':'T_cell_with_B_cell_fragments',\n",
    "             'B-LCL & T cell in one layer':'B_T_cell_in_one_layer',\n",
    "             'Synapse w/o signaling':'Synapses_without_signaling', \n",
    "             'Synapse w/ signaling':'Synapses_with_signaling',\n",
    "             'No cell-cell interaction':'No_cell_cell_interaction', \n",
    "             'Multi-synapse':'Multiplets',\n",
    "             'Multi-Synapse':'Multiplets',\n",
    "             'Single B-LCL':'B_cell',  \n",
    "             'single B-LCL cells':'B_cell',\n",
    "             'single B-LCL':'B_cell',\n",
    "             'T cell w/o signaling':'T_cell',  \n",
    "             'T cell w/o signalling':'T_cell', \n",
    "             'T cell w/ signaling':'T_cell_with_signaling',\n",
    "             'T cell w/ signalling':'T_cell_with_signaling',\n",
    "             'T cell with signaling':'T_cell_with_signaling',\n",
    "             'T cell with small B-LCL':'T_cell_with_B_cell_fragments',\n",
    "             'T cell w/ small B-LCL':'T_cell_with_B_cell_fragments',\n",
    "             'T cell w/ small B-LCL ':'T_cell_with_B_cell_fragments',\n",
    "             'B-LCL & T cell in one layer':'B_T_cell_in_one_layer',\n",
    "             'Synapse w/o signaling':'Synapses_without_signaling', \n",
    "             'synapse w/o signalling':'Synapses_without_signaling', \n",
    "             'synape w/o signalling':'Synapses_without_signaling',  \n",
    "             'synpase w/o signalling':'Synapses_without_signaling',  \n",
    "             'synpase w/o signalling':'Synapses_without_signaling',  \n",
    "             'Synapse w/signalling':'Synapses_with_signaling', \n",
    "             'synapse w/ signalling':'Synapses_with_signaling', \n",
    "             'Synapse w/ signalling':'Synapses_with_signaling', \n",
    "             'Synapse w/ signaling':'Synapses_with_signaling',\n",
    "             'synpase w/ signalling':'Synapses_with_signaling',\n",
    "             'synapse w/signalling':'Synapses_with_signaling',\n",
    "             'Synapse with signaling':'Synapses_with_signaling',\n",
    "             'No cell-cell interaction':'No_cell_cell_interaction', \n",
    "             'no cell-cell interaction':'No_cell_cell_interaction', \n",
    "             'Multi-synapse':'Multiplets',\n",
    "             'Multiplets':'Multiplets',\n",
    "             'Multi-Synapse':'Multiplets',\n",
    "             'multi-synapse':'Multiplets',\n",
    "            }\n",
    "\n",
    "if \"class\" in selected_subset.columns:\n",
    "    selected_subset[\"label\"] = selected_subset[\"class\"].replace(label_map)\n",
    "elif \"Classification\" in selected_subset.columns:\n",
    "    selected_subset[\"label\"] = selected_subset[\"Classification\"].replace(label_map)\n",
    "    selected_subset[\"object_number\"] = selected_subset[\"Objet number\"]\n",
    "elif \"label\" in selected_subset.columns:\n",
    "    selected_subset[\"label\"] = selected_subset[\"label\"].replace(label_map)\n",
    "\n",
    "selected_subset = selected_subset.sort_values(\"object_number\").reset_index(drop=True)"
   ]
  },
  {
   "cell_type": "code",
   "execution_count": 5,
   "metadata": {},
   "outputs": [
    {
     "data": {
      "text/plain": [
       "array(['T_cell', 'T_cell_with_B_cell_fragments', 'B_cell',\n",
       "       'Synapses_with_signaling', 'No_cell_cell_interaction',\n",
       "       'T_cell_with_signaling', 'Multiplets',\n",
       "       'Synapses_without_signaling', 'B_T_cell_in_one_layer'],\n",
       "      dtype=object)"
      ]
     },
     "execution_count": 5,
     "metadata": {},
     "output_type": "execute_result"
    }
   ],
   "source": [
    "selected_subset.label.unique()"
   ]
  },
  {
   "cell_type": "code",
   "execution_count": null,
   "metadata": {},
   "outputs": [],
   "source": []
  },
  {
   "cell_type": "code",
   "execution_count": 6,
   "metadata": {},
   "outputs": [
    {
     "data": {
      "text/html": [
       "<div>\n",
       "<style scoped>\n",
       "    .dataframe tbody tr th:only-of-type {\n",
       "        vertical-align: middle;\n",
       "    }\n",
       "\n",
       "    .dataframe tbody tr th {\n",
       "        vertical-align: top;\n",
       "    }\n",
       "\n",
       "    .dataframe thead th {\n",
       "        text-align: right;\n",
       "    }\n",
       "</style>\n",
       "<table border=\"1\" class=\"dataframe\">\n",
       "  <thead>\n",
       "    <tr style=\"text-align: right;\">\n",
       "      <th></th>\n",
       "      <th>file</th>\n",
       "      <th>experiment</th>\n",
       "      <th>donor</th>\n",
       "      <th>condition</th>\n",
       "      <th>object_number</th>\n",
       "      <th>set</th>\n",
       "      <th>label</th>\n",
       "      <th>prediction</th>\n",
       "      <th>entropy</th>\n",
       "      <th>key</th>\n",
       "      <th>outlier</th>\n",
       "      <th>cluster</th>\n",
       "    </tr>\n",
       "  </thead>\n",
       "  <tbody>\n",
       "    <tr>\n",
       "      <th>0</th>\n",
       "      <td>/pstore/data/DS4/synapse_formation_full_data/E...</td>\n",
       "      <td>Experiment_3</td>\n",
       "      <td>Donor_1</td>\n",
       "      <td>-SEA</td>\n",
       "      <td>5513</td>\n",
       "      <td>test</td>\n",
       "      <td>T_cell</td>\n",
       "      <td>T_cell</td>\n",
       "      <td>0.049252</td>\n",
       "      <td>Experiment_3 Donor_1</td>\n",
       "      <td>False</td>\n",
       "      <td>1</td>\n",
       "    </tr>\n",
       "    <tr>\n",
       "      <th>1</th>\n",
       "      <td>/pstore/data/DS4/synapse_formation_full_data/E...</td>\n",
       "      <td>Experiment_3</td>\n",
       "      <td>Donor_1</td>\n",
       "      <td>-SEA</td>\n",
       "      <td>8190</td>\n",
       "      <td>test</td>\n",
       "      <td>T_cell</td>\n",
       "      <td>T_cell</td>\n",
       "      <td>0.002250</td>\n",
       "      <td>Experiment_3 Donor_1</td>\n",
       "      <td>False</td>\n",
       "      <td>1</td>\n",
       "    </tr>\n",
       "    <tr>\n",
       "      <th>2</th>\n",
       "      <td>/pstore/data/DS4/synapse_formation_full_data/E...</td>\n",
       "      <td>Experiment_3</td>\n",
       "      <td>Donor_1</td>\n",
       "      <td>-SEA</td>\n",
       "      <td>12834</td>\n",
       "      <td>test</td>\n",
       "      <td>T_cell</td>\n",
       "      <td>T_cell</td>\n",
       "      <td>0.038361</td>\n",
       "      <td>Experiment_3 Donor_1</td>\n",
       "      <td>False</td>\n",
       "      <td>1</td>\n",
       "    </tr>\n",
       "    <tr>\n",
       "      <th>3</th>\n",
       "      <td>/pstore/data/DS4/synapse_formation_full_data/E...</td>\n",
       "      <td>Experiment_3</td>\n",
       "      <td>Donor_1</td>\n",
       "      <td>-SEA</td>\n",
       "      <td>30937</td>\n",
       "      <td>test</td>\n",
       "      <td>T_cell_with_B_cell_fragments</td>\n",
       "      <td>T_cell_with_B_cell_fragments</td>\n",
       "      <td>0.613960</td>\n",
       "      <td>Experiment_3 Donor_1</td>\n",
       "      <td>False</td>\n",
       "      <td>1</td>\n",
       "    </tr>\n",
       "    <tr>\n",
       "      <th>4</th>\n",
       "      <td>/pstore/data/DS4/synapse_formation_full_data/E...</td>\n",
       "      <td>Experiment_3</td>\n",
       "      <td>Donor_1</td>\n",
       "      <td>-SEA</td>\n",
       "      <td>31356</td>\n",
       "      <td>test</td>\n",
       "      <td>B_cell</td>\n",
       "      <td>B_cell</td>\n",
       "      <td>0.032091</td>\n",
       "      <td>Experiment_3 Donor_1</td>\n",
       "      <td>False</td>\n",
       "      <td>2</td>\n",
       "    </tr>\n",
       "  </tbody>\n",
       "</table>\n",
       "</div>"
      ],
      "text/plain": [
       "                                                file    experiment    donor  \\\n",
       "0  /pstore/data/DS4/synapse_formation_full_data/E...  Experiment_3  Donor_1   \n",
       "1  /pstore/data/DS4/synapse_formation_full_data/E...  Experiment_3  Donor_1   \n",
       "2  /pstore/data/DS4/synapse_formation_full_data/E...  Experiment_3  Donor_1   \n",
       "3  /pstore/data/DS4/synapse_formation_full_data/E...  Experiment_3  Donor_1   \n",
       "4  /pstore/data/DS4/synapse_formation_full_data/E...  Experiment_3  Donor_1   \n",
       "\n",
       "  condition  object_number   set                         label  \\\n",
       "0      -SEA           5513  test                        T_cell   \n",
       "1      -SEA           8190  test                        T_cell   \n",
       "2      -SEA          12834  test                        T_cell   \n",
       "3      -SEA          30937  test  T_cell_with_B_cell_fragments   \n",
       "4      -SEA          31356  test                        B_cell   \n",
       "\n",
       "                     prediction   entropy                   key outlier  \\\n",
       "0                        T_cell  0.049252  Experiment_3 Donor_1   False   \n",
       "1                        T_cell  0.002250  Experiment_3 Donor_1   False   \n",
       "2                        T_cell  0.038361  Experiment_3 Donor_1   False   \n",
       "3  T_cell_with_B_cell_fragments  0.613960  Experiment_3 Donor_1   False   \n",
       "4                        B_cell  0.032091  Experiment_3 Donor_1   False   \n",
       "\n",
       "   cluster  \n",
       "0        1  \n",
       "1        1  \n",
       "2        1  \n",
       "3        1  \n",
       "4        2  "
      ]
     },
     "execution_count": 6,
     "metadata": {},
     "output_type": "execute_result"
    }
   ],
   "source": [
    "metadata = pd.read_csv(\"/projects/site/pred/data_science/year/2022/immunological_synapse/synapse_data_features/metadata_subset_with_predictions.csv.gz\")\n",
    "\n",
    "indx = metadata.donor == \"Donor_1\"\n",
    "indx = indx & ( metadata.experiment == \"Experiment_3\")\n",
    "indx = indx & metadata.set.isin([\"test\"])\n",
    "indx = indx & metadata.object_number.isin(selected_subset.object_number.tolist())\n",
    "\n",
    "metadata = metadata.loc[indx,:].sort_values(\"object_number\").reset_index(drop=True)\n",
    "metadata.head()"
   ]
  },
  {
   "cell_type": "code",
   "execution_count": 7,
   "metadata": {},
   "outputs": [
    {
     "name": "stdout",
     "output_type": "stream",
     "text": [
      "                              precision    recall  f1-score   support\n",
      "\n",
      "                      B_cell       1.00      1.00      1.00        12\n",
      "                      T_cell       0.75      1.00      0.86        12\n",
      "       T_cell_with_signaling       0.88      0.64      0.74        11\n",
      "T_cell_with_B_cell_fragments       0.74      0.85      0.79        20\n",
      "       B_T_cell_in_one_layer       0.33      0.12      0.18         8\n",
      "  Synapses_without_signaling       0.75      0.60      0.67         5\n",
      "     Synapses_with_signaling       0.83      0.94      0.88        16\n",
      "    No_cell_cell_interaction       1.00      0.86      0.92         7\n",
      "                  Multiplets       0.90      1.00      0.95         9\n",
      "\n",
      "                    accuracy                           0.82       100\n",
      "                   macro avg       0.80      0.78      0.78       100\n",
      "                weighted avg       0.80      0.82      0.80       100\n",
      "\n",
      "------------------------------------------------------------\n",
      "matthews correlation coeff: 0.7950\n",
      "Cohen Kappa score: 0.7920\n",
      "Accuracy: 0.8200 & balanced Accuracy: 0.7784\n",
      "macro F1 score: 0.7762 & micro F1 score: 0.8200\n",
      "macro Precision score: 0.7979 & micro Precision score: 0.8200\n",
      "macro Recall score: 0.7784 & micro Recall score: 0.8200\n"
     ]
    },
    {
     "data": {
      "image/png": "[encoded data removed]",
      "text/plain": [
       "<Figure size 432x288 with 2 Axes>"
      ]
     },
     "metadata": {
      "needs_background": "light"
     },
     "output_type": "display_data"
    },
    {
     "name": "stdout",
     "output_type": "stream",
     "text": [
      "------------------------------------------------------------\n"
     ]
    }
   ],
   "source": [
    "classification_complete_report(metadata.label, selected_subset.label, labels = set_of_interesting_classes)"
   ]
  },
  {
   "cell_type": "markdown",
   "metadata": {},
   "source": [
    "## second round"
   ]
  },
  {
   "cell_type": "code",
   "execution_count": 8,
   "metadata": {},
   "outputs": [],
   "source": [
    "import scifAI\n",
    "import matplotlib.pyplot as plt\n",
    "from scifAI.ml import features\n",
    "from scifAI.ml import AutoFeatureSelection\n",
    "from scifAI.ml import FeatureExtractor \n",
    "import numpy as np\n",
    "import pandas as pd\n",
    "import glob\n",
    "import warnings\n",
    "warnings.filterwarnings(\"ignore\")\n",
    "from tqdm import tqdm \n",
    "from sklearn.model_selection import train_test_split\n",
    "import h5py\n",
    "from sklearn.pipeline import  FeatureUnion, Pipeline\n",
    "from sklearn.feature_extraction import DictVectorizer\n",
    "from scifAI.utils import list_of_dict_to_dict\n",
    "from sklearn.preprocessing import MinMaxScaler \n",
    "from sklearn.ensemble import RandomForestClassifier\n",
    "from sklearn.model_selection import GridSearchCV\n",
    "from xgboost import XGBClassifier\n",
    "import seaborn as sns\n"
   ]
  },
  {
   "cell_type": "code",
   "execution_count": 9,
   "metadata": {},
   "outputs": [],
   "source": [
    "from sklearn.metrics import plot_confusion_matrix, matthews_corrcoef, classification_report,confusion_matrix, accuracy_score, balanced_accuracy_score, cohen_kappa_score, f1_score,  precision_score, recall_score\n",
    "from statsmodels.stats.contingency_tables import mcnemar\n",
    "from sklearn.metrics import confusion_matrix,ConfusionMatrixDisplay\n",
    "\n",
    "set_of_interesting_classes = ['B_cell',  'T_cell', \n",
    "                        'T_cell_with_signaling',\n",
    "                        'T_cell_with_B_cell_fragments',\n",
    "                        'B_T_cell_in_one_layer',\n",
    "                        'Synapses_without_signaling', \n",
    "                        'Synapses_with_signaling',\n",
    "                        'No_cell_cell_interaction', \n",
    "                        'Multiplets']\n",
    "\n",
    "def classification_complete_report(y_true, y_pred ,labels = None  ): \n",
    "    print(classification_report(y_true, y_pred, labels = labels))\n",
    "    print(15*\"----\")\n",
    "    print(\"matthews correlation coeff: %.4f\" % (matthews_corrcoef(y_true, y_pred)) )\n",
    "    print(\"Cohen Kappa score: %.4f\" % (cohen_kappa_score(y_true, y_pred)) )\n",
    "    print(\"Accuracy: %.4f & balanced Accuracy: %.4f\" % (accuracy_score(y_true, y_pred), balanced_accuracy_score(y_true, y_pred)) )\n",
    "    print(\"macro F1 score: %.4f & micro F1 score: %.4f\" % (f1_score(y_true, y_pred, average = \"macro\"), f1_score(y_true, y_pred, average = \"micro\")) )\n",
    "    print(\"macro Precision score: %.4f & micro Precision score: %.4f\" % (precision_score(y_true, y_pred, average = \"macro\"), precision_score(y_true, y_pred, average = \"micro\")) )\n",
    "    print(\"macro Recall score: %.4f & micro Recall score: %.4f\" % (recall_score(y_true, y_pred, average = \"macro\"), recall_score(y_true, y_pred, average = \"micro\")) )\n",
    "    cm = confusion_matrix(y_true, y_pred,labels= labels)\n",
    "    disp = ConfusionMatrixDisplay(confusion_matrix=cm, display_labels=labels)\n",
    "    disp.plot(cmap=plt.cm.Blues)\n",
    "    plt.show()\n",
    "    print(15*\"----\")"
   ]
  },
  {
   "cell_type": "code",
   "execution_count": 10,
   "metadata": {},
   "outputs": [],
   "source": [
    "\n",
    "label_map = {'Single B-LCL':'B_cell',  \n",
    "             'single B-LCL cells':'B_cell',\n",
    "             'single B-LCL':'B_cell',\n",
    "             'T cell w/o signaling':'T_cell',  \n",
    "             'T cell w/o signalling':'T_cell', \n",
    "             'T cell w/ signaling':'T_cell_with_signaling',\n",
    "             'T cell w/ signalling':'T_cell_with_signaling',\n",
    "             'T cell with signaling':'T_cell_with_signaling',\n",
    "             'T cell with small B-LCL':'T_cell_with_B_cell_fragments',\n",
    "             'T cell w/ small B-LCL':'T_cell_with_B_cell_fragments',\n",
    "             'T cell w/ small B-LCL ':'T_cell_with_B_cell_fragments',\n",
    "             'B-LCL & T cell in one layer':'B_T_cell_in_one_layer',\n",
    "             'Synapse w/o signaling':'Synapses_without_signaling', \n",
    "             'synapse w/o signalling':'Synapses_without_signaling', \n",
    "             'synape w/o signalling':'Synapses_without_signaling',  \n",
    "             'synpase w/o signalling':'Synapses_without_signaling',  \n",
    "             'synpase w/o signalling':'Synapses_without_signaling',  \n",
    "             'Synapse w/signalling':'Synapses_with_signaling', \n",
    "             'synapse w/ signalling':'Synapses_with_signaling', \n",
    "             'Synapse w/ signalling':'Synapses_with_signaling', \n",
    "             'Synapse w/ signaling':'Synapses_with_signaling',\n",
    "             'synpase w/ signalling':'Synapses_with_signaling',\n",
    "             'synapse w/signalling':'Synapses_with_signaling',\n",
    "             'Synapse with signaling':'Synapses_with_signaling',\n",
    "             'No cell-cell interaction':'No_cell_cell_interaction', \n",
    "             'no cell-cell interaction':'No_cell_cell_interaction', \n",
    "             'Multi-synapse':'Multiplets',\n",
    "             'Multiplets':'Multiplets',\n",
    "             'Multi-Synapse':'Multiplets',\n",
    "             'multi-synapse':'Multiplets',\n",
    "            }"
   ]
  },
  {
   "cell_type": "code",
   "execution_count": 11,
   "metadata": {},
   "outputs": [],
   "source": [
    "selected_subset = pd.read_csv(\"inter-rater-second-round.csv\")\n",
    "\n",
    "\n",
    "selected_subset.head()\n",
    "for p in [\"KE\",\"NK\",\"AB\",\"EG\", \"TN\"]:\n",
    "    for k in selected_subset[p].unique():\n",
    "        if k not in label_map:\n",
    "            print(p, k)\n",
    "            \n",
    "    selected_subset[p] = selected_subset[p].replace(label_map)"
   ]
  },
  {
   "cell_type": "code",
   "execution_count": 12,
   "metadata": {},
   "outputs": [
    {
     "data": {
      "text/html": [
       "<div>\n",
       "<style scoped>\n",
       "    .dataframe tbody tr th:only-of-type {\n",
       "        vertical-align: middle;\n",
       "    }\n",
       "\n",
       "    .dataframe tbody tr th {\n",
       "        vertical-align: top;\n",
       "    }\n",
       "\n",
       "    .dataframe thead th {\n",
       "        text-align: right;\n",
       "    }\n",
       "</style>\n",
       "<table border=\"1\" class=\"dataframe\">\n",
       "  <thead>\n",
       "    <tr style=\"text-align: right;\">\n",
       "      <th></th>\n",
       "      <th>object_number</th>\n",
       "      <th>original_label</th>\n",
       "      <th>KE</th>\n",
       "      <th>NK</th>\n",
       "      <th>AB</th>\n",
       "      <th>EG</th>\n",
       "      <th>TN</th>\n",
       "    </tr>\n",
       "  </thead>\n",
       "  <tbody>\n",
       "    <tr>\n",
       "      <th>96</th>\n",
       "      <td>41061</td>\n",
       "      <td>No_cell_cell_interaction</td>\n",
       "      <td>No_cell_cell_interaction</td>\n",
       "      <td>No_cell_cell_interaction</td>\n",
       "      <td>No_cell_cell_interaction</td>\n",
       "      <td>No_cell_cell_interaction</td>\n",
       "      <td>No_cell_cell_interaction</td>\n",
       "    </tr>\n",
       "    <tr>\n",
       "      <th>203</th>\n",
       "      <td>248958</td>\n",
       "      <td>Synapses_with_signaling</td>\n",
       "      <td>Synapses_with_signaling</td>\n",
       "      <td>Synapses_with_signaling</td>\n",
       "      <td>Synapses_with_signaling</td>\n",
       "      <td>Synapses_with_signaling</td>\n",
       "      <td>Synapses_with_signaling</td>\n",
       "    </tr>\n",
       "    <tr>\n",
       "      <th>169</th>\n",
       "      <td>231800</td>\n",
       "      <td>T_cell</td>\n",
       "      <td>T_cell</td>\n",
       "      <td>T_cell</td>\n",
       "      <td>T_cell</td>\n",
       "      <td>T_cell</td>\n",
       "      <td>T_cell</td>\n",
       "    </tr>\n",
       "    <tr>\n",
       "      <th>136</th>\n",
       "      <td>221392</td>\n",
       "      <td>T_cell_with_signaling</td>\n",
       "      <td>T_cell_with_signaling</td>\n",
       "      <td>T_cell_with_signaling</td>\n",
       "      <td>T_cell_with_signaling</td>\n",
       "      <td>T_cell_with_signaling</td>\n",
       "      <td>T_cell_with_signaling</td>\n",
       "    </tr>\n",
       "    <tr>\n",
       "      <th>182</th>\n",
       "      <td>235990</td>\n",
       "      <td>Synapses_with_signaling</td>\n",
       "      <td>Synapses_with_signaling</td>\n",
       "      <td>Synapses_with_signaling</td>\n",
       "      <td>Synapses_with_signaling</td>\n",
       "      <td>Synapses_with_signaling</td>\n",
       "      <td>Synapses_with_signaling</td>\n",
       "    </tr>\n",
       "    <tr>\n",
       "      <th>...</th>\n",
       "      <td>...</td>\n",
       "      <td>...</td>\n",
       "      <td>...</td>\n",
       "      <td>...</td>\n",
       "      <td>...</td>\n",
       "      <td>...</td>\n",
       "      <td>...</td>\n",
       "    </tr>\n",
       "    <tr>\n",
       "      <th>115</th>\n",
       "      <td>220214</td>\n",
       "      <td>T_cell</td>\n",
       "      <td>T_cell</td>\n",
       "      <td>T_cell</td>\n",
       "      <td>T_cell</td>\n",
       "      <td>T_cell</td>\n",
       "      <td>T_cell</td>\n",
       "    </tr>\n",
       "    <tr>\n",
       "      <th>148</th>\n",
       "      <td>223805</td>\n",
       "      <td>Synapses_without_signaling</td>\n",
       "      <td>Synapses_without_signaling</td>\n",
       "      <td>Synapses_with_signaling</td>\n",
       "      <td>Synapses_with_signaling</td>\n",
       "      <td>Synapses_without_signaling</td>\n",
       "      <td>Synapses_with_signaling</td>\n",
       "    </tr>\n",
       "    <tr>\n",
       "      <th>216</th>\n",
       "      <td>261021</td>\n",
       "      <td>Synapses_without_signaling</td>\n",
       "      <td>Synapses_without_signaling</td>\n",
       "      <td>Synapses_without_signaling</td>\n",
       "      <td>Synapses_without_signaling</td>\n",
       "      <td>Synapses_without_signaling</td>\n",
       "      <td>Synapses_without_signaling</td>\n",
       "    </tr>\n",
       "    <tr>\n",
       "      <th>72</th>\n",
       "      <td>20001</td>\n",
       "      <td>Synapses_with_signaling</td>\n",
       "      <td>Synapses_with_signaling</td>\n",
       "      <td>Synapses_with_signaling</td>\n",
       "      <td>Synapses_with_signaling</td>\n",
       "      <td>B_cell</td>\n",
       "      <td>Synapses_with_signaling</td>\n",
       "    </tr>\n",
       "    <tr>\n",
       "      <th>77</th>\n",
       "      <td>20497</td>\n",
       "      <td>B_T_cell_in_one_layer</td>\n",
       "      <td>Synapses_with_signaling</td>\n",
       "      <td>B_cell</td>\n",
       "      <td>Synapses_with_signaling</td>\n",
       "      <td>B_cell</td>\n",
       "      <td>B_T_cell_in_one_layer</td>\n",
       "    </tr>\n",
       "  </tbody>\n",
       "</table>\n",
       "<p>200 rows × 7 columns</p>\n",
       "</div>"
      ],
      "text/plain": [
       "     object_number              original_label                          KE  \\\n",
       "96           41061    No_cell_cell_interaction    No_cell_cell_interaction   \n",
       "203         248958     Synapses_with_signaling     Synapses_with_signaling   \n",
       "169         231800                      T_cell                      T_cell   \n",
       "136         221392       T_cell_with_signaling       T_cell_with_signaling   \n",
       "182         235990     Synapses_with_signaling     Synapses_with_signaling   \n",
       "..             ...                         ...                         ...   \n",
       "115         220214                      T_cell                      T_cell   \n",
       "148         223805  Synapses_without_signaling  Synapses_without_signaling   \n",
       "216         261021  Synapses_without_signaling  Synapses_without_signaling   \n",
       "72           20001     Synapses_with_signaling     Synapses_with_signaling   \n",
       "77           20497       B_T_cell_in_one_layer     Synapses_with_signaling   \n",
       "\n",
       "                             NK                          AB  \\\n",
       "96     No_cell_cell_interaction    No_cell_cell_interaction   \n",
       "203     Synapses_with_signaling     Synapses_with_signaling   \n",
       "169                      T_cell                      T_cell   \n",
       "136       T_cell_with_signaling       T_cell_with_signaling   \n",
       "182     Synapses_with_signaling     Synapses_with_signaling   \n",
       "..                          ...                         ...   \n",
       "115                      T_cell                      T_cell   \n",
       "148     Synapses_with_signaling     Synapses_with_signaling   \n",
       "216  Synapses_without_signaling  Synapses_without_signaling   \n",
       "72      Synapses_with_signaling     Synapses_with_signaling   \n",
       "77                       B_cell     Synapses_with_signaling   \n",
       "\n",
       "                             EG                          TN  \n",
       "96     No_cell_cell_interaction    No_cell_cell_interaction  \n",
       "203     Synapses_with_signaling     Synapses_with_signaling  \n",
       "169                      T_cell                      T_cell  \n",
       "136       T_cell_with_signaling       T_cell_with_signaling  \n",
       "182     Synapses_with_signaling     Synapses_with_signaling  \n",
       "..                          ...                         ...  \n",
       "115                      T_cell                      T_cell  \n",
       "148  Synapses_without_signaling     Synapses_with_signaling  \n",
       "216  Synapses_without_signaling  Synapses_without_signaling  \n",
       "72                       B_cell     Synapses_with_signaling  \n",
       "77                       B_cell       B_T_cell_in_one_layer  \n",
       "\n",
       "[200 rows x 7 columns]"
      ]
     },
     "execution_count": 12,
     "metadata": {},
     "output_type": "execute_result"
    }
   ],
   "source": [
    "selected_subset.sample(200, random_state=0)"
   ]
  },
  {
   "cell_type": "code",
   "execution_count": 13,
   "metadata": {},
   "outputs": [
    {
     "name": "stdout",
     "output_type": "stream",
     "text": [
      "KE\n",
      "                              precision    recall  f1-score   support\n",
      "\n",
      "       B_T_cell_in_one_layer       0.80      0.62      0.70        13\n",
      "                      B_cell       1.00      1.00      1.00        22\n",
      "                  Multiplets       0.92      1.00      0.96        23\n",
      "    No_cell_cell_interaction       1.00      1.00      1.00        38\n",
      "     Synapses_with_signaling       0.95      0.93      0.94        44\n",
      "  Synapses_without_signaling       0.83      1.00      0.91        15\n",
      "                      T_cell       1.00      1.00      1.00        23\n",
      "T_cell_with_B_cell_fragments       0.96      0.92      0.94        25\n",
      "       T_cell_with_signaling       1.00      1.00      1.00        21\n",
      "\n",
      "                    accuracy                           0.96       224\n",
      "                   macro avg       0.94      0.94      0.94       224\n",
      "                weighted avg       0.96      0.96      0.95       224\n",
      "\n",
      "------------------------------------------------------------\n",
      "matthews correlation coeff: 0.9491\n",
      "Cohen Kappa score: 0.9489\n",
      "Accuracy: 0.9554 & balanced Accuracy: 0.9408\n",
      "macro F1 score: 0.9383 & micro F1 score: 0.9554\n",
      "macro Precision score: 0.9406 & micro Precision score: 0.9554\n",
      "macro Recall score: 0.9408 & micro Recall score: 0.9554\n"
     ]
    },
    {
     "data": {
      "image/png": "[encoded data removed]",
      "text/plain": [
       "<Figure size 432x288 with 2 Axes>"
      ]
     },
     "metadata": {
      "needs_background": "light"
     },
     "output_type": "display_data"
    },
    {
     "name": "stdout",
     "output_type": "stream",
     "text": [
      "------------------------------------------------------------\n"
     ]
    }
   ],
   "source": [
    "print(\"KE\")\n",
    "\n",
    "classification_complete_report(selected_subset[\"original_label\"], selected_subset[\"KE\"])"
   ]
  },
  {
   "cell_type": "code",
   "execution_count": 14,
   "metadata": {},
   "outputs": [
    {
     "name": "stdout",
     "output_type": "stream",
     "text": [
      "AB\n",
      "                              precision    recall  f1-score   support\n",
      "\n",
      "       B_T_cell_in_one_layer       0.80      0.31      0.44        13\n",
      "                      B_cell       1.00      1.00      1.00        22\n",
      "                  Multiplets       0.96      0.96      0.96        23\n",
      "    No_cell_cell_interaction       1.00      0.55      0.71        38\n",
      "     Synapses_with_signaling       0.64      0.98      0.77        44\n",
      "  Synapses_without_signaling       0.59      0.87      0.70        15\n",
      "                      T_cell       0.95      0.91      0.93        23\n",
      "T_cell_with_B_cell_fragments       0.81      0.52      0.63        25\n",
      "       T_cell_with_signaling       0.81      1.00      0.89        21\n",
      "\n",
      "                    accuracy                           0.80       224\n",
      "                   macro avg       0.84      0.79      0.78       224\n",
      "                weighted avg       0.84      0.80      0.79       224\n",
      "\n",
      "------------------------------------------------------------\n",
      "matthews correlation coeff: 0.7832\n",
      "Cohen Kappa score: 0.7738\n",
      "Accuracy: 0.8036 & balanced Accuracy: 0.7882\n",
      "macro F1 score: 0.7835 & micro F1 score: 0.8036\n",
      "macro Precision score: 0.8404 & micro Precision score: 0.8036\n",
      "macro Recall score: 0.7882 & micro Recall score: 0.8036\n"
     ]
    },
    {
     "data": {
      "image/png": "[encoded data removed]",
      "text/plain": [
       "<Figure size 432x288 with 2 Axes>"
      ]
     },
     "metadata": {
      "needs_background": "light"
     },
     "output_type": "display_data"
    },
    {
     "name": "stdout",
     "output_type": "stream",
     "text": [
      "------------------------------------------------------------\n"
     ]
    }
   ],
   "source": [
    "print(\"AB\")\n",
    "\n",
    "classification_complete_report(selected_subset[\"original_label\"], selected_subset[\"AB\"])"
   ]
  },
  {
   "cell_type": "code",
   "execution_count": 15,
   "metadata": {},
   "outputs": [
    {
     "name": "stdout",
     "output_type": "stream",
     "text": [
      "NK\n",
      "                              precision    recall  f1-score   support\n",
      "\n",
      "       B_T_cell_in_one_layer       0.62      0.38      0.48        13\n",
      "                      B_cell       0.92      1.00      0.96        22\n",
      "                  Multiplets       0.69      0.96      0.80        23\n",
      "    No_cell_cell_interaction       0.92      0.92      0.92        38\n",
      "     Synapses_with_signaling       0.65      0.82      0.73        44\n",
      "  Synapses_without_signaling       0.61      0.73      0.67        15\n",
      "                      T_cell       0.96      1.00      0.98        23\n",
      "T_cell_with_B_cell_fragments       1.00      0.12      0.21        25\n",
      "       T_cell_with_signaling       0.91      0.95      0.93        21\n",
      "\n",
      "                    accuracy                           0.79       224\n",
      "                   macro avg       0.81      0.77      0.74       224\n",
      "                weighted avg       0.82      0.79      0.76       224\n",
      "\n",
      "------------------------------------------------------------\n",
      "matthews correlation coeff: 0.7649\n",
      "Cohen Kappa score: 0.7584\n",
      "Accuracy: 0.7902 & balanced Accuracy: 0.7651\n",
      "macro F1 score: 0.7412 & micro F1 score: 0.7902\n",
      "macro Precision score: 0.8093 & micro Precision score: 0.7902\n",
      "macro Recall score: 0.7651 & micro Recall score: 0.7902\n"
     ]
    },
    {
     "data": {
      "image/png": "[encoded data removed]",
      "text/plain": [
       "<Figure size 432x288 with 2 Axes>"
      ]
     },
     "metadata": {
      "needs_background": "light"
     },
     "output_type": "display_data"
    },
    {
     "name": "stdout",
     "output_type": "stream",
     "text": [
      "------------------------------------------------------------\n"
     ]
    }
   ],
   "source": [
    "print(\"NK\")\n",
    "\n",
    "classification_complete_report(selected_subset[\"original_label\"], selected_subset[\"NK\"])"
   ]
  },
  {
   "cell_type": "code",
   "execution_count": 16,
   "metadata": {},
   "outputs": [
    {
     "name": "stdout",
     "output_type": "stream",
     "text": [
      "TN\n",
      "                              precision    recall  f1-score   support\n",
      "\n",
      "       B_T_cell_in_one_layer       0.75      0.69      0.72        13\n",
      "                      B_cell       1.00      1.00      1.00        22\n",
      "                  Multiplets       0.77      1.00      0.87        23\n",
      "    No_cell_cell_interaction       0.95      0.92      0.93        38\n",
      "     Synapses_with_signaling       0.75      0.98      0.85        44\n",
      "  Synapses_without_signaling       1.00      0.47      0.64        15\n",
      "                      T_cell       1.00      0.78      0.88        23\n",
      "T_cell_with_B_cell_fragments       1.00      0.60      0.75        25\n",
      "       T_cell_with_signaling       0.81      1.00      0.89        21\n",
      "\n",
      "                    accuracy                           0.86       224\n",
      "                   macro avg       0.89      0.83      0.84       224\n",
      "                weighted avg       0.89      0.86      0.85       224\n",
      "\n",
      "------------------------------------------------------------\n",
      "matthews correlation coeff: 0.8446\n",
      "Cohen Kappa score: 0.8403\n",
      "Accuracy: 0.8616 & balanced Accuracy: 0.8267\n",
      "macro F1 score: 0.8368 & micro F1 score: 0.8616\n",
      "macro Precision score: 0.8916 & micro Precision score: 0.8616\n",
      "macro Recall score: 0.8267 & micro Recall score: 0.8616\n"
     ]
    },
    {
     "data": {
      "image/png": "[encoded data removed]",
      "text/plain": [
       "<Figure size 432x288 with 2 Axes>"
      ]
     },
     "metadata": {
      "needs_background": "light"
     },
     "output_type": "display_data"
    },
    {
     "name": "stdout",
     "output_type": "stream",
     "text": [
      "------------------------------------------------------------\n"
     ]
    }
   ],
   "source": [
    "print(\"TN\")\n",
    "\n",
    "classification_complete_report(selected_subset[\"original_label\"], selected_subset[\"TN\"])"
   ]
  },
  {
   "cell_type": "code",
   "execution_count": null,
   "metadata": {},
   "outputs": [],
   "source": []
  },
  {
   "cell_type": "code",
   "execution_count": 18,
   "metadata": {},
   "outputs": [
    {
     "data": {
      "image/png": "[encoded data removed]",
      "text/plain": [
       "<Figure size 216x72 with 2 Axes>"
      ]
     },
     "metadata": {
      "needs_background": "light"
     },
     "output_type": "display_data"
    }
   ],
   "source": [
    "heatmap_data = {\n",
    "    \"first_round\" : [0.84, 0.80, 0.79, 0.66],\n",
    "    \"second_round\" : [0.95, 0.84, 0.77, 0.76],\n",
    "}\n",
    "\n",
    "heatmap_data = pd.DataFrame(heatmap_data)\n",
    "heatmap_data = heatmap_data.T\n",
    "heatmap_data.columns = [\"KE\", \"TJ\", \"AB\", \"NK\"]\n",
    "\n",
    "fig, ax = plt.subplots(figsize=(3,1))\n",
    "\n",
    "ax = sns.heatmap(heatmap_data, cmap=\"Greys\", vmin=0.6, vmax=1.0, annot=True)\n",
    "\n",
    "plt.savefig(\"rater kappa.png\", bbox_inches=\"tight\")\n",
    "plt.savefig(\"rater kappa.svg\", bbox_inches=\"tight\")"
   ]
  },
  {
   "cell_type": "code",
   "execution_count": null,
   "metadata": {},
   "outputs": [],
   "source": []
  },
  {
   "cell_type": "code",
   "execution_count": null,
   "metadata": {},
   "outputs": [],
   "source": []
  }
 ],
 "metadata": {
  "kernelspec": {
   "display_name": "Python 3",
   "language": "python",
   "name": "python3"
  },
  "language_info": {
   "codemirror_mode": {
    "name": "ipython",
    "version": 3
   },
   "file_extension": ".py",
   "mimetype": "text/x-python",
   "name": "python",
   "nbconvert_exporter": "python",
   "pygments_lexer": "ipython3",
   "version": "3.7.6"
  }
 },
 "nbformat": 4,
 "nbformat_minor": 4
}
