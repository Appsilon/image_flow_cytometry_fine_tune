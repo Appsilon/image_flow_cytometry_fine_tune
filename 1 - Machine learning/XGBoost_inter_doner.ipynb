{
 "cells": [
  {
   "cell_type": "code",
   "execution_count": 1,
   "metadata": {},
   "outputs": [],
   "source": [
    "import pandas as pd\n",
    "import matplotlib.pyplot as plt\n",
    "import seaborn as sns\n",
    "import numpy as np\n",
    "import skorch\n",
    "import torch\n",
    "from skorch import NeuralNetClassifier\n",
    "from tqdm import tqdm\n",
    "from torchvision import transforms\n",
    "import torch.nn as nn\n",
    "from scipy.stats import entropy\n",
    "import random\n",
    "import h5py\n",
    "from sklearn.cluster import KMeans\n",
    "from sklearn.preprocessing import MinMaxScaler, StandardScaler\n",
    "from sklearn.cluster import FeatureAgglomeration"
   ]
  },
  {
   "cell_type": "code",
   "execution_count": 2,
   "metadata": {},
   "outputs": [],
   "source": [
    "\n",
    "\n",
    "# Compare Algorithmsa\n",
    "import matplotlib.pyplot as plt\n",
    "from sklearn import preprocessing\n",
    "from sklearn.model_selection import train_test_split\n",
    "from sklearn import model_selection\n",
    "from sklearn.linear_model import LogisticRegression\n",
    "from sklearn.tree import DecisionTreeClassifier\n",
    "from sklearn.neighbors import KNeighborsClassifier\n",
    "from sklearn.discriminant_analysis import LinearDiscriminantAnalysis\n",
    "from sklearn.naive_bayes import GaussianNB\n",
    "from sklearn.svm import SVC\n",
    "from sklearn.ensemble import RandomForestClassifier\n",
    "from sklearn.ensemble import GradientBoostingClassifier\n",
    "from sklearn.preprocessing import MinMaxScaler, StandardScaler\n",
    "from sklearn.linear_model import SGDClassifier\n",
    "from sklearn.semi_supervised import LabelPropagation\n",
    "from sklearn.ensemble import GradientBoostingClassifier\n",
    "from sklearn.discriminant_analysis import LinearDiscriminantAnalysis\n",
    "from sklearn.ensemble import VotingClassifier\n",
    "from sklearn.ensemble import GradientBoostingClassifier\n",
    "from sklearn.neural_network import MLPClassifier\n",
    "from xgboost import XGBClassifier"
   ]
  },
  {
   "cell_type": "code",
   "execution_count": 3,
   "metadata": {},
   "outputs": [],
   "source": [
    "from sklearn.metrics import plot_confusion_matrix, matthews_corrcoef, classification_report,confusion_matrix, accuracy_score, balanced_accuracy_score, cohen_kappa_score, f1_score,  precision_score, recall_score\n",
    "from statsmodels.stats.contingency_tables import mcnemar\n",
    "from sklearn.metrics import confusion_matrix,ConfusionMatrixDisplay\n",
    "\n",
    "\n",
    "def classification_complete_report(y_true, y_pred ,labels = None  ): \n",
    "    print(classification_report(y_true, y_pred, labels = labels))\n",
    "    print(15*\"----\")\n",
    "    print(\"matthews correlation coeff: %.4f\" % (matthews_corrcoef(y_true, y_pred)) )\n",
    "    print(\"Cohen Kappa score: %.4f\" % (cohen_kappa_score(y_true, y_pred)) )\n",
    "    print(\"Accuracy: %.4f & balanced Accuracy: %.4f\" % (accuracy_score(y_true, y_pred), balanced_accuracy_score(y_true, y_pred)) )\n",
    "    print(\"macro F1 score: %.4f & micro F1 score: %.4f\" % (f1_score(y_true, y_pred, average = \"macro\"), f1_score(y_true, y_pred, average = \"micro\")) )\n",
    "    print(\"macro Precision score: %.4f & micro Precision score: %.4f\" % (precision_score(y_true, y_pred, average = \"macro\"), precision_score(y_true, y_pred, average = \"micro\")) )\n",
    "    print(\"macro Recall score: %.4f & micro Recall score: %.4f\" % (recall_score(y_true, y_pred, average = \"macro\"), recall_score(y_true, y_pred, average = \"micro\")) )\n",
    "    cm = confusion_matrix(y_true, y_pred,labels= labels)\n",
    "    disp = ConfusionMatrixDisplay(confusion_matrix=cm, display_labels=labels)\n",
    "    disp.plot(cmap=plt.cm.Blues)\n",
    "    plt.show()\n",
    "    print(15*\"----\")"
   ]
  },
  {
   "cell_type": "code",
   "execution_count": 4,
   "metadata": {},
   "outputs": [
    {
     "name": "stderr",
     "output_type": "stream",
     "text": [
      "/opt/conda/lib/python3.7/site-packages/IPython/core/interactiveshell.py:3331: DtypeWarning: Columns (6) have mixed types.Specify dtype option on import or set low_memory=False.\n",
      "  exec(code_obj, self.user_global_ns, self.user_ns)\n"
     ]
    }
   ],
   "source": [
    "metadata = pd.read_csv(\"/projects/site/pred/data_science/year/2022/immunological_synapse/synapse_data_features/metadata_subset.csv.gz\")\n",
    "metadata\n",
    "\n",
    "df_features = pd.read_csv(\"/projects/site/pred/data_science/year/2022/immunological_synapse/synapse_data_features/df_features_subset.csv.gz\")"
   ]
  },
  {
   "cell_type": "code",
   "execution_count": 5,
   "metadata": {},
   "outputs": [],
   "source": [
    "metadata[\"key\"] = metadata[\"experiment\"] + \"_\" + metadata[\"donor\"] "
   ]
  },
  {
   "cell_type": "code",
   "execution_count": 6,
   "metadata": {},
   "outputs": [],
   "source": [
    "set_of_interesting_classes = ['B_cell',  'T_cell', \n",
    "                        'T_cell_with_signaling',\n",
    "                        'T_cell_with_B_cell_fragments',\n",
    "                        'B_T_cell_in_one_layer',\n",
    "                        'Synapses_without_signaling', \n",
    "                        'Synapses_with_signaling',\n",
    "                        'No_cell_cell_interaction', \n",
    "                        'Multiplets']"
   ]
  },
  {
   "cell_type": "code",
   "execution_count": 7,
   "metadata": {},
   "outputs": [],
   "source": [
    "\n",
    "\n",
    "label_map = dict()\n",
    "for i, cl in enumerate(set_of_interesting_classes):\n",
    "    label_map[cl] = i\n",
    "label_map['-1'] = -1\n",
    "label_map[-1] = -1\n",
    "\n",
    "inv_map = {v: k for k, v in label_map.items()}"
   ]
  },
  {
   "cell_type": "code",
   "execution_count": 8,
   "metadata": {},
   "outputs": [
    {
     "data": {
      "text/plain": [
       "{0: 'B_cell',\n",
       " 1: 'T_cell',\n",
       " 2: 'T_cell_with_signaling',\n",
       " 3: 'T_cell_with_B_cell_fragments',\n",
       " 4: 'B_T_cell_in_one_layer',\n",
       " 5: 'Synapses_without_signaling',\n",
       " 6: 'Synapses_with_signaling',\n",
       " 7: 'No_cell_cell_interaction',\n",
       " 8: 'Multiplets',\n",
       " -1: -1}"
      ]
     },
     "execution_count": 8,
     "metadata": {},
     "output_type": "execute_result"
    }
   ],
   "source": [
    "inv_map\n"
   ]
  },
  {
   "cell_type": "code",
   "execution_count": 9,
   "metadata": {},
   "outputs": [],
   "source": [
    "labeled_index = metadata[\"label\"].isin(set_of_interesting_classes)\n",
    "\n",
    "train_index = metadata[\"set\"] == \"train\"\n",
    "train_index = train_index[train_index].index\n",
    "\n",
    "validation_index = metadata[\"set\"] == \"validation\"\n",
    "validation_index = validation_index[validation_index].index\n",
    "\n",
    "test_index = metadata[\"set\"] == \"test\"\n",
    "test_index = test_index[test_index].index"
   ]
  },
  {
   "cell_type": "code",
   "execution_count": 10,
   "metadata": {},
   "outputs": [],
   "source": [
    "df_predictions = pd.DataFrame()\n",
    "df_predictions[\"label\"] = metadata.loc[test_index,\"label\"]\n",
    "\n",
    "deepflow_preds = pd.read_csv(\"ml_and_dl_models/deepflow/deepflow_preds.csv\").loc[:,\"0\"].tolist()\n",
    "deepflow_preds = [inv_map[x] for x in deepflow_preds]\n",
    "df_predictions[\"deepflow_preds\"] = deepflow_preds\n",
    "\n",
    "resnet18_preds = pd.read_csv(\"ml_and_dl_models/resnet18 with imagenet pretrained/resnet18_preds.csv\").loc[:,\"0\"].tolist()\n",
    "resnet18_preds = [inv_map[x] for x in resnet18_preds]\n",
    "df_predictions[\"resnet18_preds\"] = resnet18_preds\n",
    "\n",
    "resnet34_preds = pd.read_csv(\"ml_and_dl_models/resnet34 with imagenet pretrained/resnet34_preds.csv\").loc[:,\"0\"].tolist()\n",
    "resnet34_preds = [inv_map[x] for x in resnet34_preds]\n",
    "df_predictions[\"resnet34_preds\"] = resnet34_preds\n",
    "\n",
    "ae_preds = pd.read_csv(\"ml_and_dl_models/autoencoder features with LR/ae_preds.csv\").loc[:,\"0\"].tolist()\n",
    "ae_preds = [inv_map[x] for x in ae_preds]\n",
    "df_predictions[\"ae_preds\"] = ae_preds\n",
    "\n",
    "\n",
    "LR_preds = pd.read_csv(\"ml_and_dl_models/interpretable features with LR/LR_preds.csv\").loc[:,\"0\"].tolist()\n",
    "df_predictions[\"LR_preds\"] = LR_preds\n",
    "\n",
    "XGBoost_preds = pd.read_csv(\"ml_and_dl_models/interpretable features with XGBoost/XGBoost_preds.csv\").loc[:,\"0\"].tolist()\n",
    "df_predictions[\"XGBoost_preds\"] = XGBoost_preds"
   ]
  },
  {
   "cell_type": "code",
   "execution_count": 11,
   "metadata": {},
   "outputs": [],
   "source": [
    "df_predictions = df_predictions.reset_index(drop = True)"
   ]
  },
  {
   "cell_type": "code",
   "execution_count": null,
   "metadata": {},
   "outputs": [],
   "source": []
  },
  {
   "cell_type": "code",
   "execution_count": 12,
   "metadata": {},
   "outputs": [],
   "source": [
    "from sklearn.model_selection import RepeatedStratifiedKFold\n",
    "\n",
    "rskf = RepeatedStratifiedKFold(n_splits=5, n_repeats=10)\n",
    "\n",
    "predictor_results = pd.DataFrame(columns=[\"Model\", \"Macro f1-score\", \"Accuracy\"])\n",
    "\n",
    "for _, fold_test_index in rskf.split(df_predictions.index, df_predictions.label):\n",
    "    \n",
    "    predictor_results = predictor_results.append({\n",
    "        \"Model\" : \"deepflow\", \n",
    "        \"Macro f1-score\": f1_score(df_predictions.loc[fold_test_index,\"label\"],\n",
    "                                   df_predictions.loc[fold_test_index,\"deepflow_preds\"], average=\"macro\"  ), \n",
    "        \"Accuracy\": accuracy_score(df_predictions.loc[fold_test_index,\"label\"],\n",
    "                                   df_predictions.loc[fold_test_index,\"deepflow_preds\"])\n",
    "    }, ignore_index = True)\n",
    "    \n",
    "    predictor_results = predictor_results.append({\n",
    "        \"Model\" : \"resnet18\", \n",
    "        \"Macro f1-score\": f1_score(df_predictions.loc[fold_test_index,\"label\"],\n",
    "                                   df_predictions.loc[fold_test_index,\"resnet18_preds\"], average=\"macro\"  ), \n",
    "        \"Accuracy\": accuracy_score(df_predictions.loc[fold_test_index,\"label\"],\n",
    "                                   df_predictions.loc[fold_test_index,\"resnet18_preds\"])\n",
    "    }, ignore_index = True)\n",
    "    \n",
    "    predictor_results = predictor_results.append({\n",
    "        \"Model\" : \"resnet34\", \n",
    "        \"Macro f1-score\": f1_score(df_predictions.loc[fold_test_index,\"label\"],\n",
    "                                   df_predictions.loc[fold_test_index,\"resnet34_preds\"], average=\"macro\"  ), \n",
    "        \"Accuracy\": accuracy_score(df_predictions.loc[fold_test_index,\"label\"],\n",
    "                                   df_predictions.loc[fold_test_index,\"resnet34_preds\"])\n",
    "    }, ignore_index = True)\n",
    "    \n",
    "    predictor_results = predictor_results.append({\n",
    "        \"Model\" : \"ae\", \n",
    "        \"Macro f1-score\": f1_score(df_predictions.loc[fold_test_index,\"label\"],\n",
    "                                   df_predictions.loc[fold_test_index,\"ae_preds\"], average=\"macro\"  ), \n",
    "        \"Accuracy\": accuracy_score(df_predictions.loc[fold_test_index,\"label\"],\n",
    "                                   df_predictions.loc[fold_test_index,\"ae_preds\"])\n",
    "    }, ignore_index = True)\n",
    "    \n",
    "    predictor_results = predictor_results.append({\n",
    "        \"Model\" : \"lr\", \n",
    "        \"Macro f1-score\": f1_score(df_predictions.loc[fold_test_index,\"label\"],\n",
    "                                   df_predictions.loc[fold_test_index,\"LR_preds\"], average=\"macro\"  ), \n",
    "        \"Accuracy\": accuracy_score(df_predictions.loc[fold_test_index,\"label\"],\n",
    "                                   df_predictions.loc[fold_test_index,\"LR_preds\"])\n",
    "    }, ignore_index = True)\n",
    "    \n",
    "    predictor_results = predictor_results.append({\n",
    "        \"Model\" : \"xgb\", \n",
    "        \"Macro f1-score\": f1_score(df_predictions.loc[fold_test_index,\"label\"],\n",
    "                                   df_predictions.loc[fold_test_index,\"XGBoost_preds\"], average=\"macro\"  ), \n",
    "        \"Accuracy\": accuracy_score(df_predictions.loc[fold_test_index,\"label\"],\n",
    "                                   df_predictions.loc[fold_test_index,\"XGBoost_preds\"])\n",
    "    }, ignore_index = True)\n"
   ]
  },
  {
   "cell_type": "code",
   "execution_count": null,
   "metadata": {},
   "outputs": [],
   "source": []
  },
  {
   "cell_type": "code",
   "execution_count": 13,
   "metadata": {},
   "outputs": [
    {
     "data": {
      "text/html": [
       "<div>\n",
       "<style scoped>\n",
       "    .dataframe tbody tr th:only-of-type {\n",
       "        vertical-align: middle;\n",
       "    }\n",
       "\n",
       "    .dataframe tbody tr th {\n",
       "        vertical-align: top;\n",
       "    }\n",
       "\n",
       "    .dataframe thead th {\n",
       "        text-align: right;\n",
       "    }\n",
       "</style>\n",
       "<table border=\"1\" class=\"dataframe\">\n",
       "  <thead>\n",
       "    <tr style=\"text-align: right;\">\n",
       "      <th></th>\n",
       "      <th>Model</th>\n",
       "      <th>Macro f1-score</th>\n",
       "      <th>Accuracy</th>\n",
       "    </tr>\n",
       "  </thead>\n",
       "  <tbody>\n",
       "    <tr>\n",
       "      <th>0</th>\n",
       "      <td>deepflow</td>\n",
       "      <td>0.903965</td>\n",
       "      <td>0.907643</td>\n",
       "    </tr>\n",
       "    <tr>\n",
       "      <th>1</th>\n",
       "      <td>resnet18</td>\n",
       "      <td>0.885509</td>\n",
       "      <td>0.888535</td>\n",
       "    </tr>\n",
       "    <tr>\n",
       "      <th>2</th>\n",
       "      <td>resnet34</td>\n",
       "      <td>0.915811</td>\n",
       "      <td>0.917197</td>\n",
       "    </tr>\n",
       "    <tr>\n",
       "      <th>3</th>\n",
       "      <td>ae</td>\n",
       "      <td>0.783470</td>\n",
       "      <td>0.792994</td>\n",
       "    </tr>\n",
       "    <tr>\n",
       "      <th>4</th>\n",
       "      <td>lr</td>\n",
       "      <td>0.903726</td>\n",
       "      <td>0.907643</td>\n",
       "    </tr>\n",
       "    <tr>\n",
       "      <th>...</th>\n",
       "      <td>...</td>\n",
       "      <td>...</td>\n",
       "      <td>...</td>\n",
       "    </tr>\n",
       "    <tr>\n",
       "      <th>295</th>\n",
       "      <td>resnet18</td>\n",
       "      <td>0.918718</td>\n",
       "      <td>0.920128</td>\n",
       "    </tr>\n",
       "    <tr>\n",
       "      <th>296</th>\n",
       "      <td>resnet34</td>\n",
       "      <td>0.926833</td>\n",
       "      <td>0.929712</td>\n",
       "    </tr>\n",
       "    <tr>\n",
       "      <th>297</th>\n",
       "      <td>ae</td>\n",
       "      <td>0.792325</td>\n",
       "      <td>0.798722</td>\n",
       "    </tr>\n",
       "    <tr>\n",
       "      <th>298</th>\n",
       "      <td>lr</td>\n",
       "      <td>0.898387</td>\n",
       "      <td>0.900958</td>\n",
       "    </tr>\n",
       "    <tr>\n",
       "      <th>299</th>\n",
       "      <td>xgb</td>\n",
       "      <td>0.926557</td>\n",
       "      <td>0.929712</td>\n",
       "    </tr>\n",
       "  </tbody>\n",
       "</table>\n",
       "<p>300 rows × 3 columns</p>\n",
       "</div>"
      ],
      "text/plain": [
       "        Model  Macro f1-score  Accuracy\n",
       "0    deepflow        0.903965  0.907643\n",
       "1    resnet18        0.885509  0.888535\n",
       "2    resnet34        0.915811  0.917197\n",
       "3          ae        0.783470  0.792994\n",
       "4          lr        0.903726  0.907643\n",
       "..        ...             ...       ...\n",
       "295  resnet18        0.918718  0.920128\n",
       "296  resnet34        0.926833  0.929712\n",
       "297        ae        0.792325  0.798722\n",
       "298        lr        0.898387  0.900958\n",
       "299       xgb        0.926557  0.929712\n",
       "\n",
       "[300 rows x 3 columns]"
      ]
     },
     "execution_count": 13,
     "metadata": {},
     "output_type": "execute_result"
    }
   ],
   "source": [
    "\n",
    "predictor_results"
   ]
  },
  {
   "cell_type": "code",
   "execution_count": 14,
   "metadata": {},
   "outputs": [
    {
     "data": {
      "text/plain": [
       "Index(['xgb', 'resnet34', 'deepflow', 'resnet18', 'lr', 'ae'], dtype='object', name='Model')"
      ]
     },
     "execution_count": 14,
     "metadata": {},
     "output_type": "execute_result"
    }
   ],
   "source": [
    "predictor_results.groupby([\"Model\"]).mean().sort_values(\"Macro f1-score\",  ascending=False).index"
   ]
  },
  {
   "cell_type": "code",
   "execution_count": 15,
   "metadata": {},
   "outputs": [
    {
     "name": "stderr",
     "output_type": "stream",
     "text": [
      "/opt/conda/lib/python3.7/site-packages/ipykernel_launcher.py:11: FutureWarning: Passing `palette` without assigning `hue` is deprecated.\n",
      "  # This is added back by InteractiveShellApp.init_path()\n",
      "/opt/conda/lib/python3.7/site-packages/ipykernel_launcher.py:11: UserWarning: \n",
      "The palette list has fewer values (1) than needed (6) and will cycle, which may produce an uninterpretable plot.\n",
      "  # This is added back by InteractiveShellApp.init_path()\n"
     ]
    },
    {
     "data": {
      "image/png": "[encoded data removed]",
      "text/plain": [
       "<Figure size 216x72 with 1 Axes>"
      ]
     },
     "metadata": {
      "needs_background": "light"
     },
     "output_type": "display_data"
    }
   ],
   "source": [
    "sns.set_style(\"whitegrid\")\n",
    "fig, ax = plt.subplots(figsize = (3,1)) \n",
    "\n",
    "key_order = ['xgb', 'resnet34', 'deepflow', 'resnet18', 'lr', 'ae']\n",
    "\n",
    "ax = sns.swarmplot(data=predictor_results,x = \"Model\", \n",
    "            y = \"Macro f1-score\", \n",
    "            palette=[\"Grey\"],\n",
    "                   s = 1.52,\n",
    "            order = key_order, \n",
    "                   ax = ax)\n",
    "\n",
    "ax = sns.boxplot(\n",
    "    showmeans=True,\n",
    "            meanline=True,\n",
    "            meanprops={'color': 'grey', 'ls': '-', 'lw': 2},\n",
    "            medianprops={'visible': False},\n",
    "            whiskerprops={'visible': False},\n",
    "            zorder=10,\n",
    "            x=\"Model\",\n",
    "            y=\"Macro f1-score\", \n",
    "            order = key_order,\n",
    "            data=predictor_results,\n",
    "            showfliers=False,\n",
    "            showbox=False,\n",
    "            showcaps=False,\n",
    "            ax=ax)\n",
    "\n",
    "ax.set_xticklabels(key_order, rotation = 90)\n",
    "\n",
    "plt.ylim(0.75, \n",
    "         1.00)\n",
    "\n",
    "plt.yticks([0.75,0.80,0.85,0.90,0.95,1.00])\n",
    "\n",
    "plt.savefig(\"Figure - Comparison of different classifers.svg\")\n",
    "plt.savefig(\"Figure - Comparison of different classifers.png\")"
   ]
  },
  {
   "cell_type": "code",
   "execution_count": 16,
   "metadata": {},
   "outputs": [
    {
     "name": "stdout",
     "output_type": "stream",
     "text": [
      "xgb mean 0.92 std 0.01\n",
      "resnet34 mean 0.91 std 0.01\n",
      "deepflow mean 0.9 std 0.01\n",
      "resnet18 mean 0.9 std 0.02\n",
      "lr mean 0.9 std 0.02\n",
      "ae mean 0.79 std 0.02\n"
     ]
    }
   ],
   "source": [
    "for k in key_order:\n",
    "    indx = predictor_results.Model == k\n",
    "    print(k, \n",
    "          \"mean\", round(predictor_results.loc[indx, \"Macro f1-score\"].mean(),2),\n",
    "         \"std\", round(predictor_results.loc[indx, \"Macro f1-score\"].std(),2)           )"
   ]
  },
  {
   "cell_type": "markdown",
   "metadata": {},
   "source": [
    "## Donor cross validation & experiment cross validation"
   ]
  },
  {
   "cell_type": "code",
   "execution_count": 17,
   "metadata": {},
   "outputs": [
    {
     "name": "stdout",
     "output_type": "stream",
     "text": [
      "list of remained columns:\n",
      " Index(['mask_based_area_BF', 'mask_based_bbox_area_BF',\n",
      "       'mask_based_convex_area_BF', 'mask_based_eccentricity_BF',\n",
      "       'mask_based_equivalent_diameter_BF', 'mask_based_euler_number_BF',\n",
      "       'mask_based_extent_BF', 'mask_based_feret_diameter_max_BF',\n",
      "       'mask_based_filled_area_BF', 'mask_based_major_axis_length_BF',\n",
      "       ...\n",
      "       'max_intensity_ratio_F-Actin_R5_R7', 'sum_intensity_ratio_MHCII_R5_R7',\n",
      "       'mean_intensity_ratio_MHCII_R5_R7', 'max_intensity_ratio_MHCII_R5_R7',\n",
      "       'sum_intensity_ratio_CD3_R5_R7', 'mean_intensity_ratio_CD3_R5_R7',\n",
      "       'max_intensity_ratio_CD3_R5_R7', 'sum_intensity_ratio_P-CD3zeta_R5_R7',\n",
      "       'mean_intensity_ratio_P-CD3zeta_R5_R7',\n",
      "       'max_intensity_ratio_P-CD3zeta_R5_R7'],\n",
      "      dtype='object', length=247) \n",
      " so we have these many columns: 247\n"
     ]
    }
   ],
   "source": [
    "list_of_features_to_exclude = [\"Antibody\",\"Live-Dead\",\"CD18\",  \"_R2\",  \"_R3\",  \"_R8\", \"background\",\n",
    "                               \"moment\",\"percent\",\"mask_based_mean\",\"mask_based_min\",\"mask_based_max\",  \n",
    "                               \"RMS\",\"intensity_BF\",\"_R1_R2\",\"_R1_R3\",\"_R1_R4\",\"_R1_R5\",\"_R1_R6\",\"_R1_R7\",\n",
    "                               \"_R1_R8\",\"_R2_R1\",\"_R2_R3\",\"_R2_R4\",\"_R2_R5\",\"_R2_R6\",\"_R2_R7\",\"_R2_R8\",\n",
    "                               \"_R3_R1\",\"_R3_R2\",\"_R3_R4\",\"_R3_R5\",\"_R3_R6\",\"_R3_R7\",\"_R3_R8\",\n",
    "                               \"_R4_R1\",\"_R4_R2\",\"_R4_R3\",\"_R4_R5\",\"_R4_R6\",\"_R4_R7\",\"_R4_R8\",\n",
    "                               \"_R5_R1\",\"_R5_R2\",\"_R5_R3\",\"_R5_R4\",\"_R5_R8\",\"_R6_R1\",\"_R6_R2\",\n",
    "                               \"_R6_R3\",\"_R6_R4\",\"_R6_R5\",\"_R6_R7\",\"_R6_R8\",\"_R7_R1\",\"_R7_R2\",\n",
    "                               \"_R7_R3\",\"_R7_R4\",\"_R7_R5\",\"_R7_R6\",\"_R7_R8\",\"_R8_R1\",\"_R8_R2\",\n",
    "                               \"_R8_R3\",\"_R8_R4\",\"_R8_R5\",\"_R8_R6\",\"_R8_R7\",\"cell_distance\"]\n",
    "classification_indx = ~df_features.columns.str.contains( list_of_features_to_exclude[0]) \n",
    "\n",
    "for f_to_exclude in list_of_features_to_exclude:\n",
    "    classification_indx = classification_indx & ~df_features.columns.str.contains( f_to_exclude) \n",
    "    \n",
    "\n",
    "print(\"list of remained columns:\\n\", \n",
    "      df_features.columns[classification_indx],\n",
    "     \"\\n\",\n",
    "     \"so we have these many columns:\",\n",
    "     classification_indx.sum())"
   ]
  },
  {
   "cell_type": "code",
   "execution_count": 18,
   "metadata": {},
   "outputs": [
    {
     "name": "stdout",
     "output_type": "stream",
     "text": [
      "{'B_cell': 0, 'T_cell': 1, 'T_cell_with_signaling': 2, 'T_cell_with_B_cell_fragments': 3, 'B_T_cell_in_one_layer': 4, 'Synapses_without_signaling': 5, 'Synapses_with_signaling': 6, 'No_cell_cell_interaction': 7, 'Multiplets': 8, '-1': -1, -1: -1}\n"
     ]
    }
   ],
   "source": [
    "label_map = dict()\n",
    "for i, cl in enumerate(set_of_interesting_classes):\n",
    "    label_map[cl] = i\n",
    "\n",
    "label_map['-1'] = -1\n",
    "label_map[-1] = -1\n",
    "\n",
    "print(label_map)"
   ]
  },
  {
   "cell_type": "code",
   "execution_count": 19,
   "metadata": {},
   "outputs": [
    {
     "name": "stdout",
     "output_type": "stream",
     "text": [
      "Experiment_1_Donor_1\n",
      "Experiment_1_Donor_2\n",
      "Experiment_2_Donor_3\n",
      "Experiment_2_Donor_4\n",
      "Experiment_3_Donor_1\n",
      "Experiment_3_Donor_5\n",
      "Experiment_3_Donor_6\n",
      "Experiment_4_Donor_2\n",
      "Experiment_4_Donor_7\n",
      "Experiment_4_Donor_8\n",
      "Experiment_4_Donor_9\n"
     ]
    }
   ],
   "source": [
    "from sklearn.pipeline import Pipeline\n",
    "from scifAI.ml.auto_feature_selection import AutoFeatureSelection\n",
    "from sklearn.model_selection import cross_val_score, LeaveOneGroupOut\n",
    "from sklearn.linear_model import LogisticRegressionCV\n",
    "\n",
    "labeled_index = metadata[\"label\"].isin(set_of_interesting_classes)\n",
    "labeled_index = labeled_index &  metadata[\"set\"].isin([\"train\",\"validation\", \"test\"])\n",
    "\n",
    "scores = []\n",
    "top_k = 130\n",
    "\n",
    "for key in metadata.loc[:,\"key\"].unique():\n",
    "    print(key)\n",
    "    group_val = metadata.key.isin([key])\n",
    "    group_val = group_val & labeled_index\n",
    "\n",
    "    group_train = ~metadata.key.isin([key])\n",
    "    group_train = group_train & labeled_index\n",
    "\n",
    "    if group_train.sum()*group_val.sum():\n",
    "    \n",
    "        xgb = Pipeline([\n",
    "                        ('StandardScaler', StandardScaler()), \n",
    "#                         ('AutoFeatureSelection', AutoFeatureSelection( top_k = top_k , verbose=False)),''\n",
    "                         ('xgb', XGBClassifier(n_jobs = -1, \n",
    "                                       n_estimators = 100, \n",
    "                                       eval_metric = \"logloss\") )\n",
    "                ], verbose=False)\n",
    "        xgb = xgb.fit(df_features.loc[group_train,classification_indx],\n",
    "                      metadata.loc[group_train,\"label\"].replace(label_map))\n",
    "\n",
    "        y_pred = xgb.predict(df_features.loc[group_val,classification_indx])\n",
    "        y_true = metadata.loc[group_val,\"label\"].replace(label_map)\n",
    "\n",
    "        scores.append({key:f1_score(y_true,y_pred,average=\"macro\")})\n"
   ]
  },
  {
   "cell_type": "code",
   "execution_count": 20,
   "metadata": {},
   "outputs": [],
   "source": [
    "scores = pd.melt(pd.DataFrame(scores)).dropna().reset_index(drop=True)\n",
    "\n",
    "scores[\"experiment\"] =scores[\"variable\"]\n",
    "\n",
    "for donor in metadata.donor.unique():\n",
    "    scores[\"experiment\"] = scores[\"experiment\"].str.replace(\"_\"+donor,\"\")\n",
    "    \n",
    "scores[\"variable\"] = \"f1_macro\""
   ]
  },
  {
   "cell_type": "code",
   "execution_count": 21,
   "metadata": {},
   "outputs": [
    {
     "data": {
      "text/html": [
       "<div>\n",
       "<style scoped>\n",
       "    .dataframe tbody tr th:only-of-type {\n",
       "        vertical-align: middle;\n",
       "    }\n",
       "\n",
       "    .dataframe tbody tr th {\n",
       "        vertical-align: top;\n",
       "    }\n",
       "\n",
       "    .dataframe thead th {\n",
       "        text-align: right;\n",
       "    }\n",
       "</style>\n",
       "<table border=\"1\" class=\"dataframe\">\n",
       "  <thead>\n",
       "    <tr style=\"text-align: right;\">\n",
       "      <th></th>\n",
       "      <th>variable</th>\n",
       "      <th>value</th>\n",
       "      <th>experiment</th>\n",
       "    </tr>\n",
       "  </thead>\n",
       "  <tbody>\n",
       "    <tr>\n",
       "      <th>0</th>\n",
       "      <td>f1_macro</td>\n",
       "      <td>0.897533</td>\n",
       "      <td>Experiment_1</td>\n",
       "    </tr>\n",
       "    <tr>\n",
       "      <th>1</th>\n",
       "      <td>f1_macro</td>\n",
       "      <td>0.810833</td>\n",
       "      <td>Experiment_1</td>\n",
       "    </tr>\n",
       "    <tr>\n",
       "      <th>2</th>\n",
       "      <td>f1_macro</td>\n",
       "      <td>0.874518</td>\n",
       "      <td>Experiment_2</td>\n",
       "    </tr>\n",
       "    <tr>\n",
       "      <th>3</th>\n",
       "      <td>f1_macro</td>\n",
       "      <td>0.847031</td>\n",
       "      <td>Experiment_3</td>\n",
       "    </tr>\n",
       "    <tr>\n",
       "      <th>4</th>\n",
       "      <td>f1_macro</td>\n",
       "      <td>0.882509</td>\n",
       "      <td>Experiment_3</td>\n",
       "    </tr>\n",
       "    <tr>\n",
       "      <th>5</th>\n",
       "      <td>f1_macro</td>\n",
       "      <td>0.888649</td>\n",
       "      <td>Experiment_4</td>\n",
       "    </tr>\n",
       "    <tr>\n",
       "      <th>6</th>\n",
       "      <td>f1_macro</td>\n",
       "      <td>0.926260</td>\n",
       "      <td>Experiment_4</td>\n",
       "    </tr>\n",
       "    <tr>\n",
       "      <th>7</th>\n",
       "      <td>f1_macro</td>\n",
       "      <td>0.940721</td>\n",
       "      <td>Experiment_4</td>\n",
       "    </tr>\n",
       "  </tbody>\n",
       "</table>\n",
       "</div>"
      ],
      "text/plain": [
       "   variable     value    experiment\n",
       "0  f1_macro  0.897533  Experiment_1\n",
       "1  f1_macro  0.810833  Experiment_1\n",
       "2  f1_macro  0.874518  Experiment_2\n",
       "3  f1_macro  0.847031  Experiment_3\n",
       "4  f1_macro  0.882509  Experiment_3\n",
       "5  f1_macro  0.888649  Experiment_4\n",
       "6  f1_macro  0.926260  Experiment_4\n",
       "7  f1_macro  0.940721  Experiment_4"
      ]
     },
     "execution_count": 21,
     "metadata": {},
     "output_type": "execute_result"
    }
   ],
   "source": [
    "scores"
   ]
  },
  {
   "cell_type": "code",
   "execution_count": 22,
   "metadata": {},
   "outputs": [
    {
     "name": "stdout",
     "output_type": "stream",
     "text": [
      "f1_macro: median 0.89 mean 0.88 std 0.04\n"
     ]
    }
   ],
   "source": [
    "print(\"f1_macro:\",\n",
    "      \"median\",\n",
    "      scores.value.median().round(2),\n",
    "      \"mean\",\n",
    "      scores.value.mean().round(2),\n",
    "      \"std\",\n",
    "      scores.value.std().round(2))"
   ]
  },
  {
   "cell_type": "code",
   "execution_count": 23,
   "metadata": {},
   "outputs": [
    {
     "name": "stderr",
     "output_type": "stream",
     "text": [
      "/home/shetabs1/.local/lib/python3.7/site-packages/seaborn/_oldcore.py:200: FutureWarning: elementwise comparison failed; returning scalar instead, but in the future will perform elementwise comparison\n",
      "  if palette in QUAL_PALETTES:\n"
     ]
    },
    {
     "data": {
      "image/png": "[encoded data removed]",
      "text/plain": [
       "<Figure size 72x216 with 1 Axes>"
      ]
     },
     "metadata": {
      "needs_background": "light"
     },
     "output_type": "display_data"
    }
   ],
   "source": [
    "\n",
    "fig,ax =plt.subplots(figsize=(1,3))\n",
    "\n",
    "ax=sns.stripplot(data = scores , \n",
    "                       x = \"variable\",\n",
    "                       y = \"value\", \n",
    "                       hue = \"experiment\", \n",
    "                       hue_order = [\n",
    "                                    \"Experiment_1\",\n",
    "                                    \"Experiment_2\",\n",
    "                                    \"Experiment_3\",\n",
    "                                    \"Experiment_4\"],\n",
    "                       s = 5,\n",
    "                       linewidth=1,\n",
    "#                        split = True,\n",
    "                      palette=np.array([(1,1,1 ),\n",
    "                                        (0.85, 0.85, 0.85 ),\n",
    "                                        (0.60, 0.60, 0.60 ),\n",
    "                                        (0.2,0.2,0.2 )]),\n",
    "                       dodge=False,\n",
    "                      ax = ax) \n",
    "\n",
    "\n",
    "ax = sns.boxplot(\n",
    "            data = scores , \n",
    "                       x = \"variable\",\n",
    "                       y = \"value\", \n",
    "            whiskerprops={'visible': False},\n",
    "            zorder=10,\n",
    "            palette=[\"black\"],\n",
    "            showfliers=False,\n",
    "            showbox=False,\n",
    "            showcaps=False,\n",
    "            ax=ax)\n",
    "ax.legend().remove()\n",
    "\n",
    "plt.savefig('Supplementary Figure - donor cross validation.svg', bbox_inches=\"tight\")\n",
    "plt.savefig('Supplementary Figure - donor cross validation.png', bbox_inches=\"tight\")"
   ]
  },
  {
   "cell_type": "code",
   "execution_count": 24,
   "metadata": {},
   "outputs": [
    {
     "data": {
      "text/plain": [
       "{'B_cell': 0,\n",
       " 'T_cell': 1,\n",
       " 'T_cell_with_signaling': 2,\n",
       " 'T_cell_with_B_cell_fragments': 3,\n",
       " 'B_T_cell_in_one_layer': 4,\n",
       " 'Synapses_without_signaling': 5,\n",
       " 'Synapses_with_signaling': 6,\n",
       " 'No_cell_cell_interaction': 7,\n",
       " 'Multiplets': 8,\n",
       " '-1': -1,\n",
       " -1: -1}"
      ]
     },
     "execution_count": 24,
     "metadata": {},
     "output_type": "execute_result"
    }
   ],
   "source": [
    "label_map"
   ]
  },
  {
   "cell_type": "code",
   "execution_count": null,
   "metadata": {},
   "outputs": [],
   "source": []
  }
 ],
 "metadata": {
  "kernelspec": {
   "display_name": "Python 3",
   "language": "python",
   "name": "python3"
  },
  "language_info": {
   "codemirror_mode": {
    "name": "ipython",
    "version": 3
   },
   "file_extension": ".py",
   "mimetype": "text/x-python",
   "name": "python",
   "nbconvert_exporter": "python",
   "pygments_lexer": "ipython3",
   "version": "3.7.6"
  }
 },
 "nbformat": 4,
 "nbformat_minor": 4
}
