{
 "cells": [
  {
   "cell_type": "code",
   "execution_count": 1,
   "metadata": {},
   "outputs": [],
   "source": [
    "#!pip -q install /pstore/home/shetabs1/code/iflai/"
   ]
  },
  {
   "cell_type": "code",
   "execution_count": null,
   "metadata": {},
   "outputs": [],
   "source": []
  },
  {
   "cell_type": "code",
   "execution_count": 2,
   "metadata": {},
   "outputs": [],
   "source": [
    "import pandas as pd\n",
    "import matplotlib.pyplot as plt\n",
    "import seaborn as sns\n",
    "import numpy as np\n",
    "import skorch\n",
    "import torch\n",
    "from skorch import NeuralNetClassifier\n",
    "from tqdm import tqdm\n",
    "from torchvision import transforms\n",
    "import torch.nn as nn\n",
    "from scipy.stats import entropy\n",
    "import random\n",
    "from sklearn.cluster import KMeans\n",
    "from sklearn.preprocessing import MinMaxScaler, StandardScaler\n",
    "from sklearn.cluster import FeatureAgglomeration"
   ]
  },
  {
   "cell_type": "code",
   "execution_count": 3,
   "metadata": {},
   "outputs": [],
   "source": [
    "from scifAI.dl.utils import train_validation_test_split\n",
    "from scifAI.dl.dataset import DatasetGenerator\n",
    "from scifAI.dl.utils import get_statistics"
   ]
  },
  {
   "cell_type": "code",
   "execution_count": 4,
   "metadata": {},
   "outputs": [],
   "source": [
    "from scifAI.dl.models import PretrainedModel\n",
    "from skorch.callbacks import LRScheduler,Checkpoint,EpochScoring,EarlyStopping\n",
    "import torch.optim as optim\n",
    "from skorch.helper import predefined_split"
   ]
  },
  {
   "cell_type": "code",
   "execution_count": 5,
   "metadata": {},
   "outputs": [],
   "source": [
    "from sklearn.random_projection import GaussianRandomProjection"
   ]
  },
  {
   "cell_type": "code",
   "execution_count": 6,
   "metadata": {},
   "outputs": [],
   "source": [
    "from sklearn.metrics import plot_confusion_matrix, matthews_corrcoef, classification_report,confusion_matrix, accuracy_score, balanced_accuracy_score, cohen_kappa_score, f1_score,  precision_score, recall_score\n",
    "from statsmodels.stats.contingency_tables import mcnemar\n",
    "from sklearn.metrics import confusion_matrix,ConfusionMatrixDisplay\n",
    "\n",
    "\n",
    "def classification_complete_report(y_true, y_pred ,labels = None  ): \n",
    "    print(classification_report(y_true, y_pred, labels = labels))\n",
    "    print(15*\"----\")\n",
    "    print(\"matthews correlation coeff: %.4f\" % (matthews_corrcoef(y_true, y_pred)) )\n",
    "    print(\"Cohen Kappa score: %.4f\" % (cohen_kappa_score(y_true, y_pred)) )\n",
    "    print(\"Accuracy: %.4f & balanced Accuracy: %.4f\" % (accuracy_score(y_true, y_pred), balanced_accuracy_score(y_true, y_pred)) )\n",
    "    print(\"macro F1 score: %.4f & micro F1 score: %.4f\" % (f1_score(y_true, y_pred, average = \"macro\"), f1_score(y_true, y_pred, average = \"micro\")) )\n",
    "    print(\"macro Precision score: %.4f & micro Precision score: %.4f\" % (precision_score(y_true, y_pred, average = \"macro\"), precision_score(y_true, y_pred, average = \"micro\")) )\n",
    "    print(\"macro Recall score: %.4f & micro Recall score: %.4f\" % (recall_score(y_true, y_pred, average = \"macro\"), recall_score(y_true, y_pred, average = \"micro\")) )\n",
    "    cm = confusion_matrix(y_true, y_pred,labels= labels)\n",
    "    disp = ConfusionMatrixDisplay(confusion_matrix=cm, display_labels=labels)\n",
    "    disp.plot(cmap=plt.cm.Blues)\n",
    "    plt.show()\n",
    "    print(15*\"----\")"
   ]
  },
  {
   "cell_type": "code",
   "execution_count": 7,
   "metadata": {},
   "outputs": [
    {
     "name": "stderr",
     "output_type": "stream",
     "text": [
      "/pstore/apps/Python/3.8.3-2020.07/lib/python3.8/site-packages/IPython/core/interactiveshell.py:3071: DtypeWarning: Columns (6) have mixed types.Specify dtype option on import or set low_memory=False.\n",
      "  has_raised = await self.run_ast_nodes(code_ast.body, cell_name,\n"
     ]
    },
    {
     "data": {
      "text/html": [
       "<div>\n",
       "<style scoped>\n",
       "    .dataframe tbody tr th:only-of-type {\n",
       "        vertical-align: middle;\n",
       "    }\n",
       "\n",
       "    .dataframe tbody tr th {\n",
       "        vertical-align: top;\n",
       "    }\n",
       "\n",
       "    .dataframe thead th {\n",
       "        text-align: right;\n",
       "    }\n",
       "</style>\n",
       "<table border=\"1\" class=\"dataframe\">\n",
       "  <thead>\n",
       "    <tr style=\"text-align: right;\">\n",
       "      <th></th>\n",
       "      <th>file</th>\n",
       "      <th>experiment</th>\n",
       "      <th>donor</th>\n",
       "      <th>condition</th>\n",
       "      <th>object_number</th>\n",
       "      <th>set</th>\n",
       "      <th>label</th>\n",
       "    </tr>\n",
       "  </thead>\n",
       "  <tbody>\n",
       "    <tr>\n",
       "      <th>0</th>\n",
       "      <td>/pstore/data/DS4/synapse_formation_full_data/E...</td>\n",
       "      <td>Experiment_1</td>\n",
       "      <td>Donor_1</td>\n",
       "      <td>+SEA</td>\n",
       "      <td>5156</td>\n",
       "      <td>unlabeled</td>\n",
       "      <td>-1</td>\n",
       "    </tr>\n",
       "    <tr>\n",
       "      <th>1</th>\n",
       "      <td>/pstore/data/DS4/synapse_formation_full_data/E...</td>\n",
       "      <td>Experiment_1</td>\n",
       "      <td>Donor_1</td>\n",
       "      <td>+SEA</td>\n",
       "      <td>32020</td>\n",
       "      <td>unlabeled</td>\n",
       "      <td>-1</td>\n",
       "    </tr>\n",
       "    <tr>\n",
       "      <th>2</th>\n",
       "      <td>/pstore/data/DS4/synapse_formation_full_data/E...</td>\n",
       "      <td>Experiment_1</td>\n",
       "      <td>Donor_1</td>\n",
       "      <td>+SEA</td>\n",
       "      <td>55974</td>\n",
       "      <td>unlabeled</td>\n",
       "      <td>-1</td>\n",
       "    </tr>\n",
       "    <tr>\n",
       "      <th>3</th>\n",
       "      <td>/pstore/data/DS4/synapse_formation_full_data/E...</td>\n",
       "      <td>Experiment_1</td>\n",
       "      <td>Donor_1</td>\n",
       "      <td>+SEA</td>\n",
       "      <td>15150</td>\n",
       "      <td>unlabeled</td>\n",
       "      <td>-1</td>\n",
       "    </tr>\n",
       "    <tr>\n",
       "      <th>4</th>\n",
       "      <td>/pstore/data/DS4/synapse_formation_full_data/E...</td>\n",
       "      <td>Experiment_1</td>\n",
       "      <td>Donor_1</td>\n",
       "      <td>+SEA</td>\n",
       "      <td>44814</td>\n",
       "      <td>unlabeled</td>\n",
       "      <td>-1</td>\n",
       "    </tr>\n",
       "    <tr>\n",
       "      <th>...</th>\n",
       "      <td>...</td>\n",
       "      <td>...</td>\n",
       "      <td>...</td>\n",
       "      <td>...</td>\n",
       "      <td>...</td>\n",
       "      <td>...</td>\n",
       "      <td>...</td>\n",
       "    </tr>\n",
       "    <tr>\n",
       "      <th>1065962</th>\n",
       "      <td>/pstore/data/DS4/synapse_formation_full_data/E...</td>\n",
       "      <td>Experiment_4</td>\n",
       "      <td>Donor_9</td>\n",
       "      <td>DIG-TCB</td>\n",
       "      <td>72493</td>\n",
       "      <td>unlabeled</td>\n",
       "      <td>-1</td>\n",
       "    </tr>\n",
       "    <tr>\n",
       "      <th>1065963</th>\n",
       "      <td>/pstore/data/DS4/synapse_formation_full_data/E...</td>\n",
       "      <td>Experiment_4</td>\n",
       "      <td>Donor_9</td>\n",
       "      <td>DIG-TCB</td>\n",
       "      <td>106656</td>\n",
       "      <td>unlabeled</td>\n",
       "      <td>-1</td>\n",
       "    </tr>\n",
       "    <tr>\n",
       "      <th>1065964</th>\n",
       "      <td>/pstore/data/DS4/synapse_formation_full_data/E...</td>\n",
       "      <td>Experiment_4</td>\n",
       "      <td>Donor_9</td>\n",
       "      <td>DIG-TCB</td>\n",
       "      <td>110990</td>\n",
       "      <td>unlabeled</td>\n",
       "      <td>-1</td>\n",
       "    </tr>\n",
       "    <tr>\n",
       "      <th>1065965</th>\n",
       "      <td>/pstore/data/DS4/synapse_formation_full_data/E...</td>\n",
       "      <td>Experiment_4</td>\n",
       "      <td>Donor_9</td>\n",
       "      <td>DIG-TCB</td>\n",
       "      <td>71451</td>\n",
       "      <td>unlabeled</td>\n",
       "      <td>-1</td>\n",
       "    </tr>\n",
       "    <tr>\n",
       "      <th>1065966</th>\n",
       "      <td>/pstore/data/DS4/synapse_formation_full_data/E...</td>\n",
       "      <td>Experiment_4</td>\n",
       "      <td>Donor_9</td>\n",
       "      <td>DIG-TCB</td>\n",
       "      <td>111837</td>\n",
       "      <td>unlabeled</td>\n",
       "      <td>-1</td>\n",
       "    </tr>\n",
       "  </tbody>\n",
       "</table>\n",
       "<p>1065967 rows × 7 columns</p>\n",
       "</div>"
      ],
      "text/plain": [
       "                                                      file    experiment  \\\n",
       "0        /pstore/data/DS4/synapse_formation_full_data/E...  Experiment_1   \n",
       "1        /pstore/data/DS4/synapse_formation_full_data/E...  Experiment_1   \n",
       "2        /pstore/data/DS4/synapse_formation_full_data/E...  Experiment_1   \n",
       "3        /pstore/data/DS4/synapse_formation_full_data/E...  Experiment_1   \n",
       "4        /pstore/data/DS4/synapse_formation_full_data/E...  Experiment_1   \n",
       "...                                                    ...           ...   \n",
       "1065962  /pstore/data/DS4/synapse_formation_full_data/E...  Experiment_4   \n",
       "1065963  /pstore/data/DS4/synapse_formation_full_data/E...  Experiment_4   \n",
       "1065964  /pstore/data/DS4/synapse_formation_full_data/E...  Experiment_4   \n",
       "1065965  /pstore/data/DS4/synapse_formation_full_data/E...  Experiment_4   \n",
       "1065966  /pstore/data/DS4/synapse_formation_full_data/E...  Experiment_4   \n",
       "\n",
       "           donor condition  object_number        set label  \n",
       "0        Donor_1      +SEA           5156  unlabeled    -1  \n",
       "1        Donor_1      +SEA          32020  unlabeled    -1  \n",
       "2        Donor_1      +SEA          55974  unlabeled    -1  \n",
       "3        Donor_1      +SEA          15150  unlabeled    -1  \n",
       "4        Donor_1      +SEA          44814  unlabeled    -1  \n",
       "...          ...       ...            ...        ...   ...  \n",
       "1065962  Donor_9   DIG-TCB          72493  unlabeled    -1  \n",
       "1065963  Donor_9   DIG-TCB         106656  unlabeled    -1  \n",
       "1065964  Donor_9   DIG-TCB         110990  unlabeled    -1  \n",
       "1065965  Donor_9   DIG-TCB          71451  unlabeled    -1  \n",
       "1065966  Donor_9   DIG-TCB         111837  unlabeled    -1  \n",
       "\n",
       "[1065967 rows x 7 columns]"
      ]
     },
     "execution_count": 7,
     "metadata": {},
     "output_type": "execute_result"
    }
   ],
   "source": [
    "metadata = pd.read_csv(\"/pstore/data/DS4/synapse_data_features/metadata_subset.csv.gz\")\n",
    "metadata"
   ]
  },
  {
   "cell_type": "code",
   "execution_count": 8,
   "metadata": {},
   "outputs": [
    {
     "data": {
      "text/plain": [
       "array(['unlabeled', 'labeled', 'train', 'test', 'validation'],\n",
       "      dtype=object)"
      ]
     },
     "execution_count": 8,
     "metadata": {},
     "output_type": "execute_result"
    }
   ],
   "source": [
    "metadata.set.unique()"
   ]
  },
  {
   "cell_type": "code",
   "execution_count": 9,
   "metadata": {},
   "outputs": [],
   "source": [
    "indx = metadata.condition.isin([\"-SEA\",\"+SEA\"])\n",
    "metadata = metadata.loc[indx, :].reset_index(drop = True)\n"
   ]
  },
  {
   "cell_type": "code",
   "execution_count": 10,
   "metadata": {},
   "outputs": [],
   "source": [
    "set_of_interesting_classes = ['B_cell',  \n",
    "                              'T_cell', \n",
    "                              'T_cell_with_signaling',\n",
    "                              'T_cell_with_B_cell_fragments',\n",
    "                              'B_T_cell_in_one_layer',\n",
    "                              'Synapses_without_signaling', \n",
    "                              'Synapses_with_signaling',\n",
    "                              'No_cell_cell_interaction',\n",
    "                              'Multiplets']"
   ]
  },
  {
   "cell_type": "code",
   "execution_count": 11,
   "metadata": {},
   "outputs": [
    {
     "data": {
      "text/plain": [
       "array(['unlabeled', 'labeled', 'train', 'test', 'validation'],\n",
       "      dtype=object)"
      ]
     },
     "execution_count": 11,
     "metadata": {},
     "output_type": "execute_result"
    }
   ],
   "source": [
    "metadata[\"set\"].unique()"
   ]
  },
  {
   "cell_type": "code",
   "execution_count": 12,
   "metadata": {},
   "outputs": [],
   "source": [
    "unlabeled_index = metadata[\"set\"] == \"unlabeled\"\n",
    "unlabeled_index = unlabeled_index[unlabeled_index].index\n",
    "\n",
    " \n",
    "labeled_index = metadata[\"label\"].isin(set_of_interesting_classes)\n",
    "\n",
    "train_index = metadata[\"set\"] == \"train\"\n",
    "train_index = train_index & labeled_index\n",
    "train_index = train_index[train_index].index\n",
    "\n",
    "validation_index = metadata[\"set\"] == \"validation\"\n",
    "validation_index = validation_index & labeled_index\n",
    "validation_index = validation_index[validation_index].index\n",
    "\n",
    "test_index = metadata[\"set\"] == \"test\"\n",
    "test_index = test_index & labeled_index\n",
    "test_index = test_index[test_index].index"
   ]
  },
  {
   "cell_type": "code",
   "execution_count": null,
   "metadata": {},
   "outputs": [],
   "source": []
  },
  {
   "cell_type": "code",
   "execution_count": 13,
   "metadata": {},
   "outputs": [
    {
     "name": "stdout",
     "output_type": "stream",
     "text": [
      "Number of labeled images 5221\n"
     ]
    }
   ],
   "source": [
    "\n",
    "\n",
    "label_map = dict()\n",
    "for i, cl in enumerate(set_of_interesting_classes):\n",
    "    label_map[cl] = i\n",
    "\n",
    "\n",
    "label_map['-1'] = -1\n",
    "label_map[-1] = -1\n",
    "\n",
    "print(\"Number of labeled images\",labeled_index.sum())"
   ]
  },
  {
   "cell_type": "code",
   "execution_count": 14,
   "metadata": {},
   "outputs": [
    {
     "data": {
      "text/plain": [
       "{'B_cell': 0,\n",
       " 'T_cell': 1,\n",
       " 'T_cell_with_signaling': 2,\n",
       " 'T_cell_with_B_cell_fragments': 3,\n",
       " 'B_T_cell_in_one_layer': 4,\n",
       " 'Synapses_without_signaling': 5,\n",
       " 'Synapses_with_signaling': 6,\n",
       " 'No_cell_cell_interaction': 7,\n",
       " 'Multiplets': 8,\n",
       " '-1': -1,\n",
       " -1: -1}"
      ]
     },
     "execution_count": 14,
     "metadata": {},
     "output_type": "execute_result"
    }
   ],
   "source": [
    "label_map"
   ]
  },
  {
   "cell_type": "code",
   "execution_count": null,
   "metadata": {},
   "outputs": [],
   "source": []
  },
  {
   "cell_type": "code",
   "execution_count": null,
   "metadata": {},
   "outputs": [],
   "source": []
  },
  {
   "cell_type": "code",
   "execution_count": 15,
   "metadata": {},
   "outputs": [],
   "source": [
    "reshape_size = 160\n",
    "selected_channels = [0,3,4,5,6]\n",
    "\n",
    "stats = dict()\n",
    "\n",
    "stats[\"lower_bound\"] = torch.tensor([756.5198,52.5891,45.7574,54.1436,39.0545])\n",
    "stats[\"upper_bound\"] = torch.tensor([835.3564,288.1139,271.3861,234.2525,90.0396])"
   ]
  },
  {
   "cell_type": "markdown",
   "metadata": {},
   "source": [
    "# Pretraining"
   ]
  },
  {
   "cell_type": "code",
   "execution_count": 16,
   "metadata": {},
   "outputs": [],
   "source": [
    "sample_unlabeled_index  = np.random.choice(unlabeled_index.tolist(), size=50000, replace=False   )"
   ]
  },
  {
   "cell_type": "code",
   "execution_count": null,
   "metadata": {},
   "outputs": [],
   "source": []
  },
  {
   "cell_type": "code",
   "execution_count": 17,
   "metadata": {},
   "outputs": [],
   "source": [
    "class AddGaussianNoise(object):\n",
    "    def __init__(self, mean=0., std=1.):\n",
    "        self.std = std\n",
    "        self.mean = mean\n",
    "        \n",
    "    def __call__(self, tensor):\n",
    "        return tensor + torch.randn(tensor.size()) * self.std + self.mean\n",
    "    \n",
    "    def __repr__(self):\n",
    "        return self.__class__.__name__ + '(mean={0}, std={1})'.format(self.mean, self.std)"
   ]
  },
  {
   "cell_type": "code",
   "execution_count": 18,
   "metadata": {},
   "outputs": [],
   "source": [
    "class MinMaxScaler(object):\n",
    "    def __init__(self, min_in , max_in, min_out, max_out):\n",
    "        self.min_in = min_in.reshape(-1,1,1)\n",
    "        self.max_in = max_in.reshape(-1,1,1)\n",
    "        self.min_out = min_out\n",
    "        self.max_out = max_out\n",
    "        \n",
    "    def __call__(self, tensor):\n",
    "        \n",
    "        tensor_ = (tensor - self.min_in)/(self.max_in - self.min_in)\n",
    "        tensor_ = tensor_*(self.max_out - self.min_out) + self.min_out\n",
    "        tensor_[tensor_<self.min_out]= self.min_out\n",
    "        tensor_[tensor_>self.max_out]= self.max_out\n",
    "        return tensor_\n",
    "    \n",
    "    def __repr__(self):\n",
    "        return self.__class__.__name__ + '(min_out={0}, max_out={1})'.format(self.min_out, self.max_out)"
   ]
  },
  {
   "cell_type": "code",
   "execution_count": null,
   "metadata": {},
   "outputs": [],
   "source": []
  },
  {
   "cell_type": "code",
   "execution_count": 19,
   "metadata": {},
   "outputs": [],
   "source": [
    "import torch.nn as nn\n",
    "from torchvision.models import resnet152, resnet18,resnet34\n",
    "import torch.nn.functional as F\n",
    "\n",
    "class AutoEncoder(nn.Module):\n",
    "    def __init__(self,num_channels ):\n",
    "        super(AutoEncoder, self).__init__()\n",
    "        self.encoderBF = nn.Sequential(\n",
    "            \n",
    "            nn.Conv2d(1, 16, kernel_size=(3, 3), stride=(1, 1), padding=(1, 1)),\n",
    "            nn.ReLU(inplace=True),\n",
    "            nn.Conv2d(16, 16, kernel_size=(3, 3), stride=(1, 1), padding=(1, 1)),\n",
    "            nn.ReLU(inplace=True),\n",
    "            nn.MaxPool2d(kernel_size=2, stride=2, padding=0, dilation=1, ceil_mode=False),\n",
    "            \n",
    "            nn.Conv2d(16, 16, kernel_size=(3, 3), stride=(1, 1), padding=(1, 1)),\n",
    "            nn.ReLU(inplace=True),\n",
    "            nn.Conv2d(16, 16, kernel_size=(3, 3), stride=(1, 1), padding=(1, 1)),\n",
    "            nn.ReLU(inplace=True),\n",
    "            nn.MaxPool2d(kernel_size=2, stride=2, padding=0, dilation=1, ceil_mode=False),\n",
    "            \n",
    "            nn.Conv2d(16, 32, kernel_size=(3, 3), stride=(1, 1), padding=(1, 1)),\n",
    "            nn.ReLU(inplace=True),\n",
    "            nn.Conv2d(32, 32, kernel_size=(3, 3), stride=(1, 1), padding=(1, 1)),\n",
    "            nn.ReLU(inplace=True),\n",
    "            nn.MaxPool2d(kernel_size=2, stride=2, padding=0, dilation=1, ceil_mode=False),\n",
    "            \n",
    "            nn.Conv2d(32, 32, kernel_size=(3, 3), stride=(1, 1), padding=(1, 1)),\n",
    "            nn.ReLU(inplace=True),\n",
    "            nn.Conv2d(32, 32, kernel_size=(3, 3), stride=(1, 1), padding=(1, 1)),\n",
    "            nn.ReLU(inplace=True),\n",
    "            nn.MaxPool2d(kernel_size=2, stride=2, padding=0, dilation=1, ceil_mode=False),\n",
    "            \n",
    "            \n",
    "        )\n",
    "        \n",
    "        self.encoderFActin = nn.Sequential(\n",
    "            \n",
    "            nn.Conv2d(1, 16, kernel_size=(3, 3), stride=(1, 1), padding=(1, 1)),\n",
    "            nn.ReLU(inplace=True),\n",
    "            nn.Conv2d(16, 16, kernel_size=(3, 3), stride=(1, 1), padding=(1, 1)),\n",
    "            nn.ReLU(inplace=True),\n",
    "            nn.MaxPool2d(kernel_size=2, stride=2, padding=0, dilation=1, ceil_mode=False),\n",
    "            \n",
    "            nn.Conv2d(16, 16, kernel_size=(3, 3), stride=(1, 1), padding=(1, 1)),\n",
    "            nn.ReLU(inplace=True),\n",
    "            nn.Conv2d(16, 16, kernel_size=(3, 3), stride=(1, 1), padding=(1, 1)),\n",
    "            nn.ReLU(inplace=True),\n",
    "            nn.MaxPool2d(kernel_size=2, stride=2, padding=0, dilation=1, ceil_mode=False),\n",
    "            \n",
    "            nn.Conv2d(16, 32, kernel_size=(3, 3), stride=(1, 1), padding=(1, 1)),\n",
    "            nn.ReLU(inplace=True),\n",
    "            nn.Conv2d(32, 32, kernel_size=(3, 3), stride=(1, 1), padding=(1, 1)),\n",
    "            nn.ReLU(inplace=True),\n",
    "            nn.MaxPool2d(kernel_size=2, stride=2, padding=0, dilation=1, ceil_mode=False),\n",
    "            \n",
    "            nn.Conv2d(32, 32, kernel_size=(3, 3), stride=(1, 1), padding=(1, 1)),\n",
    "            nn.ReLU(inplace=True),\n",
    "            nn.Conv2d(32, 32, kernel_size=(3, 3), stride=(1, 1), padding=(1, 1)),\n",
    "            nn.ReLU(inplace=True),\n",
    "            nn.MaxPool2d(kernel_size=2, stride=2, padding=0, dilation=1, ceil_mode=False),\n",
    "            \n",
    "            \n",
    "        )\n",
    "        \n",
    "        self.encoderMHCII = nn.Sequential(\n",
    "            \n",
    "            nn.Conv2d(1, 16, kernel_size=(3, 3), stride=(1, 1), padding=(1, 1)),\n",
    "            nn.ReLU(inplace=True),\n",
    "            nn.Conv2d(16, 16, kernel_size=(3, 3), stride=(1, 1), padding=(1, 1)),\n",
    "            nn.ReLU(inplace=True),\n",
    "            nn.MaxPool2d(kernel_size=2, stride=2, padding=0, dilation=1, ceil_mode=False),\n",
    "            \n",
    "            nn.Conv2d(16, 16, kernel_size=(3, 3), stride=(1, 1), padding=(1, 1)),\n",
    "            nn.ReLU(inplace=True),\n",
    "            nn.Conv2d(16, 16, kernel_size=(3, 3), stride=(1, 1), padding=(1, 1)),\n",
    "            nn.ReLU(inplace=True),\n",
    "            nn.MaxPool2d(kernel_size=2, stride=2, padding=0, dilation=1, ceil_mode=False),\n",
    "            \n",
    "            nn.Conv2d(16, 32, kernel_size=(3, 3), stride=(1, 1), padding=(1, 1)),\n",
    "            nn.ReLU(inplace=True),\n",
    "            nn.Conv2d(32, 32, kernel_size=(3, 3), stride=(1, 1), padding=(1, 1)),\n",
    "            nn.ReLU(inplace=True),\n",
    "            nn.MaxPool2d(kernel_size=2, stride=2, padding=0, dilation=1, ceil_mode=False),\n",
    "            \n",
    "            nn.Conv2d(32, 32, kernel_size=(3, 3), stride=(1, 1), padding=(1, 1)),\n",
    "            nn.ReLU(inplace=True),\n",
    "            nn.Conv2d(32, 32, kernel_size=(3, 3), stride=(1, 1), padding=(1, 1)),\n",
    "            nn.ReLU(inplace=True),\n",
    "            nn.MaxPool2d(kernel_size=2, stride=2, padding=0, dilation=1, ceil_mode=False),\n",
    "            \n",
    "            \n",
    "        )       \n",
    "        \n",
    "        self.encoderCD3 = nn.Sequential(\n",
    "            \n",
    "            nn.Conv2d(1, 16, kernel_size=(3, 3), stride=(1, 1), padding=(1, 1)),\n",
    "            nn.ReLU(inplace=True),\n",
    "            nn.Conv2d(16, 16, kernel_size=(3, 3), stride=(1, 1), padding=(1, 1)),\n",
    "            nn.ReLU(inplace=True),\n",
    "            nn.MaxPool2d(kernel_size=2, stride=2, padding=0, dilation=1, ceil_mode=False),\n",
    "            \n",
    "            nn.Conv2d(16, 16, kernel_size=(3, 3), stride=(1, 1), padding=(1, 1)),\n",
    "            nn.ReLU(inplace=True),\n",
    "            nn.Conv2d(16, 16, kernel_size=(3, 3), stride=(1, 1), padding=(1, 1)),\n",
    "            nn.ReLU(inplace=True),\n",
    "            nn.MaxPool2d(kernel_size=2, stride=2, padding=0, dilation=1, ceil_mode=False),\n",
    "            \n",
    "            nn.Conv2d(16, 32, kernel_size=(3, 3), stride=(1, 1), padding=(1, 1)),\n",
    "            nn.ReLU(inplace=True),\n",
    "            nn.Conv2d(32, 32, kernel_size=(3, 3), stride=(1, 1), padding=(1, 1)),\n",
    "            nn.ReLU(inplace=True),\n",
    "            nn.MaxPool2d(kernel_size=2, stride=2, padding=0, dilation=1, ceil_mode=False),\n",
    "            \n",
    "            nn.Conv2d(32, 32, kernel_size=(3, 3), stride=(1, 1), padding=(1, 1)),\n",
    "            nn.ReLU(inplace=True),\n",
    "            nn.Conv2d(32, 32, kernel_size=(3, 3), stride=(1, 1), padding=(1, 1)),\n",
    "            nn.ReLU(inplace=True),\n",
    "            nn.MaxPool2d(kernel_size=2, stride=2, padding=0, dilation=1, ceil_mode=False),\n",
    "            \n",
    "            \n",
    "        ) \n",
    "        \n",
    "        self.encoderPCD3zeta = nn.Sequential(\n",
    "            \n",
    "            nn.Conv2d(1, 16, kernel_size=(3, 3), stride=(1, 1), padding=(1, 1)),\n",
    "            nn.ReLU(inplace=True),\n",
    "            nn.Conv2d(16, 16, kernel_size=(3, 3), stride=(1, 1), padding=(1, 1)),\n",
    "            nn.ReLU(inplace=True),\n",
    "            nn.MaxPool2d(kernel_size=2, stride=2, padding=0, dilation=1, ceil_mode=False),\n",
    "            \n",
    "            nn.Conv2d(16, 16, kernel_size=(3, 3), stride=(1, 1), padding=(1, 1)),\n",
    "            nn.ReLU(inplace=True),\n",
    "            nn.Conv2d(16, 16, kernel_size=(3, 3), stride=(1, 1), padding=(1, 1)),\n",
    "            nn.ReLU(inplace=True),\n",
    "            nn.MaxPool2d(kernel_size=2, stride=2, padding=0, dilation=1, ceil_mode=False),\n",
    "            \n",
    "            nn.Conv2d(16, 32, kernel_size=(3, 3), stride=(1, 1), padding=(1, 1)),\n",
    "            nn.ReLU(inplace=True),\n",
    "            nn.Conv2d(32, 32, kernel_size=(3, 3), stride=(1, 1), padding=(1, 1)),\n",
    "            nn.ReLU(inplace=True),\n",
    "            nn.MaxPool2d(kernel_size=2, stride=2, padding=0, dilation=1, ceil_mode=False),\n",
    "            \n",
    "            nn.Conv2d(32, 32, kernel_size=(3, 3), stride=(1, 1), padding=(1, 1)),\n",
    "            nn.ReLU(inplace=True),\n",
    "            nn.Conv2d(32, 32, kernel_size=(3, 3), stride=(1, 1), padding=(1, 1)),\n",
    "            nn.ReLU(inplace=True),\n",
    "            nn.MaxPool2d(kernel_size=2, stride=2, padding=0, dilation=1, ceil_mode=False),\n",
    "            \n",
    "            \n",
    "        )  \n",
    "        self.decoder = nn.Sequential(\n",
    "            \n",
    "            nn.ConvTranspose2d(num_channels*32, 4*32, kernel_size=(3, 3), stride=(1, 1), padding=(1, 1)),\n",
    "            nn.ReLU(inplace=False),\n",
    "            nn.ConvTranspose2d(4*32, 32, kernel_size=(3, 3), stride=(1, 1), padding=(1, 1)),\n",
    "            nn.ReLU(inplace=True),\n",
    "            nn.Upsample(scale_factor=2 ),\n",
    "            \n",
    "            \n",
    "            nn.ConvTranspose2d(32, 32, kernel_size=(3, 3), stride=(1, 1), padding=(1, 1)),\n",
    "            nn.ReLU(inplace=False),\n",
    "            nn.ConvTranspose2d(32, 32, kernel_size=(3, 3), stride=(1, 1), padding=(1, 1)),\n",
    "            nn.ReLU(inplace=True),\n",
    "            nn.Upsample(scale_factor=2 ),\n",
    "            \n",
    "            nn.ConvTranspose2d(32, 32, kernel_size=(3, 3), stride=(1, 1), padding=(1, 1)),\n",
    "            nn.ReLU(inplace=False),\n",
    "            nn.ConvTranspose2d(32, 16, kernel_size=(3, 3), stride=(1, 1), padding=(1, 1)),\n",
    "            nn.ReLU(inplace=True),\n",
    "            nn.Upsample(scale_factor=2 ),\n",
    "            \n",
    "            nn.ConvTranspose2d(16, 16, kernel_size=(3, 3), stride=(1, 1), padding=(1, 1)),\n",
    "            nn.ReLU(inplace=False),\n",
    "            nn.ConvTranspose2d(16, 16, kernel_size=(3, 3), stride=(1, 1), padding=(1, 1)),\n",
    "            nn.ReLU(inplace=True),\n",
    "            nn.Upsample(scale_factor=2 ),\n",
    "            \n",
    "            nn.ConvTranspose2d(16, 16, kernel_size=(3, 3), stride=(1, 1), padding=(1, 1)),\n",
    "            nn.ReLU(inplace=False),\n",
    "            nn.ConvTranspose2d(16, num_channels, kernel_size=(3, 3), stride=(1, 1), padding=(1, 1)),\n",
    "            nn.Sigmoid(),\n",
    "        )\n",
    "        \n",
    "        self.bottel_neck = nn.Sequential(\n",
    "            nn.Linear(160*4*4, 1024),\n",
    "            nn.Linear(1024, 512),\n",
    "            nn.Linear(512, 256),\n",
    "        )\n",
    "        self.unbottel_neck = nn.Sequential(\n",
    "            nn.Linear(256, 512),\n",
    "            nn.Linear(512, 1024),\n",
    "            nn.Linear(1024 , 160*4*4)\n",
    "        )\n",
    "        \n",
    "    def feature_extraction(self, x):\n",
    "        x1 = self.encoderBF(x[:,0:1,:,:])\n",
    "        x2 = self.encoderFActin(x[:,1:2,:,:])  \n",
    "        x3 = self.encoderMHCII(x[:,2:3,:,:])  \n",
    "        x4 = self.encoderCD3(x[:,3:4,:,:])  \n",
    "        x5 = self.encoderPCD3zeta(x[:,4:5,:,:])\n",
    "        x = torch.cat((x1,x2,x3,x4,x5), dim = 1)\n",
    "        x = x.view(x.shape[0], 160*4*4)\n",
    "        x =self.bottel_neck(x)\n",
    "        return x\n",
    "        \n",
    "\n",
    "    def forward(self, x):\n",
    "        x = self.feature_extraction(x)\n",
    "        x = self.unbottel_neck(x)\n",
    "        x = x.view(x.shape[0], 160, 4, 4)\n",
    "        x = self.decoder(x)\n",
    "        return x\n"
   ]
  },
  {
   "cell_type": "code",
   "execution_count": null,
   "metadata": {},
   "outputs": [],
   "source": []
  },
  {
   "cell_type": "code",
   "execution_count": 20,
   "metadata": {},
   "outputs": [],
   "source": [
    "autoencoder = AutoEncoder(len(selected_channels))"
   ]
  },
  {
   "cell_type": "code",
   "execution_count": 21,
   "metadata": {},
   "outputs": [
    {
     "data": {
      "text/plain": [
       "torch.Size([1, 5, 64, 64])"
      ]
     },
     "execution_count": 21,
     "metadata": {},
     "output_type": "execute_result"
    }
   ],
   "source": [
    "autoencoder.forward(torch.rand(1,len(selected_channels),64, 64)).shape"
   ]
  },
  {
   "cell_type": "code",
   "execution_count": 22,
   "metadata": {},
   "outputs": [
    {
     "data": {
      "text/plain": [
       "torch.Size([1, 256])"
      ]
     },
     "execution_count": 22,
     "metadata": {},
     "output_type": "execute_result"
    }
   ],
   "source": [
    "autoencoder.feature_extraction(torch.rand(1,len(selected_channels),64, 64)).shape"
   ]
  },
  {
   "cell_type": "code",
   "execution_count": 23,
   "metadata": {},
   "outputs": [
    {
     "name": "stdout",
     "output_type": "stream",
     "text": [
      "----------------------------------------------------------------\n",
      "        Layer (type)               Output Shape         Param #\n",
      "================================================================\n",
      "            Conv2d-1           [-1, 16, 64, 64]             160\n",
      "              ReLU-2           [-1, 16, 64, 64]               0\n",
      "            Conv2d-3           [-1, 16, 64, 64]           2,320\n",
      "              ReLU-4           [-1, 16, 64, 64]               0\n",
      "         MaxPool2d-5           [-1, 16, 32, 32]               0\n",
      "            Conv2d-6           [-1, 16, 32, 32]           2,320\n",
      "              ReLU-7           [-1, 16, 32, 32]               0\n",
      "            Conv2d-8           [-1, 16, 32, 32]           2,320\n",
      "              ReLU-9           [-1, 16, 32, 32]               0\n",
      "        MaxPool2d-10           [-1, 16, 16, 16]               0\n",
      "           Conv2d-11           [-1, 32, 16, 16]           4,640\n",
      "             ReLU-12           [-1, 32, 16, 16]               0\n",
      "           Conv2d-13           [-1, 32, 16, 16]           9,248\n",
      "             ReLU-14           [-1, 32, 16, 16]               0\n",
      "        MaxPool2d-15             [-1, 32, 8, 8]               0\n",
      "           Conv2d-16             [-1, 32, 8, 8]           9,248\n",
      "             ReLU-17             [-1, 32, 8, 8]               0\n",
      "           Conv2d-18             [-1, 32, 8, 8]           9,248\n",
      "             ReLU-19             [-1, 32, 8, 8]               0\n",
      "        MaxPool2d-20             [-1, 32, 4, 4]               0\n",
      "           Conv2d-21           [-1, 16, 64, 64]             160\n",
      "             ReLU-22           [-1, 16, 64, 64]               0\n",
      "           Conv2d-23           [-1, 16, 64, 64]           2,320\n",
      "             ReLU-24           [-1, 16, 64, 64]               0\n",
      "        MaxPool2d-25           [-1, 16, 32, 32]               0\n",
      "           Conv2d-26           [-1, 16, 32, 32]           2,320\n",
      "             ReLU-27           [-1, 16, 32, 32]               0\n",
      "           Conv2d-28           [-1, 16, 32, 32]           2,320\n",
      "             ReLU-29           [-1, 16, 32, 32]               0\n",
      "        MaxPool2d-30           [-1, 16, 16, 16]               0\n",
      "           Conv2d-31           [-1, 32, 16, 16]           4,640\n",
      "             ReLU-32           [-1, 32, 16, 16]               0\n",
      "           Conv2d-33           [-1, 32, 16, 16]           9,248\n",
      "             ReLU-34           [-1, 32, 16, 16]               0\n",
      "        MaxPool2d-35             [-1, 32, 8, 8]               0\n",
      "           Conv2d-36             [-1, 32, 8, 8]           9,248\n",
      "             ReLU-37             [-1, 32, 8, 8]               0\n",
      "           Conv2d-38             [-1, 32, 8, 8]           9,248\n",
      "             ReLU-39             [-1, 32, 8, 8]               0\n",
      "        MaxPool2d-40             [-1, 32, 4, 4]               0\n",
      "           Conv2d-41           [-1, 16, 64, 64]             160\n",
      "             ReLU-42           [-1, 16, 64, 64]               0\n",
      "           Conv2d-43           [-1, 16, 64, 64]           2,320\n",
      "             ReLU-44           [-1, 16, 64, 64]               0\n",
      "        MaxPool2d-45           [-1, 16, 32, 32]               0\n",
      "           Conv2d-46           [-1, 16, 32, 32]           2,320\n",
      "             ReLU-47           [-1, 16, 32, 32]               0\n",
      "           Conv2d-48           [-1, 16, 32, 32]           2,320\n",
      "             ReLU-49           [-1, 16, 32, 32]               0\n",
      "        MaxPool2d-50           [-1, 16, 16, 16]               0\n",
      "           Conv2d-51           [-1, 32, 16, 16]           4,640\n",
      "             ReLU-52           [-1, 32, 16, 16]               0\n",
      "           Conv2d-53           [-1, 32, 16, 16]           9,248\n",
      "             ReLU-54           [-1, 32, 16, 16]               0\n",
      "        MaxPool2d-55             [-1, 32, 8, 8]               0\n",
      "           Conv2d-56             [-1, 32, 8, 8]           9,248\n",
      "             ReLU-57             [-1, 32, 8, 8]               0\n",
      "           Conv2d-58             [-1, 32, 8, 8]           9,248\n",
      "             ReLU-59             [-1, 32, 8, 8]               0\n",
      "        MaxPool2d-60             [-1, 32, 4, 4]               0\n",
      "           Conv2d-61           [-1, 16, 64, 64]             160\n",
      "             ReLU-62           [-1, 16, 64, 64]               0\n",
      "           Conv2d-63           [-1, 16, 64, 64]           2,320\n",
      "             ReLU-64           [-1, 16, 64, 64]               0\n",
      "        MaxPool2d-65           [-1, 16, 32, 32]               0\n",
      "           Conv2d-66           [-1, 16, 32, 32]           2,320\n",
      "             ReLU-67           [-1, 16, 32, 32]               0\n",
      "           Conv2d-68           [-1, 16, 32, 32]           2,320\n",
      "             ReLU-69           [-1, 16, 32, 32]               0\n",
      "        MaxPool2d-70           [-1, 16, 16, 16]               0\n",
      "           Conv2d-71           [-1, 32, 16, 16]           4,640\n",
      "             ReLU-72           [-1, 32, 16, 16]               0\n",
      "           Conv2d-73           [-1, 32, 16, 16]           9,248\n",
      "             ReLU-74           [-1, 32, 16, 16]               0\n",
      "        MaxPool2d-75             [-1, 32, 8, 8]               0\n",
      "           Conv2d-76             [-1, 32, 8, 8]           9,248\n",
      "             ReLU-77             [-1, 32, 8, 8]               0\n",
      "           Conv2d-78             [-1, 32, 8, 8]           9,248\n",
      "             ReLU-79             [-1, 32, 8, 8]               0\n",
      "        MaxPool2d-80             [-1, 32, 4, 4]               0\n",
      "           Conv2d-81           [-1, 16, 64, 64]             160\n",
      "             ReLU-82           [-1, 16, 64, 64]               0\n",
      "           Conv2d-83           [-1, 16, 64, 64]           2,320\n",
      "             ReLU-84           [-1, 16, 64, 64]               0\n",
      "        MaxPool2d-85           [-1, 16, 32, 32]               0\n",
      "           Conv2d-86           [-1, 16, 32, 32]           2,320\n",
      "             ReLU-87           [-1, 16, 32, 32]               0\n",
      "           Conv2d-88           [-1, 16, 32, 32]           2,320\n",
      "             ReLU-89           [-1, 16, 32, 32]               0\n",
      "        MaxPool2d-90           [-1, 16, 16, 16]               0\n",
      "           Conv2d-91           [-1, 32, 16, 16]           4,640\n",
      "             ReLU-92           [-1, 32, 16, 16]               0\n",
      "           Conv2d-93           [-1, 32, 16, 16]           9,248\n",
      "             ReLU-94           [-1, 32, 16, 16]               0\n",
      "        MaxPool2d-95             [-1, 32, 8, 8]               0\n",
      "           Conv2d-96             [-1, 32, 8, 8]           9,248\n",
      "             ReLU-97             [-1, 32, 8, 8]               0\n",
      "           Conv2d-98             [-1, 32, 8, 8]           9,248\n",
      "             ReLU-99             [-1, 32, 8, 8]               0\n",
      "       MaxPool2d-100             [-1, 32, 4, 4]               0\n",
      "          Linear-101                 [-1, 1024]       2,622,464\n",
      "          Linear-102                  [-1, 512]         524,800\n",
      "          Linear-103                  [-1, 256]         131,328\n",
      "          Linear-104                  [-1, 512]         131,584\n",
      "          Linear-105                 [-1, 1024]         525,312\n",
      "          Linear-106                 [-1, 2560]       2,624,000\n",
      " ConvTranspose2d-107            [-1, 128, 4, 4]         184,448\n",
      "            ReLU-108            [-1, 128, 4, 4]               0\n",
      " ConvTranspose2d-109             [-1, 32, 4, 4]          36,896\n",
      "            ReLU-110             [-1, 32, 4, 4]               0\n",
      "        Upsample-111             [-1, 32, 8, 8]               0\n",
      " ConvTranspose2d-112             [-1, 32, 8, 8]           9,248\n",
      "            ReLU-113             [-1, 32, 8, 8]               0\n",
      " ConvTranspose2d-114             [-1, 32, 8, 8]           9,248\n",
      "            ReLU-115             [-1, 32, 8, 8]               0\n",
      "        Upsample-116           [-1, 32, 16, 16]               0\n",
      " ConvTranspose2d-117           [-1, 32, 16, 16]           9,248\n",
      "            ReLU-118           [-1, 32, 16, 16]               0\n",
      " ConvTranspose2d-119           [-1, 16, 16, 16]           4,624\n",
      "            ReLU-120           [-1, 16, 16, 16]               0\n",
      "        Upsample-121           [-1, 16, 32, 32]               0\n",
      " ConvTranspose2d-122           [-1, 16, 32, 32]           2,320\n",
      "            ReLU-123           [-1, 16, 32, 32]               0\n",
      " ConvTranspose2d-124           [-1, 16, 32, 32]           2,320\n",
      "            ReLU-125           [-1, 16, 32, 32]               0\n",
      "        Upsample-126           [-1, 16, 64, 64]               0\n",
      " ConvTranspose2d-127           [-1, 16, 64, 64]           2,320\n",
      "            ReLU-128           [-1, 16, 64, 64]               0\n",
      " ConvTranspose2d-129            [-1, 5, 64, 64]             725\n",
      "         Sigmoid-130            [-1, 5, 64, 64]               0\n",
      "================================================================\n",
      "Total params: 7,018,405\n",
      "Trainable params: 7,018,405\n",
      "Non-trainable params: 0\n",
      "----------------------------------------------------------------\n",
      "Input size (MB): 0.08\n",
      "Forward/backward pass size (MB): 17.79\n",
      "Params size (MB): 26.77\n",
      "Estimated Total Size (MB): 44.64\n",
      "----------------------------------------------------------------\n"
     ]
    }
   ],
   "source": [
    "from torchsummary import summary\n",
    "\n",
    "summary(autoencoder.cuda(), (len(selected_channels),64, 64))\n",
    "\n"
   ]
  },
  {
   "cell_type": "code",
   "execution_count": 24,
   "metadata": {},
   "outputs": [],
   "source": [
    "train_transform = transforms.Compose([ \n",
    "        MinMaxScaler(           min_in =  stats[\"lower_bound\"] , \n",
    "                                max_in =  stats[\"upper_bound\"] , \n",
    "                                min_out =  0. , \n",
    "                                max_out =  1.),\n",
    "        transforms.Resize(64),\n",
    "        transforms.RandomHorizontalFlip(),\n",
    "        transforms.RandomVerticalFlip(),\n",
    "        AddGaussianNoise(mean=0., std=0.01),\n",
    "])\n",
    "\n",
    "\n",
    "train_dataset = DatasetGenerator(metadata.loc[train_index.tolist()+\n",
    "                                              sample_unlabeled_index.tolist(),:], \n",
    "                                 reshape_size=reshape_size, \n",
    "                                 scaling_factor = 1.,\n",
    "                                label_map=label_map, \n",
    "                                 transform = train_transform,\n",
    "                                 task=\"autoencoder\",\n",
    "                                selected_channels=selected_channels)"
   ]
  },
  {
   "cell_type": "code",
   "execution_count": 25,
   "metadata": {},
   "outputs": [
    {
     "data": {
      "text/plain": [
       "<matplotlib.image.AxesImage at 0x2aab577ea880>"
      ]
     },
     "execution_count": 25,
     "metadata": {},
     "output_type": "execute_result"
    },
    {
     "data": {
      "image/png": "[encoded data removed]",
      "text/plain": [
       "<Figure size 432x288 with 1 Axes>"
      ]
     },
     "metadata": {
      "needs_background": "light"
     },
     "output_type": "display_data"
    }
   ],
   "source": [
    "plt.imshow(train_dataset[25][1][0,:,:])"
   ]
  },
  {
   "cell_type": "code",
   "execution_count": null,
   "metadata": {},
   "outputs": [],
   "source": []
  },
  {
   "cell_type": "code",
   "execution_count": null,
   "metadata": {},
   "outputs": [],
   "source": []
  },
  {
   "cell_type": "code",
   "execution_count": null,
   "metadata": {},
   "outputs": [],
   "source": []
  },
  {
   "cell_type": "code",
   "execution_count": 26,
   "metadata": {},
   "outputs": [],
   "source": [
    "\n",
    "lr_scheduler = LRScheduler(policy='ReduceLROnPlateau', factor=0.1, patience=10)\n",
    "\n",
    "# checkpoint = Checkpoint(f_params='Autoencoder_multichannel.pth', monitor='train_loss_best')\n",
    "\n",
    " \n",
    "# early_stopping = EarlyStopping(monitor='train_loss', \n",
    "#                                patience=100, \n",
    "#                                threshold=0.0001, \n",
    "#                                threshold_mode='rel', \n",
    "#                                lower_is_better=True)\n",
    "\n",
    "model = NeuralNetClassifier(    \n",
    "    autoencoder, \n",
    "    criterion=nn.MSELoss,\n",
    "    lr=0.001,\n",
    "    batch_size=1024,\n",
    "    max_epochs=200,\n",
    "    optimizer=optim.Adam,\n",
    "    iterator_train__shuffle=True,\n",
    "    iterator_train__num_workers=6,\n",
    "    callbacks=[lr_scheduler],\n",
    "    train_split=None,\n",
    "    device=\"cuda\",\n",
    "    warm_start=True)"
   ]
  },
  {
   "cell_type": "code",
   "execution_count": 27,
   "metadata": {},
   "outputs": [
    {
     "name": "stdout",
     "output_type": "stream",
     "text": [
      "  epoch    train_loss      dur\n",
      "-------  ------------  -------\n",
      "      1        \u001b[36m0.0588\u001b[0m  52.2145\n",
      "      2        \u001b[36m0.0290\u001b[0m  51.9950\n",
      "      3        \u001b[36m0.0263\u001b[0m  52.0793\n",
      "      4        \u001b[36m0.0258\u001b[0m  52.6836\n",
      "      5        \u001b[36m0.0254\u001b[0m  51.9296\n",
      "      6        \u001b[36m0.0219\u001b[0m  51.8035\n",
      "      7        \u001b[36m0.0179\u001b[0m  52.4876\n",
      "      8        \u001b[36m0.0169\u001b[0m  51.7972\n",
      "      9        \u001b[36m0.0153\u001b[0m  51.8013\n",
      "     10        \u001b[36m0.0141\u001b[0m  52.5031\n",
      "     11        \u001b[36m0.0124\u001b[0m  52.6479\n",
      "     12        \u001b[36m0.0115\u001b[0m  52.1865\n",
      "     13        \u001b[36m0.0101\u001b[0m  52.4796\n",
      "     14        \u001b[36m0.0097\u001b[0m  52.5928\n",
      "     15        0.0099  52.1286\n",
      "     16        \u001b[36m0.0084\u001b[0m  51.9725\n",
      "     17        \u001b[36m0.0075\u001b[0m  52.1353\n",
      "     18        \u001b[36m0.0069\u001b[0m  51.9092\n",
      "     19        \u001b[36m0.0067\u001b[0m  52.2774\n",
      "     20        \u001b[36m0.0065\u001b[0m  52.1940\n",
      "     21        \u001b[36m0.0064\u001b[0m  52.9148\n",
      "     22        \u001b[36m0.0062\u001b[0m  51.9606\n",
      "     23        \u001b[36m0.0061\u001b[0m  52.1752\n",
      "     24        0.0061  51.9826\n",
      "     25        \u001b[36m0.0058\u001b[0m  52.4699\n",
      "     26        0.0058  51.9973\n",
      "     27        \u001b[36m0.0056\u001b[0m  52.0986\n",
      "     28        \u001b[36m0.0055\u001b[0m  51.8175\n",
      "     29        \u001b[36m0.0054\u001b[0m  51.9940\n",
      "     30        \u001b[36m0.0054\u001b[0m  52.3501\n",
      "     31        \u001b[36m0.0051\u001b[0m  52.0983\n",
      "     32        \u001b[36m0.0050\u001b[0m  51.7913\n",
      "     33        \u001b[36m0.0049\u001b[0m  52.2356\n",
      "     34        \u001b[36m0.0048\u001b[0m  51.7804\n",
      "     35        \u001b[36m0.0047\u001b[0m  52.1047\n",
      "     36        0.0048  52.4278\n",
      "     37        \u001b[36m0.0046\u001b[0m  52.5999\n",
      "     38        \u001b[36m0.0045\u001b[0m  52.0596\n",
      "     39        \u001b[36m0.0043\u001b[0m  51.7661\n",
      "     40        0.0044  52.7265\n",
      "     41        \u001b[36m0.0043\u001b[0m  52.2196\n",
      "     42        \u001b[36m0.0042\u001b[0m  51.9173\n",
      "     43        \u001b[36m0.0042\u001b[0m  52.1010\n",
      "     44        \u001b[36m0.0041\u001b[0m  52.0951\n",
      "     45        \u001b[36m0.0041\u001b[0m  52.0465\n",
      "     46        \u001b[36m0.0040\u001b[0m  52.0483\n",
      "     47        \u001b[36m0.0040\u001b[0m  52.0375\n",
      "     48        0.0040  52.2035\n",
      "     49        \u001b[36m0.0039\u001b[0m  52.1824\n",
      "     50        \u001b[36m0.0039\u001b[0m  52.1122\n",
      "     51        \u001b[36m0.0038\u001b[0m  51.8750\n",
      "     52        \u001b[36m0.0038\u001b[0m  52.3421\n",
      "     53        0.0038  51.8164\n",
      "     54        \u001b[36m0.0038\u001b[0m  52.2743\n",
      "     55        \u001b[36m0.0037\u001b[0m  52.0294\n",
      "     56        \u001b[36m0.0037\u001b[0m  51.9007\n",
      "     57        \u001b[36m0.0036\u001b[0m  51.9613\n",
      "     58        \u001b[36m0.0036\u001b[0m  52.3233\n",
      "     59        \u001b[36m0.0036\u001b[0m  52.5522\n",
      "     60        \u001b[36m0.0036\u001b[0m  52.4817\n",
      "     61        0.0036  51.8862\n",
      "     62        \u001b[36m0.0036\u001b[0m  51.8419\n",
      "     63        \u001b[36m0.0036\u001b[0m  51.9042\n",
      "     64        \u001b[36m0.0035\u001b[0m  52.0377\n",
      "     65        0.0035  52.4733\n",
      "     66        \u001b[36m0.0035\u001b[0m  52.7761\n",
      "     67        0.0035  52.0526\n",
      "     68        \u001b[36m0.0035\u001b[0m  52.1668\n",
      "     69        0.0035  52.1227\n",
      "     70        0.0035  52.2290\n",
      "     71        0.0035  52.4496\n",
      "     72        \u001b[36m0.0034\u001b[0m  51.9409\n",
      "     73        0.0034  52.6201\n",
      "     74        0.0034  52.3857\n",
      "     75        \u001b[36m0.0034\u001b[0m  51.6680\n",
      "     76        \u001b[36m0.0034\u001b[0m  52.0668\n",
      "     77        0.0034  52.6918\n",
      "     78        0.0034  52.0924\n",
      "     79        0.0034  51.9888\n",
      "     80        0.0034  52.2254\n",
      "     81        \u001b[36m0.0033\u001b[0m  51.8170\n",
      "     82        0.0034  51.8830\n",
      "     83        \u001b[36m0.0033\u001b[0m  52.1553\n",
      "     84        \u001b[36m0.0033\u001b[0m  52.1255\n",
      "     85        0.0033  52.4279\n",
      "     86        \u001b[36m0.0033\u001b[0m  52.2413\n",
      "     87        \u001b[36m0.0033\u001b[0m  52.0102\n",
      "     88        0.0033  51.7663\n",
      "     89        0.0033  52.2848\n",
      "     90        \u001b[36m0.0032\u001b[0m  51.9750\n",
      "     91        0.0033  52.0614\n",
      "     92        0.0033  52.1572\n",
      "     93        0.0033  52.3523\n",
      "     94        \u001b[36m0.0032\u001b[0m  52.2467\n",
      "     95        0.0033  52.5465\n",
      "     96        \u001b[36m0.0032\u001b[0m  52.0409\n",
      "     97        0.0032  52.4954\n",
      "     98        \u001b[36m0.0032\u001b[0m  51.8106\n",
      "     99        \u001b[36m0.0031\u001b[0m  52.2140\n",
      "    100        0.0032  51.8466\n",
      "    101        \u001b[36m0.0031\u001b[0m  51.6228\n",
      "    102        \u001b[36m0.0031\u001b[0m  52.7588\n",
      "    103        \u001b[36m0.0030\u001b[0m  52.2142\n",
      "    104        \u001b[36m0.0030\u001b[0m  52.0860\n",
      "    105        0.0030  52.3612\n",
      "    106        \u001b[36m0.0029\u001b[0m  52.2398\n",
      "    107        \u001b[36m0.0029\u001b[0m  52.1984\n",
      "    108        \u001b[36m0.0029\u001b[0m  52.1126\n",
      "    109        0.0029  52.1721\n",
      "    110        0.0029  52.5701\n",
      "    111        \u001b[36m0.0029\u001b[0m  51.9185\n",
      "    112        0.0029  52.2214\n",
      "    113        0.0029  52.1153\n",
      "    114        \u001b[36m0.0028\u001b[0m  52.4238\n",
      "    115        0.0029  52.5113\n",
      "    116        \u001b[36m0.0028\u001b[0m  52.0072\n",
      "    117        0.0029  51.8728\n",
      "    118        \u001b[36m0.0028\u001b[0m  52.8115\n",
      "    119        0.0028  52.3157\n",
      "    120        0.0028  52.1272\n",
      "    121        0.0028  51.8105\n",
      "    122        \u001b[36m0.0027\u001b[0m  52.6630\n",
      "    123        0.0028  52.1612\n",
      "    124        0.0028  52.0840\n",
      "    125        \u001b[36m0.0027\u001b[0m  52.1627\n",
      "    126        0.0028  52.1233\n",
      "    127        0.0027  52.0220\n",
      "    128        \u001b[36m0.0027\u001b[0m  52.0548\n",
      "    129        \u001b[36m0.0027\u001b[0m  52.0914\n",
      "    130        \u001b[36m0.0027\u001b[0m  52.2949\n",
      "    131        \u001b[36m0.0027\u001b[0m  52.0866\n",
      "    132        0.0027  52.1166\n",
      "    133        \u001b[36m0.0027\u001b[0m  51.8095\n",
      "    134        \u001b[36m0.0027\u001b[0m  52.2051\n",
      "    135        \u001b[36m0.0027\u001b[0m  52.2137\n",
      "    136        0.0027  52.1085\n",
      "    137        \u001b[36m0.0027\u001b[0m  52.9193\n",
      "    138        0.0027  52.2296\n",
      "    139        \u001b[36m0.0026\u001b[0m  51.9785\n",
      "    140        0.0027  52.5632\n",
      "    141        0.0026  52.7532\n",
      "    142        \u001b[36m0.0026\u001b[0m  52.3295\n",
      "    143        0.0027  52.4999\n",
      "    144        \u001b[36m0.0026\u001b[0m  52.2958\n",
      "    145        0.0027  52.2214\n",
      "    146        \u001b[36m0.0026\u001b[0m  52.2850\n",
      "    147        0.0027  52.1441\n",
      "    148        \u001b[36m0.0026\u001b[0m  52.0299\n",
      "    149        0.0026  52.3366\n",
      "    150        0.0026  52.5677\n",
      "    151        \u001b[36m0.0026\u001b[0m  52.0741\n",
      "    152        0.0026  52.6105\n",
      "    153        \u001b[36m0.0026\u001b[0m  52.1418\n",
      "    154        \u001b[36m0.0025\u001b[0m  52.5081\n",
      "    155        0.0026  51.9186\n",
      "    156        0.0025  52.4302\n",
      "    157        0.0026  52.6872\n",
      "    158        0.0026  52.5179\n",
      "    159        0.0027  52.4307\n",
      "    160        \u001b[36m0.0025\u001b[0m  52.5288\n",
      "    161        0.0025  51.8572\n",
      "    162        \u001b[36m0.0025\u001b[0m  52.3095\n",
      "    163        \u001b[36m0.0025\u001b[0m  52.7039\n",
      "    164        0.0026  52.2551\n",
      "    165        0.0026  52.2079\n",
      "    166        0.0025  52.4913\n",
      "    167        \u001b[36m0.0025\u001b[0m  52.3758\n",
      "    168        0.0025  52.1175\n",
      "    169        0.0025  52.2746\n",
      "    170        0.0025  52.6238\n",
      "    171        0.0025  52.1588\n",
      "    172        \u001b[36m0.0025\u001b[0m  52.3181\n",
      "    173        0.0025  52.4666\n",
      "    174        \u001b[36m0.0025\u001b[0m  51.9651\n",
      "    175        \u001b[36m0.0025\u001b[0m  51.9847\n",
      "    176        0.0025  52.3651\n",
      "    177        0.0025  52.0828\n",
      "    178        0.0025  52.1813\n",
      "    179        0.0025  52.0286\n",
      "    180        0.0025  52.2116\n",
      "    181        \u001b[36m0.0024\u001b[0m  52.6307\n",
      "    182        0.0024  52.0786\n",
      "    183        \u001b[36m0.0024\u001b[0m  51.8824\n",
      "    184        0.0026  52.4317\n",
      "    185        0.0024  52.1186\n",
      "    186        \u001b[36m0.0024\u001b[0m  52.1438\n",
      "    187        \u001b[36m0.0024\u001b[0m  52.4083\n",
      "    188        0.0024  51.9449\n",
      "    189        0.0025  52.4954\n",
      "    190        \u001b[36m0.0024\u001b[0m  52.7324\n",
      "    191        0.0024  52.2705\n",
      "    192        0.0024  52.2883\n",
      "    193        0.0024  52.1844\n",
      "    194        0.0024  52.5850\n",
      "    195        0.0025  52.4133\n",
      "    196        \u001b[36m0.0023\u001b[0m  52.0985\n",
      "    197        0.0024  52.2285\n",
      "    198        0.0024  52.2237\n",
      "    199        0.0024  52.4813\n",
      "    200        \u001b[36m0.0023\u001b[0m  52.1051\n"
     ]
    }
   ],
   "source": [
    "model = model.fit(train_dataset, y = None)"
   ]
  },
  {
   "cell_type": "code",
   "execution_count": null,
   "metadata": {},
   "outputs": [],
   "source": []
  },
  {
   "cell_type": "code",
   "execution_count": 28,
   "metadata": {},
   "outputs": [],
   "source": [
    "image = train_dataset[1000][0]\n",
    "\n",
    "\n"
   ]
  },
  {
   "cell_type": "code",
   "execution_count": 29,
   "metadata": {},
   "outputs": [
    {
     "data": {
      "text/plain": [
       "<matplotlib.image.AxesImage at 0x2aab57739b80>"
      ]
     },
     "execution_count": 29,
     "metadata": {},
     "output_type": "execute_result"
    },
    {
     "data": {
      "image/png": "[encoded data removed]",
      "text/plain": [
       "<Figure size 432x288 with 1 Axes>"
      ]
     },
     "metadata": {
      "needs_background": "light"
     },
     "output_type": "display_data"
    }
   ],
   "source": [
    "plt.imshow(image[0,:,:])"
   ]
  },
  {
   "cell_type": "code",
   "execution_count": null,
   "metadata": {},
   "outputs": [],
   "source": []
  },
  {
   "cell_type": "code",
   "execution_count": null,
   "metadata": {},
   "outputs": [],
   "source": []
  },
  {
   "cell_type": "code",
   "execution_count": 30,
   "metadata": {},
   "outputs": [
    {
     "data": {
      "text/plain": [
       "<matplotlib.image.AxesImage at 0x2aab5a8bd250>"
      ]
     },
     "execution_count": 30,
     "metadata": {},
     "output_type": "execute_result"
    },
    {
     "data": {
      "image/png": "[encoded data removed]",
      "text/plain": [
       "<Figure size 432x288 with 1 Axes>"
      ]
     },
     "metadata": {
      "needs_background": "light"
     },
     "output_type": "display_data"
    }
   ],
   "source": [
    "plt.imshow(model.module.forward(torch.unsqueeze(image.cuda() , dim = 0) ).detach().cpu()[0,0,:,:])"
   ]
  },
  {
   "cell_type": "code",
   "execution_count": null,
   "metadata": {},
   "outputs": [],
   "source": []
  },
  {
   "cell_type": "code",
   "execution_count": null,
   "metadata": {},
   "outputs": [],
   "source": []
  },
  {
   "cell_type": "code",
   "execution_count": 31,
   "metadata": {},
   "outputs": [
    {
     "data": {
      "text/html": [
       "<div>\n",
       "<style scoped>\n",
       "    .dataframe tbody tr th:only-of-type {\n",
       "        vertical-align: middle;\n",
       "    }\n",
       "\n",
       "    .dataframe tbody tr th {\n",
       "        vertical-align: top;\n",
       "    }\n",
       "\n",
       "    .dataframe thead th {\n",
       "        text-align: right;\n",
       "    }\n",
       "</style>\n",
       "<table border=\"1\" class=\"dataframe\">\n",
       "  <thead>\n",
       "    <tr style=\"text-align: right;\">\n",
       "      <th></th>\n",
       "      <th>file</th>\n",
       "      <th>experiment</th>\n",
       "      <th>donor</th>\n",
       "      <th>condition</th>\n",
       "      <th>object_number</th>\n",
       "      <th>set</th>\n",
       "      <th>label</th>\n",
       "    </tr>\n",
       "  </thead>\n",
       "  <tbody>\n",
       "    <tr>\n",
       "      <th>25</th>\n",
       "      <td>/pstore/data/DS4/synapse_formation_full_data/E...</td>\n",
       "      <td>Experiment_1</td>\n",
       "      <td>Donor_1</td>\n",
       "      <td>+SEA</td>\n",
       "      <td>4147</td>\n",
       "      <td>train</td>\n",
       "      <td>B_cell</td>\n",
       "    </tr>\n",
       "    <tr>\n",
       "      <th>38</th>\n",
       "      <td>/pstore/data/DS4/synapse_formation_full_data/E...</td>\n",
       "      <td>Experiment_1</td>\n",
       "      <td>Donor_1</td>\n",
       "      <td>+SEA</td>\n",
       "      <td>57117</td>\n",
       "      <td>train</td>\n",
       "      <td>B_T_cell_in_one_layer</td>\n",
       "    </tr>\n",
       "    <tr>\n",
       "      <th>107</th>\n",
       "      <td>/pstore/data/DS4/synapse_formation_full_data/E...</td>\n",
       "      <td>Experiment_1</td>\n",
       "      <td>Donor_1</td>\n",
       "      <td>+SEA</td>\n",
       "      <td>30947</td>\n",
       "      <td>train</td>\n",
       "      <td>Multiplets</td>\n",
       "    </tr>\n",
       "    <tr>\n",
       "      <th>151</th>\n",
       "      <td>/pstore/data/DS4/synapse_formation_full_data/E...</td>\n",
       "      <td>Experiment_1</td>\n",
       "      <td>Donor_1</td>\n",
       "      <td>+SEA</td>\n",
       "      <td>38634</td>\n",
       "      <td>train</td>\n",
       "      <td>B_cell</td>\n",
       "    </tr>\n",
       "    <tr>\n",
       "      <th>177</th>\n",
       "      <td>/pstore/data/DS4/synapse_formation_full_data/E...</td>\n",
       "      <td>Experiment_1</td>\n",
       "      <td>Donor_1</td>\n",
       "      <td>+SEA</td>\n",
       "      <td>16268</td>\n",
       "      <td>train</td>\n",
       "      <td>B_cell</td>\n",
       "    </tr>\n",
       "    <tr>\n",
       "      <th>...</th>\n",
       "      <td>...</td>\n",
       "      <td>...</td>\n",
       "      <td>...</td>\n",
       "      <td>...</td>\n",
       "      <td>...</td>\n",
       "      <td>...</td>\n",
       "      <td>...</td>\n",
       "    </tr>\n",
       "    <tr>\n",
       "      <th>423746</th>\n",
       "      <td>/pstore/data/DS4/synapse_formation_full_data/E...</td>\n",
       "      <td>Experiment_4</td>\n",
       "      <td>Donor_9</td>\n",
       "      <td>-SEA</td>\n",
       "      <td>11937</td>\n",
       "      <td>validation</td>\n",
       "      <td>T_cell</td>\n",
       "    </tr>\n",
       "    <tr>\n",
       "      <th>423951</th>\n",
       "      <td>/pstore/data/DS4/synapse_formation_full_data/E...</td>\n",
       "      <td>Experiment_4</td>\n",
       "      <td>Donor_9</td>\n",
       "      <td>-SEA</td>\n",
       "      <td>22506</td>\n",
       "      <td>validation</td>\n",
       "      <td>T_cell_with_signaling</td>\n",
       "    </tr>\n",
       "    <tr>\n",
       "      <th>424277</th>\n",
       "      <td>/pstore/data/DS4/synapse_formation_full_data/E...</td>\n",
       "      <td>Experiment_4</td>\n",
       "      <td>Donor_9</td>\n",
       "      <td>-SEA</td>\n",
       "      <td>61307</td>\n",
       "      <td>validation</td>\n",
       "      <td>B_T_cell_in_one_layer</td>\n",
       "    </tr>\n",
       "    <tr>\n",
       "      <th>424385</th>\n",
       "      <td>/pstore/data/DS4/synapse_formation_full_data/E...</td>\n",
       "      <td>Experiment_4</td>\n",
       "      <td>Donor_9</td>\n",
       "      <td>-SEA</td>\n",
       "      <td>20652</td>\n",
       "      <td>validation</td>\n",
       "      <td>T_cell_with_signaling</td>\n",
       "    </tr>\n",
       "    <tr>\n",
       "      <th>425164</th>\n",
       "      <td>/pstore/data/DS4/synapse_formation_full_data/E...</td>\n",
       "      <td>Experiment_4</td>\n",
       "      <td>Donor_9</td>\n",
       "      <td>-SEA</td>\n",
       "      <td>28850</td>\n",
       "      <td>validation</td>\n",
       "      <td>No_cell_cell_interaction</td>\n",
       "    </tr>\n",
       "  </tbody>\n",
       "</table>\n",
       "<p>3654 rows × 7 columns</p>\n",
       "</div>"
      ],
      "text/plain": [
       "                                                     file    experiment  \\\n",
       "25      /pstore/data/DS4/synapse_formation_full_data/E...  Experiment_1   \n",
       "38      /pstore/data/DS4/synapse_formation_full_data/E...  Experiment_1   \n",
       "107     /pstore/data/DS4/synapse_formation_full_data/E...  Experiment_1   \n",
       "151     /pstore/data/DS4/synapse_formation_full_data/E...  Experiment_1   \n",
       "177     /pstore/data/DS4/synapse_formation_full_data/E...  Experiment_1   \n",
       "...                                                   ...           ...   \n",
       "423746  /pstore/data/DS4/synapse_formation_full_data/E...  Experiment_4   \n",
       "423951  /pstore/data/DS4/synapse_formation_full_data/E...  Experiment_4   \n",
       "424277  /pstore/data/DS4/synapse_formation_full_data/E...  Experiment_4   \n",
       "424385  /pstore/data/DS4/synapse_formation_full_data/E...  Experiment_4   \n",
       "425164  /pstore/data/DS4/synapse_formation_full_data/E...  Experiment_4   \n",
       "\n",
       "          donor condition  object_number         set                     label  \n",
       "25      Donor_1      +SEA           4147       train                    B_cell  \n",
       "38      Donor_1      +SEA          57117       train     B_T_cell_in_one_layer  \n",
       "107     Donor_1      +SEA          30947       train                Multiplets  \n",
       "151     Donor_1      +SEA          38634       train                    B_cell  \n",
       "177     Donor_1      +SEA          16268       train                    B_cell  \n",
       "...         ...       ...            ...         ...                       ...  \n",
       "423746  Donor_9      -SEA          11937  validation                    T_cell  \n",
       "423951  Donor_9      -SEA          22506  validation     T_cell_with_signaling  \n",
       "424277  Donor_9      -SEA          61307  validation     B_T_cell_in_one_layer  \n",
       "424385  Donor_9      -SEA          20652  validation     T_cell_with_signaling  \n",
       "425164  Donor_9      -SEA          28850  validation  No_cell_cell_interaction  \n",
       "\n",
       "[3654 rows x 7 columns]"
      ]
     },
     "execution_count": 31,
     "metadata": {},
     "output_type": "execute_result"
    }
   ],
   "source": [
    "metadata.loc[train_index.tolist()+validation_index.tolist(),:]"
   ]
  },
  {
   "cell_type": "code",
   "execution_count": 32,
   "metadata": {},
   "outputs": [],
   "source": [
    "train_transform = transforms.Compose([ \n",
    "        MinMaxScaler(           min_in =  stats[\"lower_bound\"] , \n",
    "                                max_in =  stats[\"upper_bound\"] , \n",
    "                                min_out =  0. , \n",
    "                                max_out =  1.),\n",
    "        transforms.Resize(64)\n",
    "])\n",
    "\n",
    "\n",
    "test_transforms =  transforms.Compose([ \n",
    "        MinMaxScaler(           min_in =  stats[\"lower_bound\"] , \n",
    "                                max_in =  stats[\"upper_bound\"] , \n",
    "                                min_out =  0. , \n",
    "                                max_out =  1.),\n",
    "        transforms.Resize(64)\n",
    "])\n"
   ]
  },
  {
   "cell_type": "code",
   "execution_count": 33,
   "metadata": {},
   "outputs": [],
   "source": [
    "train_dataset = DatasetGenerator(metadata.loc[train_index.tolist()+validation_index.tolist(),:], \n",
    "                                 reshape_size=reshape_size, \n",
    "                                label_map=label_map, \n",
    "                                 scaling_factor = 1.,\n",
    "                                 transform = test_transforms, \n",
    "                                selected_channels=selected_channels)\n",
    "\n",
    "test_dataset = DatasetGenerator(metadata.loc[test_index.tolist(),:],\n",
    "                                 reshape_size=reshape_size, \n",
    "                                label_map=label_map,\n",
    "                                 scaling_factor = 1.,\n",
    "                                transform=test_transforms, \n",
    "                                selected_channels=selected_channels)"
   ]
  },
  {
   "cell_type": "code",
   "execution_count": 34,
   "metadata": {},
   "outputs": [
    {
     "name": "stderr",
     "output_type": "stream",
     "text": [
      "100%|██████████| 3654/3654 [00:48<00:00, 76.01it/s]\n"
     ]
    }
   ],
   "source": [
    "X_train = []\n",
    "y_train = []\n",
    "\n",
    "for i in tqdm(range(len(train_dataset))):\n",
    "    X_train.append( model.module.feature_extraction(torch.unsqueeze(train_dataset[i][0].cuda() , dim = 0) ).detach().cpu().flatten().numpy()  )\n",
    "    y_train.append(train_dataset[i][1].detach().cpu().numpy()  )"
   ]
  },
  {
   "cell_type": "code",
   "execution_count": 35,
   "metadata": {},
   "outputs": [
    {
     "name": "stderr",
     "output_type": "stream",
     "text": [
      "100%|██████████| 1567/1567 [00:34<00:00, 45.82it/s]\n"
     ]
    }
   ],
   "source": [
    "X_test = []\n",
    "y_test = []\n",
    "\n",
    "for i in tqdm(range(len(test_dataset))):\n",
    "    try:\n",
    "        X_test.append( model.module.feature_extraction(torch.unsqueeze(test_dataset[i][0].cuda() , dim = 0) ).detach().cpu().flatten().numpy() )\n",
    "        y_test.append(test_dataset[i][1].detach().cpu()  )\n",
    "    except RuntimeError:\n",
    "        print(i).numpy()"
   ]
  },
  {
   "cell_type": "code",
   "execution_count": 36,
   "metadata": {},
   "outputs": [
    {
     "data": {
      "text/plain": [
       "(3654, 256)"
      ]
     },
     "execution_count": 36,
     "metadata": {},
     "output_type": "execute_result"
    }
   ],
   "source": [
    "np.array(X_train).shape"
   ]
  },
  {
   "cell_type": "code",
   "execution_count": null,
   "metadata": {},
   "outputs": [],
   "source": []
  },
  {
   "cell_type": "code",
   "execution_count": 37,
   "metadata": {},
   "outputs": [
    {
     "name": "stdout",
     "output_type": "stream",
     "text": [
      "[Pipeline] .... (step 1 of 2) Processing StandardScaler, total=   0.0s\n",
      "[Pipeline]  (step 2 of 2) Processing LogisticRegression, total=   0.5s\n"
     ]
    },
    {
     "name": "stderr",
     "output_type": "stream",
     "text": [
      "/pstore/home/shetabs1/.local/lib/python3.8/site-packages/sklearn/linear_model/_logistic.py:763: ConvergenceWarning: lbfgs failed to converge (status=1):\n",
      "STOP: TOTAL NO. of ITERATIONS REACHED LIMIT.\n",
      "\n",
      "Increase the number of iterations (max_iter) or scale the data as shown in:\n",
      "    https://scikit-learn.org/stable/modules/preprocessing.html\n",
      "Please also refer to the documentation for alternative solver options:\n",
      "    https://scikit-learn.org/stable/modules/linear_model.html#logistic-regression\n",
      "  n_iter_i = _check_optimize_result(\n"
     ]
    },
    {
     "data": {
      "text/plain": [
       "Pipeline(steps=[('StandardScaler', StandardScaler()),\n",
       "                ('LogisticRegression', LogisticRegression())],\n",
       "         verbose=True)"
      ]
     },
     "execution_count": 37,
     "metadata": {},
     "output_type": "execute_result"
    }
   ],
   "source": [
    "from sklearn.pipeline import Pipeline\n",
    "from sklearn.neighbors import KNeighborsClassifier\n",
    "from sklearn.ensemble import RandomForestClassifier\n",
    "from sklearn.linear_model import LogisticRegression, LogisticRegressionCV\n",
    "from sklearn.svm import SVC\n",
    "from sklearn.neighbors import KNeighborsClassifier\n",
    "\n",
    "from xgboost import XGBClassifier\n",
    "\n",
    "lr = Pipeline([\n",
    "                 ('StandardScaler', StandardScaler()), \n",
    "                 ('LogisticRegression', LogisticRegression() )\n",
    "], verbose=True)\n",
    "\n",
    "lr.fit(X_train ,y_train)\n",
    "\n"
   ]
  },
  {
   "cell_type": "code",
   "execution_count": 38,
   "metadata": {},
   "outputs": [
    {
     "name": "stdout",
     "output_type": "stream",
     "text": [
      "              precision    recall  f1-score   support\n",
      "\n",
      "           0       0.98      1.00      0.99       445\n",
      "           1       0.83      0.88      0.85       465\n",
      "           2       0.80      0.77      0.79       347\n",
      "           3       0.90      0.90      0.90       438\n",
      "           4       0.88      0.84      0.86       372\n",
      "           5       0.68      0.64      0.66       346\n",
      "           6       0.76      0.77      0.76       465\n",
      "           7       0.89      0.92      0.90       419\n",
      "           8       0.93      0.92      0.93       357\n",
      "\n",
      "    accuracy                           0.85      3654\n",
      "   macro avg       0.85      0.85      0.85      3654\n",
      "weighted avg       0.85      0.85      0.85      3654\n",
      "\n",
      "------------------------------------------------------------\n",
      "matthews correlation coeff: 0.8353\n",
      "Cohen Kappa score: 0.8352\n",
      "Accuracy: 0.8539 & balanced Accuracy: 0.8486\n",
      "macro F1 score: 0.8493 & micro F1 score: 0.8539\n",
      "macro Precision score: 0.8505 & micro Precision score: 0.8539\n",
      "macro Recall score: 0.8486 & micro Recall score: 0.8539\n"
     ]
    },
    {
     "data": {
      "image/png": "[encoded data removed]",
      "text/plain": [
       "<Figure size 432x288 with 2 Axes>"
      ]
     },
     "metadata": {
      "needs_background": "light"
     },
     "output_type": "display_data"
    },
    {
     "name": "stdout",
     "output_type": "stream",
     "text": [
      "------------------------------------------------------------\n"
     ]
    }
   ],
   "source": [
    "y_pred = lr.predict(np.array(X_train) )\n",
    "\n",
    "classification_complete_report(y_train, y_pred )"
   ]
  },
  {
   "cell_type": "code",
   "execution_count": 39,
   "metadata": {},
   "outputs": [
    {
     "name": "stdout",
     "output_type": "stream",
     "text": [
      "              precision    recall  f1-score   support\n",
      "\n",
      "           0       0.96      0.98      0.97       190\n",
      "           1       0.78      0.84      0.81       200\n",
      "           2       0.73      0.66      0.69       148\n",
      "           3       0.84      0.84      0.84       189\n",
      "           4       0.76      0.81      0.79       161\n",
      "           5       0.55      0.54      0.55       147\n",
      "           6       0.71      0.71      0.71       196\n",
      "           7       0.89      0.84      0.86       182\n",
      "           8       0.90      0.86      0.88       154\n",
      "\n",
      "    accuracy                           0.80      1567\n",
      "   macro avg       0.79      0.79      0.79      1567\n",
      "weighted avg       0.80      0.80      0.79      1567\n",
      "\n",
      "------------------------------------------------------------\n",
      "matthews correlation coeff: 0.7692\n",
      "Cohen Kappa score: 0.7691\n",
      "Accuracy: 0.7951 & balanced Accuracy: 0.7873\n",
      "macro F1 score: 0.7881 & micro F1 score: 0.7951\n",
      "macro Precision score: 0.7903 & micro Precision score: 0.7951\n",
      "macro Recall score: 0.7873 & micro Recall score: 0.7951\n"
     ]
    },
    {
     "data": {
      "image/png": "[encoded data removed]",
      "text/plain": [
       "<Figure size 432x288 with 2 Axes>"
      ]
     },
     "metadata": {
      "needs_background": "light"
     },
     "output_type": "display_data"
    },
    {
     "name": "stdout",
     "output_type": "stream",
     "text": [
      "------------------------------------------------------------\n"
     ]
    }
   ],
   "source": [
    "y_pred = lr.predict(np.array(X_test) )\n",
    "\n",
    "classification_complete_report(y_test, y_pred )"
   ]
  },
  {
   "cell_type": "code",
   "execution_count": 44,
   "metadata": {},
   "outputs": [],
   "source": [
    "preds = pd.Series(y_pred).to_csv(\"ae_preds.csv\")"
   ]
  },
  {
   "cell_type": "code",
   "execution_count": null,
   "metadata": {},
   "outputs": [],
   "source": []
  },
  {
   "cell_type": "code",
   "execution_count": null,
   "metadata": {},
   "outputs": [],
   "source": []
  },
  {
   "cell_type": "code",
   "execution_count": null,
   "metadata": {},
   "outputs": [],
   "source": []
  },
  {
   "cell_type": "code",
   "execution_count": null,
   "metadata": {},
   "outputs": [],
   "source": []
  }
 ],
 "metadata": {
  "kernelspec": {
   "display_name": "py310",
   "language": "python",
   "name": "py310"
  },
  "language_info": {
   "codemirror_mode": {
    "name": "ipython",
    "version": 3
   },
   "file_extension": ".py",
   "mimetype": "text/x-python",
   "name": "python",
   "nbconvert_exporter": "python",
   "pygments_lexer": "ipython3",
   "version": "3.8.3"
  }
 },
 "nbformat": 4,
 "nbformat_minor": 4
}
