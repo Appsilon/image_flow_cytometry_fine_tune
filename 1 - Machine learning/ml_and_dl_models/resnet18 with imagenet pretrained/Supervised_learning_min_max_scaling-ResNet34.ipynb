{
 "cells": [
  {
   "cell_type": "code",
   "execution_count": 1,
   "metadata": {},
   "outputs": [],
   "source": [
    "#!pip -q install /pstore/home/shetabs1/code/iflai/"
   ]
  },
  {
   "cell_type": "code",
   "execution_count": null,
   "metadata": {},
   "outputs": [],
   "source": []
  },
  {
   "cell_type": "code",
   "execution_count": 2,
   "metadata": {},
   "outputs": [],
   "source": [
    "import pandas as pd\n",
    "import matplotlib.pyplot as plt\n",
    "import seaborn as sns\n",
    "import numpy as np\n",
    "import skorch\n",
    "import torch\n",
    "from skorch import NeuralNetClassifier\n",
    "from tqdm import tqdm\n",
    "from torchvision import transforms\n",
    "import torch.nn as nn\n",
    "from scipy.stats import entropy\n",
    "import random\n",
    "import h5py\n",
    "from sklearn.cluster import KMeans\n",
    "from sklearn.preprocessing import MinMaxScaler, StandardScaler\n",
    "from sklearn.cluster import FeatureAgglomeration"
   ]
  },
  {
   "cell_type": "code",
   "execution_count": 3,
   "metadata": {},
   "outputs": [],
   "source": [
    "from scifAI.dl.utils import train_validation_test_split\n",
    "from scifAI.dl.dataset import DatasetGenerator\n",
    "from scifAI.dl.utils import get_statistics"
   ]
  },
  {
   "cell_type": "code",
   "execution_count": 4,
   "metadata": {},
   "outputs": [],
   "source": [
    "from scifAI.dl.models import PretrainedModel\n",
    "from skorch.callbacks import LRScheduler,Checkpoint,EpochScoring,EarlyStopping\n",
    "import torch.optim as optim\n",
    "from skorch.helper import predefined_split"
   ]
  },
  {
   "cell_type": "code",
   "execution_count": 5,
   "metadata": {},
   "outputs": [],
   "source": [
    "\n",
    "\n",
    "# Compare Algorithms\n",
    "import matplotlib.pyplot as plt\n",
    "from sklearn import preprocessing\n",
    "from sklearn.model_selection import train_test_split\n",
    "from sklearn import model_selection\n",
    "from sklearn.linear_model import LogisticRegression\n",
    "from sklearn.tree import DecisionTreeClassifier\n",
    "from sklearn.neighbors import KNeighborsClassifier\n",
    "from sklearn.discriminant_analysis import LinearDiscriminantAnalysis\n",
    "from sklearn.naive_bayes import GaussianNB\n",
    "from sklearn.svm import SVC\n",
    "from sklearn.ensemble import RandomForestClassifier\n",
    "from sklearn.ensemble import GradientBoostingClassifier\n",
    "from sklearn.preprocessing import MinMaxScaler, StandardScaler\n",
    "from sklearn.linear_model import SGDClassifier\n",
    "from sklearn.semi_supervised import LabelPropagation\n",
    "from sklearn.ensemble import GradientBoostingClassifier\n",
    "from sklearn.discriminant_analysis import LinearDiscriminantAnalysis\n",
    "from sklearn.ensemble import VotingClassifier\n",
    "from sklearn.ensemble import GradientBoostingClassifier\n",
    "from sklearn.neural_network import MLPClassifier\n",
    "from xgboost import XGBClassifier"
   ]
  },
  {
   "cell_type": "code",
   "execution_count": 6,
   "metadata": {},
   "outputs": [],
   "source": [
    "from sklearn.random_projection import GaussianRandomProjection"
   ]
  },
  {
   "cell_type": "code",
   "execution_count": 7,
   "metadata": {},
   "outputs": [],
   "source": [
    "from sklearn.metrics import plot_confusion_matrix, matthews_corrcoef, classification_report,confusion_matrix, accuracy_score, balanced_accuracy_score, cohen_kappa_score, f1_score,  precision_score, recall_score\n",
    "from statsmodels.stats.contingency_tables import mcnemar\n",
    "from sklearn.metrics import confusion_matrix,ConfusionMatrixDisplay\n",
    "\n",
    "\n",
    "def classification_complete_report(y_true, y_pred ,labels = None  ): \n",
    "    print(classification_report(y_true, y_pred, labels = labels))\n",
    "    print(15*\"----\")\n",
    "    print(\"matthews correlation coeff: %.4f\" % (matthews_corrcoef(y_true, y_pred)) )\n",
    "    print(\"Cohen Kappa score: %.4f\" % (cohen_kappa_score(y_true, y_pred)) )\n",
    "    print(\"Accuracy: %.4f & balanced Accuracy: %.4f\" % (accuracy_score(y_true, y_pred), balanced_accuracy_score(y_true, y_pred)) )\n",
    "    print(\"macro F1 score: %.4f & micro F1 score: %.4f\" % (f1_score(y_true, y_pred, average = \"macro\"), f1_score(y_true, y_pred, average = \"micro\")) )\n",
    "    print(\"macro Precision score: %.4f & micro Precision score: %.4f\" % (precision_score(y_true, y_pred, average = \"macro\"), precision_score(y_true, y_pred, average = \"micro\")) )\n",
    "    print(\"macro Recall score: %.4f & micro Recall score: %.4f\" % (recall_score(y_true, y_pred, average = \"macro\"), recall_score(y_true, y_pred, average = \"micro\")) )\n",
    "    cm = confusion_matrix(y_true, y_pred,labels= labels)\n",
    "    disp = ConfusionMatrixDisplay(confusion_matrix=cm, display_labels=labels)\n",
    "    disp.plot(cmap=plt.cm.Blues)\n",
    "    plt.show()\n",
    "    print(15*\"----\")"
   ]
  },
  {
   "cell_type": "code",
   "execution_count": 8,
   "metadata": {},
   "outputs": [
    {
     "name": "stderr",
     "output_type": "stream",
     "text": [
      "/pstore/apps/Python/3.8.3-2020.07/lib/python3.8/site-packages/IPython/core/interactiveshell.py:3071: DtypeWarning: Columns (6) have mixed types.Specify dtype option on import or set low_memory=False.\n",
      "  has_raised = await self.run_ast_nodes(code_ast.body, cell_name,\n"
     ]
    },
    {
     "data": {
      "text/html": [
       "<div>\n",
       "<style scoped>\n",
       "    .dataframe tbody tr th:only-of-type {\n",
       "        vertical-align: middle;\n",
       "    }\n",
       "\n",
       "    .dataframe tbody tr th {\n",
       "        vertical-align: top;\n",
       "    }\n",
       "\n",
       "    .dataframe thead th {\n",
       "        text-align: right;\n",
       "    }\n",
       "</style>\n",
       "<table border=\"1\" class=\"dataframe\">\n",
       "  <thead>\n",
       "    <tr style=\"text-align: right;\">\n",
       "      <th></th>\n",
       "      <th>file</th>\n",
       "      <th>experiment</th>\n",
       "      <th>donor</th>\n",
       "      <th>condition</th>\n",
       "      <th>object_number</th>\n",
       "      <th>set</th>\n",
       "      <th>label</th>\n",
       "    </tr>\n",
       "  </thead>\n",
       "  <tbody>\n",
       "    <tr>\n",
       "      <th>0</th>\n",
       "      <td>/pstore/data/DS4/synapse_formation_full_data/E...</td>\n",
       "      <td>Experiment_1</td>\n",
       "      <td>Donor_1</td>\n",
       "      <td>+SEA</td>\n",
       "      <td>5156</td>\n",
       "      <td>unlabeled</td>\n",
       "      <td>-1</td>\n",
       "    </tr>\n",
       "    <tr>\n",
       "      <th>1</th>\n",
       "      <td>/pstore/data/DS4/synapse_formation_full_data/E...</td>\n",
       "      <td>Experiment_1</td>\n",
       "      <td>Donor_1</td>\n",
       "      <td>+SEA</td>\n",
       "      <td>32020</td>\n",
       "      <td>unlabeled</td>\n",
       "      <td>-1</td>\n",
       "    </tr>\n",
       "    <tr>\n",
       "      <th>2</th>\n",
       "      <td>/pstore/data/DS4/synapse_formation_full_data/E...</td>\n",
       "      <td>Experiment_1</td>\n",
       "      <td>Donor_1</td>\n",
       "      <td>+SEA</td>\n",
       "      <td>55974</td>\n",
       "      <td>unlabeled</td>\n",
       "      <td>-1</td>\n",
       "    </tr>\n",
       "    <tr>\n",
       "      <th>3</th>\n",
       "      <td>/pstore/data/DS4/synapse_formation_full_data/E...</td>\n",
       "      <td>Experiment_1</td>\n",
       "      <td>Donor_1</td>\n",
       "      <td>+SEA</td>\n",
       "      <td>15150</td>\n",
       "      <td>unlabeled</td>\n",
       "      <td>-1</td>\n",
       "    </tr>\n",
       "    <tr>\n",
       "      <th>4</th>\n",
       "      <td>/pstore/data/DS4/synapse_formation_full_data/E...</td>\n",
       "      <td>Experiment_1</td>\n",
       "      <td>Donor_1</td>\n",
       "      <td>+SEA</td>\n",
       "      <td>44814</td>\n",
       "      <td>unlabeled</td>\n",
       "      <td>-1</td>\n",
       "    </tr>\n",
       "    <tr>\n",
       "      <th>...</th>\n",
       "      <td>...</td>\n",
       "      <td>...</td>\n",
       "      <td>...</td>\n",
       "      <td>...</td>\n",
       "      <td>...</td>\n",
       "      <td>...</td>\n",
       "      <td>...</td>\n",
       "    </tr>\n",
       "    <tr>\n",
       "      <th>1065962</th>\n",
       "      <td>/pstore/data/DS4/synapse_formation_full_data/E...</td>\n",
       "      <td>Experiment_4</td>\n",
       "      <td>Donor_9</td>\n",
       "      <td>DIG-TCB</td>\n",
       "      <td>72493</td>\n",
       "      <td>unlabeled</td>\n",
       "      <td>-1</td>\n",
       "    </tr>\n",
       "    <tr>\n",
       "      <th>1065963</th>\n",
       "      <td>/pstore/data/DS4/synapse_formation_full_data/E...</td>\n",
       "      <td>Experiment_4</td>\n",
       "      <td>Donor_9</td>\n",
       "      <td>DIG-TCB</td>\n",
       "      <td>106656</td>\n",
       "      <td>unlabeled</td>\n",
       "      <td>-1</td>\n",
       "    </tr>\n",
       "    <tr>\n",
       "      <th>1065964</th>\n",
       "      <td>/pstore/data/DS4/synapse_formation_full_data/E...</td>\n",
       "      <td>Experiment_4</td>\n",
       "      <td>Donor_9</td>\n",
       "      <td>DIG-TCB</td>\n",
       "      <td>110990</td>\n",
       "      <td>unlabeled</td>\n",
       "      <td>-1</td>\n",
       "    </tr>\n",
       "    <tr>\n",
       "      <th>1065965</th>\n",
       "      <td>/pstore/data/DS4/synapse_formation_full_data/E...</td>\n",
       "      <td>Experiment_4</td>\n",
       "      <td>Donor_9</td>\n",
       "      <td>DIG-TCB</td>\n",
       "      <td>71451</td>\n",
       "      <td>unlabeled</td>\n",
       "      <td>-1</td>\n",
       "    </tr>\n",
       "    <tr>\n",
       "      <th>1065966</th>\n",
       "      <td>/pstore/data/DS4/synapse_formation_full_data/E...</td>\n",
       "      <td>Experiment_4</td>\n",
       "      <td>Donor_9</td>\n",
       "      <td>DIG-TCB</td>\n",
       "      <td>111837</td>\n",
       "      <td>unlabeled</td>\n",
       "      <td>-1</td>\n",
       "    </tr>\n",
       "  </tbody>\n",
       "</table>\n",
       "<p>1065967 rows × 7 columns</p>\n",
       "</div>"
      ],
      "text/plain": [
       "                                                      file    experiment  \\\n",
       "0        /pstore/data/DS4/synapse_formation_full_data/E...  Experiment_1   \n",
       "1        /pstore/data/DS4/synapse_formation_full_data/E...  Experiment_1   \n",
       "2        /pstore/data/DS4/synapse_formation_full_data/E...  Experiment_1   \n",
       "3        /pstore/data/DS4/synapse_formation_full_data/E...  Experiment_1   \n",
       "4        /pstore/data/DS4/synapse_formation_full_data/E...  Experiment_1   \n",
       "...                                                    ...           ...   \n",
       "1065962  /pstore/data/DS4/synapse_formation_full_data/E...  Experiment_4   \n",
       "1065963  /pstore/data/DS4/synapse_formation_full_data/E...  Experiment_4   \n",
       "1065964  /pstore/data/DS4/synapse_formation_full_data/E...  Experiment_4   \n",
       "1065965  /pstore/data/DS4/synapse_formation_full_data/E...  Experiment_4   \n",
       "1065966  /pstore/data/DS4/synapse_formation_full_data/E...  Experiment_4   \n",
       "\n",
       "           donor condition  object_number        set label  \n",
       "0        Donor_1      +SEA           5156  unlabeled    -1  \n",
       "1        Donor_1      +SEA          32020  unlabeled    -1  \n",
       "2        Donor_1      +SEA          55974  unlabeled    -1  \n",
       "3        Donor_1      +SEA          15150  unlabeled    -1  \n",
       "4        Donor_1      +SEA          44814  unlabeled    -1  \n",
       "...          ...       ...            ...        ...   ...  \n",
       "1065962  Donor_9   DIG-TCB          72493  unlabeled    -1  \n",
       "1065963  Donor_9   DIG-TCB         106656  unlabeled    -1  \n",
       "1065964  Donor_9   DIG-TCB         110990  unlabeled    -1  \n",
       "1065965  Donor_9   DIG-TCB          71451  unlabeled    -1  \n",
       "1065966  Donor_9   DIG-TCB         111837  unlabeled    -1  \n",
       "\n",
       "[1065967 rows x 7 columns]"
      ]
     },
     "execution_count": 8,
     "metadata": {},
     "output_type": "execute_result"
    }
   ],
   "source": [
    "metadata = pd.read_csv(\"/pstore/data/DS4/synapse_data_features/metadata_subset.csv.gz\")\n",
    "metadata"
   ]
  },
  {
   "cell_type": "code",
   "execution_count": 9,
   "metadata": {},
   "outputs": [
    {
     "data": {
      "text/plain": [
       "array(['unlabeled', 'labeled', 'train', 'test', 'validation'],\n",
       "      dtype=object)"
      ]
     },
     "execution_count": 9,
     "metadata": {},
     "output_type": "execute_result"
    }
   ],
   "source": [
    "metadata.set.unique()"
   ]
  },
  {
   "cell_type": "code",
   "execution_count": 10,
   "metadata": {},
   "outputs": [],
   "source": [
    "indx = metadata.condition.isin([\"-SEA\",\"+SEA\"])\n",
    "metadata = metadata.loc[indx, :].reset_index(drop = True )"
   ]
  },
  {
   "cell_type": "code",
   "execution_count": null,
   "metadata": {},
   "outputs": [],
   "source": []
  },
  {
   "cell_type": "code",
   "execution_count": 11,
   "metadata": {},
   "outputs": [],
   "source": [
    "set_of_interesting_classes = ['B_cell',  \n",
    "                              'T_cell', \n",
    "                              'T_cell_with_signaling',\n",
    "                              'T_cell_with_B_cell_fragments',\n",
    "                              'B_T_cell_in_one_layer',\n",
    "                              'Synapses_without_signaling', \n",
    "                              'Synapses_with_signaling',\n",
    "                              'No_cell_cell_interaction',\n",
    "                              'Multiplets']"
   ]
  },
  {
   "cell_type": "code",
   "execution_count": 12,
   "metadata": {},
   "outputs": [
    {
     "data": {
      "text/plain": [
       "array(['unlabeled', 'labeled', 'train', 'test', 'validation'],\n",
       "      dtype=object)"
      ]
     },
     "execution_count": 12,
     "metadata": {},
     "output_type": "execute_result"
    }
   ],
   "source": [
    "metadata[\"set\"].unique()"
   ]
  },
  {
   "cell_type": "code",
   "execution_count": 13,
   "metadata": {},
   "outputs": [],
   "source": [
    "unlabeled_index = metadata[\"set\"] == \"unlabeled\"\n",
    "unlabeled_index = unlabeled_index[unlabeled_index].index\n",
    "\n",
    " \n",
    "labeled_index = metadata[\"label\"].isin(set_of_interesting_classes)\n",
    "\n",
    "train_index = metadata[\"set\"] == \"train\"\n",
    "train_index = train_index & labeled_index\n",
    "train_index = train_index[train_index].index\n",
    "\n",
    "validation_index = metadata[\"set\"] == \"validation\"\n",
    "validation_index = validation_index & labeled_index\n",
    "validation_index = validation_index[validation_index].index\n",
    "\n",
    "test_index = metadata[\"set\"] == \"test\"\n",
    "test_index = test_index & labeled_index\n",
    "test_index = test_index[test_index].index"
   ]
  },
  {
   "cell_type": "code",
   "execution_count": null,
   "metadata": {},
   "outputs": [],
   "source": [
    " "
   ]
  },
  {
   "cell_type": "code",
   "execution_count": 14,
   "metadata": {},
   "outputs": [
    {
     "name": "stdout",
     "output_type": "stream",
     "text": [
      "Number of labeled images 5221\n"
     ]
    }
   ],
   "source": [
    "\n",
    "\n",
    "label_map = dict()\n",
    "for i, cl in enumerate(set_of_interesting_classes):\n",
    "    label_map[cl] = i\n",
    "\n",
    "label_map['-1'] = -1\n",
    "label_map[-1] = -1\n",
    "\n",
    "print(\"Number of labeled images\",labeled_index.sum())"
   ]
  },
  {
   "cell_type": "code",
   "execution_count": 15,
   "metadata": {},
   "outputs": [
    {
     "data": {
      "text/plain": [
       "{'B_cell': 0,\n",
       " 'T_cell': 1,\n",
       " 'T_cell_with_signaling': 2,\n",
       " 'T_cell_with_B_cell_fragments': 3,\n",
       " 'B_T_cell_in_one_layer': 4,\n",
       " 'Synapses_without_signaling': 5,\n",
       " 'Synapses_with_signaling': 6,\n",
       " 'No_cell_cell_interaction': 7,\n",
       " 'Multiplets': 8,\n",
       " '-1': -1,\n",
       " -1: -1}"
      ]
     },
     "execution_count": 15,
     "metadata": {},
     "output_type": "execute_result"
    }
   ],
   "source": [
    "label_map"
   ]
  },
  {
   "cell_type": "code",
   "execution_count": null,
   "metadata": {},
   "outputs": [],
   "source": []
  },
  {
   "cell_type": "code",
   "execution_count": 16,
   "metadata": {},
   "outputs": [],
   "source": [
    "channels = {\n",
    "     \"Ch1\": (\"Greys\", \"BF\"),  \n",
    "     \"Ch2\": (\"Greens\", \"Antibody\"),\n",
    "     \"Ch3\": (\"Reds\", \"CD18\"),\n",
    "     \"Ch4\": (\"Oranges\", \"F-Actin\"),\n",
    "     \"Ch6\": (\"RdPu\", \"MHCII\"),\n",
    "     \"Ch7\": (\"Purples\", \"CD3/CD4\"),\n",
    "     \"Ch11\": (\"Blues\", \"P-CD3zeta\"),\n",
    "     \"Ch12\": (\"Greens\", \"Live-Dead\")\n",
    " }"
   ]
  },
  {
   "cell_type": "code",
   "execution_count": null,
   "metadata": {},
   "outputs": [],
   "source": []
  },
  {
   "cell_type": "code",
   "execution_count": null,
   "metadata": {},
   "outputs": [],
   "source": []
  },
  {
   "cell_type": "code",
   "execution_count": 17,
   "metadata": {},
   "outputs": [],
   "source": [
    "reshape_size = 160\n",
    "selected_channels = [0,3,4,5,6]\n",
    "\n",
    "stats = dict()\n",
    "\n",
    "stats[\"lower_bound\"] = torch.tensor([756.5198,52.5891,45.7574,54.1436,39.0545])\n",
    "stats[\"upper_bound\"] = torch.tensor([835.3564,288.1139,271.3861,234.2525,90.0396])"
   ]
  },
  {
   "cell_type": "code",
   "execution_count": 18,
   "metadata": {},
   "outputs": [],
   "source": [
    "class AddGaussianNoise(object):\n",
    "    def __init__(self, mean=0., std=1.):\n",
    "        self.std = std\n",
    "        self.mean = mean\n",
    "        \n",
    "    def __call__(self, tensor):\n",
    "        return tensor + torch.randn(tensor.size()) * self.std + self.mean\n",
    "    \n",
    "    def __repr__(self):\n",
    "        return self.__class__.__name__ + '(mean={0}, std={1})'.format(self.mean, self.std)"
   ]
  },
  {
   "cell_type": "code",
   "execution_count": 19,
   "metadata": {},
   "outputs": [],
   "source": [
    "class MinMaxScaler(object):\n",
    "    def __init__(self, min_in , max_in, min_out, max_out):\n",
    "        self.min_in = min_in.reshape(-1,1,1)\n",
    "        self.max_in = max_in.reshape(-1,1,1)\n",
    "        self.min_out = min_out\n",
    "        self.max_out = max_out\n",
    "        \n",
    "    def __call__(self, tensor):\n",
    "        \n",
    "        tensor_ = (tensor - self.min_in)/(self.max_in - self.min_in)\n",
    "        tensor_ = tensor_*(self.max_out - self.min_out) + self.min_out\n",
    "        tensor_[tensor_<self.min_out]= self.min_out\n",
    "        tensor_[tensor_>self.max_out]= self.max_out\n",
    "        return tensor_\n",
    "    \n",
    "    def __repr__(self):\n",
    "        return self.__class__.__name__ + '(min_out={0}, max_out={1})'.format(self.min_out, self.max_out)"
   ]
  },
  {
   "cell_type": "code",
   "execution_count": null,
   "metadata": {},
   "outputs": [],
   "source": []
  },
  {
   "cell_type": "code",
   "execution_count": 20,
   "metadata": {},
   "outputs": [],
   "source": [
    "import torch.nn as nn\n",
    "from torchvision.models import resnet152, resnet18, resnet34, resnet50\n",
    "import torch.nn.functional as F\n",
    "\n",
    "class ResNet18Modified(nn.Module):\n",
    "    def __init__(self,  num_channels=3, num_classes=3, pretrained=True, progress=True, **kwargs):\n",
    "        super().__init__()\n",
    "        model = resnet18(pretrained=pretrained)\n",
    "        if num_channels != 3:\n",
    "            model.conv1 = nn.Conv2d(num_channels, 64, kernel_size=(7, 7),\n",
    "                                    stride=(2, 2), padding=(3, 3), bias=False)\n",
    "        num_ftrs = model.fc.in_features\n",
    "        model.fc = nn.Linear(num_ftrs, num_classes)\n",
    "        self.model = model\n",
    "\n",
    "    def forward(self, x):                \n",
    "        return self.model(x)"
   ]
  },
  {
   "cell_type": "code",
   "execution_count": 21,
   "metadata": {},
   "outputs": [],
   "source": [
    "resnet18_modified = ResNet18Modified(len(selected_channels),\n",
    "                                     len(set_of_interesting_classes), \n",
    "                                     pretrained = True)"
   ]
  },
  {
   "cell_type": "code",
   "execution_count": 22,
   "metadata": {},
   "outputs": [],
   "source": [
    "train_transform = transforms.Compose([ \n",
    "        MinMaxScaler(           min_in =  stats[\"lower_bound\"] , \n",
    "                                max_in =  stats[\"upper_bound\"] , \n",
    "                                min_out =  0. , \n",
    "                                max_out =  1.),\n",
    "        transforms.RandomResizedCrop(reshape_size, scale=(0.6, 1.0), ratio=(0.8, 1.2)),\n",
    "        transforms.RandomHorizontalFlip(),\n",
    "        transforms.RandomVerticalFlip(),\n",
    "        AddGaussianNoise(mean=0., std=0.05),\n",
    "])\n",
    "\n",
    "\n",
    "\n",
    "train_dataset = DatasetGenerator(metadata.loc[train_index.tolist(),:], \n",
    "                                 reshape_size=reshape_size, \n",
    "                                 scaling_factor = 1.,\n",
    "                                label_map=label_map, \n",
    "                                 transform = train_transform,\n",
    "                                selected_channels=selected_channels)"
   ]
  },
  {
   "cell_type": "code",
   "execution_count": null,
   "metadata": {},
   "outputs": [],
   "source": []
  },
  {
   "cell_type": "code",
   "execution_count": 23,
   "metadata": {},
   "outputs": [
    {
     "data": {
      "text/plain": [
       "{'B_cell': 0,\n",
       " 'T_cell': 1,\n",
       " 'T_cell_with_signaling': 2,\n",
       " 'T_cell_with_B_cell_fragments': 3,\n",
       " 'B_T_cell_in_one_layer': 4,\n",
       " 'Synapses_without_signaling': 5,\n",
       " 'Synapses_with_signaling': 6,\n",
       " 'No_cell_cell_interaction': 7,\n",
       " 'Multiplets': 8,\n",
       " '-1': -1,\n",
       " -1: -1}"
      ]
     },
     "execution_count": 23,
     "metadata": {},
     "output_type": "execute_result"
    }
   ],
   "source": [
    "label_map"
   ]
  },
  {
   "cell_type": "code",
   "execution_count": 24,
   "metadata": {},
   "outputs": [
    {
     "name": "stdout",
     "output_type": "stream",
     "text": [
      "tensor(6)\n"
     ]
    },
    {
     "data": {
      "image/png": "[encoded data removed]",
      "text/plain": [
       "<Figure size 432x288 with 1 Axes>"
      ]
     },
     "metadata": {
      "needs_background": "light"
     },
     "output_type": "display_data"
    }
   ],
   "source": [
    "i = 40\n",
    "plt.imshow(train_dataset[i][0][0,:,:])\n",
    "print(train_dataset[i][1])"
   ]
  },
  {
   "cell_type": "code",
   "execution_count": 25,
   "metadata": {},
   "outputs": [],
   "source": [
    "validation_transforms =  transforms.Compose([ \n",
    "        MinMaxScaler(           min_in =  stats[\"lower_bound\"] , \n",
    "                                max_in =  stats[\"upper_bound\"] , \n",
    "                                min_out =  0. , \n",
    "                                max_out =  1.),\n",
    "        transforms.RandomHorizontalFlip(),\n",
    "        transforms.RandomVerticalFlip(),\n",
    "        AddGaussianNoise(mean=0., std=0.01),\n",
    "])\n",
    "\n",
    "test_transforms =  transforms.Compose([ \n",
    "        MinMaxScaler(           min_in =  stats[\"lower_bound\"] , \n",
    "                                max_in =  stats[\"upper_bound\"] , \n",
    "                                min_out =  0. , \n",
    "                                max_out =  1.),\n",
    "])\n",
    "\n",
    "validation_dataset = DatasetGenerator(metadata.loc[validation_index.tolist(),:],\n",
    "                                 reshape_size=reshape_size, \n",
    "                                label_map=label_map,\n",
    "                                 scaling_factor = 1.,\n",
    "                                transform=validation_transforms, \n",
    "                                selected_channels=selected_channels)\n",
    "\n",
    "test_dataset = DatasetGenerator(metadata.loc[test_index.tolist(),:],\n",
    "                                 reshape_size=reshape_size, \n",
    "                                label_map=label_map,\n",
    "                                 scaling_factor = 1.,\n",
    "                                transform=test_transforms, \n",
    "                                selected_channels=selected_channels)"
   ]
  },
  {
   "cell_type": "code",
   "execution_count": null,
   "metadata": {},
   "outputs": [],
   "source": []
  },
  {
   "cell_type": "code",
   "execution_count": null,
   "metadata": {},
   "outputs": [],
   "source": []
  },
  {
   "cell_type": "code",
   "execution_count": 26,
   "metadata": {},
   "outputs": [],
   "source": [
    "lr_scheduler = LRScheduler(policy='ReduceLROnPlateau', factor=0.1, patience=10)\n",
    "#checkpoint = Checkpoint(f_params='resnet_18_imagenet_pretraiend_supervised_learning.pth', monitor='valid_f1_macro')\n",
    "\n",
    "epoch_scoring = EpochScoring(\"f1_macro\", \n",
    "                             name =  \"valid_f1_macro\", \n",
    "                             on_train = False,\n",
    "                             lower_is_better = False)\n",
    "\n",
    "early_stopping = EarlyStopping(monitor='valid_f1_macro', \n",
    "                               patience=50, \n",
    "                               threshold=0.0001, \n",
    "                               threshold_mode='rel', \n",
    "                               lower_is_better=False)\n",
    "\n",
    "model = NeuralNetClassifier(    \n",
    "    resnet18_modified, \n",
    "    criterion=nn.CrossEntropyLoss,\n",
    "    lr=0.01,\n",
    "    batch_size=32,\n",
    "    max_epochs=1000,\n",
    "    optimizer=optim.Adam,\n",
    "    iterator_train__shuffle=True,\n",
    "    iterator_train__num_workers=5,\n",
    "    iterator_valid__shuffle=False,\n",
    "    iterator_valid__num_workers=1,\n",
    "    callbacks=[lr_scheduler,epoch_scoring, early_stopping],\n",
    "    train_split=predefined_split(validation_dataset),\n",
    "    device=\"cuda\",\n",
    "    warm_start=True)"
   ]
  },
  {
   "cell_type": "code",
   "execution_count": 27,
   "metadata": {},
   "outputs": [
    {
     "name": "stdout",
     "output_type": "stream",
     "text": [
      "  epoch    train_loss    valid_acc    valid_f1_macro    valid_loss      dur\n",
      "-------  ------------  -----------  ----------------  ------------  -------\n",
      "      1        \u001b[36m2.3887\u001b[0m       \u001b[32m0.3010\u001b[0m            \u001b[35m0.2166\u001b[0m        \u001b[31m1.9297\u001b[0m  21.2650\n",
      "      2        \u001b[36m1.4279\u001b[0m       \u001b[32m0.5021\u001b[0m            \u001b[35m0.4521\u001b[0m        \u001b[31m1.4726\u001b[0m  9.1960\n",
      "      3        \u001b[36m1.1667\u001b[0m       \u001b[32m0.5746\u001b[0m            \u001b[35m0.4846\u001b[0m        \u001b[31m1.0947\u001b[0m  9.1708\n",
      "      4        \u001b[36m0.9872\u001b[0m       0.4884            0.4368        1.2792  9.2489\n",
      "      5        \u001b[36m0.8573\u001b[0m       0.4241            0.3148        1.3773  9.3281\n",
      "      6        \u001b[36m0.8117\u001b[0m       \u001b[32m0.5992\u001b[0m            \u001b[35m0.5437\u001b[0m        \u001b[31m0.9223\u001b[0m  9.3288\n",
      "      7        \u001b[36m0.7255\u001b[0m       \u001b[32m0.6758\u001b[0m            \u001b[35m0.6312\u001b[0m        \u001b[31m0.7505\u001b[0m  9.2902\n",
      "      8        \u001b[36m0.6997\u001b[0m       \u001b[32m0.7209\u001b[0m            \u001b[35m0.6847\u001b[0m        \u001b[31m0.6534\u001b[0m  9.3325\n",
      "      9        \u001b[36m0.6851\u001b[0m       0.7086            0.6428        0.7756  9.2178\n",
      "     10        \u001b[36m0.6730\u001b[0m       0.7018            0.6787        0.7779  9.2858\n",
      "     11        \u001b[36m0.6116\u001b[0m       0.6977            0.6554        0.7508  9.3975\n",
      "     12        \u001b[36m0.6100\u001b[0m       \u001b[32m0.7346\u001b[0m            \u001b[35m0.7214\u001b[0m        \u001b[31m0.6468\u001b[0m  9.3701\n",
      "     13        \u001b[36m0.6016\u001b[0m       \u001b[32m0.7579\u001b[0m            \u001b[35m0.7357\u001b[0m        0.6548  9.2123\n",
      "     14        \u001b[36m0.5702\u001b[0m       0.7483            0.7210        \u001b[31m0.6171\u001b[0m  9.2603\n",
      "     15        \u001b[36m0.5416\u001b[0m       0.7510            \u001b[35m0.7427\u001b[0m        0.6456  9.3623\n",
      "     16        \u001b[36m0.5302\u001b[0m       \u001b[32m0.7674\u001b[0m            \u001b[35m0.7510\u001b[0m        0.6554  9.2931\n",
      "     17        \u001b[36m0.5124\u001b[0m       \u001b[32m0.7729\u001b[0m            \u001b[35m0.7690\u001b[0m        \u001b[31m0.6045\u001b[0m  9.2045\n",
      "     18        \u001b[36m0.5011\u001b[0m       0.7223            0.6811        0.7077  9.1974\n",
      "     19        \u001b[36m0.4701\u001b[0m       0.7141            0.6897        0.7974  9.3484\n",
      "     20        \u001b[36m0.4673\u001b[0m       \u001b[32m0.8003\u001b[0m            \u001b[35m0.7779\u001b[0m        \u001b[31m0.5285\u001b[0m  9.3797\n",
      "     21        \u001b[36m0.4567\u001b[0m       0.6922            0.6608        0.9744  9.2929\n",
      "     22        0.4865       \u001b[32m0.8276\u001b[0m            \u001b[35m0.8237\u001b[0m        \u001b[31m0.5157\u001b[0m  9.3500\n",
      "     23        \u001b[36m0.4567\u001b[0m       0.8044            0.7946        0.5166  9.2351\n",
      "     24        \u001b[36m0.4490\u001b[0m       \u001b[32m0.8454\u001b[0m            \u001b[35m0.8369\u001b[0m        \u001b[31m0.4394\u001b[0m  9.1838\n",
      "     25        \u001b[36m0.4387\u001b[0m       0.8003            0.7882        0.5546  9.2897\n",
      "     26        \u001b[36m0.4030\u001b[0m       0.8235            0.8121        0.5289  9.1461\n",
      "     27        \u001b[36m0.3908\u001b[0m       0.7934            0.7842        0.5418  9.2408\n",
      "     28        0.3978       0.8153            0.8006        0.5495  9.3307\n",
      "     29        0.3972       \u001b[32m0.8564\u001b[0m            \u001b[35m0.8518\u001b[0m        \u001b[31m0.4007\u001b[0m  9.3162\n",
      "     30        0.3951       0.8345            0.8329        0.4631  9.2779\n",
      "     31        \u001b[36m0.3574\u001b[0m       0.8358            0.8296        0.4726  9.2634\n",
      "     32        0.3852       0.8126            0.8075        0.5183  9.2431\n",
      "     33        \u001b[36m0.3555\u001b[0m       0.7852            0.7818        0.5564  9.2595\n",
      "     34        0.3690       0.8112            0.7956        0.5356  9.2456\n",
      "     35        0.3629       0.8372            0.8328        0.4888  9.3174\n",
      "     36        \u001b[36m0.3403\u001b[0m       \u001b[32m0.8687\u001b[0m            \u001b[35m0.8616\u001b[0m        \u001b[31m0.3964\u001b[0m  9.3262\n",
      "     37        0.3781       0.8550            0.8501        0.4010  9.2699\n",
      "     38        0.3425       0.8482            0.8451        0.4134  9.3512\n",
      "     39        \u001b[36m0.3331\u001b[0m       0.8577            0.8468        0.4424  9.3551\n",
      "     40        \u001b[36m0.3121\u001b[0m       0.8304            0.8249        0.4768  9.3275\n",
      "     41        0.3188       0.8454            0.8418        \u001b[31m0.3952\u001b[0m  9.2938\n",
      "     42        0.3168       0.8468            0.8427        0.4264  9.2492\n",
      "     43        \u001b[36m0.3098\u001b[0m       0.8372            0.8291        0.5890  9.3150\n",
      "     44        0.3169       0.8454            0.8394        0.4918  9.3716\n",
      "     45        0.3312       0.8632            0.8586        0.4264  9.2759\n",
      "     46        0.3300       \u001b[32m0.8769\u001b[0m            \u001b[35m0.8715\u001b[0m        \u001b[31m0.3792\u001b[0m  9.3161\n",
      "     47        \u001b[36m0.3006\u001b[0m       0.8536            0.8474        0.4294  9.3145\n",
      "     48        \u001b[36m0.2803\u001b[0m       0.8564            0.8545        0.3979  9.2786\n",
      "     49        0.2849       0.8755            0.8715        0.3896  9.4521\n",
      "     50        \u001b[36m0.2799\u001b[0m       0.8345            0.8322        0.4796  9.3588\n",
      "     51        \u001b[36m0.2681\u001b[0m       0.8673            0.8648        0.4231  9.3139\n",
      "     52        0.2798       0.8728            0.8666        0.4440  9.4369\n",
      "     53        0.2694       0.8591            0.8515        0.4640  9.2634\n",
      "     54        0.2816       0.8755            \u001b[35m0.8722\u001b[0m        0.4101  9.3313\n",
      "     55        0.2809       0.8646            0.8613        0.3942  9.1883\n",
      "     56        0.2793       0.8714            0.8683        0.4056  9.4207\n",
      "     57        \u001b[36m0.2658\u001b[0m       0.8632            0.8591        0.4015  9.3968\n",
      "     58        \u001b[36m0.2530\u001b[0m       0.8714            0.8670        0.3830  9.3968\n",
      "     59        0.2633       \u001b[32m0.8906\u001b[0m            \u001b[35m0.8854\u001b[0m        \u001b[31m0.3728\u001b[0m  9.3447\n",
      "     60        0.2607       0.8810            0.8755        \u001b[31m0.3667\u001b[0m  9.4046\n",
      "     61        0.2572       0.8824            0.8786        0.4048  9.2710\n",
      "     62        \u001b[36m0.2491\u001b[0m       0.8865            0.8827        0.3818  9.3829\n",
      "     63        \u001b[36m0.2455\u001b[0m       0.8659            0.8569        0.4586  9.2720\n",
      "     64        0.2488       0.8851            0.8786        0.3778  9.3858\n",
      "     65        0.2467       0.8782            0.8763        \u001b[31m0.3551\u001b[0m  9.3848\n",
      "     66        \u001b[36m0.2417\u001b[0m       0.8482            0.8429        0.4740  9.3715\n",
      "     67        0.2446       0.8865            0.8833        0.3564  9.3080\n",
      "     68        \u001b[36m0.2122\u001b[0m       0.8906            \u001b[35m0.8857\u001b[0m        0.3864  9.2411\n",
      "     69        0.2136       0.8714            0.8678        0.4218  9.1434\n",
      "     70        0.2686       0.8824            0.8792        0.3587  9.1361\n",
      "     71        0.2302       0.8618            0.8581        0.4533  9.0054\n",
      "     72        0.2260       0.8851            0.8805        0.3826  9.3212\n",
      "     73        0.2457       0.8906            \u001b[35m0.8858\u001b[0m        0.4048  9.2698\n",
      "     74        0.2181       0.8824            0.8780        0.3821  9.3253\n",
      "     75        0.2133       0.8796            0.8741        0.4458  9.3331\n",
      "     76        0.2205       0.8646            0.8635        0.3938  9.3696\n",
      "     77        0.2283       0.8837            0.8777        0.3726  9.3432\n",
      "     78        0.2216       0.8687            0.8644        0.4271  9.2709\n",
      "     79        0.2418       \u001b[32m0.8919\u001b[0m            \u001b[35m0.8900\u001b[0m        \u001b[31m0.3480\u001b[0m  9.1628\n",
      "     80        \u001b[36m0.1789\u001b[0m       \u001b[32m0.8933\u001b[0m            \u001b[35m0.8913\u001b[0m        \u001b[31m0.3168\u001b[0m  9.2203\n",
      "     81        \u001b[36m0.1525\u001b[0m       \u001b[32m0.8947\u001b[0m            \u001b[35m0.8926\u001b[0m        \u001b[31m0.3133\u001b[0m  9.1829\n",
      "     82        \u001b[36m0.1516\u001b[0m       \u001b[32m0.9083\u001b[0m            \u001b[35m0.9059\u001b[0m        \u001b[31m0.3028\u001b[0m  9.4252\n",
      "     83        0.1580       \u001b[32m0.9111\u001b[0m            \u001b[35m0.9093\u001b[0m        \u001b[31m0.3012\u001b[0m  9.2880\n",
      "     84        \u001b[36m0.1429\u001b[0m       \u001b[32m0.9124\u001b[0m            \u001b[35m0.9100\u001b[0m        \u001b[31m0.2938\u001b[0m  9.3275\n",
      "     85        0.1514       0.8974            0.8946        0.3123  9.3203\n",
      "     86        \u001b[36m0.1349\u001b[0m       0.9111            0.9091        0.3340  9.3624\n",
      "     87        0.1388       0.9097            0.9071        0.3219  9.3738\n",
      "     88        0.1375       0.9083            0.9061        0.3353  9.3922\n",
      "     89        \u001b[36m0.1307\u001b[0m       0.9083            0.9059        0.3265  9.3180\n",
      "     90        0.1308       \u001b[32m0.9138\u001b[0m            \u001b[35m0.9113\u001b[0m        0.3386  9.3093\n",
      "     91        \u001b[36m0.1279\u001b[0m       0.9083            0.9052        0.3558  9.3543\n",
      "     92        \u001b[36m0.1248\u001b[0m       \u001b[32m0.9179\u001b[0m            \u001b[35m0.9160\u001b[0m        0.3166  9.4182\n"
     ]
    },
    {
     "name": "stdout",
     "output_type": "stream",
     "text": [
      "     93        0.1431       0.9083            0.9063        0.3317  9.2541\n",
      "     94        0.1345       0.9070            0.9048        0.3219  9.3772\n",
      "     95        0.1269       0.9029            0.9013        0.3263  9.2448\n",
      "     96        0.1299       0.9124            0.9099        0.3191  9.2503\n",
      "     97        0.1263       0.9001            0.8970        0.3416  9.3353\n",
      "     98        0.1278       0.8988            0.8961        0.3484  9.2880\n",
      "     99        \u001b[36m0.1142\u001b[0m       0.9083            0.9060        0.3439  9.3357\n",
      "    100        0.1179       0.9097            0.9076        0.3389  9.2592\n",
      "    101        \u001b[36m0.1140\u001b[0m       0.9042            0.9013        0.3793  9.3223\n",
      "    102        0.1246       0.9083            0.9055        0.3615  9.2311\n",
      "    103        0.1261       0.9166            0.9143        0.3273  9.2526\n",
      "    104        \u001b[36m0.1076\u001b[0m       0.9152            0.9131        0.3468  9.2438\n",
      "    105        0.1178       0.9097            0.9076        0.3424  9.3375\n",
      "    106        0.1176       0.9042            0.9019        0.3739  9.2789\n",
      "    107        0.1182       0.8988            0.8965        0.3566  9.2827\n",
      "    108        0.1105       0.9056            0.9024        0.3792  9.3410\n",
      "    109        0.1168       0.8960            0.8931        0.3987  9.3528\n",
      "    110        0.1154       0.9070            0.9041        0.3607  9.2990\n",
      "    111        \u001b[36m0.1052\u001b[0m       0.8960            0.8932        0.3708  9.4162\n",
      "    112        0.1120       0.9152            0.9124        0.3623  9.3663\n",
      "    113        0.1122       0.9042            0.9013        0.3914  9.3447\n",
      "    114        0.1062       0.9124            0.9100        0.3778  9.4493\n",
      "    115        \u001b[36m0.1014\u001b[0m       0.9056            0.9023        0.3908  9.4663\n",
      "    116        0.1103       0.9015            0.8992        0.3760  9.4839\n",
      "    117        0.1129       0.9111            0.9089        0.3469  9.3445\n",
      "    118        0.1059       0.9001            0.8973        0.3727  9.4121\n",
      "    119        0.1109       0.8947            0.8924        0.3795  9.3974\n",
      "    120        0.1034       0.9042            0.9008        0.3889  9.2532\n",
      "    121        0.1100       0.9124            0.9099        0.3626  9.3009\n",
      "    122        0.1116       0.9070            0.9047        0.3576  9.3839\n",
      "    123        0.1101       0.8988            0.8956        0.3615  9.3220\n",
      "    124        0.1035       0.8960            0.8935        0.4032  9.2121\n",
      "    125        \u001b[36m0.0946\u001b[0m       0.8974            0.8941        0.4018  9.2886\n",
      "    126        0.1080       0.9111            0.9079        0.3977  9.3979\n",
      "    127        0.1106       0.9056            0.9027        0.4005  9.4018\n",
      "    128        0.0991       0.9015            0.8978        0.3932  9.3886\n",
      "    129        0.1006       0.9029            0.9004        0.3838  9.3252\n",
      "    130        0.0982       0.9070            0.9047        0.3889  9.3469\n",
      "    131        0.1014       0.9070            0.9041        0.3855  9.2573\n",
      "    132        \u001b[36m0.0886\u001b[0m       0.9001            0.8975        0.3953  9.2689\n",
      "    133        0.1062       0.8960            0.8930        0.3860  9.2608\n",
      "    134        0.0995       0.9001            0.8974        0.4027  9.2070\n",
      "    135        0.0889       0.9056            0.9033        0.3885  9.2090\n",
      "    136        0.0968       0.8865            0.8830        0.4161  9.2043\n",
      "    137        0.0918       0.8974            0.8934        0.4140  9.3226\n",
      "    138        0.1049       0.9056            0.9032        0.4407  9.1393\n",
      "    139        0.0949       0.9015            0.8992        0.4190  9.3751\n",
      "    140        0.0958       0.9042            0.9014        0.3885  9.3730\n",
      "    141        0.0950       0.9056            0.9030        0.3866  9.2785\n",
      "Stopping since valid_f1_macro has not improved in the last 50 epochs.\n"
     ]
    }
   ],
   "source": [
    "model = model.fit(train_dataset, y = None)"
   ]
  },
  {
   "cell_type": "code",
   "execution_count": null,
   "metadata": {},
   "outputs": [],
   "source": [
    "\n"
   ]
  },
  {
   "cell_type": "code",
   "execution_count": 28,
   "metadata": {},
   "outputs": [],
   "source": [
    "#model.module.load_state_dict(torch.load('resnet_18_imagenet_pretraiend_supervised_learning.pth')) \n"
   ]
  },
  {
   "cell_type": "code",
   "execution_count": null,
   "metadata": {},
   "outputs": [],
   "source": []
  },
  {
   "cell_type": "code",
   "execution_count": 29,
   "metadata": {},
   "outputs": [],
   "source": [
    "## START from here"
   ]
  },
  {
   "cell_type": "code",
   "execution_count": 31,
   "metadata": {},
   "outputs": [
    {
     "name": "stdout",
     "output_type": "stream",
     "text": [
      "              precision    recall  f1-score   support\n",
      "\n",
      "           0       0.97      1.00      0.98        89\n",
      "           1       0.98      0.86      0.92        94\n",
      "           2       0.82      0.97      0.89        70\n",
      "           3       0.88      0.93      0.91        88\n",
      "           4       0.85      0.77      0.81        74\n",
      "           5       0.82      0.80      0.81        69\n",
      "           6       0.85      0.93      0.89        94\n",
      "           7       0.94      0.88      0.91        82\n",
      "           8       0.96      0.90      0.93        71\n",
      "\n",
      "    accuracy                           0.90       731\n",
      "   macro avg       0.90      0.89      0.89       731\n",
      "weighted avg       0.90      0.90      0.90       731\n",
      "\n",
      "------------------------------------------------------------\n",
      "matthews correlation coeff: 0.8833\n",
      "Cohen Kappa score: 0.8828\n",
      "Accuracy: 0.8960 & balanced Accuracy: 0.8930\n",
      "macro F1 score: 0.8924 & micro F1 score: 0.8960\n",
      "macro Precision score: 0.8955 & micro Precision score: 0.8960\n",
      "macro Recall score: 0.8930 & micro Recall score: 0.8960\n"
     ]
    },
    {
     "data": {
      "image/png": "[encoded data removed]",
      "text/plain": [
       "<Figure size 432x288 with 2 Axes>"
      ]
     },
     "metadata": {
      "needs_background": "light"
     },
     "output_type": "display_data"
    },
    {
     "name": "stdout",
     "output_type": "stream",
     "text": [
      "------------------------------------------------------------\n"
     ]
    }
   ],
   "source": [
    "preds = model.predict(validation_dataset)\n",
    "\n",
    "classification_complete_report([label_map[t] for t in validation_dataset.metadata.label], \n",
    "                               preds  )"
   ]
  },
  {
   "cell_type": "code",
   "execution_count": 32,
   "metadata": {},
   "outputs": [
    {
     "data": {
      "text/plain": [
       "['B_cell',\n",
       " 'T_cell',\n",
       " 'T_cell_with_signaling',\n",
       " 'T_cell_with_B_cell_fragments',\n",
       " 'B_T_cell_in_one_layer',\n",
       " 'Synapses_without_signaling',\n",
       " 'Synapses_with_signaling',\n",
       " 'No_cell_cell_interaction',\n",
       " 'Multiplets']"
      ]
     },
     "execution_count": 32,
     "metadata": {},
     "output_type": "execute_result"
    }
   ],
   "source": [
    "set_of_interesting_classes"
   ]
  },
  {
   "cell_type": "code",
   "execution_count": 34,
   "metadata": {},
   "outputs": [
    {
     "name": "stdout",
     "output_type": "stream",
     "text": [
      "              precision    recall  f1-score   support\n",
      "\n",
      "           0       0.99      0.98      0.99       190\n",
      "           1       0.99      0.81      0.89       200\n",
      "           2       0.80      0.94      0.87       148\n",
      "           3       0.87      0.94      0.90       189\n",
      "           4       0.84      0.87      0.85       161\n",
      "           5       0.86      0.86      0.86       147\n",
      "           6       0.84      0.92      0.88       196\n",
      "           7       1.00      0.93      0.96       182\n",
      "           8       0.95      0.84      0.89       154\n",
      "\n",
      "    accuracy                           0.90      1567\n",
      "   macro avg       0.90      0.90      0.90      1567\n",
      "weighted avg       0.91      0.90      0.90      1567\n",
      "\n",
      "------------------------------------------------------------\n",
      "matthews correlation coeff: 0.8906\n",
      "Cohen Kappa score: 0.8900\n",
      "Accuracy: 0.9024 & balanced Accuracy: 0.9011\n",
      "macro F1 score: 0.9005 & micro F1 score: 0.9024\n",
      "macro Precision score: 0.9046 & micro Precision score: 0.9024\n",
      "macro Recall score: 0.9011 & micro Recall score: 0.9024\n"
     ]
    },
    {
     "data": {
      "image/png": "[encoded data removed]",
      "text/plain": [
       "<Figure size 432x288 with 2 Axes>"
      ]
     },
     "metadata": {
      "needs_background": "light"
     },
     "output_type": "display_data"
    },
    {
     "name": "stdout",
     "output_type": "stream",
     "text": [
      "------------------------------------------------------------\n"
     ]
    }
   ],
   "source": [
    "preds = model.predict(test_dataset)\n",
    "\n",
    "classification_complete_report([label_map[t] for t in test_dataset.metadata.label],  preds   )"
   ]
  },
  {
   "cell_type": "markdown",
   "metadata": {},
   "source": [
    "## saving the results"
   ]
  },
  {
   "cell_type": "code",
   "execution_count": 35,
   "metadata": {},
   "outputs": [],
   "source": [
    "preds = pd.Series(preds).to_csv(\"resnet18_preds.csv\")"
   ]
  },
  {
   "cell_type": "code",
   "execution_count": null,
   "metadata": {},
   "outputs": [],
   "source": []
  },
  {
   "cell_type": "code",
   "execution_count": null,
   "metadata": {},
   "outputs": [],
   "source": []
  }
 ],
 "metadata": {
  "kernelspec": {
   "display_name": "skorch",
   "language": "python",
   "name": "skorch"
  },
  "language_info": {
   "codemirror_mode": {
    "name": "ipython",
    "version": 3
   },
   "file_extension": ".py",
   "mimetype": "text/x-python",
   "name": "python",
   "nbconvert_exporter": "python",
   "pygments_lexer": "ipython3",
   "version": "3.8.3"
  }
 },
 "nbformat": 4,
 "nbformat_minor": 4
}
