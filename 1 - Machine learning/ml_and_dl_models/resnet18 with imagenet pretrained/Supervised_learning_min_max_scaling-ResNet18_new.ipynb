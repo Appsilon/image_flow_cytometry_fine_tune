{
 "cells": [
  {
   "cell_type": "code",
   "execution_count": null,
   "metadata": {},
   "outputs": [],
   "source": []
  },
  {
   "cell_type": "code",
   "execution_count": null,
   "metadata": {},
   "outputs": [],
   "source": []
  },
  {
   "cell_type": "code",
   "execution_count": 1,
   "metadata": {},
   "outputs": [],
   "source": [
    "import pandas as pd\n",
    "import matplotlib.pyplot as plt\n",
    "import seaborn as sns\n",
    "import numpy as np\n",
    "import skorch\n",
    "import torch\n",
    "from skorch import NeuralNetClassifier\n",
    "from tqdm import tqdm\n",
    "from torchvision import transforms\n",
    "import torch.nn as nn\n",
    "from scipy.stats import entropy\n",
    "import random\n",
    "import h5py\n",
    "from sklearn.cluster import KMeans\n",
    "from sklearn.preprocessing import MinMaxScaler, StandardScaler\n",
    "from sklearn.cluster import FeatureAgglomeration"
   ]
  },
  {
   "cell_type": "code",
   "execution_count": 28,
   "metadata": {},
   "outputs": [],
   "source": [
    "from scifAI.dl.dataset import DatasetGenerator\n",
    "from scifAI.dl.utils import get_statistics\n",
    "from torch.utils.data import DataLoader, Dataset"
   ]
  },
  {
   "cell_type": "code",
   "execution_count": 3,
   "metadata": {},
   "outputs": [],
   "source": [
    "from scifAI.dl.models import PretrainedModel\n",
    "from skorch.callbacks import LRScheduler,Checkpoint,EpochScoring,EarlyStopping\n",
    "import torch.optim as optim\n",
    "from skorch.helper import predefined_split"
   ]
  },
  {
   "cell_type": "code",
   "execution_count": 4,
   "metadata": {},
   "outputs": [],
   "source": [
    "\n",
    "\n",
    "# Compare Algorithms\n",
    "import matplotlib.pyplot as plt\n",
    "from sklearn import preprocessing\n",
    "from sklearn.model_selection import train_test_split\n",
    "from sklearn import model_selection\n",
    "from sklearn.linear_model import LogisticRegression\n",
    "from sklearn.tree import DecisionTreeClassifier\n",
    "from sklearn.neighbors import KNeighborsClassifier\n",
    "from sklearn.discriminant_analysis import LinearDiscriminantAnalysis\n",
    "from sklearn.naive_bayes import GaussianNB\n",
    "from sklearn.svm import SVC\n",
    "from sklearn.ensemble import RandomForestClassifier\n",
    "from sklearn.ensemble import GradientBoostingClassifier\n",
    "from sklearn.preprocessing import MinMaxScaler, StandardScaler\n",
    "from sklearn.linear_model import SGDClassifier\n",
    "from sklearn.semi_supervised import LabelPropagation\n",
    "from sklearn.ensemble import GradientBoostingClassifier\n",
    "from sklearn.discriminant_analysis import LinearDiscriminantAnalysis\n",
    "from sklearn.ensemble import VotingClassifier\n",
    "from sklearn.ensemble import GradientBoostingClassifier\n",
    "from sklearn.neural_network import MLPClassifier\n",
    "from xgboost import XGBClassifier"
   ]
  },
  {
   "cell_type": "code",
   "execution_count": 5,
   "metadata": {},
   "outputs": [],
   "source": [
    "from sklearn.random_projection import GaussianRandomProjection"
   ]
  },
  {
   "cell_type": "code",
   "execution_count": 6,
   "metadata": {},
   "outputs": [],
   "source": [
    "from sklearn.metrics import plot_confusion_matrix, matthews_corrcoef, classification_report,confusion_matrix, accuracy_score, balanced_accuracy_score, cohen_kappa_score, f1_score,  precision_score, recall_score\n",
    "from statsmodels.stats.contingency_tables import mcnemar\n",
    "from sklearn.metrics import confusion_matrix,ConfusionMatrixDisplay\n",
    "\n",
    "\n",
    "def classification_complete_report(y_true, y_pred ,labels = None  ): \n",
    "    print(classification_report(y_true, y_pred, labels = labels))\n",
    "    print(15*\"----\")\n",
    "    print(\"matthews correlation coeff: %.4f\" % (matthews_corrcoef(y_true, y_pred)) )\n",
    "    print(\"Cohen Kappa score: %.4f\" % (cohen_kappa_score(y_true, y_pred)) )\n",
    "    print(\"Accuracy: %.4f & balanced Accuracy: %.4f\" % (accuracy_score(y_true, y_pred), balanced_accuracy_score(y_true, y_pred)) )\n",
    "    print(\"macro F1 score: %.4f & micro F1 score: %.4f\" % (f1_score(y_true, y_pred, average = \"macro\"), f1_score(y_true, y_pred, average = \"micro\")) )\n",
    "    print(\"macro Precision score: %.4f & micro Precision score: %.4f\" % (precision_score(y_true, y_pred, average = \"macro\"), precision_score(y_true, y_pred, average = \"micro\")) )\n",
    "    print(\"macro Recall score: %.4f & micro Recall score: %.4f\" % (recall_score(y_true, y_pred, average = \"macro\"), recall_score(y_true, y_pred, average = \"micro\")) )\n",
    "    cm = confusion_matrix(y_true, y_pred,labels= labels)\n",
    "    disp = ConfusionMatrixDisplay(confusion_matrix=cm, display_labels=labels)\n",
    "    disp.plot(cmap=plt.cm.Blues)\n",
    "    plt.show()\n",
    "    print(15*\"----\")"
   ]
  },
  {
   "cell_type": "code",
   "execution_count": 7,
   "metadata": {},
   "outputs": [
    {
     "name": "stderr",
     "output_type": "stream",
     "text": [
      "/pstore/apps/Python/3.8.3-2020.07/lib/python3.8/site-packages/IPython/core/interactiveshell.py:3071: DtypeWarning: Columns (6) have mixed types.Specify dtype option on import or set low_memory=False.\n",
      "  has_raised = await self.run_ast_nodes(code_ast.body, cell_name,\n"
     ]
    },
    {
     "data": {
      "text/html": [
       "<div>\n",
       "<style scoped>\n",
       "    .dataframe tbody tr th:only-of-type {\n",
       "        vertical-align: middle;\n",
       "    }\n",
       "\n",
       "    .dataframe tbody tr th {\n",
       "        vertical-align: top;\n",
       "    }\n",
       "\n",
       "    .dataframe thead th {\n",
       "        text-align: right;\n",
       "    }\n",
       "</style>\n",
       "<table border=\"1\" class=\"dataframe\">\n",
       "  <thead>\n",
       "    <tr style=\"text-align: right;\">\n",
       "      <th></th>\n",
       "      <th>file</th>\n",
       "      <th>experiment</th>\n",
       "      <th>donor</th>\n",
       "      <th>condition</th>\n",
       "      <th>object_number</th>\n",
       "      <th>set</th>\n",
       "      <th>label</th>\n",
       "    </tr>\n",
       "  </thead>\n",
       "  <tbody>\n",
       "    <tr>\n",
       "      <th>0</th>\n",
       "      <td>/pstore/data/DS4/synapse_formation_full_data/E...</td>\n",
       "      <td>Experiment_1</td>\n",
       "      <td>Donor_1</td>\n",
       "      <td>+SEA</td>\n",
       "      <td>5156</td>\n",
       "      <td>unlabeled</td>\n",
       "      <td>-1</td>\n",
       "    </tr>\n",
       "    <tr>\n",
       "      <th>1</th>\n",
       "      <td>/pstore/data/DS4/synapse_formation_full_data/E...</td>\n",
       "      <td>Experiment_1</td>\n",
       "      <td>Donor_1</td>\n",
       "      <td>+SEA</td>\n",
       "      <td>32020</td>\n",
       "      <td>unlabeled</td>\n",
       "      <td>-1</td>\n",
       "    </tr>\n",
       "    <tr>\n",
       "      <th>2</th>\n",
       "      <td>/pstore/data/DS4/synapse_formation_full_data/E...</td>\n",
       "      <td>Experiment_1</td>\n",
       "      <td>Donor_1</td>\n",
       "      <td>+SEA</td>\n",
       "      <td>55974</td>\n",
       "      <td>unlabeled</td>\n",
       "      <td>-1</td>\n",
       "    </tr>\n",
       "    <tr>\n",
       "      <th>3</th>\n",
       "      <td>/pstore/data/DS4/synapse_formation_full_data/E...</td>\n",
       "      <td>Experiment_1</td>\n",
       "      <td>Donor_1</td>\n",
       "      <td>+SEA</td>\n",
       "      <td>15150</td>\n",
       "      <td>unlabeled</td>\n",
       "      <td>-1</td>\n",
       "    </tr>\n",
       "    <tr>\n",
       "      <th>4</th>\n",
       "      <td>/pstore/data/DS4/synapse_formation_full_data/E...</td>\n",
       "      <td>Experiment_1</td>\n",
       "      <td>Donor_1</td>\n",
       "      <td>+SEA</td>\n",
       "      <td>44814</td>\n",
       "      <td>unlabeled</td>\n",
       "      <td>-1</td>\n",
       "    </tr>\n",
       "    <tr>\n",
       "      <th>...</th>\n",
       "      <td>...</td>\n",
       "      <td>...</td>\n",
       "      <td>...</td>\n",
       "      <td>...</td>\n",
       "      <td>...</td>\n",
       "      <td>...</td>\n",
       "      <td>...</td>\n",
       "    </tr>\n",
       "    <tr>\n",
       "      <th>1065962</th>\n",
       "      <td>/pstore/data/DS4/synapse_formation_full_data/E...</td>\n",
       "      <td>Experiment_4</td>\n",
       "      <td>Donor_9</td>\n",
       "      <td>DIG-TCB</td>\n",
       "      <td>72493</td>\n",
       "      <td>unlabeled</td>\n",
       "      <td>-1</td>\n",
       "    </tr>\n",
       "    <tr>\n",
       "      <th>1065963</th>\n",
       "      <td>/pstore/data/DS4/synapse_formation_full_data/E...</td>\n",
       "      <td>Experiment_4</td>\n",
       "      <td>Donor_9</td>\n",
       "      <td>DIG-TCB</td>\n",
       "      <td>106656</td>\n",
       "      <td>unlabeled</td>\n",
       "      <td>-1</td>\n",
       "    </tr>\n",
       "    <tr>\n",
       "      <th>1065964</th>\n",
       "      <td>/pstore/data/DS4/synapse_formation_full_data/E...</td>\n",
       "      <td>Experiment_4</td>\n",
       "      <td>Donor_9</td>\n",
       "      <td>DIG-TCB</td>\n",
       "      <td>110990</td>\n",
       "      <td>unlabeled</td>\n",
       "      <td>-1</td>\n",
       "    </tr>\n",
       "    <tr>\n",
       "      <th>1065965</th>\n",
       "      <td>/pstore/data/DS4/synapse_formation_full_data/E...</td>\n",
       "      <td>Experiment_4</td>\n",
       "      <td>Donor_9</td>\n",
       "      <td>DIG-TCB</td>\n",
       "      <td>71451</td>\n",
       "      <td>unlabeled</td>\n",
       "      <td>-1</td>\n",
       "    </tr>\n",
       "    <tr>\n",
       "      <th>1065966</th>\n",
       "      <td>/pstore/data/DS4/synapse_formation_full_data/E...</td>\n",
       "      <td>Experiment_4</td>\n",
       "      <td>Donor_9</td>\n",
       "      <td>DIG-TCB</td>\n",
       "      <td>111837</td>\n",
       "      <td>unlabeled</td>\n",
       "      <td>-1</td>\n",
       "    </tr>\n",
       "  </tbody>\n",
       "</table>\n",
       "<p>1065967 rows × 7 columns</p>\n",
       "</div>"
      ],
      "text/plain": [
       "                                                      file    experiment  \\\n",
       "0        /pstore/data/DS4/synapse_formation_full_data/E...  Experiment_1   \n",
       "1        /pstore/data/DS4/synapse_formation_full_data/E...  Experiment_1   \n",
       "2        /pstore/data/DS4/synapse_formation_full_data/E...  Experiment_1   \n",
       "3        /pstore/data/DS4/synapse_formation_full_data/E...  Experiment_1   \n",
       "4        /pstore/data/DS4/synapse_formation_full_data/E...  Experiment_1   \n",
       "...                                                    ...           ...   \n",
       "1065962  /pstore/data/DS4/synapse_formation_full_data/E...  Experiment_4   \n",
       "1065963  /pstore/data/DS4/synapse_formation_full_data/E...  Experiment_4   \n",
       "1065964  /pstore/data/DS4/synapse_formation_full_data/E...  Experiment_4   \n",
       "1065965  /pstore/data/DS4/synapse_formation_full_data/E...  Experiment_4   \n",
       "1065966  /pstore/data/DS4/synapse_formation_full_data/E...  Experiment_4   \n",
       "\n",
       "           donor condition  object_number        set label  \n",
       "0        Donor_1      +SEA           5156  unlabeled    -1  \n",
       "1        Donor_1      +SEA          32020  unlabeled    -1  \n",
       "2        Donor_1      +SEA          55974  unlabeled    -1  \n",
       "3        Donor_1      +SEA          15150  unlabeled    -1  \n",
       "4        Donor_1      +SEA          44814  unlabeled    -1  \n",
       "...          ...       ...            ...        ...   ...  \n",
       "1065962  Donor_9   DIG-TCB          72493  unlabeled    -1  \n",
       "1065963  Donor_9   DIG-TCB         106656  unlabeled    -1  \n",
       "1065964  Donor_9   DIG-TCB         110990  unlabeled    -1  \n",
       "1065965  Donor_9   DIG-TCB          71451  unlabeled    -1  \n",
       "1065966  Donor_9   DIG-TCB         111837  unlabeled    -1  \n",
       "\n",
       "[1065967 rows x 7 columns]"
      ]
     },
     "execution_count": 7,
     "metadata": {},
     "output_type": "execute_result"
    }
   ],
   "source": [
    "metadata = pd.read_csv(\"/pstore/data/DS4/synapse_data_features/metadata_subset.csv.gz\")\n",
    "metadata"
   ]
  },
  {
   "cell_type": "code",
   "execution_count": 8,
   "metadata": {},
   "outputs": [
    {
     "data": {
      "text/plain": [
       "array(['unlabeled', 'labeled', 'train', 'test', 'validation'],\n",
       "      dtype=object)"
      ]
     },
     "execution_count": 8,
     "metadata": {},
     "output_type": "execute_result"
    }
   ],
   "source": [
    "metadata.set.unique()"
   ]
  },
  {
   "cell_type": "code",
   "execution_count": 9,
   "metadata": {},
   "outputs": [],
   "source": [
    "indx = metadata.condition.isin([\"-SEA\",\"+SEA\"])\n",
    "metadata = metadata.loc[indx, :].reset_index(drop = True )"
   ]
  },
  {
   "cell_type": "code",
   "execution_count": null,
   "metadata": {},
   "outputs": [],
   "source": [
    "\n"
   ]
  },
  {
   "cell_type": "code",
   "execution_count": 10,
   "metadata": {},
   "outputs": [],
   "source": [
    "set_of_interesting_classes = ['B_cell',  'T_cell', \n",
    "                        'T_cell_with_signaling',\n",
    "                        'T_cell_with_B_cell_fragments',\n",
    "                        'B_T_cell_in_one_layer',\n",
    "                        'Synapses_without_signaling', \n",
    "                        'Synapses_with_signaling',\n",
    "                        'No_cell_cell_interaction', \n",
    "                        'Multiplets'] \n",
    "\n",
    "indx = metadata.set.isin([ \"train\", \"validation\",\"test\" ])\n",
    "indx = indx & metadata.label.isin(set_of_interesting_classes)\n",
    "\n",
    "train_index = metadata[\"set\"] == \"train\"\n",
    "train_index = train_index & metadata.label.isin(set_of_interesting_classes)\n",
    "train_index = train_index[train_index].index\n",
    "\n",
    "validation_index = metadata[\"set\"] == \"validation\"\n",
    "validation_index = validation_index & metadata.label.isin(set_of_interesting_classes)\n",
    "validation_index = validation_index[validation_index].index\n",
    "\n",
    "test_index = metadata[\"set\"] == \"test\"\n",
    "test_index = test_index & metadata.label.isin(set_of_interesting_classes)\n",
    "test_index = test_index[test_index].index"
   ]
  },
  {
   "cell_type": "code",
   "execution_count": 11,
   "metadata": {},
   "outputs": [
    {
     "data": {
      "text/plain": [
       "array(['unlabeled', 'labeled', 'train', 'test', 'validation'],\n",
       "      dtype=object)"
      ]
     },
     "execution_count": 11,
     "metadata": {},
     "output_type": "execute_result"
    }
   ],
   "source": [
    "metadata[\"set\"].unique()"
   ]
  },
  {
   "cell_type": "code",
   "execution_count": null,
   "metadata": {},
   "outputs": [],
   "source": [
    " "
   ]
  },
  {
   "cell_type": "code",
   "execution_count": 12,
   "metadata": {},
   "outputs": [],
   "source": [
    "\n",
    "\n",
    "label_map = dict()\n",
    "for i, cl in enumerate(set_of_interesting_classes):\n",
    "    label_map[cl] = i\n",
    "\n",
    "label_map['-1'] = -1\n",
    "label_map[-1] = -1\n"
   ]
  },
  {
   "cell_type": "code",
   "execution_count": 13,
   "metadata": {},
   "outputs": [
    {
     "data": {
      "text/plain": [
       "{'B_cell': 0,\n",
       " 'T_cell': 1,\n",
       " 'T_cell_with_signaling': 2,\n",
       " 'T_cell_with_B_cell_fragments': 3,\n",
       " 'B_T_cell_in_one_layer': 4,\n",
       " 'Synapses_without_signaling': 5,\n",
       " 'Synapses_with_signaling': 6,\n",
       " 'No_cell_cell_interaction': 7,\n",
       " 'Multiplets': 8,\n",
       " '-1': -1,\n",
       " -1: -1}"
      ]
     },
     "execution_count": 13,
     "metadata": {},
     "output_type": "execute_result"
    }
   ],
   "source": [
    "label_map"
   ]
  },
  {
   "cell_type": "code",
   "execution_count": null,
   "metadata": {},
   "outputs": [],
   "source": []
  },
  {
   "cell_type": "code",
   "execution_count": 14,
   "metadata": {},
   "outputs": [],
   "source": [
    "channels = {\n",
    "     \"Ch1\": (\"Greys\", \"BF\"),  \n",
    "     \"Ch2\": (\"Greens\", \"Antibody\"),\n",
    "     \"Ch3\": (\"Reds\", \"CD18\"),\n",
    "     \"Ch4\": (\"Oranges\", \"F-Actin\"),\n",
    "     \"Ch6\": (\"RdPu\", \"MHCII\"),\n",
    "     \"Ch7\": (\"Purples\", \"CD3/CD4\"),\n",
    "     \"Ch11\": (\"Blues\", \"P-CD3zeta\"),\n",
    "     \"Ch12\": (\"Greens\", \"Live-Dead\")\n",
    " }"
   ]
  },
  {
   "cell_type": "code",
   "execution_count": 16,
   "metadata": {},
   "outputs": [
    {
     "data": {
      "text/plain": [
       "<torch._C.Generator at 0x2aaaf4257030>"
      ]
     },
     "execution_count": 16,
     "metadata": {},
     "output_type": "execute_result"
    }
   ],
   "source": [
    "import os\n",
    "\n",
    "seed_value = 42\n",
    "\n",
    "os.environ['PYTHONHASHSEED']=str(seed_value)\n",
    "import random\n",
    "random.seed(seed_value)\n",
    "\n",
    "np.random.seed(seed_value)\n",
    "torch.manual_seed(seed_value)"
   ]
  },
  {
   "cell_type": "code",
   "execution_count": 22,
   "metadata": {},
   "outputs": [],
   "source": [
    "selected_channels = [0,3,4,5,6]\n",
    "model_dir = \"models\"\n",
    "log_dir = \"logs\"\n",
    "scaling_factor = 4095.\n",
    "reshape_size = 160\n",
    "train_transform = [\n",
    "         transforms.RandomVerticalFlip(),\n",
    "         transforms.RandomHorizontalFlip(),\n",
    "         transforms.RandomRotation(45)\n",
    "        ]\n",
    "test_transform = [ ]"
   ]
  },
  {
   "cell_type": "code",
   "execution_count": 26,
   "metadata": {},
   "outputs": [],
   "source": [
    "train_dataset = DatasetGenerator(metadata=metadata.loc[train_index,:],\n",
    "                                 label_map=label_map,\n",
    "                                 selected_channels=selected_channels,\n",
    "                                 scaling_factor=scaling_factor,\n",
    "                                 reshape_size=reshape_size,\n",
    "                                 transform=transforms.Compose(train_transform))"
   ]
  },
  {
   "cell_type": "code",
   "execution_count": 31,
   "metadata": {},
   "outputs": [],
   "source": [
    "train_loader = DataLoader(train_dataset, batch_size=128, shuffle=False, num_workers=6)\n"
   ]
  },
  {
   "cell_type": "code",
   "execution_count": 32,
   "metadata": {},
   "outputs": [
    {
     "data": {
      "text/plain": [
       "<matplotlib.image.AxesImage at 0x2aab77baddc0>"
      ]
     },
     "execution_count": 32,
     "metadata": {},
     "output_type": "execute_result"
    },
    {
     "data": {
      "image/png": "[encoded data removed]",
      "text/plain": [
       "<Figure size 432x288 with 1 Axes>"
      ]
     },
     "metadata": {
      "needs_background": "light"
     },
     "output_type": "display_data"
    }
   ],
   "source": [
    "plt.imshow(train_dataset[0][0][0])\n"
   ]
  },
  {
   "cell_type": "code",
   "execution_count": 33,
   "metadata": {},
   "outputs": [
    {
     "name": "stderr",
     "output_type": "stream",
     "text": [
      "100%|██████████| 23/23 [01:48<00:00,  4.73s/it]"
     ]
    },
    {
     "name": "stdout",
     "output_type": "stream",
     "text": [
      "statistics used: {'min': tensor([0., 0., 0., 0., 0.]), 'p01': tensor([0., 0., 0., 0., 0.]), 'p05': tensor([0., 0., 0., 0., 0.]), 'p25': tensor([0.1941, 0.0081, 0.0092, 0.0126, 0.0094]), 'p50': tensor([0.1951, 0.0152, 0.0119, 0.0187, 0.0096]), 'p75': tensor([0.1956, 0.0199, 0.0181, 0.0253, 0.0098]), 'p95': tensor([0.1970, 0.0399, 0.0321, 0.0363, 0.0101]), 'p99': tensor([0.2068, 0.0828, 0.0681, 0.0901, 0.0111]), 'max': tensor([0.3420, 0.7878, 0.4514, 0.3425, 0.1240]), 'mean': tensor([0.1721, 0.0172, 0.0147, 0.0198, 0.0085]), 'std': tensor([0.0629, 0.0195, 0.0135, 0.0153, 0.0032])}\n"
     ]
    },
    {
     "name": "stderr",
     "output_type": "stream",
     "text": [
      "\n"
     ]
    }
   ],
   "source": [
    "statistics = get_statistics(train_loader, selected_channels=selected_channels)\n"
   ]
  },
  {
   "cell_type": "code",
   "execution_count": 23,
   "metadata": {},
   "outputs": [],
   "source": [
    "class AddGaussianNoise(object):\n",
    "    def __init__(self, mean=0., std=1.):\n",
    "        self.std = std\n",
    "        self.mean = mean\n",
    "        \n",
    "    def __call__(self, tensor):\n",
    "        return tensor + torch.randn(tensor.size()) * self.std + self.mean\n",
    "    \n",
    "    def __repr__(self):\n",
    "        return self.__class__.__name__ + '(mean={0}, std={1})'.format(self.mean, self.std)"
   ]
  },
  {
   "cell_type": "code",
   "execution_count": 24,
   "metadata": {},
   "outputs": [],
   "source": [
    "class MinMaxScaler(object):\n",
    "    def __init__(self, min_in , max_in, min_out, max_out):\n",
    "        self.min_in = min_in.reshape(-1,1,1)\n",
    "        self.max_in = max_in.reshape(-1,1,1)\n",
    "        self.min_out = min_out\n",
    "        self.max_out = max_out\n",
    "        \n",
    "    def __call__(self, tensor):\n",
    "        \n",
    "        tensor_ = (tensor - self.min_in)/(self.max_in - self.min_in)\n",
    "        tensor_ = tensor_*(self.max_out - self.min_out) + self.min_out\n",
    "        tensor_[tensor_<self.min_out]= self.min_out\n",
    "        tensor_[tensor_>self.max_out]= self.max_out\n",
    "        return tensor_\n",
    "    \n",
    "    def __repr__(self):\n",
    "        return self.__class__.__name__ + '(min_out={0}, max_out={1})'.format(self.min_out, self.max_out)"
   ]
  },
  {
   "cell_type": "code",
   "execution_count": null,
   "metadata": {},
   "outputs": [],
   "source": []
  },
  {
   "cell_type": "code",
   "execution_count": 25,
   "metadata": {},
   "outputs": [],
   "source": [
    "import torch.nn as nn\n",
    "from torchvision.models import resnet152, resnet18, resnet34, resnet50\n",
    "import torch.nn.functional as F\n",
    "\n",
    "class ResNet18Modified(nn.Module):\n",
    "    def __init__(self,  num_channels=3, num_classes=3, pretrained=True, progress=True, **kwargs):\n",
    "        super().__init__()\n",
    "        model = resnet18(pretrained=pretrained)\n",
    "        if num_channels != 3:\n",
    "            model.conv1 = nn.Conv2d(num_channels, 64, kernel_size=(7, 7),\n",
    "                                    stride=(2, 2), padding=(3, 3), bias=False)\n",
    "        num_ftrs = model.fc.in_features\n",
    "        model.fc = nn.Linear(num_ftrs, num_classes)\n",
    "        self.model = model\n",
    "\n",
    "    def forward(self, x):                \n",
    "        return self.model(x)"
   ]
  },
  {
   "cell_type": "code",
   "execution_count": 34,
   "metadata": {},
   "outputs": [],
   "source": [
    "resnet18_modified = ResNet18Modified(len(selected_channels),\n",
    "                                     len(set_of_interesting_classes), \n",
    "                                     pretrained = True)"
   ]
  },
  {
   "cell_type": "code",
   "execution_count": 47,
   "metadata": {},
   "outputs": [],
   "source": [
    "train_transform = transforms.Compose([ \n",
    "        MinMaxScaler(           min_in =  statistics[\"p05\"] , \n",
    "                                max_in =  statistics[\"p95\"] , \n",
    "                                min_out =  0. , \n",
    "                                max_out =  1.),\n",
    "        transforms.RandomResizedCrop(reshape_size, scale=(0.6, 1.0), ratio=(0.8, 1.2)),\n",
    "        transforms.RandomHorizontalFlip(),\n",
    "        transforms.RandomVerticalFlip(),\n",
    "        AddGaussianNoise(mean=0., std=0.01),\n",
    "])\n",
    "\n",
    "\n",
    "\n",
    "train_dataset = DatasetGenerator(metadata.loc[train_index.tolist(),:], \n",
    "                                 reshape_size=reshape_size, \n",
    "                                label_map=label_map, \n",
    "                                 transform = train_transform,\n",
    "                                selected_channels=selected_channels)"
   ]
  },
  {
   "cell_type": "code",
   "execution_count": 48,
   "metadata": {},
   "outputs": [
    {
     "data": {
      "text/plain": [
       "{'B_cell': 0,\n",
       " 'T_cell': 1,\n",
       " 'T_cell_with_signaling': 2,\n",
       " 'T_cell_with_B_cell_fragments': 3,\n",
       " 'B_T_cell_in_one_layer': 4,\n",
       " 'Synapses_without_signaling': 5,\n",
       " 'Synapses_with_signaling': 6,\n",
       " 'No_cell_cell_interaction': 7,\n",
       " 'Multiplets': 8,\n",
       " '-1': -1,\n",
       " -1: -1}"
      ]
     },
     "execution_count": 48,
     "metadata": {},
     "output_type": "execute_result"
    }
   ],
   "source": [
    "label_map"
   ]
  },
  {
   "cell_type": "code",
   "execution_count": 49,
   "metadata": {},
   "outputs": [
    {
     "name": "stdout",
     "output_type": "stream",
     "text": [
      "tensor(6)\n"
     ]
    },
    {
     "data": {
      "image/png": "[encoded data removed]",
      "text/plain": [
       "<Figure size 432x288 with 1 Axes>"
      ]
     },
     "metadata": {
      "needs_background": "light"
     },
     "output_type": "display_data"
    }
   ],
   "source": [
    "i = 40\n",
    "plt.imshow(train_dataset[i][0][0,:,:])\n",
    "print(train_dataset[i][1])"
   ]
  },
  {
   "cell_type": "code",
   "execution_count": 51,
   "metadata": {},
   "outputs": [],
   "source": [
    "validation_transforms =  transforms.Compose([ \n",
    "        MinMaxScaler(           min_in =  statistics[\"p05\"] , \n",
    "                                max_in =  statistics[\"p95\"] , \n",
    "                                min_out =  0. , \n",
    "                                max_out =  1.),\n",
    "        transforms.RandomHorizontalFlip(),\n",
    "        transforms.RandomVerticalFlip(),\n",
    "        AddGaussianNoise(mean=0., std=0.01),\n",
    "])\n",
    "\n",
    "test_transforms =  transforms.Compose([ \n",
    "        MinMaxScaler(           min_in =  statistics[\"p05\"] , \n",
    "                                max_in =  statistics[\"p95\"] , \n",
    "                                min_out =  0. , \n",
    "                                max_out =  1.),\n",
    "])\n",
    "\n",
    "validation_dataset_resnet_18 = DatasetGenerator(metadata.loc[validation_index.tolist(),:],\n",
    "                                 reshape_size=reshape_size, \n",
    "                                label_map=label_map,\n",
    "                                transform=validation_transforms, \n",
    "                                selected_channels=selected_channels)\n",
    "\n",
    "test_dataset_resnet_18 = DatasetGenerator(metadata.loc[test_index.tolist(),:],\n",
    "                                 reshape_size=reshape_size, \n",
    "                                label_map=label_map,\n",
    "                                transform=test_transforms, \n",
    "                                selected_channels=selected_channels)"
   ]
  },
  {
   "cell_type": "code",
   "execution_count": null,
   "metadata": {},
   "outputs": [],
   "source": []
  },
  {
   "cell_type": "code",
   "execution_count": null,
   "metadata": {},
   "outputs": [],
   "source": []
  },
  {
   "cell_type": "code",
   "execution_count": 52,
   "metadata": {},
   "outputs": [],
   "source": [
    "\n",
    "\n",
    "#resnet18_modified.load_state_dict(torch.load('supervised_learning_synapse_model.pth')) \n",
    "\n",
    "#lr_scheduler = LRScheduler(policy='StepLR', step_size=5, gamma=0.6)\n",
    "lr_scheduler = LRScheduler(policy='ReduceLROnPlateau', factor=0.1, patience=10)\n",
    "#checkpoint = Checkpoint(f_params='resnet_18_imagenet_pretraiend_supervised_learning.pth', monitor='valid_acc_best')\n",
    "\n",
    "\n",
    "epoch_scoring = EpochScoring(\"f1_macro\", \n",
    "                             name =  \"valid_f1_macro\", \n",
    "                             on_train = False,\n",
    "                             lower_is_better = False)\n",
    "\n",
    "early_stopping = EarlyStopping(monitor='valid_f1_macro', \n",
    "                               patience=100, \n",
    "                               threshold=0.0001, \n",
    "                               threshold_mode='rel', \n",
    "                               lower_is_better=False)\n",
    "\n",
    "model = NeuralNetClassifier(    \n",
    "    resnet18_modified, \n",
    "    criterion=nn.CrossEntropyLoss,\n",
    "    lr=0.01,\n",
    "    batch_size=128,\n",
    "    max_epochs=1000,\n",
    "    optimizer=optim.Adam,\n",
    "    iterator_train__shuffle=True,\n",
    "    iterator_train__num_workers=4,\n",
    "    iterator_valid__shuffle=False,\n",
    "    iterator_valid__num_workers=2,\n",
    "    callbacks=[lr_scheduler,epoch_scoring, early_stopping],\n",
    "    train_split=predefined_split(validation_dataset_resnet_18),\n",
    "    device=\"cuda\",\n",
    "    warm_start=True)"
   ]
  },
  {
   "cell_type": "code",
   "execution_count": 53,
   "metadata": {},
   "outputs": [
    {
     "name": "stdout",
     "output_type": "stream",
     "text": [
      "  epoch    train_loss    valid_acc    valid_f1_macro    valid_loss      dur\n",
      "-------  ------------  -----------  ----------------  ------------  -------\n",
      "      1        \u001b[36m2.5918\u001b[0m       \u001b[32m0.1040\u001b[0m            \u001b[35m0.0323\u001b[0m      \u001b[31m996.9839\u001b[0m  17.2756\n",
      "      2        \u001b[36m1.5367\u001b[0m       \u001b[32m0.2845\u001b[0m            \u001b[35m0.2339\u001b[0m        \u001b[31m6.4951\u001b[0m  8.2872\n",
      "      3        \u001b[36m1.1587\u001b[0m       \u001b[32m0.4405\u001b[0m            \u001b[35m0.3177\u001b[0m        \u001b[31m1.5008\u001b[0m  8.1691\n",
      "      4        \u001b[36m1.0185\u001b[0m       0.3365            0.2945        2.4565  7.9897\n",
      "      5        \u001b[36m0.8546\u001b[0m       \u001b[32m0.6047\u001b[0m            \u001b[35m0.5398\u001b[0m        \u001b[31m0.8907\u001b[0m  8.0197\n",
      "      6        \u001b[36m0.8262\u001b[0m       0.3912            0.3389        2.1884  7.9043\n",
      "      7        \u001b[36m0.7979\u001b[0m       0.5896            0.5377        0.9226  7.9227\n",
      "      8        \u001b[36m0.7240\u001b[0m       0.4118            0.3900        1.8064  7.9823\n",
      "      9        \u001b[36m0.7191\u001b[0m       0.6033            \u001b[35m0.5651\u001b[0m        1.0453  7.8961\n",
      "     10        \u001b[36m0.6750\u001b[0m       0.5157            0.4241        1.3815  7.8984\n",
      "     11        0.6821       0.5363            0.5048        4.3463  7.9689\n",
      "     12        0.6817       0.4036            0.3553        1.9716  7.9278\n",
      "     13        0.6773       0.5404            0.4957        1.5987  7.9203\n",
      "     14        0.6814       0.5048            0.4245        1.4728  7.8931\n",
      "     15        \u001b[36m0.6476\u001b[0m       0.5554            0.5127        1.0569  7.9581\n",
      "     16        \u001b[36m0.6260\u001b[0m       \u001b[32m0.6361\u001b[0m            \u001b[35m0.5937\u001b[0m        1.3193  7.9582\n",
      "     17        \u001b[36m0.6170\u001b[0m       0.5964            0.5707        1.1513  7.9385\n",
      "     18        \u001b[36m0.5678\u001b[0m       \u001b[32m0.6539\u001b[0m            \u001b[35m0.6137\u001b[0m        0.8951  7.9803\n",
      "     19        \u001b[36m0.5582\u001b[0m       0.5732            0.5309        1.2549  7.8936\n",
      "     20        0.5677       0.6074            0.5877        1.1065  7.9434\n",
      "     21        \u001b[36m0.5311\u001b[0m       \u001b[32m0.6949\u001b[0m            \u001b[35m0.6528\u001b[0m        \u001b[31m0.6934\u001b[0m  7.9273\n",
      "     22        \u001b[36m0.5130\u001b[0m       0.6430            0.6096        0.9768  7.9304\n",
      "     23        0.5395       \u001b[32m0.7264\u001b[0m            \u001b[35m0.7193\u001b[0m        \u001b[31m0.6844\u001b[0m  7.9256\n",
      "     24        0.5526       0.6293            0.5889        2.1966  7.9543\n",
      "     25        0.5535       0.6347            0.5804        1.0580  7.9603\n",
      "     26        0.5171       \u001b[32m0.7319\u001b[0m            \u001b[35m0.7274\u001b[0m        0.6886  7.8851\n",
      "     27        \u001b[36m0.4830\u001b[0m       0.6402            0.6007        0.8797  7.9679\n",
      "     28        0.5556       0.5048            0.4528        1.7193  7.9334\n",
      "     29        0.5652       0.6881            0.6353        1.2708  7.8937\n",
      "     30        0.5011       0.6293            0.5636        1.0083  7.9656\n",
      "     31        \u001b[36m0.4778\u001b[0m       0.5978            0.5413        3.0140  7.9492\n",
      "     32        0.6066       0.3201            0.2808        7.9443  7.9475\n",
      "     33        0.6522       0.6840            0.6382        0.9354  7.9359\n",
      "     34        0.5497       0.7086            0.6560        0.7826  7.9544\n",
      "     35        0.4994       \u001b[32m0.7415\u001b[0m            0.7180        \u001b[31m0.6835\u001b[0m  7.9559\n",
      "     36        \u001b[36m0.4603\u001b[0m       0.6197            0.5769        1.1611  7.9290\n",
      "     37        \u001b[36m0.4591\u001b[0m       \u001b[32m0.7456\u001b[0m            0.6970        0.7571  8.0457\n",
      "     38        \u001b[36m0.4444\u001b[0m       0.6731            0.6236        0.9752  7.9510\n",
      "     39        \u001b[36m0.4360\u001b[0m       0.6731            0.6076        0.9198  7.8751\n",
      "     40        \u001b[36m0.4270\u001b[0m       0.7415            \u001b[35m0.7365\u001b[0m        0.6854  7.9320\n",
      "     41        \u001b[36m0.4060\u001b[0m       0.7155            0.6623        0.8170  7.9222\n",
      "     42        0.4257       \u001b[32m0.7688\u001b[0m            \u001b[35m0.7561\u001b[0m        \u001b[31m0.6476\u001b[0m  7.8875\n",
      "     43        0.4168       0.6443            0.6296        0.9392  7.9324\n",
      "     44        \u001b[36m0.4012\u001b[0m       0.6512            0.6025        1.5964  7.9297\n",
      "     45        0.4088       0.7538            0.7288        0.7052  7.8877\n",
      "     46        \u001b[36m0.3927\u001b[0m       0.6799            0.6274        0.9770  7.8989\n",
      "     47        0.3932       \u001b[32m0.8057\u001b[0m            \u001b[35m0.7979\u001b[0m        \u001b[31m0.5262\u001b[0m  7.9156\n",
      "     48        \u001b[36m0.3855\u001b[0m       0.6580            0.5827        1.3145  7.9126\n",
      "     49        \u001b[36m0.3749\u001b[0m       0.7497            0.7487        0.6302  7.9830\n",
      "     50        \u001b[36m0.3553\u001b[0m       0.6977            0.6766        0.8740  7.9464\n",
      "     51        0.3698       0.7127            0.6632        0.9757  7.9161\n",
      "     52        \u001b[36m0.3532\u001b[0m       0.8044            0.7869        0.6414  7.9578\n",
      "     53        0.3644       0.7674            0.7587        0.6162  7.9442\n",
      "     54        0.3552       0.7852            0.7655        0.5636  7.9144\n",
      "     55        0.3588       0.7059            0.7098        0.8407  7.8270\n",
      "     56        0.3758       0.8016            0.7841        0.6286  7.9012\n",
      "     57        0.3880       0.7538            0.7335        0.6626  7.9450\n",
      "     58        \u001b[36m0.3361\u001b[0m       0.7852            0.7804        0.5758  7.9380\n",
      "     59        0.3623       0.7715            0.7672        0.6127  7.9691\n",
      "     60        0.3447       0.7756            0.7728        0.5841  7.9509\n",
      "     61        0.3673       0.6963            0.6887        0.7532  7.9034\n",
      "     62        0.3414       0.7360            0.7060        1.0010  7.9487\n",
      "     63        0.3426       0.7415            0.7145        0.7279  7.9679\n",
      "     64        \u001b[36m0.3253\u001b[0m       0.7086            0.7077        0.9474  7.8947\n",
      "     65        0.3510       0.7469            0.7326        1.0488  7.8895\n",
      "     66        0.3635       0.7811            0.7666        0.5661  7.9415\n",
      "     67        0.3439       0.7661            0.7535        0.5993  7.9403\n",
      "     68        \u001b[36m0.3127\u001b[0m       0.7073            0.7009        0.8237  7.9220\n",
      "     69        \u001b[36m0.3069\u001b[0m       \u001b[32m0.8249\u001b[0m            \u001b[35m0.8124\u001b[0m        \u001b[31m0.4816\u001b[0m  7.9456\n",
      "     70        0.3512       0.7114            0.6829        0.9469  7.9899\n",
      "     71        0.3128       0.8098            0.8052        0.6093  7.8901\n",
      "     72        \u001b[36m0.2993\u001b[0m       0.7798            0.7713        0.6716  7.9282\n",
      "     73        0.3459       0.7346            0.7184        0.7656  7.9580\n",
      "     74        0.3295       0.6949            0.6886        0.9618  7.8906\n",
      "     75        0.3125       \u001b[32m0.8263\u001b[0m            \u001b[35m0.8239\u001b[0m        0.5436  7.9112\n",
      "     76        \u001b[36m0.2825\u001b[0m       0.6539            0.6233        1.9797  7.9413\n",
      "     77        0.2875       0.7688            0.7613        0.8652  7.9145\n",
      "     78        \u001b[36m0.2613\u001b[0m       0.8071            0.7927        0.5859  7.9336\n",
      "     79        0.2757       0.7825            0.7834        0.6239  7.8978\n",
      "     80        0.2714       0.7469            0.7242        0.7556  7.9164\n",
      "     81        0.2806       0.7456            0.7236        0.9886  7.8803\n",
      "     82        0.2716       0.7100            0.7080        0.8236  7.9090\n",
      "     83        \u001b[36m0.2559\u001b[0m       0.8167            0.8044        0.6482  7.9254\n",
      "     84        \u001b[36m0.2558\u001b[0m       0.7921            0.7746        0.8155  7.8694\n",
      "     85        0.2579       0.7004            0.6532        1.3072  7.8471\n",
      "     86        0.2685       0.7743            0.7613        0.8098  7.9394\n",
      "     87        0.2780       0.5882            0.5268        1.6890  7.9506\n",
      "     88        0.2741       0.8044            0.7982        0.6250  7.8520\n",
      "     89        0.2870       0.7223            0.7128        1.0524  7.9020\n",
      "     90        0.2647       0.7729            0.7670        0.7848  7.9483\n",
      "     91        \u001b[36m0.2340\u001b[0m       0.8222            0.8159        0.5998  7.9387\n",
      "     92        0.2350       0.7538            0.7373        0.8173  7.9505\n",
      "     93        0.2453       0.7059            0.6652        1.0932  7.8640\n",
      "     94        \u001b[36m0.2330\u001b[0m       0.7045            0.6683        1.3327  7.8680\n",
      "     95        0.2467       0.7524            0.7311        0.9189  7.8993\n",
      "     96        0.2451       0.7620            0.7397        1.0412  7.9012\n",
      "     97        0.2534       0.7825            0.7715        0.8398  7.9542\n",
      "     98        0.2349       0.7921            0.7937        0.5816  7.9780\n"
     ]
    },
    {
     "name": "stdout",
     "output_type": "stream",
     "text": [
      "     99        \u001b[36m0.2262\u001b[0m       \u001b[32m0.8331\u001b[0m            \u001b[35m0.8268\u001b[0m        0.5651  7.8948\n",
      "    100        0.2403       0.7073            0.6981        1.3332  7.8749\n",
      "    101        0.2304       0.7565            0.7416        0.7722  7.9453\n",
      "    102        0.2379       0.7633            0.7393        1.2511  7.8971\n",
      "    103        0.2438       0.7415            0.7255        1.3875  7.8541\n",
      "    104        0.2496       0.7196            0.6714        1.7244  7.8654\n",
      "    105        0.2537       0.7196            0.6954        1.4466  7.9470\n",
      "    106        0.2355       \u001b[32m0.8372\u001b[0m            \u001b[35m0.8285\u001b[0m        \u001b[31m0.4775\u001b[0m  7.9043\n",
      "    107        \u001b[36m0.2123\u001b[0m       0.8044            0.7950        0.6512  7.9637\n",
      "    108        0.2330       0.7483            0.7223        0.7655  7.9719\n",
      "    109        0.2477       0.7168            0.7212        1.0499  7.9186\n",
      "    110        0.2442       0.8153            0.8058        0.7282  7.9245\n",
      "    111        0.2289       0.8003            0.7919        0.6343  7.9099\n",
      "    112        0.2380       0.8249            0.8215        0.6759  7.9025\n",
      "    113        0.2195       0.7661            0.7442        1.0272  7.9067\n",
      "    114        \u001b[36m0.1960\u001b[0m       0.7770            0.7669        0.6529  7.9186\n",
      "    115        0.2041       0.8345            \u001b[35m0.8300\u001b[0m        0.5573  7.9031\n",
      "    116        0.2071       0.7223            0.6991        1.0983  7.8871\n",
      "    117        0.2393       0.7291            0.7231        0.8891  7.9031\n",
      "    118        0.2310       0.8085            0.8002        0.6597  7.9272\n",
      "    119        0.1967       0.8098            0.8006        0.6695  7.9240\n",
      "    120        0.2000       0.7715            0.7679        0.7706  7.9142\n",
      "    121        \u001b[36m0.1893\u001b[0m       0.7962            0.7944        0.6934  7.9160\n",
      "    122        0.2183       0.7182            0.6776        1.3379  7.8854\n",
      "    123        0.2239       0.6785            0.6712        1.2537  7.9279\n",
      "    124        0.2232       0.8003            0.7877        0.9906  7.9254\n",
      "    125        0.2010       0.7428            0.7458        0.8143  7.8899\n",
      "    126        0.2108       0.6908            0.6589        1.3099  7.8993\n",
      "    127        0.2023       \u001b[32m0.8454\u001b[0m            \u001b[35m0.8411\u001b[0m        0.5008  7.9356\n",
      "    128        \u001b[36m0.1867\u001b[0m       0.8044            0.7852        0.7422  7.9469\n",
      "    129        0.1997       0.7428            0.7312        1.1066  7.9248\n",
      "    130        0.2374       0.7510            0.7186        1.5591  7.9242\n",
      "    131        0.2017       0.7934            0.7792        0.6825  7.8810\n",
      "    132        0.2112       0.8263            0.8193        0.6074  7.9949\n",
      "    133        0.1933       0.8085            0.8067        0.6104  7.8849\n",
      "    134        0.2220       0.7182            0.6976        1.0013  7.8877\n",
      "    135        0.1924       0.7975            0.7989        0.6093  7.9132\n",
      "    136        0.2051       0.6389            0.6180        3.1788  7.9004\n",
      "    137        \u001b[36m0.1825\u001b[0m       0.8208            0.8105        0.6066  7.9364\n",
      "    138        0.1906       0.6525            0.6020        1.7089  7.9157\n",
      "    139        0.1938       0.7880            0.7794        0.9404  7.9464\n",
      "    140        0.1939       0.7182            0.6926        1.6870  7.9389\n",
      "    141        0.1840       0.8071            0.8006        0.7061  7.9104\n",
      "    142        \u001b[36m0.1805\u001b[0m       0.8057            0.7943        1.0258  7.9565\n",
      "    143        0.1940       0.8126            0.8057        0.7293  7.9001\n",
      "    144        0.1898       0.7510            0.7488        0.8862  7.9221\n",
      "    145        \u001b[36m0.1805\u001b[0m       0.8071            0.7979        0.6869  7.9118\n",
      "    146        \u001b[36m0.1787\u001b[0m       0.8194            0.8139        0.6850  7.9094\n",
      "    147        \u001b[36m0.1752\u001b[0m       0.8016            0.7970        0.6107  7.9323\n",
      "    148        0.2025       0.7456            0.7142        1.0464  7.9152\n",
      "    149        0.2044       0.8098            0.8032        0.6773  7.8749\n",
      "    150        \u001b[36m0.1668\u001b[0m       0.8016            0.7817        0.9509  7.9262\n",
      "    151        \u001b[36m0.1652\u001b[0m       0.7291            0.7135        1.3000  7.9651\n",
      "    152        \u001b[36m0.1560\u001b[0m       0.8057            0.7938        0.7874  7.9263\n",
      "    153        0.1633       0.8181            0.7988        0.8213  7.9100\n",
      "    154        0.1765       0.6758            0.6476        2.3346  7.8945\n",
      "    155        0.2287       0.7538            0.7316        0.9819  7.9190\n",
      "    156        0.2208       0.7086            0.6655        1.6562  7.9421\n",
      "    157        0.1922       0.8235            0.8210        0.5902  7.9076\n",
      "    158        0.1670       0.8358            0.8319        0.6223  7.9339\n",
      "    159        0.1629       0.8016            0.7876        0.7564  7.9338\n",
      "    160        0.1853       0.8126            0.8086        0.6346  7.9307\n",
      "    161        \u001b[36m0.1538\u001b[0m       0.8057            0.7988        0.7860  7.9320\n",
      "    162        0.1838       0.7798            0.7694        0.9904  7.9207\n",
      "    163        0.1736       0.8126            0.8001        0.5819  7.8800\n",
      "    164        0.1541       0.8222            0.8199        0.5690  7.9110\n",
      "    165        \u001b[36m0.1384\u001b[0m       0.7784            0.7732        0.8490  7.9513\n",
      "    166        0.1618       0.8140            0.8026        0.7696  7.9273\n",
      "    167        0.1549       0.7934            0.7890        0.9062  7.9567\n",
      "    168        0.1568       0.7620            0.7481        1.1996  7.9542\n",
      "    169        0.1700       0.7743            0.7555        0.7663  7.9569\n",
      "    170        0.1686       0.7975            0.7932        0.8187  7.9306\n",
      "    171        0.1459       0.8167            0.8048        0.8529  7.8881\n",
      "    172        0.1620       0.7975            0.7935        0.8397  7.9316\n",
      "    173        0.1534       0.7647            0.7566        1.0182  7.9212\n",
      "    174        0.1692       0.8126            0.8111        0.6143  7.9127\n",
      "    175        0.1421       0.6895            0.6771        1.2363  7.8883\n",
      "    176        0.1760       0.8030            0.7936        0.8368  7.9520\n",
      "    177        0.1516       0.8454            \u001b[35m0.8420\u001b[0m        0.5293  7.9431\n",
      "    178        \u001b[36m0.1154\u001b[0m       \u001b[32m0.8482\u001b[0m            \u001b[35m0.8445\u001b[0m        0.5190  7.9509\n",
      "    179        \u001b[36m0.1064\u001b[0m       \u001b[32m0.8495\u001b[0m            \u001b[35m0.8449\u001b[0m        0.5444  7.9316\n",
      "    180        \u001b[36m0.1034\u001b[0m       \u001b[32m0.8536\u001b[0m            \u001b[35m0.8511\u001b[0m        0.5366  7.9366\n",
      "    181        \u001b[36m0.0965\u001b[0m       \u001b[32m0.8577\u001b[0m            \u001b[35m0.8559\u001b[0m        0.5213  7.8826\n",
      "    182        \u001b[36m0.0935\u001b[0m       0.8564            0.8528        0.5552  7.9293\n",
      "    183        0.0936       0.8536            0.8501        0.5406  7.8376\n",
      "    184        \u001b[36m0.0823\u001b[0m       0.8482            0.8450        0.5455  7.9172\n",
      "    185        0.0826       \u001b[32m0.8659\u001b[0m            \u001b[35m0.8627\u001b[0m        0.5364  7.8843\n",
      "    186        0.0835       0.8618            0.8590        0.5460  7.9505\n",
      "    187        \u001b[36m0.0761\u001b[0m       0.8632            0.8597        0.5560  7.9306\n",
      "    188        0.0779       0.8564            0.8526        0.5523  7.9061\n",
      "    189        0.0806       0.8577            0.8540        0.5797  7.9604\n",
      "    190        0.0768       0.8495            0.8451        0.5879  7.9397\n",
      "    191        \u001b[36m0.0709\u001b[0m       0.8523            0.8490        0.6137  7.9079\n",
      "    192        \u001b[36m0.0688\u001b[0m       0.8482            0.8444        0.6414  7.8426\n",
      "    193        0.0774       0.8564            0.8533        0.6216  7.8554\n",
      "    194        \u001b[36m0.0677\u001b[0m       \u001b[32m0.8673\u001b[0m            \u001b[35m0.8647\u001b[0m        0.5817  7.9539\n",
      "    195        \u001b[36m0.0664\u001b[0m       0.8659            0.8620        0.6022  7.8997\n",
      "    196        \u001b[36m0.0635\u001b[0m       0.8577            0.8544        0.6280  7.9224\n",
      "    197        0.0775       0.8577            0.8544        0.6639  7.8736\n",
      "    198        0.0732       0.8618            0.8588        0.5779  7.9392\n",
      "    199        \u001b[36m0.0633\u001b[0m       0.8468            0.8435        0.6332  7.9078\n",
      "    200        0.0685       0.8482            0.8446        0.6453  7.9067\n",
      "    201        0.0647       0.8509            0.8481        0.6309  7.9140\n",
      "    202        0.0644       0.8509            0.8470        0.6455  7.8983\n"
     ]
    },
    {
     "name": "stdout",
     "output_type": "stream",
     "text": [
      "    203        0.0684       0.8482            0.8440        0.6646  7.8980\n",
      "    204        \u001b[36m0.0550\u001b[0m       0.8550            0.8509        0.6470  7.9184\n",
      "    205        0.0601       0.8358            0.8319        0.7151  7.8320\n",
      "    206        0.0621       0.8577            0.8545        0.6496  7.9201\n",
      "    207        0.0572       0.8564            0.8523        0.6271  7.9467\n",
      "    208        0.0590       0.8509            0.8473        0.6743  7.9261\n",
      "    209        0.0573       0.8495            0.8454        0.6632  7.9359\n",
      "    210        0.0614       0.8495            0.8463        0.6718  7.9114\n",
      "    211        0.0602       0.8495            0.8464        0.6795  7.9467\n",
      "    212        0.0625       0.8495            0.8458        0.6982  7.9545\n",
      "    213        0.0575       0.8468            0.8432        0.6992  7.9223\n",
      "    214        \u001b[36m0.0547\u001b[0m       0.8509            0.8475        0.6892  7.9087\n",
      "    215        0.0579       0.8509            0.8477        0.7246  7.9204\n",
      "    216        \u001b[36m0.0523\u001b[0m       0.8509            0.8490        0.7102  7.9189\n",
      "    217        0.0559       0.8536            0.8501        0.7132  7.9334\n",
      "    218        0.0604       0.8509            0.8452        0.7664  7.9132\n",
      "    219        \u001b[36m0.0511\u001b[0m       0.8495            0.8433        0.7487  7.9535\n",
      "    220        0.0566       0.8358            0.8301        0.7829  7.8997\n",
      "    221        \u001b[36m0.0483\u001b[0m       0.8509            0.8469        0.8091  7.9135\n",
      "    222        0.0516       0.8386            0.8352        0.7801  7.9024\n",
      "    223        \u001b[36m0.0461\u001b[0m       0.8523            0.8474        0.7602  7.9543\n",
      "    224        0.0479       0.8440            0.8388        0.7577  7.8983\n",
      "    225        0.0566       0.8440            0.8415        0.7619  7.8766\n",
      "    226        0.0503       0.8413            0.8379        0.7799  7.9352\n",
      "    227        0.0570       0.8536            0.8493        0.7659  7.9290\n",
      "    228        0.0560       0.8399            0.8350        0.7664  7.9200\n",
      "    229        0.0530       0.8454            0.8405        0.8222  7.9386\n",
      "    230        0.0488       0.8468            0.8430        0.7852  7.9122\n",
      "    231        \u001b[36m0.0447\u001b[0m       0.8536            0.8511        0.8016  7.9578\n",
      "    232        0.0553       0.8468            0.8440        0.7966  7.9156\n",
      "    233        0.0522       0.8386            0.8325        0.7438  7.8799\n",
      "    234        0.0460       0.8427            0.8377        0.7951  7.9511\n",
      "    235        0.0466       0.8509            0.8459        0.7623  7.8900\n",
      "    236        0.0463       0.8495            0.8461        0.8176  7.9383\n",
      "    237        \u001b[36m0.0441\u001b[0m       0.8482            0.8442        0.7731  7.9362\n",
      "    238        0.0506       0.8427            0.8391        0.7980  7.9583\n",
      "    239        \u001b[36m0.0424\u001b[0m       0.8495            0.8457        0.8209  7.9560\n",
      "    240        0.0514       0.8413            0.8370        0.7877  7.9158\n",
      "    241        0.0473       0.8536            0.8487        0.7719  7.9384\n",
      "    242        0.0436       0.8413            0.8358        0.8995  7.8394\n",
      "    243        0.0504       0.8440            0.8409        0.7950  7.8725\n",
      "    244        0.0519       0.8454            0.8428        0.7832  7.8784\n",
      "    245        0.0503       0.8454            0.8400        0.7936  7.8707\n",
      "    246        0.0515       0.8372            0.8350        0.8081  7.9018\n",
      "    247        0.0460       0.8509            0.8484        0.7795  7.9156\n",
      "    248        0.0446       0.8427            0.8393        0.8527  7.8825\n",
      "    249        \u001b[36m0.0406\u001b[0m       0.8386            0.8339        0.8243  7.9331\n",
      "    250        0.0485       0.8495            0.8475        0.8136  7.9273\n",
      "    251        0.0442       0.8523            0.8481        0.8561  7.9600\n",
      "    252        0.0461       0.8577            0.8527        0.8572  7.9358\n",
      "    253        0.0441       0.8331            0.8281        0.9091  7.9060\n",
      "    254        0.0413       0.8495            0.8461        0.8505  7.9263\n",
      "    255        0.0515       0.8509            0.8450        0.8896  7.8883\n",
      "    256        \u001b[36m0.0340\u001b[0m       0.8523            0.8478        0.8409  7.9099\n",
      "    257        0.0371       0.8550            0.8517        0.8340  7.9055\n",
      "    258        0.0436       0.8482            0.8470        0.8729  7.9428\n",
      "    259        0.0435       0.8440            0.8419        0.9088  8.0264\n",
      "    260        0.0387       0.8345            0.8302        0.9439  7.9424\n",
      "    261        0.0407       0.8509            0.8486        0.8761  7.9716\n",
      "    262        0.0426       0.8454            0.8400        0.8441  7.9647\n",
      "    263        0.0441       0.8358            0.8313        0.9324  7.8555\n",
      "    264        0.0387       0.8386            0.8352        0.9824  8.0230\n",
      "    265        0.0534       0.8454            0.8428        0.8784  7.8990\n",
      "    266        0.0434       0.8550            0.8523        0.8698  7.9349\n",
      "    267        0.0392       0.8550            0.8522        0.8663  7.9568\n",
      "    268        0.0345       0.8564            0.8539        0.8734  7.9049\n",
      "    269        \u001b[36m0.0295\u001b[0m       0.8536            0.8508        0.8785  7.9620\n",
      "    270        0.0437       0.8482            0.8457        0.8900  7.9257\n",
      "    271        \u001b[36m0.0271\u001b[0m       0.8536            0.8508        0.8713  7.9003\n",
      "    272        0.0288       0.8495            0.8470        0.8660  7.8926\n",
      "    273        0.0297       0.8618            0.8594        0.8666  7.8752\n",
      "    274        \u001b[36m0.0238\u001b[0m       0.8495            0.8468        0.8760  7.8827\n",
      "    275        0.0282       0.8523            0.8499        0.8322  7.8415\n",
      "    276        0.0284       0.8523            0.8503        0.8583  7.9052\n",
      "    277        0.0263       0.8564            0.8535        0.8361  7.9526\n",
      "    278        0.0354       0.8618            0.8585        0.8353  7.9119\n",
      "    279        0.0307       0.8577            0.8552        0.8519  7.9269\n",
      "    280        0.0352       0.8536            0.8511        0.8357  7.9016\n",
      "    281        0.0303       0.8523            0.8493        0.8783  7.9292\n",
      "    282        0.0267       0.8482            0.8451        0.9033  7.8711\n",
      "    283        0.0281       0.8440            0.8402        0.8876  7.9135\n",
      "    284        \u001b[36m0.0237\u001b[0m       0.8509            0.8479        0.8598  7.8926\n",
      "    285        0.0307       0.8482            0.8448        0.8635  7.9050\n",
      "    286        0.0267       0.8536            0.8509        0.8968  7.9341\n",
      "    287        0.0265       0.8468            0.8431        0.8800  7.9451\n",
      "    288        0.0305       0.8509            0.8473        0.8704  7.9208\n",
      "    289        0.0260       0.8523            0.8490        0.8714  7.9515\n",
      "    290        0.0269       0.8536            0.8507        0.8759  7.8923\n",
      "    291        0.0273       0.8482            0.8455        0.8934  7.8967\n",
      "    292        0.0281       0.8536            0.8501        0.8790  7.9554\n",
      "    293        0.0279       0.8536            0.8508        0.8674  7.9180\n",
      "Stopping since valid_f1_macro has not improved in the last 100 epochs.\n"
     ]
    }
   ],
   "source": [
    "model = model.fit(train_dataset, y = None)"
   ]
  },
  {
   "cell_type": "code",
   "execution_count": null,
   "metadata": {},
   "outputs": [],
   "source": []
  },
  {
   "cell_type": "code",
   "execution_count": 54,
   "metadata": {},
   "outputs": [],
   "source": [
    "## START from here"
   ]
  },
  {
   "cell_type": "code",
   "execution_count": 55,
   "metadata": {},
   "outputs": [
    {
     "name": "stdout",
     "output_type": "stream",
     "text": [
      "              precision    recall  f1-score   support\n",
      "\n",
      "           0       0.97      0.98      0.97        89\n",
      "           1       0.88      0.88      0.88        94\n",
      "           2       0.82      0.83      0.82        70\n",
      "           3       0.83      0.92      0.87        88\n",
      "           4       0.87      0.73      0.79        74\n",
      "           5       0.67      0.70      0.68        69\n",
      "           6       0.74      0.78      0.76        94\n",
      "           7       0.91      0.88      0.89        82\n",
      "           8       0.96      0.90      0.93        71\n",
      "\n",
      "    accuracy                           0.85       731\n",
      "   macro avg       0.85      0.84      0.85       731\n",
      "weighted avg       0.85      0.85      0.85       731\n",
      "\n",
      "------------------------------------------------------------\n",
      "matthews correlation coeff: 0.8290\n",
      "Cohen Kappa score: 0.8288\n",
      "Accuracy: 0.8482 & balanced Accuracy: 0.8434\n",
      "macro F1 score: 0.8451 & micro F1 score: 0.8482\n",
      "macro Precision score: 0.8491 & micro Precision score: 0.8482\n",
      "macro Recall score: 0.8434 & micro Recall score: 0.8482\n"
     ]
    },
    {
     "data": {
      "image/png": "[encoded data removed]",
      "text/plain": [
       "<Figure size 432x288 with 2 Axes>"
      ]
     },
     "metadata": {
      "needs_background": "light"
     },
     "output_type": "display_data"
    },
    {
     "name": "stdout",
     "output_type": "stream",
     "text": [
      "------------------------------------------------------------\n"
     ]
    }
   ],
   "source": [
    "preds = model.predict(validation_dataset_resnet_18)\n",
    "\n",
    "classification_complete_report([label_map[t] for t in validation_dataset_resnet_18.metadata.label], \n",
    "                               preds  )"
   ]
  },
  {
   "cell_type": "code",
   "execution_count": 56,
   "metadata": {},
   "outputs": [
    {
     "data": {
      "text/plain": [
       "['B_cell',\n",
       " 'T_cell',\n",
       " 'T_cell_with_signaling',\n",
       " 'T_cell_with_B_cell_fragments',\n",
       " 'B_T_cell_in_one_layer',\n",
       " 'Synapses_without_signaling',\n",
       " 'Synapses_with_signaling',\n",
       " 'No_cell_cell_interaction',\n",
       " 'Multiplets']"
      ]
     },
     "execution_count": 56,
     "metadata": {},
     "output_type": "execute_result"
    }
   ],
   "source": [
    "set_of_interesting_classes"
   ]
  },
  {
   "cell_type": "code",
   "execution_count": 57,
   "metadata": {},
   "outputs": [
    {
     "name": "stdout",
     "output_type": "stream",
     "text": [
      "              precision    recall  f1-score   support\n",
      "\n",
      "           0       0.96      0.99      0.97       190\n",
      "           1       0.91      0.89      0.90       200\n",
      "           2       0.86      0.84      0.85       148\n",
      "           3       0.90      0.92      0.91       189\n",
      "           4       0.85      0.91      0.88       161\n",
      "           5       0.61      0.73      0.67       147\n",
      "           6       0.78      0.77      0.77       196\n",
      "           7       0.94      0.91      0.92       182\n",
      "           8       0.97      0.77      0.86       154\n",
      "\n",
      "    accuracy                           0.86      1567\n",
      "   macro avg       0.86      0.86      0.86      1567\n",
      "weighted avg       0.87      0.86      0.86      1567\n",
      "\n",
      "------------------------------------------------------------\n",
      "matthews correlation coeff: 0.8451\n",
      "Cohen Kappa score: 0.8447\n",
      "Accuracy: 0.8622 & balanced Accuracy: 0.8577\n",
      "macro F1 score: 0.8590 & micro F1 score: 0.8622\n",
      "macro Precision score: 0.8646 & micro Precision score: 0.8622\n",
      "macro Recall score: 0.8577 & micro Recall score: 0.8622\n"
     ]
    },
    {
     "data": {
      "image/png": "[encoded data removed]",
      "text/plain": [
       "<Figure size 432x288 with 2 Axes>"
      ]
     },
     "metadata": {
      "needs_background": "light"
     },
     "output_type": "display_data"
    },
    {
     "name": "stdout",
     "output_type": "stream",
     "text": [
      "------------------------------------------------------------\n"
     ]
    }
   ],
   "source": [
    "preds = model.predict(test_dataset_resnet_18)\n",
    "#preds =  [inv_map[int(t)] for t in preds]\n",
    "\n",
    "classification_complete_report([label_map[t] for t in test_dataset_resnet_18.metadata.label],  preds   )"
   ]
  },
  {
   "cell_type": "code",
   "execution_count": null,
   "metadata": {},
   "outputs": [],
   "source": []
  },
  {
   "cell_type": "code",
   "execution_count": null,
   "metadata": {},
   "outputs": [],
   "source": []
  },
  {
   "cell_type": "code",
   "execution_count": null,
   "metadata": {},
   "outputs": [],
   "source": []
  }
 ],
 "metadata": {
  "kernelspec": {
   "display_name": "skorch",
   "language": "python",
   "name": "skorch"
  },
  "language_info": {
   "codemirror_mode": {
    "name": "ipython",
    "version": 3
   },
   "file_extension": ".py",
   "mimetype": "text/x-python",
   "name": "python",
   "nbconvert_exporter": "python",
   "pygments_lexer": "ipython3",
   "version": "3.8.3"
  }
 },
 "nbformat": 4,
 "nbformat_minor": 4
}
