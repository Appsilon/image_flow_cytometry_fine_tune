{
 "cells": [
  {
   "cell_type": "code",
   "execution_count": 1,
   "metadata": {},
   "outputs": [],
   "source": [
    "#!pip -q install /pstore/home/shetabs1/code/iflai/"
   ]
  },
  {
   "cell_type": "code",
   "execution_count": null,
   "metadata": {},
   "outputs": [],
   "source": []
  },
  {
   "cell_type": "code",
   "execution_count": 2,
   "metadata": {},
   "outputs": [],
   "source": [
    "import pandas as pd\n",
    "import matplotlib.pyplot as plt\n",
    "import seaborn as sns\n",
    "import numpy as np\n",
    "import skorch\n",
    "import torch\n",
    "from skorch import NeuralNetClassifier\n",
    "from tqdm import tqdm\n",
    "from torchvision import transforms\n",
    "import torch.nn as nn\n",
    "from scipy.stats import entropy\n",
    "import random\n",
    "import h5py\n",
    "from sklearn.cluster import KMeans\n",
    "from sklearn.preprocessing import MinMaxScaler, StandardScaler\n",
    "from sklearn.cluster import FeatureAgglomeration"
   ]
  },
  {
   "cell_type": "code",
   "execution_count": 3,
   "metadata": {},
   "outputs": [],
   "source": [
    "from scifAI.dl.utils import train_validation_test_split\n",
    "from scifAI.dl.dataset import DatasetGenerator\n",
    "from scifAI.dl.utils import get_statistics"
   ]
  },
  {
   "cell_type": "code",
   "execution_count": 4,
   "metadata": {},
   "outputs": [],
   "source": [
    "from scifAI.dl.models import PretrainedModel\n",
    "from skorch.callbacks import LRScheduler,Checkpoint,EpochScoring,EarlyStopping\n",
    "import torch.optim as optim\n",
    "from skorch.helper import predefined_split"
   ]
  },
  {
   "cell_type": "code",
   "execution_count": 5,
   "metadata": {},
   "outputs": [],
   "source": [
    "\n",
    "\n",
    "# Compare Algorithms\n",
    "import matplotlib.pyplot as plt\n",
    "from sklearn import preprocessing\n",
    "from sklearn.model_selection import train_test_split\n",
    "from sklearn import model_selection\n",
    "from sklearn.linear_model import LogisticRegression\n",
    "from sklearn.tree import DecisionTreeClassifier\n",
    "from sklearn.neighbors import KNeighborsClassifier\n",
    "from sklearn.discriminant_analysis import LinearDiscriminantAnalysis\n",
    "from sklearn.naive_bayes import GaussianNB\n",
    "from sklearn.svm import SVC\n",
    "from sklearn.ensemble import RandomForestClassifier\n",
    "from sklearn.ensemble import GradientBoostingClassifier\n",
    "from sklearn.preprocessing import MinMaxScaler, StandardScaler\n",
    "from sklearn.linear_model import SGDClassifier\n",
    "from sklearn.semi_supervised import LabelPropagation\n",
    "from sklearn.ensemble import GradientBoostingClassifier\n",
    "from sklearn.discriminant_analysis import LinearDiscriminantAnalysis\n",
    "from sklearn.ensemble import VotingClassifier\n",
    "from sklearn.ensemble import GradientBoostingClassifier\n",
    "from sklearn.neural_network import MLPClassifier\n",
    "from xgboost import XGBClassifier"
   ]
  },
  {
   "cell_type": "code",
   "execution_count": 6,
   "metadata": {},
   "outputs": [],
   "source": [
    "from sklearn.random_projection import GaussianRandomProjection"
   ]
  },
  {
   "cell_type": "code",
   "execution_count": 7,
   "metadata": {},
   "outputs": [],
   "source": [
    "from sklearn.metrics import plot_confusion_matrix, matthews_corrcoef, classification_report,confusion_matrix, accuracy_score, balanced_accuracy_score, cohen_kappa_score, f1_score,  precision_score, recall_score\n",
    "from statsmodels.stats.contingency_tables import mcnemar\n",
    "from sklearn.metrics import confusion_matrix,ConfusionMatrixDisplay\n",
    "\n",
    "\n",
    "def classification_complete_report(y_true, y_pred ,labels = None  ): \n",
    "    print(classification_report(y_true, y_pred, labels = labels))\n",
    "    print(15*\"----\")\n",
    "    print(\"matthews correlation coeff: %.4f\" % (matthews_corrcoef(y_true, y_pred)) )\n",
    "    print(\"Cohen Kappa score: %.4f\" % (cohen_kappa_score(y_true, y_pred)) )\n",
    "    print(\"Accuracy: %.4f & balanced Accuracy: %.4f\" % (accuracy_score(y_true, y_pred), balanced_accuracy_score(y_true, y_pred)) )\n",
    "    print(\"macro F1 score: %.4f & micro F1 score: %.4f\" % (f1_score(y_true, y_pred, average = \"macro\"), f1_score(y_true, y_pred, average = \"micro\")) )\n",
    "    print(\"macro Precision score: %.4f & micro Precision score: %.4f\" % (precision_score(y_true, y_pred, average = \"macro\"), precision_score(y_true, y_pred, average = \"micro\")) )\n",
    "    print(\"macro Recall score: %.4f & micro Recall score: %.4f\" % (recall_score(y_true, y_pred, average = \"macro\"), recall_score(y_true, y_pred, average = \"micro\")) )\n",
    "    cm = confusion_matrix(y_true, y_pred,labels= labels)\n",
    "    disp = ConfusionMatrixDisplay(confusion_matrix=cm, display_labels=labels)\n",
    "    disp.plot(cmap=plt.cm.Blues)\n",
    "    plt.show()\n",
    "    print(15*\"----\")"
   ]
  },
  {
   "cell_type": "code",
   "execution_count": 8,
   "metadata": {},
   "outputs": [
    {
     "name": "stderr",
     "output_type": "stream",
     "text": [
      "/pstore/apps/Python/3.8.3-2020.07/lib/python3.8/site-packages/IPython/core/interactiveshell.py:3071: DtypeWarning: Columns (6) have mixed types.Specify dtype option on import or set low_memory=False.\n",
      "  has_raised = await self.run_ast_nodes(code_ast.body, cell_name,\n"
     ]
    },
    {
     "data": {
      "text/html": [
       "<div>\n",
       "<style scoped>\n",
       "    .dataframe tbody tr th:only-of-type {\n",
       "        vertical-align: middle;\n",
       "    }\n",
       "\n",
       "    .dataframe tbody tr th {\n",
       "        vertical-align: top;\n",
       "    }\n",
       "\n",
       "    .dataframe thead th {\n",
       "        text-align: right;\n",
       "    }\n",
       "</style>\n",
       "<table border=\"1\" class=\"dataframe\">\n",
       "  <thead>\n",
       "    <tr style=\"text-align: right;\">\n",
       "      <th></th>\n",
       "      <th>file</th>\n",
       "      <th>experiment</th>\n",
       "      <th>donor</th>\n",
       "      <th>condition</th>\n",
       "      <th>object_number</th>\n",
       "      <th>set</th>\n",
       "      <th>label</th>\n",
       "    </tr>\n",
       "  </thead>\n",
       "  <tbody>\n",
       "    <tr>\n",
       "      <th>0</th>\n",
       "      <td>/pstore/data/DS4/synapse_formation_full_data/E...</td>\n",
       "      <td>Experiment_1</td>\n",
       "      <td>Donor_1</td>\n",
       "      <td>+SEA</td>\n",
       "      <td>5156</td>\n",
       "      <td>unlabeled</td>\n",
       "      <td>-1</td>\n",
       "    </tr>\n",
       "    <tr>\n",
       "      <th>1</th>\n",
       "      <td>/pstore/data/DS4/synapse_formation_full_data/E...</td>\n",
       "      <td>Experiment_1</td>\n",
       "      <td>Donor_1</td>\n",
       "      <td>+SEA</td>\n",
       "      <td>32020</td>\n",
       "      <td>unlabeled</td>\n",
       "      <td>-1</td>\n",
       "    </tr>\n",
       "    <tr>\n",
       "      <th>2</th>\n",
       "      <td>/pstore/data/DS4/synapse_formation_full_data/E...</td>\n",
       "      <td>Experiment_1</td>\n",
       "      <td>Donor_1</td>\n",
       "      <td>+SEA</td>\n",
       "      <td>55974</td>\n",
       "      <td>unlabeled</td>\n",
       "      <td>-1</td>\n",
       "    </tr>\n",
       "    <tr>\n",
       "      <th>3</th>\n",
       "      <td>/pstore/data/DS4/synapse_formation_full_data/E...</td>\n",
       "      <td>Experiment_1</td>\n",
       "      <td>Donor_1</td>\n",
       "      <td>+SEA</td>\n",
       "      <td>15150</td>\n",
       "      <td>unlabeled</td>\n",
       "      <td>-1</td>\n",
       "    </tr>\n",
       "    <tr>\n",
       "      <th>4</th>\n",
       "      <td>/pstore/data/DS4/synapse_formation_full_data/E...</td>\n",
       "      <td>Experiment_1</td>\n",
       "      <td>Donor_1</td>\n",
       "      <td>+SEA</td>\n",
       "      <td>44814</td>\n",
       "      <td>unlabeled</td>\n",
       "      <td>-1</td>\n",
       "    </tr>\n",
       "    <tr>\n",
       "      <th>...</th>\n",
       "      <td>...</td>\n",
       "      <td>...</td>\n",
       "      <td>...</td>\n",
       "      <td>...</td>\n",
       "      <td>...</td>\n",
       "      <td>...</td>\n",
       "      <td>...</td>\n",
       "    </tr>\n",
       "    <tr>\n",
       "      <th>1065962</th>\n",
       "      <td>/pstore/data/DS4/synapse_formation_full_data/E...</td>\n",
       "      <td>Experiment_4</td>\n",
       "      <td>Donor_9</td>\n",
       "      <td>DIG-TCB</td>\n",
       "      <td>72493</td>\n",
       "      <td>unlabeled</td>\n",
       "      <td>-1</td>\n",
       "    </tr>\n",
       "    <tr>\n",
       "      <th>1065963</th>\n",
       "      <td>/pstore/data/DS4/synapse_formation_full_data/E...</td>\n",
       "      <td>Experiment_4</td>\n",
       "      <td>Donor_9</td>\n",
       "      <td>DIG-TCB</td>\n",
       "      <td>106656</td>\n",
       "      <td>unlabeled</td>\n",
       "      <td>-1</td>\n",
       "    </tr>\n",
       "    <tr>\n",
       "      <th>1065964</th>\n",
       "      <td>/pstore/data/DS4/synapse_formation_full_data/E...</td>\n",
       "      <td>Experiment_4</td>\n",
       "      <td>Donor_9</td>\n",
       "      <td>DIG-TCB</td>\n",
       "      <td>110990</td>\n",
       "      <td>unlabeled</td>\n",
       "      <td>-1</td>\n",
       "    </tr>\n",
       "    <tr>\n",
       "      <th>1065965</th>\n",
       "      <td>/pstore/data/DS4/synapse_formation_full_data/E...</td>\n",
       "      <td>Experiment_4</td>\n",
       "      <td>Donor_9</td>\n",
       "      <td>DIG-TCB</td>\n",
       "      <td>71451</td>\n",
       "      <td>unlabeled</td>\n",
       "      <td>-1</td>\n",
       "    </tr>\n",
       "    <tr>\n",
       "      <th>1065966</th>\n",
       "      <td>/pstore/data/DS4/synapse_formation_full_data/E...</td>\n",
       "      <td>Experiment_4</td>\n",
       "      <td>Donor_9</td>\n",
       "      <td>DIG-TCB</td>\n",
       "      <td>111837</td>\n",
       "      <td>unlabeled</td>\n",
       "      <td>-1</td>\n",
       "    </tr>\n",
       "  </tbody>\n",
       "</table>\n",
       "<p>1065967 rows × 7 columns</p>\n",
       "</div>"
      ],
      "text/plain": [
       "                                                      file    experiment  \\\n",
       "0        /pstore/data/DS4/synapse_formation_full_data/E...  Experiment_1   \n",
       "1        /pstore/data/DS4/synapse_formation_full_data/E...  Experiment_1   \n",
       "2        /pstore/data/DS4/synapse_formation_full_data/E...  Experiment_1   \n",
       "3        /pstore/data/DS4/synapse_formation_full_data/E...  Experiment_1   \n",
       "4        /pstore/data/DS4/synapse_formation_full_data/E...  Experiment_1   \n",
       "...                                                    ...           ...   \n",
       "1065962  /pstore/data/DS4/synapse_formation_full_data/E...  Experiment_4   \n",
       "1065963  /pstore/data/DS4/synapse_formation_full_data/E...  Experiment_4   \n",
       "1065964  /pstore/data/DS4/synapse_formation_full_data/E...  Experiment_4   \n",
       "1065965  /pstore/data/DS4/synapse_formation_full_data/E...  Experiment_4   \n",
       "1065966  /pstore/data/DS4/synapse_formation_full_data/E...  Experiment_4   \n",
       "\n",
       "           donor condition  object_number        set label  \n",
       "0        Donor_1      +SEA           5156  unlabeled    -1  \n",
       "1        Donor_1      +SEA          32020  unlabeled    -1  \n",
       "2        Donor_1      +SEA          55974  unlabeled    -1  \n",
       "3        Donor_1      +SEA          15150  unlabeled    -1  \n",
       "4        Donor_1      +SEA          44814  unlabeled    -1  \n",
       "...          ...       ...            ...        ...   ...  \n",
       "1065962  Donor_9   DIG-TCB          72493  unlabeled    -1  \n",
       "1065963  Donor_9   DIG-TCB         106656  unlabeled    -1  \n",
       "1065964  Donor_9   DIG-TCB         110990  unlabeled    -1  \n",
       "1065965  Donor_9   DIG-TCB          71451  unlabeled    -1  \n",
       "1065966  Donor_9   DIG-TCB         111837  unlabeled    -1  \n",
       "\n",
       "[1065967 rows x 7 columns]"
      ]
     },
     "execution_count": 8,
     "metadata": {},
     "output_type": "execute_result"
    }
   ],
   "source": [
    "metadata = pd.read_csv(\"/pstore/data/DS4/synapse_data_features/metadata_subset.csv.gz\")\n",
    "metadata"
   ]
  },
  {
   "cell_type": "code",
   "execution_count": 9,
   "metadata": {},
   "outputs": [
    {
     "data": {
      "text/plain": [
       "array(['unlabeled', 'labeled', 'train', 'test', 'validation'],\n",
       "      dtype=object)"
      ]
     },
     "execution_count": 9,
     "metadata": {},
     "output_type": "execute_result"
    }
   ],
   "source": [
    "metadata.set.unique()"
   ]
  },
  {
   "cell_type": "code",
   "execution_count": 10,
   "metadata": {},
   "outputs": [],
   "source": [
    "indx = metadata.condition.isin([\"-SEA\",\"+SEA\"])\n",
    "metadata = metadata.loc[indx, :].reset_index(drop = True )"
   ]
  },
  {
   "cell_type": "code",
   "execution_count": null,
   "metadata": {},
   "outputs": [],
   "source": []
  },
  {
   "cell_type": "code",
   "execution_count": 11,
   "metadata": {},
   "outputs": [],
   "source": [
    "set_of_interesting_classes = ['B_cell',  \n",
    "                              'T_cell', \n",
    "                              'T_cell_with_signaling',\n",
    "                              'T_cell_with_B_cell_fragments',\n",
    "                              'B_T_cell_in_one_layer',\n",
    "                              'Synapses_without_signaling', \n",
    "                              'Synapses_with_signaling',\n",
    "                              'No_cell_cell_interaction',\n",
    "                              'Multiplets']"
   ]
  },
  {
   "cell_type": "code",
   "execution_count": 12,
   "metadata": {},
   "outputs": [
    {
     "data": {
      "text/plain": [
       "array(['unlabeled', 'labeled', 'train', 'test', 'validation'],\n",
       "      dtype=object)"
      ]
     },
     "execution_count": 12,
     "metadata": {},
     "output_type": "execute_result"
    }
   ],
   "source": [
    "metadata[\"set\"].unique()"
   ]
  },
  {
   "cell_type": "code",
   "execution_count": 13,
   "metadata": {},
   "outputs": [],
   "source": [
    "unlabeled_index = metadata[\"set\"] == \"unlabeled\"\n",
    "unlabeled_index = unlabeled_index[unlabeled_index].index\n",
    "\n",
    " \n",
    "labeled_index = metadata[\"label\"].isin(set_of_interesting_classes)\n",
    "\n",
    "train_index = metadata[\"set\"] == \"train\"\n",
    "train_index = train_index & labeled_index\n",
    "train_index = train_index[train_index].index\n",
    "\n",
    "validation_index = metadata[\"set\"] == \"validation\"\n",
    "validation_index = validation_index & labeled_index\n",
    "validation_index = validation_index[validation_index].index\n",
    "\n",
    "test_index = metadata[\"set\"] == \"test\"\n",
    "test_index = test_index & labeled_index\n",
    "test_index = test_index[test_index].index"
   ]
  },
  {
   "cell_type": "code",
   "execution_count": null,
   "metadata": {},
   "outputs": [],
   "source": [
    " "
   ]
  },
  {
   "cell_type": "code",
   "execution_count": 14,
   "metadata": {},
   "outputs": [
    {
     "name": "stdout",
     "output_type": "stream",
     "text": [
      "Number of labeled images 5221\n"
     ]
    }
   ],
   "source": [
    "\n",
    "\n",
    "label_map = dict()\n",
    "for i, cl in enumerate(set_of_interesting_classes):\n",
    "    label_map[cl] = i\n",
    "\n",
    "label_map['-1'] = -1\n",
    "label_map[-1] = -1\n",
    "\n",
    "print(\"Number of labeled images\",labeled_index.sum())"
   ]
  },
  {
   "cell_type": "code",
   "execution_count": 15,
   "metadata": {},
   "outputs": [
    {
     "data": {
      "text/plain": [
       "{'B_cell': 0,\n",
       " 'T_cell': 1,\n",
       " 'T_cell_with_signaling': 2,\n",
       " 'T_cell_with_B_cell_fragments': 3,\n",
       " 'B_T_cell_in_one_layer': 4,\n",
       " 'Synapses_without_signaling': 5,\n",
       " 'Synapses_with_signaling': 6,\n",
       " 'No_cell_cell_interaction': 7,\n",
       " 'Multiplets': 8,\n",
       " '-1': -1,\n",
       " -1: -1}"
      ]
     },
     "execution_count": 15,
     "metadata": {},
     "output_type": "execute_result"
    }
   ],
   "source": [
    "label_map"
   ]
  },
  {
   "cell_type": "code",
   "execution_count": null,
   "metadata": {},
   "outputs": [],
   "source": []
  },
  {
   "cell_type": "code",
   "execution_count": 16,
   "metadata": {},
   "outputs": [],
   "source": [
    "channels = {\n",
    "     \"Ch1\": (\"Greys\", \"BF\"),  \n",
    "     \"Ch2\": (\"Greens\", \"Antibody\"),\n",
    "     \"Ch3\": (\"Reds\", \"CD18\"),\n",
    "     \"Ch4\": (\"Oranges\", \"F-Actin\"),\n",
    "     \"Ch6\": (\"RdPu\", \"MHCII\"),\n",
    "     \"Ch7\": (\"Purples\", \"CD3/CD4\"),\n",
    "     \"Ch11\": (\"Blues\", \"P-CD3zeta\"),\n",
    "     \"Ch12\": (\"Greens\", \"Live-Dead\")\n",
    " }"
   ]
  },
  {
   "cell_type": "code",
   "execution_count": null,
   "metadata": {},
   "outputs": [],
   "source": []
  },
  {
   "cell_type": "code",
   "execution_count": null,
   "metadata": {},
   "outputs": [],
   "source": []
  },
  {
   "cell_type": "code",
   "execution_count": 17,
   "metadata": {},
   "outputs": [],
   "source": [
    "reshape_size = 160\n",
    "deepflow_reshape_size = 64\n",
    "selected_channels = [0,3,4,5,6]\n",
    "\n",
    "stats = dict()\n",
    "\n",
    "stats[\"lower_bound\"] = torch.tensor([756.5198,52.5891,45.7574,54.1436,39.0545])\n",
    "stats[\"upper_bound\"] = torch.tensor([835.3564,288.1139,271.3861,234.2525,90.0396])"
   ]
  },
  {
   "cell_type": "code",
   "execution_count": 18,
   "metadata": {},
   "outputs": [],
   "source": [
    "class AddGaussianNoise(object):\n",
    "    def __init__(self, mean=0., std=1.):\n",
    "        self.std = std\n",
    "        self.mean = mean\n",
    "        \n",
    "    def __call__(self, tensor):\n",
    "        return tensor + torch.randn(tensor.size()) * self.std + self.mean\n",
    "    \n",
    "    def __repr__(self):\n",
    "        return self.__class__.__name__ + '(mean={0}, std={1})'.format(self.mean, self.std)"
   ]
  },
  {
   "cell_type": "code",
   "execution_count": 19,
   "metadata": {},
   "outputs": [],
   "source": [
    "class MinMaxScaler(object):\n",
    "    def __init__(self, min_in , max_in, min_out, max_out):\n",
    "        self.min_in = min_in.reshape(-1,1,1)\n",
    "        self.max_in = max_in.reshape(-1,1,1)\n",
    "        self.min_out = min_out\n",
    "        self.max_out = max_out\n",
    "        \n",
    "    def __call__(self, tensor):\n",
    "        \n",
    "        tensor_ = (tensor - self.min_in)/(self.max_in - self.min_in)\n",
    "        tensor_ = tensor_*(self.max_out - self.min_out) + self.min_out\n",
    "        tensor_[tensor_<self.min_out]= self.min_out\n",
    "        tensor_[tensor_>self.max_out]= self.max_out\n",
    "        return tensor_\n",
    "    \n",
    "    def __repr__(self):\n",
    "        return self.__class__.__name__ + '(min_out={0}, max_out={1})'.format(self.min_out, self.max_out)"
   ]
  },
  {
   "cell_type": "code",
   "execution_count": null,
   "metadata": {},
   "outputs": [],
   "source": []
  },
  {
   "cell_type": "code",
   "execution_count": 20,
   "metadata": {},
   "outputs": [],
   "source": [
    "import torch\n",
    "import torchvision\n",
    "import torch.nn as nn\n",
    "import torch.nn.functional as F\n",
    "\n",
    "\n",
    "class SimpleConvFactory(nn.Module):\n",
    "\n",
    "    def __init__(self, in_channels, out_channel, kernel, pad, stride):\n",
    "        super(SimpleConvFactory, self).__init__()\n",
    "        self.simple_conv_factory = nn.Sequential(\n",
    "            nn.Conv2d(in_channels, out_channel, kernel_size=kernel, padding=pad, stride=stride),\n",
    "            nn.BatchNorm2d(out_channel),\n",
    "            nn.ReLU(inplace=True)            \n",
    "        )\n",
    "\n",
    "    def forward(self, x):\n",
    "        x = self.simple_conv_factory(x)\n",
    "        return x\n",
    "\n",
    "class DualFactory(nn.Module):\n",
    "\n",
    "    def __init__(self, in_channels, out_channel_1, kernel_1, pad_1,stride_1,\n",
    "                                    out_channel_3, kernel_3, pad_3,stride_3):\n",
    "        super(DualFactory, self).__init__()\n",
    "        self.simple_conv_factory_1 = nn.Sequential(\n",
    "            nn.Conv2d(in_channels, out_channel_1, kernel_size=kernel_1, \n",
    "                                    padding=pad_1, stride=stride_1),\n",
    "            nn.BatchNorm2d(out_channel_1),\n",
    "            nn.ReLU(inplace=True)            \n",
    "        )\n",
    "        self.simple_conv_factory_3 = nn.Sequential(\n",
    "            nn.Conv2d(in_channels, out_channel_3, kernel_size=kernel_3, padding=pad_3,stride=stride_3),\n",
    "            nn.BatchNorm2d(out_channel_3),\n",
    "            nn.ReLU(inplace=True)            \n",
    "        )\n",
    "    def forward(self, x):\n",
    "        y_1 = self.simple_conv_factory_1(x)\n",
    "        y_3 = self.simple_conv_factory_3(x)\n",
    "        x = torch.cat((y_1, y_3), dim = 1)\n",
    "        return x\n",
    "\n",
    "class DualDownsampleFactory(nn.Module):\n",
    "\n",
    "    def __init__(self, in_channels, out_channel_3, kernel_3 = 3, pad_3 = 1, stride_3 = 2):\n",
    "        super(DualDownsampleFactory, self).__init__()\n",
    "        self.simple_conv_factory_3 = nn.Sequential(\n",
    "            nn.Conv2d(  in_channels, \n",
    "                        out_channel_3, \n",
    "                        kernel_size=kernel_3, \n",
    "                        padding=pad_3,\n",
    "                        stride = stride_3),\n",
    "            nn.BatchNorm2d(out_channel_3),\n",
    "            nn.ReLU(inplace=True)            \n",
    "        )\n",
    "        self.pool_3 = nn.Sequential(\n",
    "            nn.MaxPool2d(kernel_size = kernel_3, stride = stride_3, padding = pad_3)           \n",
    "        )\n",
    "    def forward(self, x):\n",
    "        y_1 = self.simple_conv_factory_3(x)\n",
    "        y_3 = self.pool_3(x)\n",
    "        x = torch.cat((y_1, y_3), dim = 1)\n",
    "        return x\n",
    "\n",
    "\n",
    "class DeepFlow(nn.Module):\n",
    "    def __init__(self,num_channels ,  num_classes):\n",
    "        super(DeepFlow, self).__init__()\n",
    "        \n",
    "        self.conv1 = SimpleConvFactory(num_channels, 96, 3, 1, 1)\n",
    "\n",
    "        self.in3a = DualFactory(96,     32, 1, 0,1,\n",
    "                                        32, 3, 1,1)\n",
    "        self.in3b = DualFactory(32+32,  32, 1, 0,1,\n",
    "                                        48, 3, 1,1)\n",
    "        self.in3c = DualDownsampleFactory(32+48, 80)\n",
    "\n",
    "        self.in4a = DualFactory(80+80,     112, 1, 0,1,\n",
    "                                        48, 3, 1,1)\n",
    "        self.in4b = DualFactory(112+48,     96, 1, 0,1,\n",
    "                                        64, 3, 1,1)\n",
    "        self.in4c = DualFactory(96+64,     80, 1, 0,1,\n",
    "                                        80, 3, 1,1)\n",
    "        self.in4d = DualFactory(80+80,     48, 1, 0,1,\n",
    "                                        96, 3, 1,1)\n",
    "        self.in4e = DualDownsampleFactory(48+96, 96)\n",
    "\n",
    "        self.in5a = DualFactory(240,  176, 1, 0,1,\n",
    "                                        160, 3, 1,1)\n",
    "        \n",
    "        self.in5b = DualFactory(176+160,    176, 1, 0,1,\n",
    "                                            160, 3, 1,1)\n",
    "\n",
    "        self.in6a = DualDownsampleFactory(176+160, 96)\n",
    "\n",
    "        self.in6b = DualFactory(432,  176, 1, 0,1,\n",
    "                                        160, 3, 1,1)\n",
    "        self.in6c = DualFactory(176+160,    176, 1, 0,1,\n",
    "                                            160, 3, 1,1)\n",
    "        \n",
    "        self.classifier =nn.Sequential(\n",
    "            nn.AvgPool2d(kernel_size = 8),\n",
    "            nn.Flatten(),\n",
    "            nn.Linear(336,num_classes)           \n",
    "        )\n",
    "    \n",
    "    def forward(self,x):\n",
    "        x = self.conv1(x)\n",
    "        x = self.in3a(x)\n",
    "        x = self.in3b(x)\n",
    "        x = self.in3c(x)\n",
    "        x = self.in4a(x)\n",
    "        x = self.in4b(x)\n",
    "        x = self.in4c(x)\n",
    "        x = self.in4d(x)\n",
    "        x = self.in4e(x)\n",
    "        x = self.in5a(x)\n",
    "        x = self.in5b(x)\n",
    "        x = self.in6a(x)\n",
    "        x = self.in6b(x)\n",
    "        x = self.in6c(x)\n",
    "        x = self.classifier(x)\n",
    "        return x"
   ]
  },
  {
   "cell_type": "code",
   "execution_count": 21,
   "metadata": {},
   "outputs": [],
   "source": [
    "deepflow = DeepFlow(len(selected_channels),len(set_of_interesting_classes))"
   ]
  },
  {
   "cell_type": "code",
   "execution_count": 22,
   "metadata": {},
   "outputs": [],
   "source": [
    "train_transform = transforms.Compose([ \n",
    "        MinMaxScaler(           min_in =  stats[\"lower_bound\"] , \n",
    "                                max_in =  stats[\"upper_bound\"] , \n",
    "                                min_out =  0. , \n",
    "                                max_out =  1.),\n",
    "        transforms.Resize(deepflow_reshape_size),\n",
    "        transforms.RandomResizedCrop(deepflow_reshape_size, scale=(0.6, 1.0), ratio=(0.8, 1.2)),\n",
    "        transforms.RandomHorizontalFlip(),\n",
    "        transforms.RandomVerticalFlip(),\n",
    "        AddGaussianNoise(mean=0., std=0.05),\n",
    "])\n",
    "\n",
    "\n",
    "\n",
    "train_dataset = DatasetGenerator(metadata.loc[train_index.tolist(),:], \n",
    "                                 reshape_size=reshape_size, \n",
    "                                 scaling_factor = 1.,\n",
    "                                label_map=label_map, \n",
    "                                 transform = train_transform,\n",
    "                                selected_channels=selected_channels)"
   ]
  },
  {
   "cell_type": "code",
   "execution_count": null,
   "metadata": {},
   "outputs": [],
   "source": []
  },
  {
   "cell_type": "code",
   "execution_count": 23,
   "metadata": {},
   "outputs": [
    {
     "data": {
      "text/plain": [
       "{'B_cell': 0,\n",
       " 'T_cell': 1,\n",
       " 'T_cell_with_signaling': 2,\n",
       " 'T_cell_with_B_cell_fragments': 3,\n",
       " 'B_T_cell_in_one_layer': 4,\n",
       " 'Synapses_without_signaling': 5,\n",
       " 'Synapses_with_signaling': 6,\n",
       " 'No_cell_cell_interaction': 7,\n",
       " 'Multiplets': 8,\n",
       " '-1': -1,\n",
       " -1: -1}"
      ]
     },
     "execution_count": 23,
     "metadata": {},
     "output_type": "execute_result"
    }
   ],
   "source": [
    "label_map"
   ]
  },
  {
   "cell_type": "code",
   "execution_count": 24,
   "metadata": {},
   "outputs": [
    {
     "name": "stdout",
     "output_type": "stream",
     "text": [
      "tensor(6)\n"
     ]
    },
    {
     "data": {
      "image/png": "[encoded data removed]",
      "text/plain": [
       "<Figure size 432x288 with 1 Axes>"
      ]
     },
     "metadata": {
      "needs_background": "light"
     },
     "output_type": "display_data"
    }
   ],
   "source": [
    "i = 40\n",
    "plt.imshow(train_dataset[i][0][0,:,:])\n",
    "print(train_dataset[i][1])"
   ]
  },
  {
   "cell_type": "code",
   "execution_count": 25,
   "metadata": {},
   "outputs": [],
   "source": [
    "validation_transforms =  transforms.Compose([ \n",
    "        MinMaxScaler(           min_in =  stats[\"lower_bound\"] , \n",
    "                                max_in =  stats[\"upper_bound\"] , \n",
    "                                min_out =  0. , \n",
    "                                max_out =  1.),\n",
    "        transforms.Resize(deepflow_reshape_size),\n",
    "        transforms.RandomHorizontalFlip(),\n",
    "        transforms.RandomVerticalFlip(),\n",
    "        AddGaussianNoise(mean=0., std=0.01),\n",
    "])\n",
    "\n",
    "test_transforms =  transforms.Compose([ \n",
    "        MinMaxScaler(           min_in =  stats[\"lower_bound\"] , \n",
    "                                max_in =  stats[\"upper_bound\"] , \n",
    "                                min_out =  0. , \n",
    "                                max_out =  1.),\n",
    "        transforms.Resize(deepflow_reshape_size),\n",
    "])\n",
    "\n",
    "validation_dataset = DatasetGenerator(metadata.loc[validation_index.tolist(),:],\n",
    "                                 reshape_size=reshape_size, \n",
    "                                label_map=label_map,\n",
    "                                 scaling_factor = 1.,\n",
    "                                transform=validation_transforms, \n",
    "                                selected_channels=selected_channels)\n",
    "\n",
    "test_dataset = DatasetGenerator(metadata.loc[test_index.tolist(),:],\n",
    "                                 reshape_size=reshape_size, \n",
    "                                label_map=label_map,\n",
    "                                 scaling_factor = 1.,\n",
    "                                transform=test_transforms, \n",
    "                                selected_channels=selected_channels)"
   ]
  },
  {
   "cell_type": "code",
   "execution_count": null,
   "metadata": {},
   "outputs": [],
   "source": []
  },
  {
   "cell_type": "code",
   "execution_count": null,
   "metadata": {},
   "outputs": [],
   "source": []
  },
  {
   "cell_type": "code",
   "execution_count": 26,
   "metadata": {},
   "outputs": [],
   "source": [
    "lr_scheduler = LRScheduler(policy='ReduceLROnPlateau', factor=0.1, patience=10)\n",
    "#checkpoint = Checkpoint(f_params='resnet_18_imagenet_pretraiend_supervised_learning.pth', monitor='valid_f1_macro')\n",
    "\n",
    "epoch_scoring = EpochScoring(\"f1_macro\", \n",
    "                             name =  \"valid_f1_macro\", \n",
    "                             on_train = False,\n",
    "                             lower_is_better = False)\n",
    "\n",
    "early_stopping = EarlyStopping(monitor='valid_f1_macro', \n",
    "                               patience=50, \n",
    "                               threshold=0.0001, \n",
    "                               threshold_mode='rel', \n",
    "                               lower_is_better=False)\n",
    "\n",
    "model = NeuralNetClassifier(    \n",
    "    deepflow, \n",
    "    criterion=nn.CrossEntropyLoss,\n",
    "    lr=0.01,\n",
    "    batch_size=32,\n",
    "    max_epochs=1000,\n",
    "    optimizer=optim.Adam,\n",
    "    iterator_train__shuffle=True,\n",
    "    iterator_train__num_workers=5,\n",
    "    iterator_valid__shuffle=False,\n",
    "    iterator_valid__num_workers=1,\n",
    "    callbacks=[lr_scheduler,epoch_scoring, early_stopping],\n",
    "    train_split=predefined_split(validation_dataset),\n",
    "    device=\"cuda\",\n",
    "    warm_start=True)"
   ]
  },
  {
   "cell_type": "code",
   "execution_count": 27,
   "metadata": {},
   "outputs": [
    {
     "name": "stdout",
     "output_type": "stream",
     "text": [
      "  epoch    train_loss    valid_acc    valid_f1_macro    valid_loss     dur\n",
      "-------  ------------  -----------  ----------------  ------------  ------\n",
      "      1        \u001b[36m1.4922\u001b[0m       \u001b[32m0.3420\u001b[0m            \u001b[35m0.2508\u001b[0m        \u001b[31m2.2796\u001b[0m  8.5949\n",
      "      2        \u001b[36m0.9855\u001b[0m       \u001b[32m0.6799\u001b[0m            \u001b[35m0.6596\u001b[0m        \u001b[31m0.8613\u001b[0m  8.3661\n",
      "      3        \u001b[36m0.7986\u001b[0m       0.6402            0.5841        \u001b[31m0.8263\u001b[0m  8.3287\n",
      "      4        \u001b[36m0.7721\u001b[0m       0.6512            0.5859        1.0049  8.3397\n",
      "      5        \u001b[36m0.7651\u001b[0m       \u001b[32m0.7250\u001b[0m            \u001b[35m0.7055\u001b[0m        \u001b[31m0.7069\u001b[0m  8.2935\n",
      "      6        \u001b[36m0.6901\u001b[0m       0.6238            0.5440        1.6767  8.2693\n",
      "      7        0.6908       0.7155            \u001b[35m0.7123\u001b[0m        0.7385  8.3851\n",
      "      8        \u001b[36m0.6612\u001b[0m       0.6813            0.6468        0.7385  8.3216\n",
      "      9        \u001b[36m0.6377\u001b[0m       0.6949            0.6605        0.8063  8.2708\n",
      "     10        \u001b[36m0.6154\u001b[0m       \u001b[32m0.7715\u001b[0m            \u001b[35m0.7597\u001b[0m        \u001b[31m0.6212\u001b[0m  8.3208\n",
      "     11        \u001b[36m0.5836\u001b[0m       0.7387            0.7316        0.6255  8.2668\n",
      "     12        \u001b[36m0.5637\u001b[0m       0.7702            0.7574        0.6387  8.3093\n",
      "     13        \u001b[36m0.5219\u001b[0m       0.7469            0.7198        0.7468  8.2887\n",
      "     14        \u001b[36m0.5041\u001b[0m       0.7551            0.7365        \u001b[31m0.5849\u001b[0m  8.3320\n",
      "     15        0.5153       0.7606            0.7352        0.6638  8.3252\n",
      "     16        \u001b[36m0.4950\u001b[0m       \u001b[32m0.7921\u001b[0m            \u001b[35m0.7924\u001b[0m        \u001b[31m0.5450\u001b[0m  8.3304\n",
      "     17        \u001b[36m0.4704\u001b[0m       0.7415            0.7263        0.7528  8.3679\n",
      "     18        \u001b[36m0.4674\u001b[0m       0.7729            0.7638        0.6280  8.3051\n",
      "     19        \u001b[36m0.4646\u001b[0m       0.7784            0.7703        0.6608  8.3078\n",
      "     20        \u001b[36m0.4384\u001b[0m       0.7702            0.7523        0.6524  8.3080\n",
      "     21        \u001b[36m0.4207\u001b[0m       0.6936            0.6742        1.0633  8.3586\n",
      "     22        0.4245       0.7825            0.7650        0.6028  8.3565\n",
      "     23        0.4234       \u001b[32m0.8030\u001b[0m            0.7897        0.5678  8.3151\n",
      "     24        \u001b[36m0.4093\u001b[0m       0.7948            \u001b[35m0.7936\u001b[0m        \u001b[31m0.5230\u001b[0m  8.3232\n",
      "     25        \u001b[36m0.4006\u001b[0m       \u001b[32m0.8276\u001b[0m            \u001b[35m0.8176\u001b[0m        \u001b[31m0.4887\u001b[0m  8.2831\n",
      "     26        \u001b[36m0.3989\u001b[0m       0.8057            0.7870        0.5423  8.3083\n",
      "     27        0.4116       0.8044            0.7942        \u001b[31m0.4722\u001b[0m  8.3254\n",
      "     28        \u001b[36m0.3755\u001b[0m       \u001b[32m0.8413\u001b[0m            \u001b[35m0.8358\u001b[0m        \u001b[31m0.4311\u001b[0m  8.2586\n",
      "     29        \u001b[36m0.3682\u001b[0m       0.8181            0.8186        0.4799  8.3215\n",
      "     30        0.3704       0.8413            0.8329        0.4445  8.3496\n",
      "     31        \u001b[36m0.3609\u001b[0m       0.8153            0.8110        0.6062  8.3014\n",
      "     32        \u001b[36m0.3563\u001b[0m       0.7715            0.7547        0.6313  8.3518\n",
      "     33        \u001b[36m0.3536\u001b[0m       0.8331            0.8305        \u001b[31m0.4119\u001b[0m  8.3160\n",
      "     34        \u001b[36m0.3358\u001b[0m       \u001b[32m0.8523\u001b[0m            \u001b[35m0.8440\u001b[0m        \u001b[31m0.4078\u001b[0m  8.3163\n",
      "     35        0.3498       \u001b[32m0.8673\u001b[0m            \u001b[35m0.8613\u001b[0m        \u001b[31m0.3772\u001b[0m  8.3137\n",
      "     36        0.3573       0.8112            0.8027        0.5813  8.3324\n",
      "     37        0.3443       \u001b[32m0.8700\u001b[0m            \u001b[35m0.8665\u001b[0m        \u001b[31m0.3571\u001b[0m  8.3746\n",
      "     38        \u001b[36m0.3228\u001b[0m       0.8044            0.8017        0.5986  8.3631\n",
      "     39        0.3440       0.8427            0.8400        0.4186  8.3348\n",
      "     40        \u001b[36m0.3129\u001b[0m       0.8345            0.8269        0.5347  8.3221\n",
      "     41        0.3149       0.8523            0.8449        0.4706  8.2971\n",
      "     42        0.3262       0.7907            0.7870        0.7310  8.2949\n",
      "     43        \u001b[36m0.3085\u001b[0m       0.8317            0.8233        0.4997  8.3429\n",
      "     44        0.3188       0.8167            0.8103        0.6112  8.3046\n",
      "     45        0.3327       0.7962            0.7887        0.5481  8.3645\n",
      "     46        0.3165       0.8386            0.8314        0.4906  8.3302\n",
      "     47        \u001b[36m0.2979\u001b[0m       \u001b[32m0.8741\u001b[0m            \u001b[35m0.8675\u001b[0m        0.3984  8.3220\n",
      "     48        \u001b[36m0.2867\u001b[0m       0.8646            0.8597        0.3996  8.3574\n",
      "     49        0.2985       0.8153            0.8051        0.6459  8.3055\n",
      "     50        0.3152       0.8728            0.8668        0.3948  8.2951\n",
      "     51        \u001b[36m0.2777\u001b[0m       0.8591            0.8551        0.4202  8.3218\n",
      "     52        0.3047       0.8550            0.8404        0.4234  8.3164\n",
      "     53        0.2985       0.8659            0.8625        \u001b[31m0.3547\u001b[0m  8.3067\n",
      "     54        0.2812       0.8523            0.8464        0.4922  8.3814\n",
      "     55        0.3131       0.8591            0.8552        0.4346  8.3367\n",
      "     56        \u001b[36m0.2724\u001b[0m       0.8728            \u001b[35m0.8679\u001b[0m        \u001b[31m0.3502\u001b[0m  8.3138\n",
      "     57        0.2924       0.8728            \u001b[35m0.8696\u001b[0m        0.3605  8.3689\n",
      "     58        0.2792       0.8098            0.8002        0.5739  8.3333\n",
      "     59        0.2844       \u001b[32m0.8755\u001b[0m            \u001b[35m0.8717\u001b[0m        0.3649  8.3249\n",
      "     60        0.2780       0.8536            0.8484        0.4744  8.3007\n",
      "     61        0.2727       0.8673            0.8636        0.3689  8.3200\n",
      "     62        \u001b[36m0.2527\u001b[0m       0.8550            0.8479        0.4541  8.3170\n",
      "     63        0.2683       0.8591            0.8545        0.4527  8.3080\n",
      "     64        0.2715       \u001b[32m0.8782\u001b[0m            0.8715        0.4414  8.3620\n",
      "     65        0.2682       0.8769            \u001b[35m0.8749\u001b[0m        0.3563  8.3165\n",
      "     66        \u001b[36m0.2443\u001b[0m       0.8700            0.8664        0.3766  8.3379\n",
      "     67        0.2489       0.8495            0.8480        0.4576  8.3557\n",
      "     68        0.2591       0.8659            0.8634        0.3855  8.3356\n",
      "     69        0.2506       0.8700            0.8650        0.3618  8.3499\n",
      "     70        0.2565       0.8687            0.8654        0.3923  8.2959\n",
      "     71        0.2444       0.8550            0.8517        0.4527  8.4123\n",
      "     72        0.2449       0.8659            0.8628        0.3889  8.3074\n",
      "     73        0.2521       0.8687            0.8614        0.3952  8.3328\n",
      "     74        0.2500       0.8646            0.8627        0.3680  8.2907\n",
      "     75        \u001b[36m0.2333\u001b[0m       0.8673            0.8654        0.4266  8.3501\n",
      "     76        0.2413       0.8728            0.8696        0.3692  8.3242\n",
      "     77        0.2468       0.8523            0.8480        0.4643  8.3071\n",
      "     78        \u001b[36m0.2328\u001b[0m       0.8591            0.8501        0.4610  8.3352\n",
      "     79        0.2548       0.8769            0.8721        0.4049  8.2692\n",
      "     80        0.2368       0.8714            0.8693        0.3959  8.3443\n",
      "     81        \u001b[36m0.2260\u001b[0m       0.8632            0.8578        0.4267  8.3995\n",
      "     82        0.2345       0.8673            0.8633        0.4262  8.3420\n",
      "     83        \u001b[36m0.2049\u001b[0m       \u001b[32m0.8878\u001b[0m            \u001b[35m0.8821\u001b[0m        0.3880  8.3263\n",
      "     84        0.2385       0.8591            0.8548        0.4461  8.3490\n",
      "     85        0.2411       0.8796            0.8717        0.4014  8.2843\n",
      "     86        \u001b[36m0.2023\u001b[0m       0.8659            0.8629        0.4520  8.3188\n",
      "     87        0.2314       0.8782            0.8693        0.3942  8.3306\n",
      "     88        0.2371       0.8782            0.8694        0.4528  8.3412\n",
      "     89        0.2237       0.8755            0.8695        0.3950  8.3198\n",
      "     90        0.2294       \u001b[32m0.8960\u001b[0m            \u001b[35m0.8927\u001b[0m        0.3788  8.3034\n",
      "     91        0.2049       0.8947            0.8881        0.3661  8.3541\n",
      "     92        0.2173       0.8810            0.8776        0.3940  8.2929\n",
      "     93        0.2223       0.8646            0.8621        0.4437  8.3108\n",
      "     94        0.2098       0.8741            0.8713        0.4430  8.3475\n",
      "     95        0.2134       0.8618            0.8557        0.4584  8.2963\n",
      "     96        0.2053       0.8687            0.8632        0.4196  8.3516\n"
     ]
    },
    {
     "name": "stdout",
     "output_type": "stream",
     "text": [
      "     97        0.2126       0.8782            0.8757        0.4380  8.3265\n",
      "     98        \u001b[36m0.1888\u001b[0m       0.8810            0.8779        0.3642  8.3082\n",
      "     99        \u001b[36m0.1609\u001b[0m       0.8837            0.8794        \u001b[31m0.3479\u001b[0m  8.3719\n",
      "    100        \u001b[36m0.1532\u001b[0m       0.8865            0.8822        0.3677  8.3882\n",
      "    101        \u001b[36m0.1452\u001b[0m       0.8947            0.8910        0.3518  8.3302\n",
      "    102        \u001b[36m0.1426\u001b[0m       0.8892            0.8856        \u001b[31m0.3267\u001b[0m  8.3154\n",
      "    103        0.1463       \u001b[32m0.8988\u001b[0m            \u001b[35m0.8959\u001b[0m        0.3290  8.2928\n",
      "    104        \u001b[36m0.1356\u001b[0m       0.8892            0.8855        0.3620  8.3699\n",
      "    105        0.1415       \u001b[32m0.9015\u001b[0m            \u001b[35m0.8987\u001b[0m        0.3468  8.3592\n",
      "    106        0.1359       0.8933            0.8910        0.3864  8.3760\n",
      "    107        \u001b[36m0.1352\u001b[0m       0.8906            0.8874        0.3616  8.3519\n",
      "    108        \u001b[36m0.1324\u001b[0m       0.8919            0.8895        0.3595  8.3188\n",
      "    109        0.1354       0.8906            0.8871        0.3717  8.2929\n",
      "    110        0.1340       0.8974            0.8944        0.3565  8.3101\n",
      "    111        \u001b[36m0.1284\u001b[0m       0.8933            0.8895        0.3792  8.2989\n",
      "    112        \u001b[36m0.1226\u001b[0m       0.8919            0.8887        0.3825  8.3219\n",
      "    113        0.1270       0.8919            0.8885        0.3607  8.3270\n",
      "    114        0.1330       \u001b[32m0.9056\u001b[0m            \u001b[35m0.9034\u001b[0m        0.3670  8.3142\n",
      "    115        0.1341       0.8974            0.8938        0.3686  8.3300\n",
      "    116        0.1309       0.8919            0.8890        0.3935  8.3295\n",
      "    117        0.1339       0.8892            0.8861        0.3674  8.3331\n",
      "    118        0.1254       0.9001            0.8969        0.3542  8.3088\n",
      "    119        0.1305       0.8974            0.8947        0.3613  8.2813\n",
      "    120        0.1245       0.8947            0.8918        0.3949  8.3082\n",
      "    121        \u001b[36m0.1203\u001b[0m       0.8974            0.8944        0.4003  8.3363\n",
      "    122        0.1347       0.8974            0.8936        0.3883  8.3320\n",
      "    123        0.1310       0.8933            0.8893        0.3939  8.3419\n",
      "    124        \u001b[36m0.1176\u001b[0m       0.9015            0.8982        0.3981  8.3296\n",
      "    125        0.1183       0.8974            0.8945        0.3956  8.3785\n",
      "    126        \u001b[36m0.1160\u001b[0m       0.8919            0.8886        0.4195  8.3841\n",
      "    127        0.1223       0.9015            0.8991        0.3825  8.3064\n",
      "    128        0.1270       0.9042            0.9015        0.3792  8.3314\n",
      "    129        \u001b[36m0.1152\u001b[0m       0.9001            0.8969        0.3714  8.3275\n",
      "    130        \u001b[36m0.1141\u001b[0m       0.8865            0.8833        0.4272  8.4436\n",
      "    131        0.1320       0.8974            0.8946        0.4016  8.3291\n",
      "    132        \u001b[36m0.1112\u001b[0m       0.8974            0.8945        0.3944  8.3199\n",
      "    133        \u001b[36m0.1078\u001b[0m       0.9015            0.8993        0.3619  8.3262\n",
      "    134        0.1182       0.8960            0.8927        0.3758  8.2839\n",
      "    135        0.1171       0.8960            0.8924        0.4256  8.3660\n",
      "    136        0.1197       0.8960            0.8934        0.4211  8.3244\n",
      "    137        0.1154       0.8988            0.8948        0.4193  8.3220\n",
      "    138        0.1221       0.8960            0.8927        0.4015  8.3205\n",
      "    139        0.1221       0.8988            0.8954        0.3986  8.3100\n",
      "    140        \u001b[36m0.1074\u001b[0m       0.9042            0.9014        0.4176  8.3536\n",
      "    141        0.1190       0.9015            0.8979        0.4176  8.3024\n",
      "    142        \u001b[36m0.1040\u001b[0m       0.9001            0.8968        0.3999  8.3384\n",
      "    143        0.1135       0.8960            0.8930        0.4158  8.3740\n",
      "    144        0.1220       0.8960            0.8938        0.4093  8.3210\n",
      "    145        \u001b[36m0.1024\u001b[0m       0.8906            0.8872        0.4155  8.2718\n",
      "    146        0.1157       0.8919            0.8880        0.4488  8.3241\n",
      "    147        0.1095       0.9042            0.9014        0.3869  8.3401\n",
      "    148        0.1115       0.8933            0.8902        0.4169  8.3627\n",
      "    149        0.1099       0.8988            0.8959        0.3923  8.3632\n",
      "    150        0.1084       0.8851            0.8821        0.4477  8.3369\n",
      "    151        \u001b[36m0.1013\u001b[0m       0.8988            0.8959        0.4388  8.3295\n",
      "    152        0.1113       0.9001            0.8978        0.4287  8.3243\n",
      "    153        0.1159       0.9015            0.8978        0.4324  8.3294\n",
      "    154        \u001b[36m0.0971\u001b[0m       0.9001            0.8961        0.4500  8.3155\n",
      "    155        0.1115       0.8988            0.8955        0.4085  8.2636\n",
      "    156        0.1054       0.8988            0.8949        0.4225  8.3283\n",
      "    157        0.1168       0.8837            0.8791        0.4628  8.3217\n",
      "    158        0.1082       0.8933            0.8893        0.4505  8.2801\n",
      "    159        0.1110       0.9015            0.8976        0.4223  8.3571\n",
      "    160        0.1057       0.8947            0.8918        0.4347  8.3235\n",
      "    161        0.1053       0.8933            0.8896        0.4436  8.3186\n",
      "    162        0.1026       0.9001            0.8965        0.4282  8.2455\n",
      "    163        0.1002       0.8796            0.8759        0.4818  8.3420\n",
      "Stopping since valid_f1_macro has not improved in the last 50 epochs.\n"
     ]
    }
   ],
   "source": [
    "model = model.fit(train_dataset, y = None)"
   ]
  },
  {
   "cell_type": "code",
   "execution_count": null,
   "metadata": {},
   "outputs": [],
   "source": [
    "\n"
   ]
  },
  {
   "cell_type": "code",
   "execution_count": 28,
   "metadata": {},
   "outputs": [],
   "source": [
    "#model.module.load_state_dict(torch.load('resnet_18_imagenet_pretraiend_supervised_learning.pth')) \n"
   ]
  },
  {
   "cell_type": "code",
   "execution_count": null,
   "metadata": {},
   "outputs": [],
   "source": []
  },
  {
   "cell_type": "code",
   "execution_count": 29,
   "metadata": {},
   "outputs": [],
   "source": [
    "## START from here"
   ]
  },
  {
   "cell_type": "code",
   "execution_count": 30,
   "metadata": {},
   "outputs": [
    {
     "name": "stdout",
     "output_type": "stream",
     "text": [
      "              precision    recall  f1-score   support\n",
      "\n",
      "           0       0.98      1.00      0.99        89\n",
      "           1       0.92      0.94      0.93        94\n",
      "           2       0.92      0.80      0.85        70\n",
      "           3       0.89      0.92      0.91        88\n",
      "           4       0.77      0.72      0.74        74\n",
      "           5       0.67      0.90      0.77        69\n",
      "           6       0.86      0.78      0.82        94\n",
      "           7       0.94      0.89      0.91        82\n",
      "           8       0.96      0.90      0.93        71\n",
      "\n",
      "    accuracy                           0.87       731\n",
      "   macro avg       0.88      0.87      0.87       731\n",
      "weighted avg       0.88      0.87      0.87       731\n",
      "\n",
      "------------------------------------------------------------\n",
      "matthews correlation coeff: 0.8589\n",
      "Cohen Kappa score: 0.8582\n",
      "Accuracy: 0.8741 & balanced Accuracy: 0.8711\n",
      "macro F1 score: 0.8708 & micro F1 score: 0.8741\n",
      "macro Precision score: 0.8764 & micro Precision score: 0.8741\n",
      "macro Recall score: 0.8711 & micro Recall score: 0.8741\n"
     ]
    },
    {
     "data": {
      "image/png": "[encoded data removed]",
      "text/plain": [
       "<Figure size 432x288 with 2 Axes>"
      ]
     },
     "metadata": {
      "needs_background": "light"
     },
     "output_type": "display_data"
    },
    {
     "name": "stdout",
     "output_type": "stream",
     "text": [
      "------------------------------------------------------------\n"
     ]
    }
   ],
   "source": [
    "preds = model.predict(validation_dataset)\n",
    "\n",
    "classification_complete_report([label_map[t] for t in validation_dataset.metadata.label], \n",
    "                               preds  )"
   ]
  },
  {
   "cell_type": "code",
   "execution_count": 31,
   "metadata": {},
   "outputs": [
    {
     "data": {
      "text/plain": [
       "['B_cell',\n",
       " 'T_cell',\n",
       " 'T_cell_with_signaling',\n",
       " 'T_cell_with_B_cell_fragments',\n",
       " 'B_T_cell_in_one_layer',\n",
       " 'Synapses_without_signaling',\n",
       " 'Synapses_with_signaling',\n",
       " 'No_cell_cell_interaction',\n",
       " 'Multiplets']"
      ]
     },
     "execution_count": 31,
     "metadata": {},
     "output_type": "execute_result"
    }
   ],
   "source": [
    "set_of_interesting_classes"
   ]
  },
  {
   "cell_type": "code",
   "execution_count": 32,
   "metadata": {},
   "outputs": [
    {
     "name": "stdout",
     "output_type": "stream",
     "text": [
      "              precision    recall  f1-score   support\n",
      "\n",
      "           0       0.98      0.99      0.99       190\n",
      "           1       0.93      0.93      0.93       200\n",
      "           2       0.93      0.87      0.90       148\n",
      "           3       0.92      0.92      0.92       189\n",
      "           4       0.86      0.89      0.88       161\n",
      "           5       0.73      0.95      0.82       147\n",
      "           6       0.86      0.84      0.85       196\n",
      "           7       0.98      0.92      0.95       182\n",
      "           8       0.98      0.81      0.89       154\n",
      "\n",
      "    accuracy                           0.90      1567\n",
      "   macro avg       0.91      0.90      0.90      1567\n",
      "weighted avg       0.91      0.90      0.91      1567\n",
      "\n",
      "------------------------------------------------------------\n",
      "matthews correlation coeff: 0.8927\n",
      "Cohen Kappa score: 0.8922\n",
      "Accuracy: 0.9043 & balanced Accuracy: 0.9026\n",
      "macro F1 score: 0.9025 & micro F1 score: 0.9043\n",
      "macro Precision score: 0.9076 & micro Precision score: 0.9043\n",
      "macro Recall score: 0.9026 & micro Recall score: 0.9043\n"
     ]
    },
    {
     "data": {
      "image/png": "[encoded data removed]",
      "text/plain": [
       "<Figure size 432x288 with 2 Axes>"
      ]
     },
     "metadata": {
      "needs_background": "light"
     },
     "output_type": "display_data"
    },
    {
     "name": "stdout",
     "output_type": "stream",
     "text": [
      "------------------------------------------------------------\n"
     ]
    }
   ],
   "source": [
    "preds = model.predict(test_dataset)\n",
    "\n",
    "classification_complete_report([label_map[t] for t in test_dataset.metadata.label],  preds   )"
   ]
  },
  {
   "cell_type": "markdown",
   "metadata": {},
   "source": [
    "## saving the results"
   ]
  },
  {
   "cell_type": "code",
   "execution_count": 33,
   "metadata": {},
   "outputs": [],
   "source": [
    "preds = pd.Series(preds).to_csv(\"deepflow_preds.csv\")"
   ]
  },
  {
   "cell_type": "code",
   "execution_count": null,
   "metadata": {},
   "outputs": [],
   "source": []
  },
  {
   "cell_type": "code",
   "execution_count": null,
   "metadata": {},
   "outputs": [],
   "source": []
  }
 ],
 "metadata": {
  "kernelspec": {
   "display_name": "py310",
   "language": "python",
   "name": "py310"
  },
  "language_info": {
   "codemirror_mode": {
    "name": "ipython",
    "version": 3
   },
   "file_extension": ".py",
   "mimetype": "text/x-python",
   "name": "python",
   "nbconvert_exporter": "python",
   "pygments_lexer": "ipython3",
   "version": "3.8.3"
  }
 },
 "nbformat": 4,
 "nbformat_minor": 4
}
