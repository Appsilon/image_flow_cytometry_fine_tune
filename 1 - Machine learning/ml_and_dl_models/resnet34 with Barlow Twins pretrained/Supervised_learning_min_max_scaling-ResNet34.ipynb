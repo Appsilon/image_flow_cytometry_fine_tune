{
 "cells": [
  {
   "cell_type": "code",
   "execution_count": 1,
   "metadata": {},
   "outputs": [],
   "source": [
    "#!pip -q install /pstore/home/shetabs1/code/iflai/"
   ]
  },
  {
   "cell_type": "code",
   "execution_count": null,
   "metadata": {},
   "outputs": [],
   "source": []
  },
  {
   "cell_type": "code",
   "execution_count": 2,
   "metadata": {},
   "outputs": [],
   "source": [
    "import pandas as pd\n",
    "import matplotlib.pyplot as plt\n",
    "import seaborn as sns\n",
    "import numpy as np\n",
    "import skorch\n",
    "import torch\n",
    "from skorch import NeuralNetClassifier\n",
    "from tqdm import tqdm\n",
    "from torchvision import transforms\n",
    "import torch.nn as nn\n",
    "from scipy.stats import entropy\n",
    "import random\n",
    "import h5py\n",
    "from sklearn.cluster import KMeans\n",
    "from sklearn.preprocessing import MinMaxScaler, StandardScaler\n",
    "from sklearn.cluster import FeatureAgglomeration"
   ]
  },
  {
   "cell_type": "code",
   "execution_count": 3,
   "metadata": {},
   "outputs": [],
   "source": [
    "from scifAI.dl.utils import train_validation_test_split\n",
    "from scifAI.dl.dataset import DatasetGenerator\n",
    "from scifAI.dl.utils import get_statistics"
   ]
  },
  {
   "cell_type": "code",
   "execution_count": 4,
   "metadata": {},
   "outputs": [],
   "source": [
    "from scifAI.dl.models import PretrainedModel\n",
    "from skorch.callbacks import LRScheduler,Checkpoint,EpochScoring,EarlyStopping\n",
    "import torch.optim as optim\n",
    "from skorch.helper import predefined_split"
   ]
  },
  {
   "cell_type": "code",
   "execution_count": 5,
   "metadata": {},
   "outputs": [],
   "source": [
    "\n",
    "\n",
    "# Compare Algorithms\n",
    "import matplotlib.pyplot as plt\n",
    "from sklearn import preprocessing\n",
    "from sklearn.model_selection import train_test_split\n",
    "from sklearn import model_selection\n",
    "from sklearn.linear_model import LogisticRegression\n",
    "from sklearn.tree import DecisionTreeClassifier\n",
    "from sklearn.neighbors import KNeighborsClassifier\n",
    "from sklearn.discriminant_analysis import LinearDiscriminantAnalysis\n",
    "from sklearn.naive_bayes import GaussianNB\n",
    "from sklearn.svm import SVC\n",
    "from sklearn.ensemble import RandomForestClassifier\n",
    "from sklearn.ensemble import GradientBoostingClassifier\n",
    "from sklearn.preprocessing import MinMaxScaler, StandardScaler\n",
    "from sklearn.linear_model import SGDClassifier\n",
    "from sklearn.semi_supervised import LabelPropagation\n",
    "from sklearn.ensemble import GradientBoostingClassifier\n",
    "from sklearn.discriminant_analysis import LinearDiscriminantAnalysis\n",
    "from sklearn.ensemble import VotingClassifier\n",
    "from sklearn.ensemble import GradientBoostingClassifier\n",
    "from sklearn.neural_network import MLPClassifier\n",
    "from xgboost import XGBClassifier"
   ]
  },
  {
   "cell_type": "code",
   "execution_count": 6,
   "metadata": {},
   "outputs": [],
   "source": [
    "from sklearn.random_projection import GaussianRandomProjection"
   ]
  },
  {
   "cell_type": "code",
   "execution_count": 7,
   "metadata": {},
   "outputs": [],
   "source": [
    "from sklearn.metrics import plot_confusion_matrix, matthews_corrcoef, classification_report,confusion_matrix, accuracy_score, balanced_accuracy_score, cohen_kappa_score, f1_score,  precision_score, recall_score\n",
    "from statsmodels.stats.contingency_tables import mcnemar\n",
    "from sklearn.metrics import confusion_matrix,ConfusionMatrixDisplay\n",
    "\n",
    "\n",
    "def classification_complete_report(y_true, y_pred ,labels = None  ): \n",
    "    print(classification_report(y_true, y_pred, labels = labels))\n",
    "    print(15*\"----\")\n",
    "    print(\"matthews correlation coeff: %.4f\" % (matthews_corrcoef(y_true, y_pred)) )\n",
    "    print(\"Cohen Kappa score: %.4f\" % (cohen_kappa_score(y_true, y_pred)) )\n",
    "    print(\"Accuracy: %.4f & balanced Accuracy: %.4f\" % (accuracy_score(y_true, y_pred), balanced_accuracy_score(y_true, y_pred)) )\n",
    "    print(\"macro F1 score: %.4f & micro F1 score: %.4f\" % (f1_score(y_true, y_pred, average = \"macro\"), f1_score(y_true, y_pred, average = \"micro\")) )\n",
    "    print(\"macro Precision score: %.4f & micro Precision score: %.4f\" % (precision_score(y_true, y_pred, average = \"macro\"), precision_score(y_true, y_pred, average = \"micro\")) )\n",
    "    print(\"macro Recall score: %.4f & micro Recall score: %.4f\" % (recall_score(y_true, y_pred, average = \"macro\"), recall_score(y_true, y_pred, average = \"micro\")) )\n",
    "    cm = confusion_matrix(y_true, y_pred,labels= labels)\n",
    "    disp = ConfusionMatrixDisplay(confusion_matrix=cm, display_labels=labels)\n",
    "    disp.plot(cmap=plt.cm.Blues)\n",
    "    plt.show()\n",
    "    print(15*\"----\")"
   ]
  },
  {
   "cell_type": "code",
   "execution_count": 8,
   "metadata": {},
   "outputs": [
    {
     "name": "stderr",
     "output_type": "stream",
     "text": [
      "/opt/conda/lib/python3.7/site-packages/IPython/core/interactiveshell.py:3331: DtypeWarning: Columns (6) have mixed types.Specify dtype option on import or set low_memory=False.\n",
      "  exec(code_obj, self.user_global_ns, self.user_ns)\n"
     ]
    },
    {
     "data": {
      "text/html": [
       "<div>\n",
       "<style scoped>\n",
       "    .dataframe tbody tr th:only-of-type {\n",
       "        vertical-align: middle;\n",
       "    }\n",
       "\n",
       "    .dataframe tbody tr th {\n",
       "        vertical-align: top;\n",
       "    }\n",
       "\n",
       "    .dataframe thead th {\n",
       "        text-align: right;\n",
       "    }\n",
       "</style>\n",
       "<table border=\"1\" class=\"dataframe\">\n",
       "  <thead>\n",
       "    <tr style=\"text-align: right;\">\n",
       "      <th></th>\n",
       "      <th>file</th>\n",
       "      <th>experiment</th>\n",
       "      <th>donor</th>\n",
       "      <th>condition</th>\n",
       "      <th>object_number</th>\n",
       "      <th>set</th>\n",
       "      <th>label</th>\n",
       "    </tr>\n",
       "  </thead>\n",
       "  <tbody>\n",
       "    <tr>\n",
       "      <th>0</th>\n",
       "      <td>/projects/site/pred/data_science/year/2022/imm...</td>\n",
       "      <td>Experiment_1</td>\n",
       "      <td>Donor_1</td>\n",
       "      <td>+SEA</td>\n",
       "      <td>5156</td>\n",
       "      <td>unlabeled</td>\n",
       "      <td>-1</td>\n",
       "    </tr>\n",
       "    <tr>\n",
       "      <th>1</th>\n",
       "      <td>/projects/site/pred/data_science/year/2022/imm...</td>\n",
       "      <td>Experiment_1</td>\n",
       "      <td>Donor_1</td>\n",
       "      <td>+SEA</td>\n",
       "      <td>32020</td>\n",
       "      <td>unlabeled</td>\n",
       "      <td>-1</td>\n",
       "    </tr>\n",
       "    <tr>\n",
       "      <th>2</th>\n",
       "      <td>/projects/site/pred/data_science/year/2022/imm...</td>\n",
       "      <td>Experiment_1</td>\n",
       "      <td>Donor_1</td>\n",
       "      <td>+SEA</td>\n",
       "      <td>55974</td>\n",
       "      <td>unlabeled</td>\n",
       "      <td>-1</td>\n",
       "    </tr>\n",
       "    <tr>\n",
       "      <th>3</th>\n",
       "      <td>/projects/site/pred/data_science/year/2022/imm...</td>\n",
       "      <td>Experiment_1</td>\n",
       "      <td>Donor_1</td>\n",
       "      <td>+SEA</td>\n",
       "      <td>15150</td>\n",
       "      <td>unlabeled</td>\n",
       "      <td>-1</td>\n",
       "    </tr>\n",
       "    <tr>\n",
       "      <th>4</th>\n",
       "      <td>/projects/site/pred/data_science/year/2022/imm...</td>\n",
       "      <td>Experiment_1</td>\n",
       "      <td>Donor_1</td>\n",
       "      <td>+SEA</td>\n",
       "      <td>44814</td>\n",
       "      <td>unlabeled</td>\n",
       "      <td>-1</td>\n",
       "    </tr>\n",
       "    <tr>\n",
       "      <th>...</th>\n",
       "      <td>...</td>\n",
       "      <td>...</td>\n",
       "      <td>...</td>\n",
       "      <td>...</td>\n",
       "      <td>...</td>\n",
       "      <td>...</td>\n",
       "      <td>...</td>\n",
       "    </tr>\n",
       "    <tr>\n",
       "      <th>1065962</th>\n",
       "      <td>/projects/site/pred/data_science/year/2022/imm...</td>\n",
       "      <td>Experiment_4</td>\n",
       "      <td>Donor_9</td>\n",
       "      <td>DIG-TCB</td>\n",
       "      <td>72493</td>\n",
       "      <td>unlabeled</td>\n",
       "      <td>-1</td>\n",
       "    </tr>\n",
       "    <tr>\n",
       "      <th>1065963</th>\n",
       "      <td>/projects/site/pred/data_science/year/2022/imm...</td>\n",
       "      <td>Experiment_4</td>\n",
       "      <td>Donor_9</td>\n",
       "      <td>DIG-TCB</td>\n",
       "      <td>106656</td>\n",
       "      <td>unlabeled</td>\n",
       "      <td>-1</td>\n",
       "    </tr>\n",
       "    <tr>\n",
       "      <th>1065964</th>\n",
       "      <td>/projects/site/pred/data_science/year/2022/imm...</td>\n",
       "      <td>Experiment_4</td>\n",
       "      <td>Donor_9</td>\n",
       "      <td>DIG-TCB</td>\n",
       "      <td>110990</td>\n",
       "      <td>unlabeled</td>\n",
       "      <td>-1</td>\n",
       "    </tr>\n",
       "    <tr>\n",
       "      <th>1065965</th>\n",
       "      <td>/projects/site/pred/data_science/year/2022/imm...</td>\n",
       "      <td>Experiment_4</td>\n",
       "      <td>Donor_9</td>\n",
       "      <td>DIG-TCB</td>\n",
       "      <td>71451</td>\n",
       "      <td>unlabeled</td>\n",
       "      <td>-1</td>\n",
       "    </tr>\n",
       "    <tr>\n",
       "      <th>1065966</th>\n",
       "      <td>/projects/site/pred/data_science/year/2022/imm...</td>\n",
       "      <td>Experiment_4</td>\n",
       "      <td>Donor_9</td>\n",
       "      <td>DIG-TCB</td>\n",
       "      <td>111837</td>\n",
       "      <td>unlabeled</td>\n",
       "      <td>-1</td>\n",
       "    </tr>\n",
       "  </tbody>\n",
       "</table>\n",
       "<p>1065967 rows × 7 columns</p>\n",
       "</div>"
      ],
      "text/plain": [
       "                                                      file    experiment  \\\n",
       "0        /projects/site/pred/data_science/year/2022/imm...  Experiment_1   \n",
       "1        /projects/site/pred/data_science/year/2022/imm...  Experiment_1   \n",
       "2        /projects/site/pred/data_science/year/2022/imm...  Experiment_1   \n",
       "3        /projects/site/pred/data_science/year/2022/imm...  Experiment_1   \n",
       "4        /projects/site/pred/data_science/year/2022/imm...  Experiment_1   \n",
       "...                                                    ...           ...   \n",
       "1065962  /projects/site/pred/data_science/year/2022/imm...  Experiment_4   \n",
       "1065963  /projects/site/pred/data_science/year/2022/imm...  Experiment_4   \n",
       "1065964  /projects/site/pred/data_science/year/2022/imm...  Experiment_4   \n",
       "1065965  /projects/site/pred/data_science/year/2022/imm...  Experiment_4   \n",
       "1065966  /projects/site/pred/data_science/year/2022/imm...  Experiment_4   \n",
       "\n",
       "           donor condition  object_number        set label  \n",
       "0        Donor_1      +SEA           5156  unlabeled    -1  \n",
       "1        Donor_1      +SEA          32020  unlabeled    -1  \n",
       "2        Donor_1      +SEA          55974  unlabeled    -1  \n",
       "3        Donor_1      +SEA          15150  unlabeled    -1  \n",
       "4        Donor_1      +SEA          44814  unlabeled    -1  \n",
       "...          ...       ...            ...        ...   ...  \n",
       "1065962  Donor_9   DIG-TCB          72493  unlabeled    -1  \n",
       "1065963  Donor_9   DIG-TCB         106656  unlabeled    -1  \n",
       "1065964  Donor_9   DIG-TCB         110990  unlabeled    -1  \n",
       "1065965  Donor_9   DIG-TCB          71451  unlabeled    -1  \n",
       "1065966  Donor_9   DIG-TCB         111837  unlabeled    -1  \n",
       "\n",
       "[1065967 rows x 7 columns]"
      ]
     },
     "execution_count": 8,
     "metadata": {},
     "output_type": "execute_result"
    }
   ],
   "source": [
    "metadata = pd.read_csv(\"/projects/site/pred/data_science/year/2022/immunological_synapse/synapse_data_features/metadata_subset.csv.gz\")\n",
    "metadata.file = metadata.file.astype(str)\n",
    "\n",
    "metadata.file = metadata.file.str.replace(\"/pstore/data/DS4/synapse_formation_full_data/\",\n",
    "                          \"/projects/site/pred/data_science/year/2022/immunological_synapse/synapse_formation_full_data/\", regex=True)\n",
    "\n",
    "metadata"
   ]
  },
  {
   "cell_type": "code",
   "execution_count": 9,
   "metadata": {},
   "outputs": [
    {
     "data": {
      "text/plain": [
       "array(['unlabeled', 'labeled', 'train', 'test', 'validation'],\n",
       "      dtype=object)"
      ]
     },
     "execution_count": 9,
     "metadata": {},
     "output_type": "execute_result"
    }
   ],
   "source": [
    "metadata.set.unique()"
   ]
  },
  {
   "cell_type": "code",
   "execution_count": 10,
   "metadata": {},
   "outputs": [],
   "source": [
    "indx = metadata.condition.isin([\"-SEA\",\"+SEA\"])\n",
    "metadata = metadata.loc[indx, :].reset_index(drop = True )"
   ]
  },
  {
   "cell_type": "code",
   "execution_count": null,
   "metadata": {},
   "outputs": [],
   "source": []
  },
  {
   "cell_type": "code",
   "execution_count": 11,
   "metadata": {},
   "outputs": [],
   "source": [
    "set_of_interesting_classes = ['B_cell',  \n",
    "                              'T_cell', \n",
    "                              'T_cell_with_signaling',\n",
    "                              'T_cell_with_B_cell_fragments',\n",
    "                              'B_T_cell_in_one_layer',\n",
    "                              'Synapses_without_signaling', \n",
    "                              'Synapses_with_signaling',\n",
    "                              'No_cell_cell_interaction',\n",
    "                              'Multiplets']"
   ]
  },
  {
   "cell_type": "code",
   "execution_count": 12,
   "metadata": {},
   "outputs": [
    {
     "data": {
      "text/plain": [
       "array(['unlabeled', 'labeled', 'train', 'test', 'validation'],\n",
       "      dtype=object)"
      ]
     },
     "execution_count": 12,
     "metadata": {},
     "output_type": "execute_result"
    }
   ],
   "source": [
    "metadata[\"set\"].unique()"
   ]
  },
  {
   "cell_type": "code",
   "execution_count": 13,
   "metadata": {},
   "outputs": [],
   "source": [
    "unlabeled_index = metadata[\"set\"] == \"unlabeled\"\n",
    "unlabeled_index = unlabeled_index[unlabeled_index].index\n",
    "\n",
    " \n",
    "labeled_index = metadata[\"label\"].isin(set_of_interesting_classes)\n",
    "\n",
    "train_index = metadata[\"set\"] == \"train\"\n",
    "train_index = train_index & labeled_index\n",
    "train_index = train_index[train_index].index\n",
    "\n",
    "validation_index = metadata[\"set\"] == \"validation\"\n",
    "validation_index = validation_index & labeled_index\n",
    "validation_index = validation_index[validation_index].index\n",
    "\n",
    "test_index = metadata[\"set\"] == \"test\"\n",
    "test_index = test_index & labeled_index\n",
    "test_index = test_index[test_index].index"
   ]
  },
  {
   "cell_type": "code",
   "execution_count": null,
   "metadata": {},
   "outputs": [],
   "source": [
    " "
   ]
  },
  {
   "cell_type": "code",
   "execution_count": 14,
   "metadata": {},
   "outputs": [
    {
     "name": "stdout",
     "output_type": "stream",
     "text": [
      "Number of labeled images 5221\n"
     ]
    }
   ],
   "source": [
    "\n",
    "\n",
    "label_map = dict()\n",
    "for i, cl in enumerate(set_of_interesting_classes):\n",
    "    label_map[cl] = i\n",
    "\n",
    "label_map['-1'] = -1\n",
    "label_map[-1] = -1\n",
    "\n",
    "print(\"Number of labeled images\",labeled_index.sum())"
   ]
  },
  {
   "cell_type": "code",
   "execution_count": 15,
   "metadata": {},
   "outputs": [
    {
     "data": {
      "text/plain": [
       "{'B_cell': 0,\n",
       " 'T_cell': 1,\n",
       " 'T_cell_with_signaling': 2,\n",
       " 'T_cell_with_B_cell_fragments': 3,\n",
       " 'B_T_cell_in_one_layer': 4,\n",
       " 'Synapses_without_signaling': 5,\n",
       " 'Synapses_with_signaling': 6,\n",
       " 'No_cell_cell_interaction': 7,\n",
       " 'Multiplets': 8,\n",
       " '-1': -1,\n",
       " -1: -1}"
      ]
     },
     "execution_count": 15,
     "metadata": {},
     "output_type": "execute_result"
    }
   ],
   "source": [
    "label_map"
   ]
  },
  {
   "cell_type": "code",
   "execution_count": null,
   "metadata": {},
   "outputs": [],
   "source": []
  },
  {
   "cell_type": "code",
   "execution_count": 16,
   "metadata": {},
   "outputs": [],
   "source": [
    "channels = {\n",
    "     \"Ch1\": (\"Greys\", \"BF\"),  \n",
    "     \"Ch2\": (\"Greens\", \"Antibody\"),\n",
    "     \"Ch3\": (\"Reds\", \"CD18\"),\n",
    "     \"Ch4\": (\"Oranges\", \"F-Actin\"),\n",
    "     \"Ch6\": (\"RdPu\", \"MHCII\"),\n",
    "     \"Ch7\": (\"Purples\", \"CD3/CD4\"),\n",
    "     \"Ch11\": (\"Blues\", \"P-CD3zeta\"),\n",
    "     \"Ch12\": (\"Greens\", \"Live-Dead\")\n",
    " }"
   ]
  },
  {
   "cell_type": "code",
   "execution_count": null,
   "metadata": {},
   "outputs": [],
   "source": []
  },
  {
   "cell_type": "code",
   "execution_count": null,
   "metadata": {},
   "outputs": [],
   "source": []
  },
  {
   "cell_type": "code",
   "execution_count": 17,
   "metadata": {},
   "outputs": [],
   "source": [
    "reshape_size = 160\n",
    "selected_channels = [0,3,4,5,6]\n",
    "\n",
    "stats = dict()\n",
    "\n",
    "stats[\"lower_bound\"] = torch.tensor([756.5198,52.5891,45.7574,54.1436,39.0545])\n",
    "stats[\"upper_bound\"] = torch.tensor([835.3564,288.1139,271.3861,234.2525,90.0396])"
   ]
  },
  {
   "cell_type": "code",
   "execution_count": 18,
   "metadata": {},
   "outputs": [],
   "source": [
    "class AddGaussianNoise(object):\n",
    "    def __init__(self, mean=0., std=1.):\n",
    "        self.std = std\n",
    "        self.mean = mean\n",
    "        \n",
    "    def __call__(self, tensor):\n",
    "        return tensor + torch.randn(tensor.size()) * self.std + self.mean\n",
    "    \n",
    "    def __repr__(self):\n",
    "        return self.__class__.__name__ + '(mean={0}, std={1})'.format(self.mean, self.std)"
   ]
  },
  {
   "cell_type": "code",
   "execution_count": 19,
   "metadata": {},
   "outputs": [],
   "source": [
    "class MinMaxScaler(object):\n",
    "    def __init__(self, min_in , max_in, min_out, max_out):\n",
    "        self.min_in = min_in.reshape(-1,1,1)\n",
    "        self.max_in = max_in.reshape(-1,1,1)\n",
    "        self.min_out = min_out\n",
    "        self.max_out = max_out\n",
    "        \n",
    "    def __call__(self, tensor):\n",
    "        \n",
    "        tensor_ = (tensor - self.min_in)/(self.max_in - self.min_in)\n",
    "        tensor_ = tensor_*(self.max_out - self.min_out) + self.min_out\n",
    "        tensor_[tensor_<self.min_out]= self.min_out\n",
    "        tensor_[tensor_>self.max_out]= self.max_out\n",
    "        return tensor_\n",
    "    \n",
    "    def __repr__(self):\n",
    "        return self.__class__.__name__ + '(min_out={0}, max_out={1})'.format(self.min_out, self.max_out)"
   ]
  },
  {
   "cell_type": "code",
   "execution_count": null,
   "metadata": {},
   "outputs": [],
   "source": []
  },
  {
   "cell_type": "code",
   "execution_count": 20,
   "metadata": {},
   "outputs": [],
   "source": [
    "import torch.nn as nn\n",
    "from torchvision.models import resnet152, resnet18, resnet34, resnet50\n",
    "import torch.nn.functional as F\n",
    "from lightly.models.modules import BarlowTwinsProjectionHead\n",
    "\n",
    "backbone =  resnet34(weights='IMAGENET1K_V1')\n",
    "num_channels = len(selected_channels)\n",
    "num_classes = len(set_of_interesting_classes)\n",
    "if num_channels != 3:\n",
    "    backbone.conv1 = nn.Conv2d(num_channels, 64, kernel_size=(7, 7),\n",
    "                                    stride=(2, 2), padding=(3, 3), bias=False)\n",
    "num_ftrs = backbone.fc.in_features\n",
    "backbone.fc = nn.Linear(num_ftrs, num_classes)\n",
    "backbone = nn.Sequential(*list(backbone.children())[:-1])\n",
    "\n",
    "class BarlowTwins(nn.Module):\n",
    "    def __init__(self, backbone):\n",
    "        super().__init__()\n",
    "        self.backbone = backbone\n",
    "        self.projection_head = BarlowTwinsProjectionHead(512, 2048, 2048)\n",
    "\n",
    "    def forward(self, x):\n",
    "        x = self.backbone(x).flatten(start_dim=1)\n",
    "        z = self.projection_head(x)\n",
    "        return z\n",
    "    \n",
    "class ResNet34Modified(nn.Module):\n",
    "    def __init__(self,  backbone,\n",
    "                 pretrained_weights = \"BarlowTwins.pt\",\n",
    "                 num_classes=3, **kwargs):\n",
    "        super().__init__()\n",
    "        barlow_twins = BarlowTwins(backbone)\n",
    "        barlow_twins.load_state_dict(torch.load(pretrained_weights))\n",
    "        self.backbone = barlow_twins.backbone\n",
    "        self.classifier = nn.Linear(512, num_classes)\n",
    "\n",
    "    def forward(self, x):    \n",
    "        x = self.backbone(x)\n",
    "        x = self.classifier(x.reshape(-1,512))\n",
    "        return x"
   ]
  },
  {
   "cell_type": "code",
   "execution_count": null,
   "metadata": {},
   "outputs": [],
   "source": []
  },
  {
   "cell_type": "code",
   "execution_count": 21,
   "metadata": {},
   "outputs": [],
   "source": [
    "resnet34_modified = ResNet34Modified(backbone,\n",
    "                                     pretrained_weights = \"BarlowTwins.pt\",\n",
    "                                     num_classes=len(set_of_interesting_classes), \n",
    "                                     pretrained = True)\n",
    "\n"
   ]
  },
  {
   "cell_type": "code",
   "execution_count": null,
   "metadata": {},
   "outputs": [],
   "source": []
  },
  {
   "cell_type": "code",
   "execution_count": 22,
   "metadata": {},
   "outputs": [],
   "source": [
    "train_transform = transforms.Compose([ \n",
    "        MinMaxScaler(           min_in =  stats[\"lower_bound\"] , \n",
    "                                max_in =  stats[\"upper_bound\"] , \n",
    "                                min_out =  0. , \n",
    "                                max_out =  1.),\n",
    "        transforms.RandomResizedCrop(reshape_size, scale=(0.6, 1.0), ratio=(0.8, 1.2)),\n",
    "        transforms.RandomRotation(45),\n",
    "        transforms.RandomHorizontalFlip(),\n",
    "        transforms.RandomVerticalFlip(),\n",
    "        AddGaussianNoise(mean=0., std=0.05),\n",
    "])\n",
    "\n",
    "\n",
    "\n",
    "train_dataset = DatasetGenerator(metadata.loc[train_index.tolist(),:], \n",
    "                                 reshape_size=reshape_size, \n",
    "                                 scaling_factor = 1.,\n",
    "                                label_map=label_map, \n",
    "                                 transform = train_transform,\n",
    "                                selected_channels=selected_channels)"
   ]
  },
  {
   "cell_type": "code",
   "execution_count": null,
   "metadata": {},
   "outputs": [],
   "source": []
  },
  {
   "cell_type": "code",
   "execution_count": 23,
   "metadata": {},
   "outputs": [
    {
     "data": {
      "text/plain": [
       "{'B_cell': 0,\n",
       " 'T_cell': 1,\n",
       " 'T_cell_with_signaling': 2,\n",
       " 'T_cell_with_B_cell_fragments': 3,\n",
       " 'B_T_cell_in_one_layer': 4,\n",
       " 'Synapses_without_signaling': 5,\n",
       " 'Synapses_with_signaling': 6,\n",
       " 'No_cell_cell_interaction': 7,\n",
       " 'Multiplets': 8,\n",
       " '-1': -1,\n",
       " -1: -1}"
      ]
     },
     "execution_count": 23,
     "metadata": {},
     "output_type": "execute_result"
    }
   ],
   "source": [
    "label_map"
   ]
  },
  {
   "cell_type": "code",
   "execution_count": 24,
   "metadata": {},
   "outputs": [
    {
     "name": "stdout",
     "output_type": "stream",
     "text": [
      "tensor(6)\n"
     ]
    },
    {
     "data": {
      "image/png": "[encoded data removed]",
      "text/plain": [
       "<Figure size 432x288 with 1 Axes>"
      ]
     },
     "metadata": {
      "needs_background": "light"
     },
     "output_type": "display_data"
    }
   ],
   "source": [
    "i = 40\n",
    "plt.imshow(train_dataset[i][0][0,:,:])\n",
    "print(train_dataset[i][1])"
   ]
  },
  {
   "cell_type": "code",
   "execution_count": 25,
   "metadata": {},
   "outputs": [],
   "source": [
    "validation_transforms =  transforms.Compose([ \n",
    "        MinMaxScaler(           min_in =  stats[\"lower_bound\"] , \n",
    "                                max_in =  stats[\"upper_bound\"] , \n",
    "                                min_out =  0. , \n",
    "                                max_out =  1.),\n",
    "        transforms.RandomHorizontalFlip(),\n",
    "        transforms.RandomVerticalFlip(),\n",
    "        AddGaussianNoise(mean=0., std=0.01),\n",
    "])\n",
    "\n",
    "test_transforms =  transforms.Compose([ \n",
    "        MinMaxScaler(           min_in =  stats[\"lower_bound\"] , \n",
    "                                max_in =  stats[\"upper_bound\"] , \n",
    "                                min_out =  0. , \n",
    "                                max_out =  1.),\n",
    "])\n",
    "\n",
    "validation_dataset = DatasetGenerator(metadata.loc[validation_index.tolist(),:],\n",
    "                                 reshape_size=reshape_size, \n",
    "                                label_map=label_map,\n",
    "                                 scaling_factor = 1.,\n",
    "                                transform=validation_transforms, \n",
    "                                selected_channels=selected_channels)\n",
    "\n",
    "test_dataset = DatasetGenerator(metadata.loc[test_index.tolist(),:],\n",
    "                                 reshape_size=reshape_size, \n",
    "                                label_map=label_map,\n",
    "                                 scaling_factor = 1.,\n",
    "                                transform=test_transforms, \n",
    "                                selected_channels=selected_channels)"
   ]
  },
  {
   "cell_type": "code",
   "execution_count": null,
   "metadata": {},
   "outputs": [],
   "source": []
  },
  {
   "cell_type": "code",
   "execution_count": 26,
   "metadata": {},
   "outputs": [],
   "source": [
    "lr_scheduler = LRScheduler(policy='ReduceLROnPlateau', factor=0.5, patience=5)\n",
    "\n",
    "epoch_scoring_f1_micro = EpochScoring(\"f1_micro\", \n",
    "                             name =  \"valid_f1_micro\", \n",
    "                             on_train = False,\n",
    "                             lower_is_better = False)\n",
    "\n",
    "epoch_scoring_f1_macro = EpochScoring(\"f1_macro\", \n",
    "                             name =  \"valid_f1_macro\", \n",
    "                             on_train = False,\n",
    "                             lower_is_better = False)\n",
    "\n",
    "early_stopping = EarlyStopping(monitor='valid_f1_macro', \n",
    "                               patience=50, \n",
    "                               threshold=0.0001, \n",
    "                               threshold_mode='rel', \n",
    "                               lower_is_better=False)\n",
    "\n",
    "checkpoint = Checkpoint(f_params='ResNet34.pt',\n",
    "                        monitor='valid_f1_macro_best', load_best=True)"
   ]
  },
  {
   "cell_type": "code",
   "execution_count": 27,
   "metadata": {},
   "outputs": [],
   "source": [
    "\n",
    "model = NeuralNetClassifier(    \n",
    "    resnet34_modified, \n",
    "    criterion=nn.CrossEntropyLoss,\n",
    "    lr=0.01,\n",
    "    batch_size=32,\n",
    "    max_epochs=1000,\n",
    "    optimizer=optim.Adam,\n",
    "    iterator_train__shuffle=True,\n",
    "    iterator_train__num_workers=16,\n",
    "    iterator_valid__shuffle=False,\n",
    "    iterator_valid__num_workers=2,\n",
    "    callbacks=[lr_scheduler, epoch_scoring_f1_micro, \n",
    "               epoch_scoring_f1_macro, \n",
    "               early_stopping, checkpoint],\n",
    "    train_split=predefined_split(validation_dataset),\n",
    "    device=\"cuda\",\n",
    "    warm_start=True)"
   ]
  },
  {
   "cell_type": "code",
   "execution_count": 28,
   "metadata": {},
   "outputs": [
    {
     "name": "stderr",
     "output_type": "stream",
     "text": [
      "/home/shetabs1/.local/lib/python3.7/site-packages/skorch/net.py:1921: UserWarning: You set iterator_valid__shuffle=True; this is most likely not what you want because the values returned by predict and predict_proba will be shuffled.\n",
      "  UserWarning)\n"
     ]
    },
    {
     "name": "stdout",
     "output_type": "stream",
     "text": [
      "  epoch    train_loss    valid_acc    valid_f1_macro    valid_f1_micro    valid_loss    cp      dur\n",
      "-------  ------------  -----------  ----------------  ----------------  ------------  ----  -------\n",
      "      1        \u001b[36m1.9712\u001b[0m       \u001b[32m0.4008\u001b[0m            \u001b[35m0.2843\u001b[0m            \u001b[31m0.4008\u001b[0m        \u001b[94m1.4425\u001b[0m     +  26.1979\n",
      "      2        \u001b[36m1.2126\u001b[0m       \u001b[32m0.4897\u001b[0m            \u001b[35m0.4145\u001b[0m            \u001b[31m0.4897\u001b[0m        \u001b[94m1.0826\u001b[0m     +  6.5249\n",
      "      3        \u001b[36m0.9078\u001b[0m       \u001b[32m0.6867\u001b[0m            \u001b[35m0.5979\u001b[0m            \u001b[31m0.6867\u001b[0m        \u001b[94m0.7501\u001b[0m     +  6.2744\n",
      "      4        \u001b[36m0.8150\u001b[0m       0.6498            0.5378            0.6498        0.8761        6.7285\n",
      "      5        0.8248       0.6731            \u001b[35m0.6265\u001b[0m            0.6731        \u001b[94m0.7320\u001b[0m     +  6.4462\n",
      "      6        \u001b[36m0.7527\u001b[0m       0.6648            0.6251            0.6648        0.8209        6.3949\n",
      "      7        \u001b[36m0.7375\u001b[0m       0.6525            0.6151            0.6525        0.8338        6.4075\n",
      "      8        \u001b[36m0.6995\u001b[0m       0.6813            0.6132            0.6813        0.9138        6.6721\n",
      "      9        \u001b[36m0.6611\u001b[0m       \u001b[32m0.7264\u001b[0m            \u001b[35m0.7157\u001b[0m            \u001b[31m0.7264\u001b[0m        \u001b[94m0.6570\u001b[0m     +  6.3582\n",
      "     10        \u001b[36m0.6598\u001b[0m       0.7237            0.6966            0.7237        0.8390        6.3872\n",
      "     11        \u001b[36m0.6526\u001b[0m       0.7114            0.6877            0.7114        0.7326        6.3390\n",
      "     12        \u001b[36m0.5666\u001b[0m       \u001b[32m0.7606\u001b[0m            \u001b[35m0.7478\u001b[0m            \u001b[31m0.7606\u001b[0m        \u001b[94m0.6293\u001b[0m     +  6.4714\n",
      "     13        \u001b[36m0.5257\u001b[0m       \u001b[32m0.7647\u001b[0m            0.7330            \u001b[31m0.7647\u001b[0m        \u001b[94m0.5903\u001b[0m        6.1288\n",
      "     14        0.5522       0.7538            0.7322            0.7538        0.6466        6.4137\n",
      "     15        \u001b[36m0.4998\u001b[0m       0.7401            0.7245            0.7401        0.6725        6.2966\n",
      "     16        0.5102       \u001b[32m0.7852\u001b[0m            \u001b[35m0.7765\u001b[0m            \u001b[31m0.7852\u001b[0m        \u001b[94m0.5431\u001b[0m     +  6.3048\n",
      "     17        \u001b[36m0.4845\u001b[0m       0.7401            0.7382            0.7401        0.6525        6.4770\n",
      "     18        0.4869       0.7647            0.7602            0.7647        0.5823        6.4934\n",
      "     19        \u001b[36m0.4583\u001b[0m       0.7811            0.7686            0.7811        0.6420        6.3728\n",
      "     20        \u001b[36m0.4488\u001b[0m       0.7633            0.7388            0.7633        0.7311        6.3308\n",
      "     21        \u001b[36m0.4453\u001b[0m       \u001b[32m0.8016\u001b[0m            \u001b[35m0.7841\u001b[0m            \u001b[31m0.8016\u001b[0m        0.5908     +  6.5395\n",
      "     22        \u001b[36m0.4167\u001b[0m       0.8003            \u001b[35m0.7995\u001b[0m            0.8003        \u001b[94m0.4826\u001b[0m     +  6.2028\n",
      "     23        0.4346       0.8003            0.7932            0.8003        0.5749        7.1912\n",
      "     24        \u001b[36m0.4107\u001b[0m       0.7893            0.7863            0.7893        0.5413        6.3040\n",
      "     25        \u001b[36m0.3964\u001b[0m       \u001b[32m0.8276\u001b[0m            \u001b[35m0.8269\u001b[0m            \u001b[31m0.8276\u001b[0m        \u001b[94m0.4667\u001b[0m     +  6.3401\n",
      "     26        0.4155       \u001b[32m0.8290\u001b[0m            0.8247            \u001b[31m0.8290\u001b[0m        0.4870        6.2927\n",
      "     27        \u001b[36m0.3668\u001b[0m       0.8235            0.8245            0.8235        \u001b[94m0.4441\u001b[0m        6.5449\n",
      "     28        \u001b[36m0.3457\u001b[0m       \u001b[32m0.8386\u001b[0m            \u001b[35m0.8351\u001b[0m            \u001b[31m0.8386\u001b[0m        0.5083     +  6.2816\n",
      "     29        0.3729       0.8044            0.7950            0.8044        0.5423        6.3089\n",
      "     30        \u001b[36m0.3366\u001b[0m       \u001b[32m0.8536\u001b[0m            \u001b[35m0.8488\u001b[0m            \u001b[31m0.8536\u001b[0m        \u001b[94m0.4204\u001b[0m     +  6.3784\n",
      "     31        0.3864       0.8358            0.8346            0.8358        0.4284        6.3289\n",
      "     32        0.3425       0.7989            0.8004            0.7989        0.6264        6.7233\n",
      "     33        0.3644       0.8317            0.8266            0.8317        0.4468        6.4031\n",
      "     34        \u001b[36m0.3209\u001b[0m       \u001b[32m0.8714\u001b[0m            \u001b[35m0.8684\u001b[0m            \u001b[31m0.8714\u001b[0m        \u001b[94m0.3738\u001b[0m     +  6.3843\n",
      "     35        \u001b[36m0.2931\u001b[0m       0.8495            0.8446            0.8495        0.4651        6.3036\n",
      "     36        0.3195       \u001b[32m0.8824\u001b[0m            \u001b[35m0.8800\u001b[0m            \u001b[31m0.8824\u001b[0m        \u001b[94m0.3655\u001b[0m     +  6.2897\n",
      "     37        0.2947       0.8509            0.8504            0.8509        0.4077        6.2442\n",
      "     38        0.3060       0.8659            0.8597            0.8659        0.4498        6.3042\n",
      "     39        0.3043       0.8386            0.8317            0.8386        0.5049        6.4308\n",
      "     40        0.2953       0.8577            0.8519            0.8577        0.4418        6.2943\n",
      "     41        \u001b[36m0.2866\u001b[0m       0.8687            0.8637            0.8687        0.3972        6.4174\n",
      "     42        \u001b[36m0.2515\u001b[0m       0.8427            0.8409            0.8427        0.4681        6.3712\n",
      "     43        0.2689       0.8646            0.8637            0.8646        0.3845        6.3219\n",
      "     44        0.2903       0.8728            0.8711            0.8728        0.3881        6.5410\n",
      "     45        0.2515       0.8714            0.8665            0.8714        0.4444        6.4847\n",
      "     46        0.2777       0.8714            0.8668            0.8714        0.4204        6.2154\n",
      "     47        0.2604       0.8591            0.8534            0.8591        0.4508        6.3586\n",
      "     48        0.2765       0.8755            0.8717            0.8755        0.4136        6.6691\n",
      "     49        \u001b[36m0.2380\u001b[0m       0.8577            0.8555            0.8577        0.4102        6.6147\n",
      "     50        \u001b[36m0.2051\u001b[0m       \u001b[32m0.8947\u001b[0m            \u001b[35m0.8907\u001b[0m            \u001b[31m0.8947\u001b[0m        \u001b[94m0.3400\u001b[0m     +  6.5364\n",
      "     51        \u001b[36m0.1968\u001b[0m       \u001b[32m0.8974\u001b[0m            \u001b[35m0.8944\u001b[0m            \u001b[31m0.8974\u001b[0m        0.3578     +  6.3440\n",
      "     52        0.1993       \u001b[32m0.9001\u001b[0m            \u001b[35m0.8970\u001b[0m            \u001b[31m0.9001\u001b[0m        \u001b[94m0.3348\u001b[0m     +  6.3060\n",
      "     53        \u001b[36m0.1895\u001b[0m       0.8892            0.8878            0.8892        0.3878        6.3316\n",
      "     54        0.1924       \u001b[32m0.9029\u001b[0m            \u001b[35m0.8994\u001b[0m            \u001b[31m0.9029\u001b[0m        0.3396     +  6.2635\n",
      "     55        \u001b[36m0.1814\u001b[0m       0.8523            0.8496            0.8523        0.4531        6.3434\n",
      "     56        \u001b[36m0.1654\u001b[0m       \u001b[32m0.9042\u001b[0m            \u001b[35m0.9012\u001b[0m            \u001b[31m0.9042\u001b[0m        0.3638     +  6.3783\n",
      "     57        0.1856       0.9015            0.8995            0.9015        0.3911        6.3438\n",
      "     58        0.1819       0.8851            0.8840            0.8851        0.3699        6.2232\n",
      "     59        0.1720       0.8933            0.8898            0.8933        0.3851        6.3046\n",
      "     60        0.1888       0.8974            0.8937            0.8974        0.4371        6.4939\n",
      "     61        0.1903       0.9042            \u001b[35m0.9018\u001b[0m            0.9042        0.3513     +  6.3589\n",
      "     62        0.1818       0.8947            0.8924            0.8947        0.3674        6.4120\n",
      "     63        \u001b[36m0.1531\u001b[0m       \u001b[32m0.9056\u001b[0m            \u001b[35m0.9026\u001b[0m            \u001b[31m0.9056\u001b[0m        0.3505     +  6.3570\n",
      "     64        0.1592       0.8974            0.8951            0.8974        0.3781        6.8644\n",
      "     65        \u001b[36m0.1298\u001b[0m       \u001b[32m0.9124\u001b[0m            \u001b[35m0.9104\u001b[0m            \u001b[31m0.9124\u001b[0m        0.3372     +  6.4137\n",
      "     66        0.1336       0.8988            0.8957            0.8988        0.3591        6.8210\n",
      "     67        \u001b[36m0.1256\u001b[0m       0.8988            0.8962            0.8988        0.3955        6.6841\n",
      "     68        0.1358       0.8974            0.8939            0.8974        0.3719        6.2978\n",
      "     69        0.1337       0.8960            0.8925            0.8960        0.3718        6.2847\n",
      "     70        0.1320       0.9015            0.8986            0.9015        0.3898        6.3381\n",
      "     71        0.1275       0.9015            0.8991            0.9015        0.3835        6.4058\n",
      "     72        0.1354       0.8960            0.8938            0.8960        0.3950        6.4895\n",
      "     73        0.1324       0.8947            0.8890            0.8947        0.4005        6.4428\n",
      "     74        \u001b[36m0.1123\u001b[0m       0.8960            0.8946            0.8960        0.3667        6.8769\n",
      "     75        \u001b[36m0.1100\u001b[0m       0.9042            0.9021            0.9042        0.3613        6.4487\n",
      "     76        \u001b[36m0.1042\u001b[0m       0.9111            0.9094            0.9111        0.3646        6.6332\n",
      "     77        \u001b[36m0.1028\u001b[0m       0.9070            0.9042            0.9070        0.3729        6.4918\n",
      "     78        \u001b[36m0.0986\u001b[0m       0.9097            0.9073            0.9097        0.3581        6.3651\n",
      "     79        0.1122       0.8906            0.8879            0.8906        0.4377        6.3727\n",
      "     80        0.1076       0.9042            0.9021            0.9042        0.3613        6.3920\n",
      "     81        \u001b[36m0.0974\u001b[0m       0.8960            0.8936            0.8960        0.3995        6.4884\n",
      "     82        0.1005       0.9015            0.8987            0.9015        0.4183        6.3644\n",
      "     83        0.1026       0.8960            0.8937            0.8960        0.4026        6.2828\n",
      "     84        0.1009       0.8960            0.8933            0.8960        0.4148        6.3216\n",
      "     85        0.1025       0.8947            0.8929            0.8947        0.4262        6.3501\n",
      "     86        \u001b[36m0.0939\u001b[0m       0.8960            0.8931            0.8960        0.4003        6.3190\n",
      "     87        0.1013       0.8878            0.8852            0.8878        0.4254        6.4298\n",
      "     88        0.1009       0.9029            0.9009            0.9029        0.3878        6.2885\n",
      "     89        \u001b[36m0.0886\u001b[0m       0.8947            0.8921            0.8947        0.4237        6.4116\n",
      "     90        0.0911       0.9042            0.9018            0.9042        0.3876        8.2254\n",
      "     91        0.0968       0.8947            0.8927            0.8947        0.4358        6.4377\n",
      "     92        \u001b[36m0.0859\u001b[0m       0.8947            0.8928            0.8947        0.4514        6.5559\n",
      "     93        0.0934       0.9029            0.8996            0.9029        0.4185        6.5327\n",
      "     94        0.0972       0.8974            0.8944            0.8974        0.4212        6.3579\n",
      "     95        0.0893       0.9001            0.8966            0.9001        0.4259        6.5034\n",
      "     96        0.0920       \u001b[32m0.9138\u001b[0m            \u001b[35m0.9110\u001b[0m            \u001b[31m0.9138\u001b[0m        0.4043     +  6.3906\n",
      "     97        0.0955       0.8988            0.8970            0.8988        0.3895        6.2739\n",
      "     98        0.0896       0.9097            0.9071            0.9097        0.4194        6.2557\n",
      "     99        \u001b[36m0.0817\u001b[0m       0.9029            0.8995            0.9029        0.4018        6.5332\n",
      "    100        0.0832       0.9029            0.9009            0.9029        0.4192        6.3555\n",
      "    101        0.0833       0.9070            0.9052            0.9070        0.4002        6.3433\n",
      "    102        0.0847       0.9029            0.9002            0.9029        0.4221        6.3375\n",
      "    103        \u001b[36m0.0794\u001b[0m       0.9001            0.8980            0.9001        0.3880        6.4275\n",
      "    104        0.0833       0.9015            0.8987            0.9015        0.4276        6.5130\n",
      "    105        \u001b[36m0.0789\u001b[0m       0.8947            0.8918            0.8947        0.4618        6.4276\n",
      "    106        \u001b[36m0.0771\u001b[0m       0.8960            0.8932            0.8960        0.4237        6.9023\n",
      "    107        0.0827       0.9015            0.8999            0.9015        0.4508        6.8073\n",
      "    108        0.0795       0.8960            0.8923            0.8960        0.4539        6.5197\n",
      "    109        0.0844       0.8919            0.8893            0.8919        0.4852        6.2638\n",
      "    110        \u001b[36m0.0738\u001b[0m       0.8947            0.8912            0.8947        0.4315        6.5232\n",
      "    111        0.0902       0.8892            0.8864            0.8892        0.4283        6.4491\n",
      "    112        0.0797       0.9056            0.9030            0.9056        0.3978        6.3111\n",
      "    113        0.0763       0.9042            0.9018            0.9042        0.4286        6.4663\n",
      "    114        0.0758       0.9015            0.8986            0.9015        0.4161        6.3919\n",
      "    115        0.0809       0.9015            0.8988            0.9015        0.4142        6.3837\n",
      "    116        0.0804       0.8933            0.8897            0.8933        0.4549        6.4429\n",
      "    117        \u001b[36m0.0716\u001b[0m       0.9056            0.9020            0.9056        0.4355        6.4418\n",
      "    118        0.0757       0.9001            0.8969            0.9001        0.4345        6.3879\n",
      "    119        \u001b[36m0.0645\u001b[0m       0.9070            0.9054            0.9070        0.4479        6.3832\n",
      "    120        0.0698       0.9001            0.8966            0.9001        0.4398        6.3869\n",
      "    121        \u001b[36m0.0620\u001b[0m       0.9070            0.9037            0.9070        0.4502        7.4386\n",
      "    122        0.0718       0.9070            0.9037            0.9070        0.4279        6.3841\n",
      "    123        0.0656       0.8947            0.8919            0.8947        0.4483        6.3638\n",
      "    124        0.0796       0.8960            0.8932            0.8960        0.4622        6.4428\n",
      "    125        0.0658       0.9029            0.9000            0.9029        0.4520        6.6260\n",
      "    126        0.0649       0.8988            0.8953            0.8988        0.4351        6.5118\n",
      "    127        0.0748       0.8947            0.8919            0.8947        0.4588        6.3314\n",
      "    128        0.0670       0.9001            0.8970            0.9001        0.4546        6.3525\n",
      "    129        \u001b[36m0.0609\u001b[0m       0.8933            0.8902            0.8933        0.4645        6.4074\n",
      "    130        \u001b[36m0.0605\u001b[0m       0.9001            0.8972            0.9001        0.4301        6.7628\n",
      "    131        0.0686       0.8947            0.8909            0.8947        0.4648        6.2650\n",
      "    132        0.0719       0.8933            0.8905            0.8933        0.4636        7.4370\n",
      "    133        \u001b[36m0.0580\u001b[0m       0.9001            0.8970            0.9001        0.4485        6.3883\n",
      "    134        0.0672       0.9029            0.9004            0.9029        0.4442        6.3112\n",
      "    135        0.0714       0.9001            0.8971            0.9001        0.4814        6.6948\n",
      "    136        0.0662       0.8974            0.8947            0.8974        0.4556        6.4274\n",
      "    137        0.0651       0.8974            0.8946            0.8974        0.4458        6.3163\n",
      "    138        0.0700       0.9015            0.8991            0.9015        0.4778        6.3267\n",
      "    139        0.0716       0.9056            0.9029            0.9056        0.4707        6.3469\n",
      "    140        0.0605       0.9001            0.8971            0.9001        0.4495        6.4468\n",
      "    141        0.0636       0.9029            0.8996            0.9029        0.4614        6.4214\n",
      "    142        0.0639       0.8974            0.8942            0.8974        0.4655        6.4488\n",
      "    143        \u001b[36m0.0554\u001b[0m       0.9029            0.9002            0.9029        0.4585        6.3073\n",
      "    144        0.0639       0.9001            0.8972            0.9001        0.4629        6.4000\n",
      "    145        0.0657       0.8947            0.8917            0.8947        0.4833        6.5353\n",
      "Stopping since valid_f1_macro has not improved in the last 50 epochs.\n"
     ]
    }
   ],
   "source": [
    "model = model.fit(train_dataset, y = None)"
   ]
  },
  {
   "cell_type": "code",
   "execution_count": 29,
   "metadata": {},
   "outputs": [
    {
     "data": {
      "text/plain": [
       "<All keys matched successfully>"
      ]
     },
     "execution_count": 29,
     "metadata": {},
     "output_type": "execute_result"
    }
   ],
   "source": [
    "model.module.load_state_dict(torch.load('ResNet34.pt')) "
   ]
  },
  {
   "cell_type": "code",
   "execution_count": null,
   "metadata": {},
   "outputs": [],
   "source": []
  },
  {
   "cell_type": "code",
   "execution_count": 30,
   "metadata": {},
   "outputs": [],
   "source": [
    "## START from here"
   ]
  },
  {
   "cell_type": "code",
   "execution_count": 31,
   "metadata": {},
   "outputs": [
    {
     "name": "stdout",
     "output_type": "stream",
     "text": [
      "              precision    recall  f1-score   support\n",
      "\n",
      "           0       0.97      0.98      0.97        89\n",
      "           1       0.92      0.97      0.94        94\n",
      "           2       0.94      0.91      0.93        70\n",
      "           3       0.90      0.86      0.88        88\n",
      "           4       0.79      0.82      0.81        74\n",
      "           5       0.82      0.86      0.84        69\n",
      "           6       0.91      0.90      0.91        94\n",
      "           7       0.93      0.90      0.91        82\n",
      "           8       0.96      0.92      0.94        71\n",
      "\n",
      "    accuracy                           0.91       731\n",
      "   macro avg       0.90      0.90      0.90       731\n",
      "weighted avg       0.91      0.91      0.91       731\n",
      "\n",
      "------------------------------------------------------------\n",
      "matthews correlation coeff: 0.8937\n",
      "Cohen Kappa score: 0.8936\n",
      "Accuracy: 0.9056 & balanced Accuracy: 0.9028\n",
      "macro F1 score: 0.9032 & micro F1 score: 0.9056\n",
      "macro Precision score: 0.9043 & micro Precision score: 0.9056\n",
      "macro Recall score: 0.9028 & micro Recall score: 0.9056\n"
     ]
    },
    {
     "data": {
      "image/png": "[encoded data removed]",
      "text/plain": [
       "<Figure size 432x288 with 2 Axes>"
      ]
     },
     "metadata": {
      "needs_background": "light"
     },
     "output_type": "display_data"
    },
    {
     "name": "stdout",
     "output_type": "stream",
     "text": [
      "------------------------------------------------------------\n"
     ]
    }
   ],
   "source": [
    "preds = model.predict(validation_dataset)\n",
    "\n",
    "classification_complete_report([label_map[t] for t in validation_dataset.metadata.label], \n",
    "                               preds  )"
   ]
  },
  {
   "cell_type": "code",
   "execution_count": 32,
   "metadata": {},
   "outputs": [
    {
     "data": {
      "text/plain": [
       "['B_cell',\n",
       " 'T_cell',\n",
       " 'T_cell_with_signaling',\n",
       " 'T_cell_with_B_cell_fragments',\n",
       " 'B_T_cell_in_one_layer',\n",
       " 'Synapses_without_signaling',\n",
       " 'Synapses_with_signaling',\n",
       " 'No_cell_cell_interaction',\n",
       " 'Multiplets']"
      ]
     },
     "execution_count": 32,
     "metadata": {},
     "output_type": "execute_result"
    }
   ],
   "source": [
    "set_of_interesting_classes"
   ]
  },
  {
   "cell_type": "code",
   "execution_count": 33,
   "metadata": {},
   "outputs": [
    {
     "name": "stdout",
     "output_type": "stream",
     "text": [
      "              precision    recall  f1-score   support\n",
      "\n",
      "           0       0.99      0.96      0.98       190\n",
      "           1       0.91      0.95      0.93       200\n",
      "           2       0.93      0.84      0.89       148\n",
      "           3       0.96      0.88      0.92       189\n",
      "           4       0.82      0.93      0.87       161\n",
      "           5       0.83      0.86      0.85       147\n",
      "           6       0.85      0.94      0.89       196\n",
      "           7       0.99      0.92      0.95       182\n",
      "           8       0.94      0.87      0.91       154\n",
      "\n",
      "    accuracy                           0.91      1567\n",
      "   macro avg       0.91      0.91      0.91      1567\n",
      "weighted avg       0.92      0.91      0.91      1567\n",
      "\n",
      "------------------------------------------------------------\n",
      "matthews correlation coeff: 0.8997\n",
      "Cohen Kappa score: 0.8993\n",
      "Accuracy: 0.9107 & balanced Accuracy: 0.9070\n",
      "macro F1 score: 0.9085 & micro F1 score: 0.9107\n",
      "macro Precision score: 0.9130 & micro Precision score: 0.9107\n",
      "macro Recall score: 0.9070 & micro Recall score: 0.9107\n"
     ]
    },
    {
     "data": {
      "image/png": "[encoded data removed]",
      "text/plain": [
       "<Figure size 432x288 with 2 Axes>"
      ]
     },
     "metadata": {
      "needs_background": "light"
     },
     "output_type": "display_data"
    },
    {
     "name": "stdout",
     "output_type": "stream",
     "text": [
      "------------------------------------------------------------\n"
     ]
    }
   ],
   "source": [
    "preds = model.predict(test_dataset)\n",
    "\n",
    "classification_complete_report([label_map[t] for t in test_dataset.metadata.label],  preds)"
   ]
  },
  {
   "cell_type": "markdown",
   "metadata": {},
   "source": [
    "## saving the results"
   ]
  },
  {
   "cell_type": "code",
   "execution_count": 34,
   "metadata": {},
   "outputs": [],
   "source": [
    "#preds = pd.Series(preds).to_csv(\"resnet34_barlowtwins_preds.csv\")"
   ]
  },
  {
   "cell_type": "code",
   "execution_count": 43,
   "metadata": {},
   "outputs": [],
   "source": [
    "from captum.attr import LRP, DeepLift, Saliency"
   ]
  },
  {
   "cell_type": "code",
   "execution_count": 47,
   "metadata": {},
   "outputs": [],
   "source": [
    "lrp = LRP(model.module_)"
   ]
  },
  {
   "cell_type": "code",
   "execution_count": 48,
   "metadata": {},
   "outputs": [
    {
     "data": {
      "text/plain": [
       "{'B_cell': 0,\n",
       " 'T_cell': 1,\n",
       " 'T_cell_with_signaling': 2,\n",
       " 'T_cell_with_B_cell_fragments': 3,\n",
       " 'B_T_cell_in_one_layer': 4,\n",
       " 'Synapses_without_signaling': 5,\n",
       " 'Synapses_with_signaling': 6,\n",
       " 'No_cell_cell_interaction': 7,\n",
       " 'Multiplets': 8,\n",
       " '-1': -1,\n",
       " -1: -1}"
      ]
     },
     "execution_count": 48,
     "metadata": {},
     "output_type": "execute_result"
    }
   ],
   "source": [
    "{'B_cell': 0,\n",
    " 'T_cell': 1,\n",
    " 'T_cell_with_signaling': 2,\n",
    " 'T_cell_with_B_cell_fragments': 3,\n",
    " 'B_T_cell_in_one_layer': 4,\n",
    " 'Synapses_without_signaling': 5,\n",
    " 'Synapses_with_signaling': 6,\n",
    " 'No_cell_cell_interaction': 7,\n",
    " 'Multiplets': 8,\n",
    " '-1': -1,\n",
    " -1: -1}"
   ]
  },
  {
   "cell_type": "code",
   "execution_count": 56,
   "metadata": {},
   "outputs": [],
   "source": [
    "from skimage.util import crop\n",
    "from skimage.exposure import rescale_intensity\n",
    "import h5py\n",
    "\n",
    "def crop_pad_h_w(image_dummy,reshape_size):\n",
    "    if image_dummy.shape[0] < reshape_size:\n",
    "        h1_pad = ( reshape_size - image_dummy.shape[0])/2\n",
    "        h1_pad = int(h1_pad)\n",
    "        h2_pad =  reshape_size - h1_pad - image_dummy.shape[0]\n",
    "        h1_crop = 0\n",
    "        h2_crop = 0\n",
    "    else:\n",
    "        h1_pad = 0\n",
    "        h2_pad = 0\n",
    "        h1_crop = ( reshape_size - image_dummy.shape[0])/2\n",
    "        h1_crop = abs(int(h1_crop))\n",
    "        h2_crop = image_dummy.shape[0]- reshape_size  - h1_crop\n",
    "\n",
    "    if image_dummy.shape[1] < reshape_size:\n",
    "        w1_pad = (reshape_size - image_dummy.shape[1])/2\n",
    "        w1_pad = int(w1_pad)\n",
    "        w2_pad = reshape_size - w1_pad - image_dummy.shape[1]\n",
    "        w1_crop = 0\n",
    "        w2_crop = 0\n",
    "    else:\n",
    "        w1_pad = 0\n",
    "        w2_pad = 0\n",
    "        w1_crop = (reshape_size - image_dummy.shape[1])/2\n",
    "        w1_crop = abs(int(w1_crop))\n",
    "        w2_crop = image_dummy.shape[1]- reshape_size  - w1_crop\n",
    "\n",
    "    h = [h1_crop, h2_crop, h1_pad, h2_pad]\n",
    "    w = [w1_crop, w2_crop, w1_pad, w2_pad] \n",
    "    return h, w"
   ]
  },
  {
   "cell_type": "code",
   "execution_count": 123,
   "metadata": {},
   "outputs": [
    {
     "name": "stdout",
     "output_type": "stream",
     "text": [
      "[0.0, 0.0, 0.0, 0.0, 0.0] [1032.0, 534.4899999999998, 493.6100000000006, 561.3099999999995, 59.0]\n"
     ]
    },
    {
     "data": {
      "image/png": "[encoded data removed]",
      "text/plain": [
       "<Figure size 432x648 with 54 Axes>"
      ]
     },
     "metadata": {},
     "output_type": "display_data"
    }
   ],
   "source": [
    "cmaps_dict = {\n",
    "    0: \"Greys\",\n",
    "    1: \"Oranges\",\n",
    "    2: \"Blues\",\n",
    "    3: \"Greens\",\n",
    "    4: \"Reds\"\n",
    "}\n",
    "\n",
    "# BF,  F-Actin, MHCII, CD3, P-CD3zeta\n",
    "channels_cmap = [\"Greys\", \"Oranges\",\"Blues\",\"Greens\", \"Reds\"]\n",
    "# nrows = 10\n",
    "# ncols = 3\n",
    "# image_size = 128\n",
    "\n",
    "indx = test_dataset.metadata[\"experiment\"] == \"Experiment_4\"\n",
    "indx = indx & (test_dataset.metadata[\"donor\"] == \"Donor_7\")\n",
    "\n",
    "samples = test_dataset.metadata.loc[indx,:].reset_index(drop=True).groupby('label').apply(lambda x: x.sample(1)).index.tolist()\n",
    "samples = [s[1] for s in samples]\n",
    "n_samples = len(samples)\n",
    "channels_to_be_plotted = [0,3,4,5,6]\n",
    "ncols = len(channels_to_be_plotted) + 1\n",
    "fig, ax = plt.subplots(ncols=ncols, nrows=n_samples, figsize=(ncols,n_samples))\n",
    "\n",
    "\n",
    "vmin = [4095.]*len(channels_to_be_plotted)\n",
    "vmax = [0.]*len(channels_to_be_plotted)\n",
    "image_size = 128\n",
    "channels_cmap = [\"Greys\", \"Oranges\",\"Blues\",\"Greens\", \"Reds\"]\n",
    "\n",
    "for j, s in enumerate(samples):\n",
    "    h5_file_ = h5py.File(test_dataset.metadata.loc[s,\"file\"], \"r\")\n",
    "    image = h5_file_.get(\"image\")[()]\n",
    "    mask = h5_file_.get(\"mask\")[()]\n",
    "    for k, ch in enumerate(channels_to_be_plotted):\n",
    "        if k>0:\n",
    "            vmin[k] = min(vmin[k], np.quantile(image[:,:,ch]*mask[:,:,ch], 0.50)  )\n",
    "            vmax[k] = max(vmax[k], np.quantile(image[:,:,ch]*mask[:,:,ch], 0.995)  )\n",
    "        else:\n",
    "            vmin[k] = min(vmin[k], np.quantile(image[:,:,ch]*mask[:,:,ch], 0.0)  )\n",
    "            vmax[k] = max(vmax[k], np.quantile(image[:,:,ch]*mask[:,:,ch], 1.0)  )\n",
    "\n",
    "print(vmin, vmax)            \n",
    "            \n",
    "for i, s in enumerate(samples):\n",
    "    for j, ch in enumerate(channels_to_be_plotted):\n",
    "        data = h5py.File(test_dataset.metadata.loc[s,\"file\"], \"r\"  )\n",
    "        image = data.get(\"image\")[()][:,:,channels_to_be_plotted]\n",
    "        mask = data.get(\"mask\")[()][:,:,channels_to_be_plotted]\n",
    "        h, w = crop_pad_h_w(image, image_size)\n",
    "        h1_crop, h2_crop, h1_pad, h2_pad =  h \n",
    "        w1_crop, w2_crop, w1_pad, w2_pad = w \n",
    "        ax[i,j].axis('off')\n",
    "\n",
    "        image_dummy = crop(image[:,:,j], ((h1_crop,h2_crop),(w1_crop,w2_crop)))\n",
    "        image_dummy = np.pad(image_dummy, ((h1_pad,h2_pad),(w1_pad,w2_pad)), 'constant', constant_values=np.mean(image_dummy) )\n",
    "\n",
    "        mask_dummy = crop(mask[:,:,j], ((h1_crop,h2_crop),(w1_crop,w2_crop)))\n",
    "        mask_dummy = np.pad(mask_dummy, ((h1_pad,h2_pad),(w1_pad,w2_pad)), 'constant', constant_values=np.min(mask_dummy) )\n",
    "\n",
    "        if j in [1,2,3,4]:\n",
    "            image_dummy = image_dummy*mask_dummy\n",
    "\n",
    "        image_dummy[int(0.95*image_size):int(0.95*image_size+2), \n",
    "                                int(0.1*image_size):int(0.1*image_size  +25)] =  vmax[j]\n",
    "\n",
    "        ax[i,j].imshow( image_dummy, cmap = channels_cmap[j], vmin = vmin[j], vmax = vmax[j] )\n",
    "        data.close()\n",
    "\n",
    "att_values = []\n",
    "for i, s in enumerate(samples):\n",
    "    input_ = test_dataset[s]\n",
    "    target_ = input_[1]\n",
    "    input_ = input_[0]\n",
    "    input_ = torch.unsqueeze(input_, dim= 0)\n",
    "    # Attribution size matches input size: 3x3x32x32\n",
    "    attribution = lrp.attribute(input_.to(\"cuda\"), target=target_).detach().cpu().numpy().ravel().tolist()\n",
    "    att_values += attribution\n",
    "        \n",
    "for i, s in enumerate(samples):\n",
    "    input_ = test_dataset[s]\n",
    "    target_ = input_[1]\n",
    "    input_ = input_[0]\n",
    "    input_ = torch.unsqueeze(input_, dim= 0)\n",
    "    # Attribution size matches input size: 3x3x32x32\n",
    "    attribution = lrp.attribute(input_.to(\"cuda\"), target=6) \n",
    "    \n",
    "    ax[i,-1].imshow(attribution.median(1)[0][0].detach().cpu().numpy(),\n",
    "                       cmap=\"coolwarm\")\n",
    "    \n",
    "for i  in range(n_samples):\n",
    "    for j in range(ncols):\n",
    "        ax[i,j].set_xticks([])\n",
    "        ax[i,j].set_yticks([])\n",
    "\n",
    "\n",
    "plt.savefig('Supplementary Figure - samples vs ResNet34 LRP.png', bbox_inches=\"tight\")\n",
    "plt.savefig('Supplementary Figure - samples vs ResNet34 LRP.svg', bbox_inches=\"tight\")"
   ]
  },
  {
   "cell_type": "code",
   "execution_count": 119,
   "metadata": {},
   "outputs": [
    {
     "data": {
      "text/plain": [
       "torch.Size([1, 160, 160])"
      ]
     },
     "execution_count": 119,
     "metadata": {},
     "output_type": "execute_result"
    }
   ],
   "source": [
    "attribution.mean(1).shape"
   ]
  },
  {
   "cell_type": "code",
   "execution_count": null,
   "metadata": {},
   "outputs": [],
   "source": []
  }
 ],
 "metadata": {
  "kernelspec": {
   "display_name": "Python 3",
   "language": "python",
   "name": "python3"
  },
  "language_info": {
   "codemirror_mode": {
    "name": "ipython",
    "version": 3
   },
   "file_extension": ".py",
   "mimetype": "text/x-python",
   "name": "python",
   "nbconvert_exporter": "python",
   "pygments_lexer": "ipython3",
   "version": "3.7.6"
  }
 },
 "nbformat": 4,
 "nbformat_minor": 4
}
