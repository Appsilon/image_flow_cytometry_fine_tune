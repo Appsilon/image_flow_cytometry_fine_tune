{
 "cells": [
  {
   "cell_type": "code",
   "execution_count": null,
   "metadata": {},
   "outputs": [],
   "source": [
    "#!pip -q install /pstore/home/shetabs1/code/iflai/"
   ]
  },
  {
   "cell_type": "code",
   "execution_count": null,
   "metadata": {},
   "outputs": [],
   "source": []
  },
  {
   "cell_type": "code",
   "execution_count": 2,
   "metadata": {},
   "outputs": [],
   "source": [
    "import pandas as pd\n",
    "import matplotlib.pyplot as plt\n",
    "import seaborn as sns\n",
    "import numpy as np\n",
    "import skorch\n",
    "import torch\n",
    "from skorch import NeuralNetClassifier\n",
    "from tqdm import tqdm\n",
    "from torchvision import transforms\n",
    "import torch.nn as nn\n",
    "from scipy.stats import entropy\n",
    "import random\n",
    "import h5py\n",
    "from sklearn.cluster import KMeans\n",
    "from sklearn.preprocessing import MinMaxScaler, StandardScaler\n",
    "from sklearn.cluster import FeatureAgglomeration"
   ]
  },
  {
   "cell_type": "code",
   "execution_count": 3,
   "metadata": {},
   "outputs": [],
   "source": [
    "from scifAI.dl.utils import train_validation_test_split\n",
    "from scifAI.dl.dataset import DatasetGenerator\n",
    "from scifAI.dl.utils import get_statistics"
   ]
  },
  {
   "cell_type": "code",
   "execution_count": 4,
   "metadata": {},
   "outputs": [],
   "source": [
    "from scifAI.dl.models import PretrainedModel\n",
    "from skorch.callbacks import LRScheduler,Checkpoint,EpochScoring,EarlyStopping\n",
    "import torch.optim as optim\n",
    "from skorch.helper import predefined_split"
   ]
  },
  {
   "cell_type": "code",
   "execution_count": 5,
   "metadata": {},
   "outputs": [],
   "source": [
    "\n",
    "\n",
    "# Compare Algorithms\n",
    "import matplotlib.pyplot as plt\n",
    "from sklearn import preprocessing\n",
    "from sklearn.model_selection import train_test_split\n",
    "from sklearn import model_selection\n",
    "from sklearn.linear_model import LogisticRegression\n",
    "from sklearn.tree import DecisionTreeClassifier\n",
    "from sklearn.neighbors import KNeighborsClassifier\n",
    "from sklearn.discriminant_analysis import LinearDiscriminantAnalysis\n",
    "from sklearn.naive_bayes import GaussianNB\n",
    "from sklearn.svm import SVC\n",
    "from sklearn.ensemble import RandomForestClassifier\n",
    "from sklearn.ensemble import GradientBoostingClassifier\n",
    "from sklearn.preprocessing import MinMaxScaler, StandardScaler\n",
    "from sklearn.linear_model import SGDClassifier\n",
    "from sklearn.semi_supervised import LabelPropagation\n",
    "from sklearn.ensemble import GradientBoostingClassifier\n",
    "from sklearn.discriminant_analysis import LinearDiscriminantAnalysis\n",
    "from sklearn.ensemble import VotingClassifier\n",
    "from sklearn.ensemble import GradientBoostingClassifier\n",
    "from sklearn.neural_network import MLPClassifier\n",
    "from xgboost import XGBClassifier"
   ]
  },
  {
   "cell_type": "code",
   "execution_count": 6,
   "metadata": {},
   "outputs": [],
   "source": [
    "from sklearn.random_projection import GaussianRandomProjection"
   ]
  },
  {
   "cell_type": "code",
   "execution_count": 7,
   "metadata": {},
   "outputs": [],
   "source": [
    "import torch\n",
    "import torchvision\n",
    "from torch import nn\n",
    "\n",
    "from lightly.data import LightlyDataset\n",
    "from lightly.data.multi_view_collate import MultiViewCollate\n",
    "from lightly.loss import BarlowTwinsLoss\n",
    "from lightly.models.modules import BarlowTwinsProjectionHead\n",
    "from lightly.transforms.simclr_transform import SimCLRTransform"
   ]
  },
  {
   "cell_type": "code",
   "execution_count": 8,
   "metadata": {},
   "outputs": [],
   "source": [
    "from sklearn.metrics import plot_confusion_matrix, matthews_corrcoef, classification_report,confusion_matrix, accuracy_score, balanced_accuracy_score, cohen_kappa_score, f1_score,  precision_score, recall_score\n",
    "from statsmodels.stats.contingency_tables import mcnemar\n",
    "from sklearn.metrics import confusion_matrix,ConfusionMatrixDisplay\n",
    "\n",
    "\n",
    "def classification_complete_report(y_true, y_pred ,labels = None  ): \n",
    "    print(classification_report(y_true, y_pred, labels = labels))\n",
    "    print(15*\"----\")\n",
    "    print(\"matthews correlation coeff: %.4f\" % (matthews_corrcoef(y_true, y_pred)) )\n",
    "    print(\"Cohen Kappa score: %.4f\" % (cohen_kappa_score(y_true, y_pred)) )\n",
    "    print(\"Accuracy: %.4f & balanced Accuracy: %.4f\" % (accuracy_score(y_true, y_pred), balanced_accuracy_score(y_true, y_pred)) )\n",
    "    print(\"macro F1 score: %.4f & micro F1 score: %.4f\" % (f1_score(y_true, y_pred, average = \"macro\"), f1_score(y_true, y_pred, average = \"micro\")) )\n",
    "    print(\"macro Precision score: %.4f & micro Precision score: %.4f\" % (precision_score(y_true, y_pred, average = \"macro\"), precision_score(y_true, y_pred, average = \"micro\")) )\n",
    "    print(\"macro Recall score: %.4f & micro Recall score: %.4f\" % (recall_score(y_true, y_pred, average = \"macro\"), recall_score(y_true, y_pred, average = \"micro\")) )\n",
    "    cm = confusion_matrix(y_true, y_pred,labels= labels)\n",
    "    disp = ConfusionMatrixDisplay(confusion_matrix=cm, display_labels=labels)\n",
    "    disp.plot(cmap=plt.cm.Blues)\n",
    "    plt.show()\n",
    "    print(15*\"----\")"
   ]
  },
  {
   "cell_type": "code",
   "execution_count": 9,
   "metadata": {},
   "outputs": [
    {
     "name": "stderr",
     "output_type": "stream",
     "text": [
      "/opt/conda/lib/python3.7/site-packages/IPython/core/interactiveshell.py:3331: DtypeWarning: Columns (6) have mixed types.Specify dtype option on import or set low_memory=False.\n",
      "  exec(code_obj, self.user_global_ns, self.user_ns)\n"
     ]
    },
    {
     "data": {
      "text/html": [
       "<div>\n",
       "<style scoped>\n",
       "    .dataframe tbody tr th:only-of-type {\n",
       "        vertical-align: middle;\n",
       "    }\n",
       "\n",
       "    .dataframe tbody tr th {\n",
       "        vertical-align: top;\n",
       "    }\n",
       "\n",
       "    .dataframe thead th {\n",
       "        text-align: right;\n",
       "    }\n",
       "</style>\n",
       "<table border=\"1\" class=\"dataframe\">\n",
       "  <thead>\n",
       "    <tr style=\"text-align: right;\">\n",
       "      <th></th>\n",
       "      <th>file</th>\n",
       "      <th>experiment</th>\n",
       "      <th>donor</th>\n",
       "      <th>condition</th>\n",
       "      <th>object_number</th>\n",
       "      <th>set</th>\n",
       "      <th>label</th>\n",
       "    </tr>\n",
       "  </thead>\n",
       "  <tbody>\n",
       "    <tr>\n",
       "      <th>0</th>\n",
       "      <td>/projects/site/pred/data_science/year/2022/imm...</td>\n",
       "      <td>Experiment_1</td>\n",
       "      <td>Donor_1</td>\n",
       "      <td>+SEA</td>\n",
       "      <td>5156</td>\n",
       "      <td>unlabeled</td>\n",
       "      <td>-1</td>\n",
       "    </tr>\n",
       "    <tr>\n",
       "      <th>1</th>\n",
       "      <td>/projects/site/pred/data_science/year/2022/imm...</td>\n",
       "      <td>Experiment_1</td>\n",
       "      <td>Donor_1</td>\n",
       "      <td>+SEA</td>\n",
       "      <td>32020</td>\n",
       "      <td>unlabeled</td>\n",
       "      <td>-1</td>\n",
       "    </tr>\n",
       "    <tr>\n",
       "      <th>2</th>\n",
       "      <td>/projects/site/pred/data_science/year/2022/imm...</td>\n",
       "      <td>Experiment_1</td>\n",
       "      <td>Donor_1</td>\n",
       "      <td>+SEA</td>\n",
       "      <td>55974</td>\n",
       "      <td>unlabeled</td>\n",
       "      <td>-1</td>\n",
       "    </tr>\n",
       "    <tr>\n",
       "      <th>3</th>\n",
       "      <td>/projects/site/pred/data_science/year/2022/imm...</td>\n",
       "      <td>Experiment_1</td>\n",
       "      <td>Donor_1</td>\n",
       "      <td>+SEA</td>\n",
       "      <td>15150</td>\n",
       "      <td>unlabeled</td>\n",
       "      <td>-1</td>\n",
       "    </tr>\n",
       "    <tr>\n",
       "      <th>4</th>\n",
       "      <td>/projects/site/pred/data_science/year/2022/imm...</td>\n",
       "      <td>Experiment_1</td>\n",
       "      <td>Donor_1</td>\n",
       "      <td>+SEA</td>\n",
       "      <td>44814</td>\n",
       "      <td>unlabeled</td>\n",
       "      <td>-1</td>\n",
       "    </tr>\n",
       "    <tr>\n",
       "      <th>...</th>\n",
       "      <td>...</td>\n",
       "      <td>...</td>\n",
       "      <td>...</td>\n",
       "      <td>...</td>\n",
       "      <td>...</td>\n",
       "      <td>...</td>\n",
       "      <td>...</td>\n",
       "    </tr>\n",
       "    <tr>\n",
       "      <th>1065962</th>\n",
       "      <td>/projects/site/pred/data_science/year/2022/imm...</td>\n",
       "      <td>Experiment_4</td>\n",
       "      <td>Donor_9</td>\n",
       "      <td>DIG-TCB</td>\n",
       "      <td>72493</td>\n",
       "      <td>unlabeled</td>\n",
       "      <td>-1</td>\n",
       "    </tr>\n",
       "    <tr>\n",
       "      <th>1065963</th>\n",
       "      <td>/projects/site/pred/data_science/year/2022/imm...</td>\n",
       "      <td>Experiment_4</td>\n",
       "      <td>Donor_9</td>\n",
       "      <td>DIG-TCB</td>\n",
       "      <td>106656</td>\n",
       "      <td>unlabeled</td>\n",
       "      <td>-1</td>\n",
       "    </tr>\n",
       "    <tr>\n",
       "      <th>1065964</th>\n",
       "      <td>/projects/site/pred/data_science/year/2022/imm...</td>\n",
       "      <td>Experiment_4</td>\n",
       "      <td>Donor_9</td>\n",
       "      <td>DIG-TCB</td>\n",
       "      <td>110990</td>\n",
       "      <td>unlabeled</td>\n",
       "      <td>-1</td>\n",
       "    </tr>\n",
       "    <tr>\n",
       "      <th>1065965</th>\n",
       "      <td>/projects/site/pred/data_science/year/2022/imm...</td>\n",
       "      <td>Experiment_4</td>\n",
       "      <td>Donor_9</td>\n",
       "      <td>DIG-TCB</td>\n",
       "      <td>71451</td>\n",
       "      <td>unlabeled</td>\n",
       "      <td>-1</td>\n",
       "    </tr>\n",
       "    <tr>\n",
       "      <th>1065966</th>\n",
       "      <td>/projects/site/pred/data_science/year/2022/imm...</td>\n",
       "      <td>Experiment_4</td>\n",
       "      <td>Donor_9</td>\n",
       "      <td>DIG-TCB</td>\n",
       "      <td>111837</td>\n",
       "      <td>unlabeled</td>\n",
       "      <td>-1</td>\n",
       "    </tr>\n",
       "  </tbody>\n",
       "</table>\n",
       "<p>1065967 rows × 7 columns</p>\n",
       "</div>"
      ],
      "text/plain": [
       "                                                      file    experiment  \\\n",
       "0        /projects/site/pred/data_science/year/2022/imm...  Experiment_1   \n",
       "1        /projects/site/pred/data_science/year/2022/imm...  Experiment_1   \n",
       "2        /projects/site/pred/data_science/year/2022/imm...  Experiment_1   \n",
       "3        /projects/site/pred/data_science/year/2022/imm...  Experiment_1   \n",
       "4        /projects/site/pred/data_science/year/2022/imm...  Experiment_1   \n",
       "...                                                    ...           ...   \n",
       "1065962  /projects/site/pred/data_science/year/2022/imm...  Experiment_4   \n",
       "1065963  /projects/site/pred/data_science/year/2022/imm...  Experiment_4   \n",
       "1065964  /projects/site/pred/data_science/year/2022/imm...  Experiment_4   \n",
       "1065965  /projects/site/pred/data_science/year/2022/imm...  Experiment_4   \n",
       "1065966  /projects/site/pred/data_science/year/2022/imm...  Experiment_4   \n",
       "\n",
       "           donor condition  object_number        set label  \n",
       "0        Donor_1      +SEA           5156  unlabeled    -1  \n",
       "1        Donor_1      +SEA          32020  unlabeled    -1  \n",
       "2        Donor_1      +SEA          55974  unlabeled    -1  \n",
       "3        Donor_1      +SEA          15150  unlabeled    -1  \n",
       "4        Donor_1      +SEA          44814  unlabeled    -1  \n",
       "...          ...       ...            ...        ...   ...  \n",
       "1065962  Donor_9   DIG-TCB          72493  unlabeled    -1  \n",
       "1065963  Donor_9   DIG-TCB         106656  unlabeled    -1  \n",
       "1065964  Donor_9   DIG-TCB         110990  unlabeled    -1  \n",
       "1065965  Donor_9   DIG-TCB          71451  unlabeled    -1  \n",
       "1065966  Donor_9   DIG-TCB         111837  unlabeled    -1  \n",
       "\n",
       "[1065967 rows x 7 columns]"
      ]
     },
     "execution_count": 9,
     "metadata": {},
     "output_type": "execute_result"
    }
   ],
   "source": [
    "metadata = pd.read_csv(\"/projects/site/pred/data_science/year/2022/immunological_synapse/synapse_data_features/metadata_subset.csv.gz\")\n",
    "metadata.file = metadata.file.astype(str)\n",
    "\n",
    "metadata.file = metadata.file.str.replace(\"/pstore/data/DS4/synapse_formation_full_data/\",\n",
    "                          \"/projects/site/pred/data_science/year/2022/immunological_synapse/synapse_formation_full_data/\", regex=True)\n",
    "\n",
    "metadata"
   ]
  },
  {
   "cell_type": "code",
   "execution_count": null,
   "metadata": {},
   "outputs": [],
   "source": []
  },
  {
   "cell_type": "code",
   "execution_count": 10,
   "metadata": {},
   "outputs": [
    {
     "data": {
      "text/plain": [
       "array(['unlabeled', 'labeled', 'train', 'test', 'validation'],\n",
       "      dtype=object)"
      ]
     },
     "execution_count": 10,
     "metadata": {},
     "output_type": "execute_result"
    }
   ],
   "source": [
    "metadata.set.unique()"
   ]
  },
  {
   "cell_type": "code",
   "execution_count": 11,
   "metadata": {},
   "outputs": [],
   "source": [
    "indx = metadata.condition.isin([\"-SEA\",\"+SEA\"])\n",
    "metadata = metadata.loc[indx, :].reset_index(drop = True )"
   ]
  },
  {
   "cell_type": "code",
   "execution_count": null,
   "metadata": {},
   "outputs": [],
   "source": []
  },
  {
   "cell_type": "code",
   "execution_count": 12,
   "metadata": {},
   "outputs": [],
   "source": [
    "set_of_interesting_classes = ['B_cell',  \n",
    "                              'T_cell', \n",
    "                              'T_cell_with_signaling',\n",
    "                              'T_cell_with_B_cell_fragments',\n",
    "                              'B_T_cell_in_one_layer',\n",
    "                              'Synapses_without_signaling', \n",
    "                              'Synapses_with_signaling',\n",
    "                              'No_cell_cell_interaction',\n",
    "                              'Multiplets']"
   ]
  },
  {
   "cell_type": "code",
   "execution_count": 13,
   "metadata": {},
   "outputs": [
    {
     "data": {
      "text/plain": [
       "array(['unlabeled', 'labeled', 'train', 'test', 'validation'],\n",
       "      dtype=object)"
      ]
     },
     "execution_count": 13,
     "metadata": {},
     "output_type": "execute_result"
    }
   ],
   "source": [
    "metadata[\"set\"].unique()"
   ]
  },
  {
   "cell_type": "code",
   "execution_count": 14,
   "metadata": {},
   "outputs": [],
   "source": [
    "unlabeled_index = metadata[\"set\"] == \"unlabeled\"\n",
    "unlabeled_index = unlabeled_index[unlabeled_index].index\n",
    "\n",
    " \n",
    "labeled_index = metadata[\"label\"].isin(set_of_interesting_classes)\n",
    "\n",
    "train_index = metadata[\"set\"] == \"train\"\n",
    "train_index = train_index & labeled_index\n",
    "train_index = train_index[train_index].index\n",
    "\n",
    "validation_index = metadata[\"set\"] == \"validation\"\n",
    "validation_index = validation_index & labeled_index\n",
    "validation_index = validation_index[validation_index].index\n",
    "\n",
    "test_index = metadata[\"set\"] == \"test\"\n",
    "test_index = test_index & labeled_index\n",
    "test_index = test_index[test_index].index"
   ]
  },
  {
   "cell_type": "code",
   "execution_count": 15,
   "metadata": {},
   "outputs": [
    {
     "data": {
      "text/plain": [
       "417131"
      ]
     },
     "execution_count": 15,
     "metadata": {},
     "output_type": "execute_result"
    }
   ],
   "source": [
    " len(unlabeled_index)"
   ]
  },
  {
   "cell_type": "code",
   "execution_count": 16,
   "metadata": {},
   "outputs": [
    {
     "name": "stdout",
     "output_type": "stream",
     "text": [
      "Number of labeled images 5221\n"
     ]
    }
   ],
   "source": [
    "\n",
    "\n",
    "label_map = dict()\n",
    "for i, cl in enumerate(set_of_interesting_classes):\n",
    "    label_map[cl] = i\n",
    "\n",
    "label_map['-1'] = -1\n",
    "label_map[-1] = -1\n",
    "\n",
    "print(\"Number of labeled images\",labeled_index.sum())"
   ]
  },
  {
   "cell_type": "code",
   "execution_count": 17,
   "metadata": {},
   "outputs": [
    {
     "data": {
      "text/plain": [
       "{'B_cell': 0,\n",
       " 'T_cell': 1,\n",
       " 'T_cell_with_signaling': 2,\n",
       " 'T_cell_with_B_cell_fragments': 3,\n",
       " 'B_T_cell_in_one_layer': 4,\n",
       " 'Synapses_without_signaling': 5,\n",
       " 'Synapses_with_signaling': 6,\n",
       " 'No_cell_cell_interaction': 7,\n",
       " 'Multiplets': 8,\n",
       " '-1': -1,\n",
       " -1: -1}"
      ]
     },
     "execution_count": 17,
     "metadata": {},
     "output_type": "execute_result"
    }
   ],
   "source": [
    "label_map"
   ]
  },
  {
   "cell_type": "code",
   "execution_count": null,
   "metadata": {},
   "outputs": [],
   "source": []
  },
  {
   "cell_type": "code",
   "execution_count": 18,
   "metadata": {},
   "outputs": [],
   "source": [
    "channels = {\n",
    "     \"Ch1\": (\"Greys\", \"BF\"),  \n",
    "     \"Ch2\": (\"Greens\", \"Antibody\"),\n",
    "     \"Ch3\": (\"Reds\", \"CD18\"),\n",
    "     \"Ch4\": (\"Oranges\", \"F-Actin\"),\n",
    "     \"Ch6\": (\"RdPu\", \"MHCII\"),\n",
    "     \"Ch7\": (\"Purples\", \"CD3/CD4\"),\n",
    "     \"Ch11\": (\"Blues\", \"P-CD3zeta\"),\n",
    "     \"Ch12\": (\"Greens\", \"Live-Dead\")\n",
    " }"
   ]
  },
  {
   "cell_type": "code",
   "execution_count": null,
   "metadata": {},
   "outputs": [],
   "source": []
  },
  {
   "cell_type": "code",
   "execution_count": null,
   "metadata": {},
   "outputs": [],
   "source": []
  },
  {
   "cell_type": "code",
   "execution_count": 19,
   "metadata": {},
   "outputs": [],
   "source": [
    "reshape_size = 160\n",
    "selected_channels = [0,3,4,5,6]\n",
    "\n",
    "stats = dict()\n",
    "\n",
    "stats[\"lower_bound\"] = torch.tensor([756.5198,52.5891,45.7574,54.1436,39.0545])\n",
    "stats[\"upper_bound\"] = torch.tensor([835.3564,288.1139,271.3861,234.2525,90.0396])"
   ]
  },
  {
   "cell_type": "code",
   "execution_count": 20,
   "metadata": {},
   "outputs": [],
   "source": [
    "class AddGaussianNoise(object):\n",
    "    def __init__(self, mean=0., std=1.):\n",
    "        self.std = std\n",
    "        self.mean = mean\n",
    "        \n",
    "    def __call__(self, tensor):\n",
    "        return tensor + torch.randn(tensor.size()) * self.std + self.mean\n",
    "    \n",
    "    def __repr__(self):\n",
    "        return self.__class__.__name__ + '(mean={0}, std={1})'.format(self.mean, self.std)"
   ]
  },
  {
   "cell_type": "code",
   "execution_count": 21,
   "metadata": {},
   "outputs": [],
   "source": [
    "class MinMaxScaler(object):\n",
    "    def __init__(self, min_in , max_in, min_out, max_out):\n",
    "        self.min_in = min_in.reshape(-1,1,1)\n",
    "        self.max_in = max_in.reshape(-1,1,1)\n",
    "        self.min_out = min_out\n",
    "        self.max_out = max_out\n",
    "        \n",
    "    def __call__(self, tensor):\n",
    "        \n",
    "        tensor_ = (tensor - self.min_in)/(self.max_in - self.min_in)\n",
    "        tensor_ = tensor_*(self.max_out - self.min_out) + self.min_out\n",
    "        tensor_[tensor_<self.min_out]= self.min_out\n",
    "        tensor_[tensor_>self.max_out]= self.max_out\n",
    "        return tensor_\n",
    "    \n",
    "    def __repr__(self):\n",
    "        return self.__class__.__name__ + '(min_out={0}, max_out={1})'.format(self.min_out, self.max_out)"
   ]
  },
  {
   "cell_type": "markdown",
   "metadata": {},
   "source": [
    "## pretraining"
   ]
  },
  {
   "cell_type": "code",
   "execution_count": 22,
   "metadata": {},
   "outputs": [],
   "source": [
    "from torch.utils.data import Dataset\n",
    "import numpy as np\n",
    "import h5py\n",
    "from skimage.util import crop\n",
    "import copy\n",
    "import os\n",
    "\n",
    "\n",
    "\n",
    "def get_image(h5_file_path, scaling_factor):\n",
    "    h5_file = h5py.File(h5_file_path, 'r')\n",
    "    image_original =h5_file.get('image')[()] / scaling_factor\n",
    "    h5_file.close()\n",
    "    h5_file = None\n",
    "    return image_original\n",
    "\n",
    "def crop_pad_h_w(image_dummy, reshape_size):\n",
    "    if image_dummy.shape[0] < reshape_size:\n",
    "        h1_pad = (reshape_size - image_dummy.shape[0]) / 2\n",
    "        h1_pad = int(h1_pad)\n",
    "        h2_pad = reshape_size - h1_pad - image_dummy.shape[0]\n",
    "        h1_crop = 0\n",
    "        h2_crop = 0\n",
    "    else:\n",
    "        h1_pad = 0\n",
    "        h2_pad = 0\n",
    "        h1_crop = (reshape_size - image_dummy.shape[0]) / 2\n",
    "        h1_crop = abs(int(h1_crop))\n",
    "        h2_crop = image_dummy.shape[0] - reshape_size - h1_crop\n",
    "\n",
    "    if image_dummy.shape[1] < reshape_size:\n",
    "        w1_pad = (reshape_size - image_dummy.shape[1]) / 2\n",
    "        w1_pad = int(w1_pad)\n",
    "        w2_pad = reshape_size - w1_pad - image_dummy.shape[1]\n",
    "        w1_crop = 0\n",
    "        w2_crop = 0\n",
    "    else:\n",
    "        w1_pad = 0\n",
    "        w2_pad = 0\n",
    "        w1_crop = (reshape_size - image_dummy.shape[1]) / 2\n",
    "        w1_crop = abs(int(w1_crop))\n",
    "        w2_crop = image_dummy.shape[1] - reshape_size - w1_crop\n",
    "\n",
    "    h = [h1_crop, h2_crop, h1_pad, h2_pad]\n",
    "    w = [w1_crop, w2_crop, w1_pad, w2_pad]\n",
    "    return h, w\n",
    "\n",
    "\n",
    "class DatasetGeneratorBarlowTwins(Dataset):\n",
    "\n",
    "    def __init__(self,\n",
    "                metadata,\n",
    "                label_map,\n",
    "                selected_channels,\n",
    "                reshape_size=64,\n",
    "                scaling_factor = 4095.,\n",
    "                transform=None):\n",
    "\n",
    "        self.metadata = metadata.copy().reset_index(drop = True)\n",
    "        self.selected_channels = selected_channels\n",
    "        self.num_channels = len(self.selected_channels)\n",
    "        self.reshape_size = reshape_size\n",
    "        self.label_map = label_map\n",
    "        self.transform = transform\n",
    "        self.scaling_factor = scaling_factor\n",
    "\n",
    "    def __len__(self):\n",
    "        return len(self.metadata)\n",
    "\n",
    "    def __getitem__(self, idx):\n",
    "\n",
    "        if torch.is_tensor(idx):\n",
    "            idx = idx.tolist()\n",
    "\n",
    "        ## get image and label\n",
    "        h5_file_path = self.metadata.loc[idx,\"file\"]\n",
    "        image_original= get_image(h5_file_path, self.scaling_factor)\n",
    "        label = self.metadata.loc[idx,\"label\"]\n",
    "\n",
    "        ## creating the image\n",
    "        h, w = crop_pad_h_w(image_original, self.reshape_size)\n",
    "        h1_crop, h2_crop, h1_pad, h2_pad = h\n",
    "        w1_crop, w2_crop, w1_pad, w2_pad = w\n",
    "        image = np.zeros((  self.num_channels,\n",
    "                            self.reshape_size,\n",
    "                            self.reshape_size),\n",
    "                            dtype=np.float64)\n",
    "\n",
    "        # filling the image with selected channels\n",
    "        for i, ch in enumerate(self.selected_channels):\n",
    "            image_dummy = crop( image_original[:, :, ch],\n",
    "                                ((h1_crop, h2_crop),\n",
    "                                (w1_crop, w2_crop)))\n",
    "            image_dummy = np.pad(image_dummy,\n",
    "                                ((h1_pad, h2_pad),(w1_pad, w2_pad)),\n",
    "                                \"constant\",\n",
    "                                constant_values = image_dummy.mean())\n",
    "            image[i, :, :] = image_dummy\n",
    "            image_dummy = None\n",
    "\n",
    "        image_original = None\n",
    "\n",
    "        # map numpy array to tensor\n",
    "        image = torch.from_numpy(copy.deepcopy(image))\n",
    "\n",
    "        if self.transform:\n",
    "            image1 = self.transform(image)\n",
    "            image2 = self.transform(image)\n",
    "\n",
    "\n",
    "        label = self.label_map[label]\n",
    "        label = torch.tensor(label).long()\n",
    "        return image1.float(), image2.float(), label"
   ]
  },
  {
   "cell_type": "code",
   "execution_count": 23,
   "metadata": {},
   "outputs": [],
   "source": [
    "train_transform = transforms.Compose([ \n",
    "        MinMaxScaler(           min_in =  stats[\"lower_bound\"] , \n",
    "                                max_in =  stats[\"upper_bound\"] , \n",
    "                                min_out =  0. , \n",
    "                                max_out =  1.),\n",
    "        transforms.RandomResizedCrop(reshape_size, scale=(0.4, 1.2), ratio=(0.7, 1.3)),\n",
    "        transforms.RandomRotation(45),\n",
    "        transforms.RandomHorizontalFlip(),\n",
    "        transforms.RandomVerticalFlip(),\n",
    "        transforms.RandomErasing(),\n",
    "        AddGaussianNoise(mean=0., std=0.10),\n",
    "])\n",
    "\n",
    "\n",
    "\n",
    "unlabeled_dataset = DatasetGeneratorBarlowTwins(metadata.loc[unlabeled_index.tolist(),:], \n",
    "                                             reshape_size=reshape_size, \n",
    "                                             scaling_factor = 1.,\n",
    "                                            label_map=label_map, \n",
    "                                             transform = train_transform,\n",
    "                                            selected_channels=selected_channels)"
   ]
  },
  {
   "cell_type": "code",
   "execution_count": 24,
   "metadata": {},
   "outputs": [
    {
     "data": {
      "image/png": "[encoded data removed]",
      "text/plain": [
       "<Figure size 432x288 with 10 Axes>"
      ]
     },
     "metadata": {
      "needs_background": "light"
     },
     "output_type": "display_data"
    }
   ],
   "source": [
    "fig, ax = plt.subplots(ncols=5,nrows=2)\n",
    "\n",
    "x0,x1,_=unlabeled_dataset[0]\n",
    "\n",
    "for j in range(5):\n",
    "    ax[0,j].imshow(x0[j,:,:])\n",
    "    ax[1,j].imshow(x1[j,:,:])"
   ]
  },
  {
   "cell_type": "code",
   "execution_count": null,
   "metadata": {},
   "outputs": [],
   "source": []
  },
  {
   "cell_type": "code",
   "execution_count": 25,
   "metadata": {},
   "outputs": [],
   "source": [
    "class BarlowTwins(nn.Module):\n",
    "    def __init__(self, backbone):\n",
    "        super().__init__()\n",
    "        self.backbone = backbone\n",
    "        self.projection_head = BarlowTwinsProjectionHead(512, 2048, 2048)\n",
    "\n",
    "    def forward(self, x):\n",
    "        x = self.backbone(x).flatten(start_dim=1)\n",
    "        z = self.projection_head(x)\n",
    "        return z"
   ]
  },
  {
   "cell_type": "code",
   "execution_count": 26,
   "metadata": {},
   "outputs": [],
   "source": [
    "import torch.nn as nn\n",
    "from torchvision.models import resnet152, resnet18, resnet34, resnet50\n",
    "import torch.nn.functional as F\n",
    "\n",
    "backbone =  resnet34(weights='IMAGENET1K_V1')\n",
    "num_channels = len(selected_channels)\n",
    "num_classes = len(set_of_interesting_classes)\n",
    "if num_channels != 3:\n",
    "    backbone.conv1 = nn.Conv2d(num_channels, 64, kernel_size=(7, 7),\n",
    "                                    stride=(2, 2), padding=(3, 3), bias=False)\n",
    "num_ftrs = backbone.fc.in_features\n",
    "backbone.fc = nn.Linear(num_ftrs, num_classes)\n",
    "backbone = nn.Sequential(*list(backbone.children())[:-1])"
   ]
  },
  {
   "cell_type": "code",
   "execution_count": null,
   "metadata": {},
   "outputs": [],
   "source": []
  },
  {
   "cell_type": "code",
   "execution_count": 27,
   "metadata": {},
   "outputs": [
    {
     "name": "stdout",
     "output_type": "stream",
     "text": [
      "Barlow twins weights are loaded\n"
     ]
    }
   ],
   "source": [
    "\n",
    "barlow_twins = BarlowTwins(backbone)\n",
    "\n",
    "\n",
    "    \n",
    "device = \"cuda\" if torch.cuda.is_available() else \"cpu\"\n",
    "barlow_twins.to(device);\n",
    "barlow_twins = torch.nn.DataParallel(barlow_twins)\n",
    "\n",
    "try:\n",
    "    barlow_twins.load_state_dict(torch.load(\"BarlowTwins_data_parallel.pt\"))\n",
    "    print(\"Barlow twins weights are loaded\")\n",
    "except:\n",
    "    print(\"could not load the weights\")"
   ]
  },
  {
   "cell_type": "code",
   "execution_count": 28,
   "metadata": {},
   "outputs": [],
   "source": [
    "dataloader = torch.utils.data.DataLoader(\n",
    "    unlabeled_dataset,\n",
    "    batch_size=1024,\n",
    "    shuffle=True,\n",
    "    drop_last=False,\n",
    "    num_workers=20,\n",
    ")"
   ]
  },
  {
   "cell_type": "code",
   "execution_count": 29,
   "metadata": {},
   "outputs": [],
   "source": [
    "criterion = BarlowTwinsLoss()\n",
    "optimizer = torch.optim.Adam(barlow_twins.parameters(), lr=0.001)"
   ]
  },
  {
   "cell_type": "code",
   "execution_count": 30,
   "metadata": {},
   "outputs": [
    {
     "name": "stdout",
     "output_type": "stream",
     "text": [
      "Starting Training\n"
     ]
    },
    {
     "name": "stderr",
     "output_type": "stream",
     "text": [
      "100%|██████████| 408/408 [11:13<00:00,  1.65s/it]\n"
     ]
    },
    {
     "name": "stdout",
     "output_type": "stream",
     "text": [
      "epoch: 00, loss: 20.07923\n"
     ]
    },
    {
     "name": "stderr",
     "output_type": "stream",
     "text": [
      "100%|██████████| 408/408 [07:31<00:00,  1.11s/it]\n"
     ]
    },
    {
     "name": "stdout",
     "output_type": "stream",
     "text": [
      "epoch: 01, loss: 20.02024\n"
     ]
    },
    {
     "name": "stderr",
     "output_type": "stream",
     "text": [
      "100%|██████████| 408/408 [07:30<00:00,  1.10s/it]\n"
     ]
    },
    {
     "name": "stdout",
     "output_type": "stream",
     "text": [
      "epoch: 02, loss: 20.00659\n"
     ]
    },
    {
     "name": "stderr",
     "output_type": "stream",
     "text": [
      "100%|██████████| 408/408 [07:02<00:00,  1.03s/it]\n"
     ]
    },
    {
     "name": "stdout",
     "output_type": "stream",
     "text": [
      "epoch: 03, loss: 20.00890\n"
     ]
    },
    {
     "name": "stderr",
     "output_type": "stream",
     "text": [
      "100%|██████████| 408/408 [07:20<00:00,  1.08s/it]\n"
     ]
    },
    {
     "name": "stdout",
     "output_type": "stream",
     "text": [
      "epoch: 04, loss: 20.00165\n"
     ]
    },
    {
     "name": "stderr",
     "output_type": "stream",
     "text": [
      "100%|██████████| 408/408 [07:17<00:00,  1.07s/it]\n"
     ]
    },
    {
     "name": "stdout",
     "output_type": "stream",
     "text": [
      "epoch: 05, loss: 19.95423\n"
     ]
    },
    {
     "name": "stderr",
     "output_type": "stream",
     "text": [
      "100%|██████████| 408/408 [04:54<00:00,  1.39it/s]\n"
     ]
    },
    {
     "name": "stdout",
     "output_type": "stream",
     "text": [
      "epoch: 06, loss: 19.96600\n"
     ]
    },
    {
     "name": "stderr",
     "output_type": "stream",
     "text": [
      "100%|██████████| 408/408 [04:57<00:00,  1.37it/s]\n"
     ]
    },
    {
     "name": "stdout",
     "output_type": "stream",
     "text": [
      "epoch: 07, loss: 19.96584\n"
     ]
    },
    {
     "name": "stderr",
     "output_type": "stream",
     "text": [
      "100%|██████████| 408/408 [04:54<00:00,  1.39it/s]\n"
     ]
    },
    {
     "name": "stdout",
     "output_type": "stream",
     "text": [
      "epoch: 08, loss: 19.96573\n"
     ]
    },
    {
     "name": "stderr",
     "output_type": "stream",
     "text": [
      "100%|██████████| 408/408 [05:24<00:00,  1.26it/s]\n"
     ]
    },
    {
     "name": "stdout",
     "output_type": "stream",
     "text": [
      "epoch: 09, loss: 19.92742\n"
     ]
    },
    {
     "name": "stderr",
     "output_type": "stream",
     "text": [
      "100%|██████████| 408/408 [05:17<00:00,  1.28it/s]\n"
     ]
    },
    {
     "name": "stdout",
     "output_type": "stream",
     "text": [
      "epoch: 10, loss: 19.97234\n"
     ]
    },
    {
     "name": "stderr",
     "output_type": "stream",
     "text": [
      "100%|██████████| 408/408 [04:59<00:00,  1.36it/s]\n"
     ]
    },
    {
     "name": "stdout",
     "output_type": "stream",
     "text": [
      "epoch: 11, loss: 20.14592\n"
     ]
    },
    {
     "name": "stderr",
     "output_type": "stream",
     "text": [
      "100%|██████████| 408/408 [05:47<00:00,  1.17it/s]\n"
     ]
    },
    {
     "name": "stdout",
     "output_type": "stream",
     "text": [
      "epoch: 12, loss: 20.16381\n"
     ]
    },
    {
     "name": "stderr",
     "output_type": "stream",
     "text": [
      "100%|██████████| 408/408 [05:09<00:00,  1.32it/s]\n"
     ]
    },
    {
     "name": "stdout",
     "output_type": "stream",
     "text": [
      "epoch: 13, loss: 20.21768\n"
     ]
    },
    {
     "name": "stderr",
     "output_type": "stream",
     "text": [
      "100%|██████████| 408/408 [05:04<00:00,  1.34it/s]\n"
     ]
    },
    {
     "name": "stdout",
     "output_type": "stream",
     "text": [
      "epoch: 14, loss: 20.17061\n"
     ]
    }
   ],
   "source": [
    "print(\"Starting Training\")\n",
    "for epoch in range(15):\n",
    "    total_loss = 0\n",
    "    for x0, x1, _ in tqdm(dataloader, position=0, leave=True):\n",
    "        x0 = x0.to(device)\n",
    "        x1 = x1.to(device)\n",
    "        z0 = barlow_twins(x0)\n",
    "        z1 = barlow_twins(x1)\n",
    "        loss = criterion(z0, z1)\n",
    "        total_loss += loss.detach()\n",
    "        loss.backward()\n",
    "        optimizer.step()\n",
    "        optimizer.zero_grad()\n",
    "    avg_loss = total_loss / len(dataloader)\n",
    "    torch.save(barlow_twins.state_dict(), \"BarlowTwins_data_parallel.pt\")\n",
    "    print(f\"epoch: {epoch:>02}, loss: {avg_loss:.5f}\")\n",
    "    torch.cuda.empty_cache()"
   ]
  },
  {
   "cell_type": "code",
   "execution_count": 31,
   "metadata": {},
   "outputs": [],
   "source": [
    "torch.save(barlow_twins.module.state_dict(), \"BarlowTwins.pt\")"
   ]
  },
  {
   "cell_type": "code",
   "execution_count": null,
   "metadata": {},
   "outputs": [],
   "source": []
  },
  {
   "cell_type": "code",
   "execution_count": null,
   "metadata": {},
   "outputs": [],
   "source": []
  }
 ],
 "metadata": {
  "kernelspec": {
   "display_name": "Python 3",
   "language": "python",
   "name": "python3"
  },
  "language_info": {
   "codemirror_mode": {
    "name": "ipython",
    "version": 3
   },
   "file_extension": ".py",
   "mimetype": "text/x-python",
   "name": "python",
   "nbconvert_exporter": "python",
   "pygments_lexer": "ipython3",
   "version": "3.7.6"
  }
 },
 "nbformat": 4,
 "nbformat_minor": 4
}
