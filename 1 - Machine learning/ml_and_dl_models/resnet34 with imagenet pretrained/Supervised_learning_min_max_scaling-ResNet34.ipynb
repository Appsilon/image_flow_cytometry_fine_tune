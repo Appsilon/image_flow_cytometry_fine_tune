{
 "cells": [
  {
   "cell_type": "code",
   "execution_count": 1,
   "metadata": {},
   "outputs": [],
   "source": [
    "#!pip -q install /pstore/home/shetabs1/code/iflai/"
   ]
  },
  {
   "cell_type": "code",
   "execution_count": null,
   "metadata": {},
   "outputs": [],
   "source": []
  },
  {
   "cell_type": "code",
   "execution_count": 2,
   "metadata": {},
   "outputs": [],
   "source": [
    "import pandas as pd\n",
    "import matplotlib.pyplot as plt\n",
    "import seaborn as sns\n",
    "import numpy as np\n",
    "import skorch\n",
    "import torch\n",
    "from skorch import NeuralNetClassifier\n",
    "from tqdm import tqdm\n",
    "from torchvision import transforms\n",
    "import torch.nn as nn\n",
    "from scipy.stats import entropy\n",
    "import random\n",
    "import h5py\n",
    "from sklearn.cluster import KMeans\n",
    "from sklearn.preprocessing import MinMaxScaler, StandardScaler\n",
    "from sklearn.cluster import FeatureAgglomeration"
   ]
  },
  {
   "cell_type": "code",
   "execution_count": 3,
   "metadata": {},
   "outputs": [],
   "source": [
    "from scifAI.dl.utils import train_validation_test_split\n",
    "from scifAI.dl.dataset import DatasetGenerator\n",
    "from scifAI.dl.utils import get_statistics"
   ]
  },
  {
   "cell_type": "code",
   "execution_count": 4,
   "metadata": {},
   "outputs": [],
   "source": [
    "from scifAI.dl.models import PretrainedModel\n",
    "from skorch.callbacks import LRScheduler,Checkpoint,EpochScoring,EarlyStopping\n",
    "import torch.optim as optim\n",
    "from skorch.helper import predefined_split"
   ]
  },
  {
   "cell_type": "code",
   "execution_count": 5,
   "metadata": {},
   "outputs": [],
   "source": [
    "\n",
    "\n",
    "# Compare Algorithms\n",
    "import matplotlib.pyplot as plt\n",
    "from sklearn import preprocessing\n",
    "from sklearn.model_selection import train_test_split\n",
    "from sklearn import model_selection\n",
    "from sklearn.linear_model import LogisticRegression\n",
    "from sklearn.tree import DecisionTreeClassifier\n",
    "from sklearn.neighbors import KNeighborsClassifier\n",
    "from sklearn.discriminant_analysis import LinearDiscriminantAnalysis\n",
    "from sklearn.naive_bayes import GaussianNB\n",
    "from sklearn.svm import SVC\n",
    "from sklearn.ensemble import RandomForestClassifier\n",
    "from sklearn.ensemble import GradientBoostingClassifier\n",
    "from sklearn.preprocessing import MinMaxScaler, StandardScaler\n",
    "from sklearn.linear_model import SGDClassifier\n",
    "from sklearn.semi_supervised import LabelPropagation\n",
    "from sklearn.ensemble import GradientBoostingClassifier\n",
    "from sklearn.discriminant_analysis import LinearDiscriminantAnalysis\n",
    "from sklearn.ensemble import VotingClassifier\n",
    "from sklearn.ensemble import GradientBoostingClassifier\n",
    "from sklearn.neural_network import MLPClassifier\n",
    "from xgboost import XGBClassifier"
   ]
  },
  {
   "cell_type": "code",
   "execution_count": 6,
   "metadata": {},
   "outputs": [],
   "source": [
    "from sklearn.random_projection import GaussianRandomProjection"
   ]
  },
  {
   "cell_type": "code",
   "execution_count": 7,
   "metadata": {},
   "outputs": [],
   "source": [
    "from sklearn.metrics import plot_confusion_matrix, matthews_corrcoef, classification_report,confusion_matrix, accuracy_score, balanced_accuracy_score, cohen_kappa_score, f1_score,  precision_score, recall_score\n",
    "from statsmodels.stats.contingency_tables import mcnemar\n",
    "from sklearn.metrics import confusion_matrix,ConfusionMatrixDisplay\n",
    "\n",
    "\n",
    "def classification_complete_report(y_true, y_pred ,labels = None  ): \n",
    "    print(classification_report(y_true, y_pred, labels = labels))\n",
    "    print(15*\"----\")\n",
    "    print(\"matthews correlation coeff: %.4f\" % (matthews_corrcoef(y_true, y_pred)) )\n",
    "    print(\"Cohen Kappa score: %.4f\" % (cohen_kappa_score(y_true, y_pred)) )\n",
    "    print(\"Accuracy: %.4f & balanced Accuracy: %.4f\" % (accuracy_score(y_true, y_pred), balanced_accuracy_score(y_true, y_pred)) )\n",
    "    print(\"macro F1 score: %.4f & micro F1 score: %.4f\" % (f1_score(y_true, y_pred, average = \"macro\"), f1_score(y_true, y_pred, average = \"micro\")) )\n",
    "    print(\"macro Precision score: %.4f & micro Precision score: %.4f\" % (precision_score(y_true, y_pred, average = \"macro\"), precision_score(y_true, y_pred, average = \"micro\")) )\n",
    "    print(\"macro Recall score: %.4f & micro Recall score: %.4f\" % (recall_score(y_true, y_pred, average = \"macro\"), recall_score(y_true, y_pred, average = \"micro\")) )\n",
    "    cm = confusion_matrix(y_true, y_pred,labels= labels)\n",
    "    disp = ConfusionMatrixDisplay(confusion_matrix=cm, display_labels=labels)\n",
    "    disp.plot(cmap=plt.cm.Blues)\n",
    "    plt.show()\n",
    "    print(15*\"----\")"
   ]
  },
  {
   "cell_type": "code",
   "execution_count": 8,
   "metadata": {},
   "outputs": [
    {
     "name": "stderr",
     "output_type": "stream",
     "text": [
      "/pstore/apps/Python/3.8.3-2020.07/lib/python3.8/site-packages/IPython/core/interactiveshell.py:3071: DtypeWarning: Columns (6) have mixed types.Specify dtype option on import or set low_memory=False.\n",
      "  has_raised = await self.run_ast_nodes(code_ast.body, cell_name,\n"
     ]
    },
    {
     "data": {
      "text/html": [
       "<div>\n",
       "<style scoped>\n",
       "    .dataframe tbody tr th:only-of-type {\n",
       "        vertical-align: middle;\n",
       "    }\n",
       "\n",
       "    .dataframe tbody tr th {\n",
       "        vertical-align: top;\n",
       "    }\n",
       "\n",
       "    .dataframe thead th {\n",
       "        text-align: right;\n",
       "    }\n",
       "</style>\n",
       "<table border=\"1\" class=\"dataframe\">\n",
       "  <thead>\n",
       "    <tr style=\"text-align: right;\">\n",
       "      <th></th>\n",
       "      <th>file</th>\n",
       "      <th>experiment</th>\n",
       "      <th>donor</th>\n",
       "      <th>condition</th>\n",
       "      <th>object_number</th>\n",
       "      <th>set</th>\n",
       "      <th>label</th>\n",
       "    </tr>\n",
       "  </thead>\n",
       "  <tbody>\n",
       "    <tr>\n",
       "      <th>0</th>\n",
       "      <td>/pstore/data/DS4/synapse_formation_full_data/E...</td>\n",
       "      <td>Experiment_1</td>\n",
       "      <td>Donor_1</td>\n",
       "      <td>+SEA</td>\n",
       "      <td>5156</td>\n",
       "      <td>unlabeled</td>\n",
       "      <td>-1</td>\n",
       "    </tr>\n",
       "    <tr>\n",
       "      <th>1</th>\n",
       "      <td>/pstore/data/DS4/synapse_formation_full_data/E...</td>\n",
       "      <td>Experiment_1</td>\n",
       "      <td>Donor_1</td>\n",
       "      <td>+SEA</td>\n",
       "      <td>32020</td>\n",
       "      <td>unlabeled</td>\n",
       "      <td>-1</td>\n",
       "    </tr>\n",
       "    <tr>\n",
       "      <th>2</th>\n",
       "      <td>/pstore/data/DS4/synapse_formation_full_data/E...</td>\n",
       "      <td>Experiment_1</td>\n",
       "      <td>Donor_1</td>\n",
       "      <td>+SEA</td>\n",
       "      <td>55974</td>\n",
       "      <td>unlabeled</td>\n",
       "      <td>-1</td>\n",
       "    </tr>\n",
       "    <tr>\n",
       "      <th>3</th>\n",
       "      <td>/pstore/data/DS4/synapse_formation_full_data/E...</td>\n",
       "      <td>Experiment_1</td>\n",
       "      <td>Donor_1</td>\n",
       "      <td>+SEA</td>\n",
       "      <td>15150</td>\n",
       "      <td>unlabeled</td>\n",
       "      <td>-1</td>\n",
       "    </tr>\n",
       "    <tr>\n",
       "      <th>4</th>\n",
       "      <td>/pstore/data/DS4/synapse_formation_full_data/E...</td>\n",
       "      <td>Experiment_1</td>\n",
       "      <td>Donor_1</td>\n",
       "      <td>+SEA</td>\n",
       "      <td>44814</td>\n",
       "      <td>unlabeled</td>\n",
       "      <td>-1</td>\n",
       "    </tr>\n",
       "    <tr>\n",
       "      <th>...</th>\n",
       "      <td>...</td>\n",
       "      <td>...</td>\n",
       "      <td>...</td>\n",
       "      <td>...</td>\n",
       "      <td>...</td>\n",
       "      <td>...</td>\n",
       "      <td>...</td>\n",
       "    </tr>\n",
       "    <tr>\n",
       "      <th>1065962</th>\n",
       "      <td>/pstore/data/DS4/synapse_formation_full_data/E...</td>\n",
       "      <td>Experiment_4</td>\n",
       "      <td>Donor_9</td>\n",
       "      <td>DIG-TCB</td>\n",
       "      <td>72493</td>\n",
       "      <td>unlabeled</td>\n",
       "      <td>-1</td>\n",
       "    </tr>\n",
       "    <tr>\n",
       "      <th>1065963</th>\n",
       "      <td>/pstore/data/DS4/synapse_formation_full_data/E...</td>\n",
       "      <td>Experiment_4</td>\n",
       "      <td>Donor_9</td>\n",
       "      <td>DIG-TCB</td>\n",
       "      <td>106656</td>\n",
       "      <td>unlabeled</td>\n",
       "      <td>-1</td>\n",
       "    </tr>\n",
       "    <tr>\n",
       "      <th>1065964</th>\n",
       "      <td>/pstore/data/DS4/synapse_formation_full_data/E...</td>\n",
       "      <td>Experiment_4</td>\n",
       "      <td>Donor_9</td>\n",
       "      <td>DIG-TCB</td>\n",
       "      <td>110990</td>\n",
       "      <td>unlabeled</td>\n",
       "      <td>-1</td>\n",
       "    </tr>\n",
       "    <tr>\n",
       "      <th>1065965</th>\n",
       "      <td>/pstore/data/DS4/synapse_formation_full_data/E...</td>\n",
       "      <td>Experiment_4</td>\n",
       "      <td>Donor_9</td>\n",
       "      <td>DIG-TCB</td>\n",
       "      <td>71451</td>\n",
       "      <td>unlabeled</td>\n",
       "      <td>-1</td>\n",
       "    </tr>\n",
       "    <tr>\n",
       "      <th>1065966</th>\n",
       "      <td>/pstore/data/DS4/synapse_formation_full_data/E...</td>\n",
       "      <td>Experiment_4</td>\n",
       "      <td>Donor_9</td>\n",
       "      <td>DIG-TCB</td>\n",
       "      <td>111837</td>\n",
       "      <td>unlabeled</td>\n",
       "      <td>-1</td>\n",
       "    </tr>\n",
       "  </tbody>\n",
       "</table>\n",
       "<p>1065967 rows × 7 columns</p>\n",
       "</div>"
      ],
      "text/plain": [
       "                                                      file    experiment  \\\n",
       "0        /pstore/data/DS4/synapse_formation_full_data/E...  Experiment_1   \n",
       "1        /pstore/data/DS4/synapse_formation_full_data/E...  Experiment_1   \n",
       "2        /pstore/data/DS4/synapse_formation_full_data/E...  Experiment_1   \n",
       "3        /pstore/data/DS4/synapse_formation_full_data/E...  Experiment_1   \n",
       "4        /pstore/data/DS4/synapse_formation_full_data/E...  Experiment_1   \n",
       "...                                                    ...           ...   \n",
       "1065962  /pstore/data/DS4/synapse_formation_full_data/E...  Experiment_4   \n",
       "1065963  /pstore/data/DS4/synapse_formation_full_data/E...  Experiment_4   \n",
       "1065964  /pstore/data/DS4/synapse_formation_full_data/E...  Experiment_4   \n",
       "1065965  /pstore/data/DS4/synapse_formation_full_data/E...  Experiment_4   \n",
       "1065966  /pstore/data/DS4/synapse_formation_full_data/E...  Experiment_4   \n",
       "\n",
       "           donor condition  object_number        set label  \n",
       "0        Donor_1      +SEA           5156  unlabeled    -1  \n",
       "1        Donor_1      +SEA          32020  unlabeled    -1  \n",
       "2        Donor_1      +SEA          55974  unlabeled    -1  \n",
       "3        Donor_1      +SEA          15150  unlabeled    -1  \n",
       "4        Donor_1      +SEA          44814  unlabeled    -1  \n",
       "...          ...       ...            ...        ...   ...  \n",
       "1065962  Donor_9   DIG-TCB          72493  unlabeled    -1  \n",
       "1065963  Donor_9   DIG-TCB         106656  unlabeled    -1  \n",
       "1065964  Donor_9   DIG-TCB         110990  unlabeled    -1  \n",
       "1065965  Donor_9   DIG-TCB          71451  unlabeled    -1  \n",
       "1065966  Donor_9   DIG-TCB         111837  unlabeled    -1  \n",
       "\n",
       "[1065967 rows x 7 columns]"
      ]
     },
     "execution_count": 8,
     "metadata": {},
     "output_type": "execute_result"
    }
   ],
   "source": [
    "metadata = pd.read_csv(\"/pstore/data/DS4/synapse_data_features/metadata_subset.csv.gz\")\n",
    "metadata"
   ]
  },
  {
   "cell_type": "code",
   "execution_count": 9,
   "metadata": {},
   "outputs": [
    {
     "data": {
      "text/plain": [
       "array(['unlabeled', 'labeled', 'train', 'test', 'validation'],\n",
       "      dtype=object)"
      ]
     },
     "execution_count": 9,
     "metadata": {},
     "output_type": "execute_result"
    }
   ],
   "source": [
    "metadata.set.unique()"
   ]
  },
  {
   "cell_type": "code",
   "execution_count": 10,
   "metadata": {},
   "outputs": [],
   "source": [
    "indx = metadata.condition.isin([\"-SEA\",\"+SEA\"])\n",
    "metadata = metadata.loc[indx, :].reset_index(drop = True )"
   ]
  },
  {
   "cell_type": "code",
   "execution_count": null,
   "metadata": {},
   "outputs": [],
   "source": []
  },
  {
   "cell_type": "code",
   "execution_count": 11,
   "metadata": {},
   "outputs": [],
   "source": [
    "set_of_interesting_classes = ['B_cell',  \n",
    "                              'T_cell', \n",
    "                              'T_cell_with_signaling',\n",
    "                              'T_cell_with_B_cell_fragments',\n",
    "                              'B_T_cell_in_one_layer',\n",
    "                              'Synapses_without_signaling', \n",
    "                              'Synapses_with_signaling',\n",
    "                              'No_cell_cell_interaction',\n",
    "                              'Multiplets']"
   ]
  },
  {
   "cell_type": "code",
   "execution_count": 12,
   "metadata": {},
   "outputs": [
    {
     "data": {
      "text/plain": [
       "array(['unlabeled', 'labeled', 'train', 'test', 'validation'],\n",
       "      dtype=object)"
      ]
     },
     "execution_count": 12,
     "metadata": {},
     "output_type": "execute_result"
    }
   ],
   "source": [
    "metadata[\"set\"].unique()"
   ]
  },
  {
   "cell_type": "code",
   "execution_count": 13,
   "metadata": {},
   "outputs": [],
   "source": [
    "unlabeled_index = metadata[\"set\"] == \"unlabeled\"\n",
    "unlabeled_index = unlabeled_index[unlabeled_index].index\n",
    "\n",
    " \n",
    "labeled_index = metadata[\"label\"].isin(set_of_interesting_classes)\n",
    "\n",
    "train_index = metadata[\"set\"] == \"train\"\n",
    "train_index = train_index & labeled_index\n",
    "train_index = train_index[train_index].index\n",
    "\n",
    "validation_index = metadata[\"set\"] == \"validation\"\n",
    "validation_index = validation_index & labeled_index\n",
    "validation_index = validation_index[validation_index].index\n",
    "\n",
    "test_index = metadata[\"set\"] == \"test\"\n",
    "test_index = test_index & labeled_index\n",
    "test_index = test_index[test_index].index"
   ]
  },
  {
   "cell_type": "code",
   "execution_count": null,
   "metadata": {},
   "outputs": [],
   "source": [
    " "
   ]
  },
  {
   "cell_type": "code",
   "execution_count": 14,
   "metadata": {},
   "outputs": [
    {
     "name": "stdout",
     "output_type": "stream",
     "text": [
      "Number of labeled images 5221\n"
     ]
    }
   ],
   "source": [
    "\n",
    "\n",
    "label_map = dict()\n",
    "for i, cl in enumerate(set_of_interesting_classes):\n",
    "    label_map[cl] = i\n",
    "\n",
    "label_map['-1'] = -1\n",
    "label_map[-1] = -1\n",
    "\n",
    "print(\"Number of labeled images\",labeled_index.sum())"
   ]
  },
  {
   "cell_type": "code",
   "execution_count": 15,
   "metadata": {},
   "outputs": [
    {
     "data": {
      "text/plain": [
       "{'B_cell': 0,\n",
       " 'T_cell': 1,\n",
       " 'T_cell_with_signaling': 2,\n",
       " 'T_cell_with_B_cell_fragments': 3,\n",
       " 'B_T_cell_in_one_layer': 4,\n",
       " 'Synapses_without_signaling': 5,\n",
       " 'Synapses_with_signaling': 6,\n",
       " 'No_cell_cell_interaction': 7,\n",
       " 'Multiplets': 8,\n",
       " '-1': -1,\n",
       " -1: -1}"
      ]
     },
     "execution_count": 15,
     "metadata": {},
     "output_type": "execute_result"
    }
   ],
   "source": [
    "label_map"
   ]
  },
  {
   "cell_type": "code",
   "execution_count": null,
   "metadata": {},
   "outputs": [],
   "source": []
  },
  {
   "cell_type": "code",
   "execution_count": 16,
   "metadata": {},
   "outputs": [],
   "source": [
    "channels = {\n",
    "     \"Ch1\": (\"Greys\", \"BF\"),  \n",
    "     \"Ch2\": (\"Greens\", \"Antibody\"),\n",
    "     \"Ch3\": (\"Reds\", \"CD18\"),\n",
    "     \"Ch4\": (\"Oranges\", \"F-Actin\"),\n",
    "     \"Ch6\": (\"RdPu\", \"MHCII\"),\n",
    "     \"Ch7\": (\"Purples\", \"CD3/CD4\"),\n",
    "     \"Ch11\": (\"Blues\", \"P-CD3zeta\"),\n",
    "     \"Ch12\": (\"Greens\", \"Live-Dead\")\n",
    " }"
   ]
  },
  {
   "cell_type": "code",
   "execution_count": null,
   "metadata": {},
   "outputs": [],
   "source": []
  },
  {
   "cell_type": "code",
   "execution_count": null,
   "metadata": {},
   "outputs": [],
   "source": []
  },
  {
   "cell_type": "code",
   "execution_count": 17,
   "metadata": {},
   "outputs": [],
   "source": [
    "reshape_size = 160\n",
    "selected_channels = [0,3,4,5,6]\n",
    "\n",
    "stats = dict()\n",
    "\n",
    "stats[\"lower_bound\"] = torch.tensor([756.5198,52.5891,45.7574,54.1436,39.0545])\n",
    "stats[\"upper_bound\"] = torch.tensor([835.3564,288.1139,271.3861,234.2525,90.0396])"
   ]
  },
  {
   "cell_type": "code",
   "execution_count": 18,
   "metadata": {},
   "outputs": [],
   "source": [
    "class AddGaussianNoise(object):\n",
    "    def __init__(self, mean=0., std=1.):\n",
    "        self.std = std\n",
    "        self.mean = mean\n",
    "        \n",
    "    def __call__(self, tensor):\n",
    "        return tensor + torch.randn(tensor.size()) * self.std + self.mean\n",
    "    \n",
    "    def __repr__(self):\n",
    "        return self.__class__.__name__ + '(mean={0}, std={1})'.format(self.mean, self.std)"
   ]
  },
  {
   "cell_type": "code",
   "execution_count": 19,
   "metadata": {},
   "outputs": [],
   "source": [
    "class MinMaxScaler(object):\n",
    "    def __init__(self, min_in , max_in, min_out, max_out):\n",
    "        self.min_in = min_in.reshape(-1,1,1)\n",
    "        self.max_in = max_in.reshape(-1,1,1)\n",
    "        self.min_out = min_out\n",
    "        self.max_out = max_out\n",
    "        \n",
    "    def __call__(self, tensor):\n",
    "        \n",
    "        tensor_ = (tensor - self.min_in)/(self.max_in - self.min_in)\n",
    "        tensor_ = tensor_*(self.max_out - self.min_out) + self.min_out\n",
    "        tensor_[tensor_<self.min_out]= self.min_out\n",
    "        tensor_[tensor_>self.max_out]= self.max_out\n",
    "        return tensor_\n",
    "    \n",
    "    def __repr__(self):\n",
    "        return self.__class__.__name__ + '(min_out={0}, max_out={1})'.format(self.min_out, self.max_out)"
   ]
  },
  {
   "cell_type": "code",
   "execution_count": null,
   "metadata": {},
   "outputs": [],
   "source": []
  },
  {
   "cell_type": "code",
   "execution_count": 20,
   "metadata": {},
   "outputs": [],
   "source": [
    "import torch.nn as nn\n",
    "from torchvision.models import resnet152, resnet18, resnet34, resnet50\n",
    "import torch.nn.functional as F\n",
    "\n",
    "class ResNet34Modified(nn.Module):\n",
    "    def __init__(self,  num_channels=3, num_classes=3, pretrained=True, progress=True, **kwargs):\n",
    "        super().__init__()\n",
    "        model = resnet34(pretrained=pretrained)\n",
    "        if num_channels != 3:\n",
    "            model.conv1 = nn.Conv2d(num_channels, 64, kernel_size=(7, 7),\n",
    "                                    stride=(2, 2), padding=(3, 3), bias=False)\n",
    "        num_ftrs = model.fc.in_features\n",
    "        model.fc = nn.Linear(num_ftrs, num_classes)\n",
    "        self.model = model\n",
    "\n",
    "    def forward(self, x):                \n",
    "        return self.model(x)"
   ]
  },
  {
   "cell_type": "code",
   "execution_count": 21,
   "metadata": {},
   "outputs": [],
   "source": [
    "resnet34_modified = ResNet34Modified(len(selected_channels),\n",
    "                                     len(set_of_interesting_classes), \n",
    "                                     pretrained = True)"
   ]
  },
  {
   "cell_type": "code",
   "execution_count": 22,
   "metadata": {},
   "outputs": [],
   "source": [
    "train_transform = transforms.Compose([ \n",
    "        MinMaxScaler(           min_in =  stats[\"lower_bound\"] , \n",
    "                                max_in =  stats[\"upper_bound\"] , \n",
    "                                min_out =  0. , \n",
    "                                max_out =  1.),\n",
    "        transforms.RandomResizedCrop(reshape_size, scale=(0.6, 1.0), ratio=(0.8, 1.2)),\n",
    "        transforms.RandomHorizontalFlip(),\n",
    "        transforms.RandomVerticalFlip(),\n",
    "        AddGaussianNoise(mean=0., std=0.05),\n",
    "])\n",
    "\n",
    "\n",
    "\n",
    "train_dataset = DatasetGenerator(metadata.loc[train_index.tolist(),:], \n",
    "                                 reshape_size=reshape_size, \n",
    "                                 scaling_factor = 1.,\n",
    "                                label_map=label_map, \n",
    "                                 transform = train_transform,\n",
    "                                selected_channels=selected_channels)"
   ]
  },
  {
   "cell_type": "code",
   "execution_count": null,
   "metadata": {},
   "outputs": [],
   "source": []
  },
  {
   "cell_type": "code",
   "execution_count": 23,
   "metadata": {},
   "outputs": [
    {
     "data": {
      "text/plain": [
       "{'B_cell': 0,\n",
       " 'T_cell': 1,\n",
       " 'T_cell_with_signaling': 2,\n",
       " 'T_cell_with_B_cell_fragments': 3,\n",
       " 'B_T_cell_in_one_layer': 4,\n",
       " 'Synapses_without_signaling': 5,\n",
       " 'Synapses_with_signaling': 6,\n",
       " 'No_cell_cell_interaction': 7,\n",
       " 'Multiplets': 8,\n",
       " '-1': -1,\n",
       " -1: -1}"
      ]
     },
     "execution_count": 23,
     "metadata": {},
     "output_type": "execute_result"
    }
   ],
   "source": [
    "label_map"
   ]
  },
  {
   "cell_type": "code",
   "execution_count": 24,
   "metadata": {},
   "outputs": [
    {
     "name": "stdout",
     "output_type": "stream",
     "text": [
      "tensor(6)\n"
     ]
    },
    {
     "data": {
      "image/png": "[encoded data removed]",
      "text/plain": [
       "<Figure size 432x288 with 1 Axes>"
      ]
     },
     "metadata": {
      "needs_background": "light"
     },
     "output_type": "display_data"
    }
   ],
   "source": [
    "i = 40\n",
    "plt.imshow(train_dataset[i][0][0,:,:])\n",
    "print(train_dataset[i][1])"
   ]
  },
  {
   "cell_type": "code",
   "execution_count": 25,
   "metadata": {},
   "outputs": [],
   "source": [
    "validation_transforms =  transforms.Compose([ \n",
    "        MinMaxScaler(           min_in =  stats[\"lower_bound\"] , \n",
    "                                max_in =  stats[\"upper_bound\"] , \n",
    "                                min_out =  0. , \n",
    "                                max_out =  1.),\n",
    "        transforms.RandomHorizontalFlip(),\n",
    "        transforms.RandomVerticalFlip(),\n",
    "        AddGaussianNoise(mean=0., std=0.01),\n",
    "])\n",
    "\n",
    "test_transforms =  transforms.Compose([ \n",
    "        MinMaxScaler(           min_in =  stats[\"lower_bound\"] , \n",
    "                                max_in =  stats[\"upper_bound\"] , \n",
    "                                min_out =  0. , \n",
    "                                max_out =  1.),\n",
    "])\n",
    "\n",
    "validation_dataset = DatasetGenerator(metadata.loc[validation_index.tolist(),:],\n",
    "                                 reshape_size=reshape_size, \n",
    "                                label_map=label_map,\n",
    "                                 scaling_factor = 1.,\n",
    "                                transform=validation_transforms, \n",
    "                                selected_channels=selected_channels)\n",
    "\n",
    "test_dataset = DatasetGenerator(metadata.loc[test_index.tolist(),:],\n",
    "                                 reshape_size=reshape_size, \n",
    "                                label_map=label_map,\n",
    "                                 scaling_factor = 1.,\n",
    "                                transform=test_transforms, \n",
    "                                selected_channels=selected_channels)"
   ]
  },
  {
   "cell_type": "code",
   "execution_count": null,
   "metadata": {},
   "outputs": [],
   "source": []
  },
  {
   "cell_type": "code",
   "execution_count": null,
   "metadata": {},
   "outputs": [],
   "source": []
  },
  {
   "cell_type": "code",
   "execution_count": 26,
   "metadata": {},
   "outputs": [],
   "source": [
    "lr_scheduler = LRScheduler(policy='ReduceLROnPlateau', factor=0.1, patience=10)\n",
    "#checkpoint = Checkpoint(f_params='resnet_18_imagenet_pretraiend_supervised_learning.pth', monitor='valid_f1_macro')\n",
    "\n",
    "epoch_scoring = EpochScoring(\"f1_macro\", \n",
    "                             name =  \"valid_f1_macro\", \n",
    "                             on_train = False,\n",
    "                             lower_is_better = False)\n",
    "\n",
    "early_stopping = EarlyStopping(monitor='valid_f1_macro', \n",
    "                               patience=50, \n",
    "                               threshold=0.0001, \n",
    "                               threshold_mode='rel', \n",
    "                               lower_is_better=False)\n",
    "\n",
    "model = NeuralNetClassifier(    \n",
    "    resnet34_modified, \n",
    "    criterion=nn.CrossEntropyLoss,\n",
    "    lr=0.01,\n",
    "    batch_size=32,\n",
    "    max_epochs=1000,\n",
    "    optimizer=optim.Adam,\n",
    "    iterator_train__shuffle=True,\n",
    "    iterator_train__num_workers=5,\n",
    "    iterator_valid__shuffle=False,\n",
    "    iterator_valid__num_workers=1,\n",
    "    callbacks=[lr_scheduler,epoch_scoring, early_stopping],\n",
    "    train_split=predefined_split(validation_dataset),\n",
    "    device=\"cuda\",\n",
    "    warm_start=True)"
   ]
  },
  {
   "cell_type": "code",
   "execution_count": 27,
   "metadata": {},
   "outputs": [
    {
     "name": "stdout",
     "output_type": "stream",
     "text": [
      "  epoch    train_loss    valid_acc    valid_f1_macro    valid_loss      dur\n",
      "-------  ------------  -----------  ----------------  ------------  -------\n",
      "      1        \u001b[36m2.3701\u001b[0m       \u001b[32m0.4104\u001b[0m            \u001b[35m0.3151\u001b[0m        \u001b[31m2.3753\u001b[0m  12.0172\n",
      "      2        \u001b[36m1.3124\u001b[0m       \u001b[32m0.4925\u001b[0m            \u001b[35m0.3847\u001b[0m        \u001b[31m1.8474\u001b[0m  11.7211\n",
      "      3        \u001b[36m1.1060\u001b[0m       \u001b[32m0.6142\u001b[0m            \u001b[35m0.5640\u001b[0m        \u001b[31m0.9900\u001b[0m  11.5118\n",
      "      4        \u001b[36m0.9430\u001b[0m       0.5732            0.5054        1.3244  11.5531\n",
      "      5        \u001b[36m0.8448\u001b[0m       0.5964            0.5215        \u001b[31m0.9096\u001b[0m  11.5861\n",
      "      6        \u001b[36m0.8091\u001b[0m       \u001b[32m0.6881\u001b[0m            \u001b[35m0.6684\u001b[0m        \u001b[31m0.8424\u001b[0m  11.5008\n",
      "      7        \u001b[36m0.7611\u001b[0m       0.6648            0.6252        0.8433  11.5119\n",
      "      8        \u001b[36m0.6992\u001b[0m       0.6389            0.6290        0.9896  11.5441\n",
      "      9        \u001b[36m0.6564\u001b[0m       \u001b[32m0.7264\u001b[0m            \u001b[35m0.7200\u001b[0m        \u001b[31m0.7028\u001b[0m  11.5270\n",
      "     10        \u001b[36m0.6255\u001b[0m       \u001b[32m0.7360\u001b[0m            \u001b[35m0.7367\u001b[0m        \u001b[31m0.6292\u001b[0m  11.5625\n",
      "     11        \u001b[36m0.5999\u001b[0m       0.7360            0.7317        0.6862  11.5680\n",
      "     12        0.6195       0.7278            0.7130        0.7123  11.5854\n",
      "     13        \u001b[36m0.5430\u001b[0m       0.7059            0.6834        0.8922  11.5588\n",
      "     14        \u001b[36m0.5387\u001b[0m       \u001b[32m0.7907\u001b[0m            \u001b[35m0.7739\u001b[0m        \u001b[31m0.5743\u001b[0m  11.6094\n",
      "     15        \u001b[36m0.5355\u001b[0m       0.7579            0.7396        0.6370  11.5831\n",
      "     16        \u001b[36m0.4841\u001b[0m       0.7620            0.7453        0.6681  11.5636\n",
      "     17        \u001b[36m0.4617\u001b[0m       0.7839            0.7724        \u001b[31m0.5725\u001b[0m  11.5788\n",
      "     18        0.4799       0.7442            0.7208        0.6451  11.5557\n",
      "     19        0.4677       \u001b[32m0.7975\u001b[0m            \u001b[35m0.7909\u001b[0m        \u001b[31m0.5130\u001b[0m  11.5315\n",
      "     20        \u001b[36m0.4494\u001b[0m       \u001b[32m0.8413\u001b[0m            \u001b[35m0.8392\u001b[0m        \u001b[31m0.4419\u001b[0m  11.5336\n",
      "     21        \u001b[36m0.4236\u001b[0m       0.7798            0.7551        0.6502  11.5749\n",
      "     22        0.4320       0.7729            0.7524        0.6409  11.4905\n",
      "     23        \u001b[36m0.3940\u001b[0m       \u001b[32m0.8468\u001b[0m            0.8352        0.5007  11.5730\n",
      "     24        0.4162       0.8098            0.8027        0.5444  11.6187\n",
      "     25        \u001b[36m0.3883\u001b[0m       0.8386            0.8324        \u001b[31m0.4309\u001b[0m  11.5144\n",
      "     26        \u001b[36m0.3795\u001b[0m       0.8345            0.8313        0.4457  11.5240\n",
      "     27        \u001b[36m0.3554\u001b[0m       0.8222            0.8061        0.4735  11.5144\n",
      "     28        0.3595       0.8222            0.8180        0.4899  11.5969\n",
      "     29        \u001b[36m0.3329\u001b[0m       0.8140            0.8020        0.6908  11.6032\n",
      "     30        0.3440       0.7907            0.7856        0.6354  11.5625\n",
      "     31        0.3906       \u001b[32m0.8536\u001b[0m            \u001b[35m0.8510\u001b[0m        \u001b[31m0.4271\u001b[0m  11.6253\n",
      "     32        0.3418       \u001b[32m0.8591\u001b[0m            \u001b[35m0.8567\u001b[0m        \u001b[31m0.4215\u001b[0m  11.5313\n",
      "     33        \u001b[36m0.3194\u001b[0m       0.8331            0.8295        0.4822  11.5429\n",
      "     34        \u001b[36m0.3136\u001b[0m       0.8495            0.8450        0.4260  11.5830\n",
      "     35        0.3279       0.8468            0.8422        0.4283  11.6033\n",
      "     36        \u001b[36m0.3055\u001b[0m       \u001b[32m0.8659\u001b[0m            \u001b[35m0.8614\u001b[0m        \u001b[31m0.4158\u001b[0m  11.5538\n",
      "     37        0.3110       0.8605            0.8572        \u001b[31m0.4056\u001b[0m  11.5769\n",
      "     38        0.3138       0.8399            0.8391        0.4351  11.5332\n",
      "     39        0.3312       0.8523            0.8493        \u001b[31m0.3799\u001b[0m  11.5728\n",
      "     40        \u001b[36m0.3050\u001b[0m       0.8454            0.8434        0.4129  11.5925\n",
      "     41        0.3135       0.8536            0.8505        0.4011  11.5538\n",
      "     42        \u001b[36m0.2810\u001b[0m       \u001b[32m0.8714\u001b[0m            \u001b[35m0.8678\u001b[0m        0.4183  11.5231\n",
      "     43        0.3010       \u001b[32m0.8728\u001b[0m            0.8664        0.3966  11.6091\n",
      "     44        \u001b[36m0.2646\u001b[0m       \u001b[32m0.8741\u001b[0m            \u001b[35m0.8708\u001b[0m        0.3811  11.5363\n",
      "     45        0.2760       0.8208            0.8167        0.4987  11.5594\n",
      "     46        0.2711       \u001b[32m0.8865\u001b[0m            \u001b[35m0.8841\u001b[0m        \u001b[31m0.3234\u001b[0m  11.5748\n",
      "     47        0.2836       0.8632            0.8602        0.4039  11.5833\n",
      "     48        0.2960       0.8687            0.8665        0.3584  11.5679\n",
      "     49        \u001b[36m0.2612\u001b[0m       0.8824            0.8803        0.3564  11.5727\n",
      "     50        0.2914       0.8564            0.8536        0.3835  11.5705\n",
      "     51        0.2630       0.8728            0.8701        0.3562  11.5199\n",
      "     52        0.2618       0.8837            0.8808        0.3392  11.5216\n",
      "     53        \u001b[36m0.2575\u001b[0m       0.8605            0.8583        0.4287  11.5352\n",
      "     54        \u001b[36m0.2509\u001b[0m       0.8495            0.8465        0.4689  11.5394\n",
      "     55        0.2567       0.8482            0.8464        0.4276  11.5279\n",
      "     56        \u001b[36m0.2415\u001b[0m       \u001b[32m0.8906\u001b[0m            \u001b[35m0.8861\u001b[0m        \u001b[31m0.3199\u001b[0m  11.5625\n",
      "     57        0.2576       0.8509            0.8484        0.4508  11.5538\n",
      "     58        0.2757       0.8796            0.8772        0.3700  11.5548\n",
      "     59        \u001b[36m0.2301\u001b[0m       0.8741            0.8700        0.3411  11.5263\n",
      "     60        \u001b[36m0.2282\u001b[0m       0.8878            0.8840        0.3479  11.5409\n",
      "     61        0.2412       0.8714            0.8688        0.3627  11.5901\n",
      "     62        0.2565       0.8878            0.8853        0.3215  11.5552\n",
      "     63        \u001b[36m0.2242\u001b[0m       0.8290            0.8187        0.4776  11.5334\n",
      "     64        0.2304       0.8824            0.8817        0.3538  11.5468\n",
      "     65        \u001b[36m0.2140\u001b[0m       0.8673            0.8619        0.4330  11.5800\n",
      "     66        0.2309       0.7497            0.7515        0.8823  11.5216\n",
      "     67        0.2630       \u001b[32m0.8960\u001b[0m            \u001b[35m0.8902\u001b[0m        0.3770  11.5473\n",
      "     68        \u001b[36m0.2135\u001b[0m       0.8796            0.8752        0.3672  11.5573\n",
      "     69        0.2379       0.8837            0.8807        0.3975  11.5149\n",
      "     70        0.2249       0.8755            0.8710        0.4116  11.5909\n",
      "     71        0.2221       0.8235            0.8248        0.5682  11.5079\n",
      "     72        \u001b[36m0.2024\u001b[0m       0.8564            0.8464        0.4865  11.6045\n",
      "     73        0.2051       0.8673            0.8635        0.4071  11.5404\n",
      "     74        0.2225       0.8837            0.8787        0.3700  11.5700\n",
      "     75        0.2279       0.8865            0.8819        0.3577  11.5872\n",
      "     76        \u001b[36m0.1978\u001b[0m       0.8741            0.8719        0.4235  11.5793\n",
      "     77        0.2226       0.8700            0.8669        0.3936  11.5401\n",
      "     78        0.2325       0.8714            0.8697        0.3718  11.5639\n",
      "     79        \u001b[36m0.1850\u001b[0m       0.8824            0.8783        0.3657  11.5668\n",
      "     80        0.1945       0.8851            0.8807        0.4022  11.5961\n",
      "     81        0.1961       0.8947            0.8894        0.3620  11.5181\n",
      "     82        0.2028       0.8782            0.8754        0.3503  11.5693\n",
      "     83        0.1864       0.8782            0.8766        0.3836  11.5862\n",
      "     84        \u001b[36m0.1740\u001b[0m       0.8947            \u001b[35m0.8912\u001b[0m        0.3343  11.5359\n",
      "     85        0.2090       0.8618            0.8603        0.5228  11.5693\n",
      "     86        0.2200       0.8892            0.8856        0.3685  11.5884\n",
      "     87        0.1855       0.8741            0.8722        0.4680  11.5458\n",
      "     88        0.1842       0.8960            \u001b[35m0.8933\u001b[0m        0.3500  11.5412\n",
      "     89        0.1886       0.8755            0.8717        0.3993  11.5228\n",
      "     90        0.2093       0.8810            0.8781        0.3723  11.5608\n",
      "     91        \u001b[36m0.1726\u001b[0m       0.8865            0.8836        0.3478  11.5716\n",
      "     92        0.1956       0.8714            0.8685        0.3966  11.6133\n",
      "     93        0.1885       0.8687            0.8628        0.3727  11.5872\n",
      "     94        0.1894       0.8919            0.8885        0.3366  11.5608\n"
     ]
    },
    {
     "name": "stdout",
     "output_type": "stream",
     "text": [
      "     95        0.1802       0.8769            0.8749        0.3521  11.5563\n",
      "     96        0.1839       0.8865            0.8831        0.3712  11.5500\n",
      "     97        \u001b[36m0.1671\u001b[0m       \u001b[32m0.8988\u001b[0m            \u001b[35m0.8969\u001b[0m        0.3266  11.4948\n",
      "     98        0.1681       0.8960            0.8922        \u001b[31m0.3183\u001b[0m  11.6106\n",
      "     99        0.1851       \u001b[32m0.9042\u001b[0m            \u001b[35m0.9002\u001b[0m        0.3482  11.5641\n",
      "    100        \u001b[36m0.1628\u001b[0m       0.8865            0.8834        0.3768  11.5656\n",
      "    101        0.1853       0.8906            0.8875        0.3442  11.5820\n",
      "    102        0.1655       0.8824            0.8800        0.3649  11.5697\n",
      "    103        0.1943       \u001b[32m0.9056\u001b[0m            \u001b[35m0.9024\u001b[0m        0.3373  11.6012\n",
      "    104        \u001b[36m0.1516\u001b[0m       0.8933            0.8907        0.3715  11.5358\n",
      "    105        \u001b[36m0.1469\u001b[0m       0.9015            0.8981        0.3592  11.5368\n",
      "    106        0.1826       0.8810            0.8789        0.4196  11.6070\n",
      "    107        0.1916       \u001b[32m0.9070\u001b[0m            \u001b[35m0.9040\u001b[0m        0.3545  11.6403\n",
      "    108        0.1644       0.8960            0.8943        0.3706  11.6448\n",
      "    109        0.1754       0.8919            0.8869        0.4002  11.5904\n",
      "    110        0.1559       0.8728            0.8706        0.4247  11.5653\n",
      "    111        0.1690       0.8960            0.8932        0.3463  11.5460\n",
      "    112        0.1507       0.8960            0.8939        \u001b[31m0.3070\u001b[0m  11.5741\n",
      "    113        0.1591       0.8919            0.8881        0.3847  11.5666\n",
      "    114        \u001b[36m0.1367\u001b[0m       0.8810            0.8764        0.4134  11.5528\n",
      "    115        0.1629       0.8878            0.8837        0.3947  11.6037\n",
      "    116        0.2120       0.8878            0.8852        0.3616  11.5750\n",
      "    117        0.1580       0.8960            0.8921        0.3684  11.5535\n",
      "    118        0.1485       \u001b[32m0.9097\u001b[0m            \u001b[35m0.9056\u001b[0m        0.3336  11.6174\n",
      "    119        0.1706       0.9056            0.9035        0.3194  11.5631\n",
      "    120        0.1613       0.9070            0.9037        0.3187  11.6435\n",
      "    121        \u001b[36m0.1355\u001b[0m       0.8988            0.8941        0.3875  11.5893\n",
      "    122        0.1567       0.9001            0.8978        0.3448  11.5513\n",
      "    123        \u001b[36m0.1351\u001b[0m       0.9042            0.9013        0.3844  11.5807\n",
      "    124        0.1364       0.8824            0.8787        0.4379  11.5715\n",
      "    125        0.1401       0.9042            0.9018        0.3464  11.5789\n",
      "    126        0.1377       0.9070            0.9047        0.3528  11.5607\n",
      "    127        0.1532       0.9001            0.8966        0.3842  11.5913\n",
      "    128        0.1366       0.8919            0.8874        0.3730  11.5962\n",
      "    129        0.1428       0.8974            0.8958        0.3583  11.5466\n",
      "    130        \u001b[36m0.1320\u001b[0m       0.8769            0.8745        0.4165  11.5724\n",
      "    131        0.1593       0.8892            0.8840        0.3853  11.5547\n",
      "    132        0.1365       0.9001            0.8961        0.3782  11.5660\n",
      "    133        \u001b[36m0.1274\u001b[0m       0.8605            0.8494        0.5134  11.5295\n",
      "    134        0.1418       0.8837            0.8801        0.4167  11.6126\n",
      "    135        0.1419       0.8906            0.8890        0.3979  11.5725\n",
      "    136        0.1362       0.8906            0.8875        0.3885  11.5353\n",
      "    137        0.1356       0.8974            0.8955        0.3956  11.5491\n",
      "    138        0.1307       0.8974            0.8952        0.3842  11.5908\n",
      "    139        \u001b[36m0.1111\u001b[0m       0.8851            0.8795        0.4025  11.6034\n",
      "    140        0.1444       0.8878            0.8841        0.3934  11.6126\n",
      "    141        0.1391       0.9029            0.9001        0.3413  11.5908\n",
      "    142        0.1369       0.8865            0.8822        0.3741  11.5858\n",
      "    143        0.1446       0.8810            0.8778        0.4383  11.5069\n",
      "    144        0.1334       0.8919            0.8883        0.3977  11.6513\n",
      "    145        0.1349       0.8782            0.8744        0.4610  11.5925\n",
      "    146        0.1240       0.8673            0.8652        0.4630  11.5797\n",
      "    147        0.1140       0.8755            0.8725        0.4802  11.5643\n",
      "    148        0.1253       0.8865            0.8845        0.4449  11.5247\n",
      "    149        0.1197       0.8892            0.8845        0.4173  11.5389\n",
      "    150        0.1327       0.9015            0.8986        0.3721  11.6471\n",
      "    151        \u001b[36m0.0945\u001b[0m       0.9070            0.9044        0.3349  11.6441\n",
      "    152        \u001b[36m0.0831\u001b[0m       \u001b[32m0.9124\u001b[0m            \u001b[35m0.9105\u001b[0m        0.3242  11.6115\n",
      "    153        \u001b[36m0.0741\u001b[0m       0.9097            0.9073        0.3156  11.5964\n",
      "    154        0.0742       0.9083            0.9057        0.3252  11.5010\n",
      "    155        \u001b[36m0.0735\u001b[0m       0.9070            0.9044        0.3355  11.5389\n",
      "    156        \u001b[36m0.0731\u001b[0m       \u001b[32m0.9138\u001b[0m            \u001b[35m0.9117\u001b[0m        0.3273  11.6036\n",
      "    157        \u001b[36m0.0670\u001b[0m       0.9029            0.8991        0.3384  11.6322\n",
      "    158        0.0683       0.9015            0.8987        0.3506  11.5214\n",
      "    159        \u001b[36m0.0622\u001b[0m       0.9111            0.9084        0.3560  11.6300\n",
      "    160        \u001b[36m0.0614\u001b[0m       0.9056            0.9033        0.3742  11.5557\n",
      "    161        0.0697       0.9029            0.9000        0.3497  11.6277\n",
      "    162        0.0631       0.9042            0.9010        0.3489  11.5895\n",
      "    163        0.0626       0.9083            0.9056        0.3416  11.5837\n",
      "    164        0.0645       0.8960            0.8924        0.3649  11.5569\n",
      "    165        \u001b[36m0.0587\u001b[0m       0.9015            0.8975        0.3592  11.5849\n",
      "    166        \u001b[36m0.0564\u001b[0m       0.9001            0.8957        0.3792  11.5422\n",
      "    167        \u001b[36m0.0507\u001b[0m       0.9138            0.9107        0.3690  11.6060\n",
      "    168        0.0560       0.8960            0.8918        0.3795  11.5715\n",
      "    169        0.0553       0.9029            0.8990        0.3879  11.5989\n",
      "    170        0.0564       0.9070            0.9037        0.3847  11.6016\n",
      "    171        0.0579       0.9056            0.9022        0.3736  11.5127\n",
      "    172        0.0583       0.8974            0.8942        0.4030  11.6130\n",
      "    173        0.0529       0.9042            0.9015        0.4060  11.6077\n",
      "    174        0.0556       0.9070            0.9047        0.3916  11.5152\n",
      "    175        0.0529       0.9029            0.9009        0.4052  11.6002\n",
      "    176        0.0511       0.8960            0.8930        0.4121  11.5542\n",
      "    177        \u001b[36m0.0480\u001b[0m       0.9001            0.8970        0.3928  11.5906\n",
      "    178        \u001b[36m0.0431\u001b[0m       0.9056            0.9018        0.4136  11.5791\n",
      "    179        0.0526       0.8960            0.8932        0.4523  11.5832\n",
      "    180        0.0524       0.9029            0.9007        0.4022  11.5959\n",
      "    181        0.0558       0.8974            0.8936        0.4087  11.5729\n",
      "    182        0.0571       0.9001            0.8966        0.4086  11.5936\n",
      "    183        0.0552       0.8933            0.8897        0.4133  11.6104\n",
      "    184        \u001b[36m0.0430\u001b[0m       0.9111            0.9075        0.3838  11.6062\n",
      "    185        0.0539       0.9015            0.8977        0.4243  11.5592\n",
      "    186        0.0456       0.8960            0.8926        0.4332  11.5404\n",
      "    187        0.0461       0.8933            0.8897        0.4289  11.5926\n",
      "    188        0.0473       0.8960            0.8928        0.4554  11.6074\n",
      "    189        0.0459       0.8988            0.8949        0.4373  11.6167\n",
      "    190        0.0448       0.9029            0.8991        0.4465  11.5368\n",
      "    191        0.0457       0.9042            0.9006        0.4518  11.5707\n",
      "    192        0.0459       0.8906            0.8872        0.4602  11.5700\n",
      "    193        0.0532       0.8974            0.8949        0.4466  11.5601\n",
      "    194        0.0487       0.8974            0.8930        0.4605  11.5930\n",
      "    195        \u001b[36m0.0408\u001b[0m       0.8974            0.8938        0.4677  11.5864\n",
      "    196        \u001b[36m0.0403\u001b[0m       0.8988            0.8954        0.4925  11.5757\n",
      "    197        0.0456       0.8960            0.8930        0.4526  11.5642\n"
     ]
    },
    {
     "name": "stdout",
     "output_type": "stream",
     "text": [
      "    198        \u001b[36m0.0387\u001b[0m       0.9015            0.8976        0.4745  11.5542\n",
      "    199        0.0443       0.8988            0.8951        0.4838  11.5637\n",
      "    200        0.0390       0.8947            0.8910        0.5040  11.5768\n",
      "    201        0.0457       0.9001            0.8975        0.4872  11.5798\n",
      "    202        0.0471       0.8974            0.8946        0.5018  11.5585\n",
      "    203        0.0431       0.9070            0.9033        0.4455  11.5624\n",
      "    204        0.0463       0.9001            0.8973        0.4589  11.6052\n",
      "    205        0.0465       0.8892            0.8854        0.4757  11.5412\n",
      "Stopping since valid_f1_macro has not improved in the last 50 epochs.\n"
     ]
    }
   ],
   "source": [
    "model = model.fit(train_dataset, y = None)"
   ]
  },
  {
   "cell_type": "code",
   "execution_count": null,
   "metadata": {},
   "outputs": [],
   "source": [
    "\n"
   ]
  },
  {
   "cell_type": "code",
   "execution_count": 28,
   "metadata": {},
   "outputs": [],
   "source": [
    "#model.module.load_state_dict(torch.load('resnet_18_imagenet_pretraiend_supervised_learning.pth')) \n"
   ]
  },
  {
   "cell_type": "code",
   "execution_count": null,
   "metadata": {},
   "outputs": [],
   "source": []
  },
  {
   "cell_type": "code",
   "execution_count": 29,
   "metadata": {},
   "outputs": [],
   "source": [
    "## START from here"
   ]
  },
  {
   "cell_type": "code",
   "execution_count": 30,
   "metadata": {},
   "outputs": [
    {
     "name": "stdout",
     "output_type": "stream",
     "text": [
      "              precision    recall  f1-score   support\n",
      "\n",
      "           0       0.97      1.00      0.98        89\n",
      "           1       0.92      0.97      0.94        94\n",
      "           2       0.94      0.87      0.90        70\n",
      "           3       0.86      0.95      0.90        88\n",
      "           4       0.90      0.74      0.81        74\n",
      "           5       0.75      0.78      0.77        69\n",
      "           6       0.87      0.87      0.87        94\n",
      "           7       0.89      0.88      0.88        82\n",
      "           8       0.96      0.93      0.94        71\n",
      "\n",
      "    accuracy                           0.89       731\n",
      "   macro avg       0.89      0.89      0.89       731\n",
      "weighted avg       0.90      0.89      0.89       731\n",
      "\n",
      "------------------------------------------------------------\n",
      "matthews correlation coeff: 0.8815\n",
      "Cohen Kappa score: 0.8812\n",
      "Accuracy: 0.8947 & balanced Accuracy: 0.8889\n",
      "macro F1 score: 0.8903 & micro F1 score: 0.8947\n",
      "macro Precision score: 0.8946 & micro Precision score: 0.8947\n",
      "macro Recall score: 0.8889 & micro Recall score: 0.8947\n"
     ]
    },
    {
     "data": {
      "image/png": "[encoded data removed]",
      "text/plain": [
       "<Figure size 432x288 with 2 Axes>"
      ]
     },
     "metadata": {
      "needs_background": "light"
     },
     "output_type": "display_data"
    },
    {
     "name": "stdout",
     "output_type": "stream",
     "text": [
      "------------------------------------------------------------\n"
     ]
    }
   ],
   "source": [
    "preds = model.predict(validation_dataset)\n",
    "\n",
    "classification_complete_report([label_map[t] for t in validation_dataset.metadata.label], \n",
    "                               preds  )"
   ]
  },
  {
   "cell_type": "code",
   "execution_count": 31,
   "metadata": {},
   "outputs": [
    {
     "data": {
      "text/plain": [
       "['B_cell',\n",
       " 'T_cell',\n",
       " 'T_cell_with_signaling',\n",
       " 'T_cell_with_B_cell_fragments',\n",
       " 'B_T_cell_in_one_layer',\n",
       " 'Synapses_without_signaling',\n",
       " 'Synapses_with_signaling',\n",
       " 'No_cell_cell_interaction',\n",
       " 'Multiplets']"
      ]
     },
     "execution_count": 31,
     "metadata": {},
     "output_type": "execute_result"
    }
   ],
   "source": [
    "set_of_interesting_classes"
   ]
  },
  {
   "cell_type": "code",
   "execution_count": 32,
   "metadata": {},
   "outputs": [
    {
     "name": "stdout",
     "output_type": "stream",
     "text": [
      "              precision    recall  f1-score   support\n",
      "\n",
      "           0       0.98      1.00      0.99       190\n",
      "           1       0.94      0.94      0.94       200\n",
      "           2       0.94      0.87      0.91       148\n",
      "           3       0.88      0.94      0.91       189\n",
      "           4       0.88      0.88      0.88       161\n",
      "           5       0.80      0.90      0.84       147\n",
      "           6       0.88      0.86      0.87       196\n",
      "           7       0.96      0.96      0.96       182\n",
      "           8       0.98      0.84      0.90       154\n",
      "\n",
      "    accuracy                           0.91      1567\n",
      "   macro avg       0.91      0.91      0.91      1567\n",
      "weighted avg       0.92      0.91      0.91      1567\n",
      "\n",
      "------------------------------------------------------------\n",
      "matthews correlation coeff: 0.9024\n",
      "Cohen Kappa score: 0.9022\n",
      "Accuracy: 0.9132 & balanced Accuracy: 0.9098\n",
      "macro F1 score: 0.9108 & micro F1 score: 0.9132\n",
      "macro Precision score: 0.9142 & micro Precision score: 0.9132\n",
      "macro Recall score: 0.9098 & micro Recall score: 0.9132\n"
     ]
    },
    {
     "data": {
      "image/png": "[encoded data removed]",
      "text/plain": [
       "<Figure size 432x288 with 2 Axes>"
      ]
     },
     "metadata": {
      "needs_background": "light"
     },
     "output_type": "display_data"
    },
    {
     "name": "stdout",
     "output_type": "stream",
     "text": [
      "------------------------------------------------------------\n"
     ]
    }
   ],
   "source": [
    "preds = model.predict(test_dataset)\n",
    "\n",
    "classification_complete_report([label_map[t] for t in test_dataset.metadata.label],  preds   )"
   ]
  },
  {
   "cell_type": "markdown",
   "metadata": {},
   "source": [
    "## saving the results"
   ]
  },
  {
   "cell_type": "code",
   "execution_count": 33,
   "metadata": {},
   "outputs": [],
   "source": [
    "preds = pd.Series(preds).to_csv(\"resnet34_preds.csv\")"
   ]
  },
  {
   "cell_type": "code",
   "execution_count": null,
   "metadata": {},
   "outputs": [],
   "source": []
  },
  {
   "cell_type": "code",
   "execution_count": null,
   "metadata": {},
   "outputs": [],
   "source": []
  }
 ],
 "metadata": {
  "kernelspec": {
   "display_name": "skorch",
   "language": "python",
   "name": "skorch"
  },
  "language_info": {
   "codemirror_mode": {
    "name": "ipython",
    "version": 3
   },
   "file_extension": ".py",
   "mimetype": "text/x-python",
   "name": "python",
   "nbconvert_exporter": "python",
   "pygments_lexer": "ipython3",
   "version": "3.8.3"
  }
 },
 "nbformat": 4,
 "nbformat_minor": 4
}
