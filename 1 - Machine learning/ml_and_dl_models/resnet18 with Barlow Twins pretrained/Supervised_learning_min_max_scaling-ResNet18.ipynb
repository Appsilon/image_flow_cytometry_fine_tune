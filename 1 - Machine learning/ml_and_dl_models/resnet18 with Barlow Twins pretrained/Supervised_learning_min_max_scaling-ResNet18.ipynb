{
 "cells": [
  {
   "cell_type": "code",
   "execution_count": 1,
   "metadata": {},
   "outputs": [],
   "source": [
    "#!pip -q install /pstore/home/shetabs1/code/iflai/"
   ]
  },
  {
   "cell_type": "code",
   "execution_count": null,
   "metadata": {},
   "outputs": [],
   "source": []
  },
  {
   "cell_type": "code",
   "execution_count": 2,
   "metadata": {},
   "outputs": [],
   "source": [
    "import pandas as pd\n",
    "import matplotlib.pyplot as plt\n",
    "import seaborn as sns\n",
    "import numpy as np\n",
    "import skorch\n",
    "import torch\n",
    "from skorch import NeuralNetClassifier\n",
    "from tqdm import tqdm\n",
    "from torchvision import transforms\n",
    "import torch.nn as nn\n",
    "from scipy.stats import entropy\n",
    "import random\n",
    "import h5py\n",
    "from sklearn.cluster import KMeans\n",
    "from sklearn.preprocessing import MinMaxScaler, StandardScaler\n",
    "from sklearn.cluster import FeatureAgglomeration"
   ]
  },
  {
   "cell_type": "code",
   "execution_count": 3,
   "metadata": {},
   "outputs": [],
   "source": [
    "from scifAI.dl.utils import train_validation_test_split\n",
    "from scifAI.dl.dataset import DatasetGenerator\n",
    "from scifAI.dl.utils import get_statistics"
   ]
  },
  {
   "cell_type": "code",
   "execution_count": 4,
   "metadata": {},
   "outputs": [],
   "source": [
    "from scifAI.dl.models import PretrainedModel\n",
    "from skorch.callbacks import LRScheduler,Checkpoint,EpochScoring,EarlyStopping\n",
    "import torch.optim as optim\n",
    "from skorch.helper import predefined_split"
   ]
  },
  {
   "cell_type": "code",
   "execution_count": 5,
   "metadata": {},
   "outputs": [],
   "source": [
    "\n",
    "\n",
    "# Compare Algorithms\n",
    "import matplotlib.pyplot as plt\n",
    "from sklearn import preprocessing\n",
    "from sklearn.model_selection import train_test_split\n",
    "from sklearn import model_selection\n",
    "from sklearn.linear_model import LogisticRegression\n",
    "from sklearn.tree import DecisionTreeClassifier\n",
    "from sklearn.neighbors import KNeighborsClassifier\n",
    "from sklearn.discriminant_analysis import LinearDiscriminantAnalysis\n",
    "from sklearn.naive_bayes import GaussianNB\n",
    "from sklearn.svm import SVC\n",
    "from sklearn.ensemble import RandomForestClassifier\n",
    "from sklearn.ensemble import GradientBoostingClassifier\n",
    "from sklearn.preprocessing import MinMaxScaler, StandardScaler\n",
    "from sklearn.linear_model import SGDClassifier\n",
    "from sklearn.semi_supervised import LabelPropagation\n",
    "from sklearn.ensemble import GradientBoostingClassifier\n",
    "from sklearn.discriminant_analysis import LinearDiscriminantAnalysis\n",
    "from sklearn.ensemble import VotingClassifier\n",
    "from sklearn.ensemble import GradientBoostingClassifier\n",
    "from sklearn.neural_network import MLPClassifier\n",
    "from xgboost import XGBClassifier"
   ]
  },
  {
   "cell_type": "code",
   "execution_count": 6,
   "metadata": {},
   "outputs": [],
   "source": [
    "from sklearn.random_projection import GaussianRandomProjection"
   ]
  },
  {
   "cell_type": "code",
   "execution_count": 7,
   "metadata": {},
   "outputs": [],
   "source": [
    "from sklearn.metrics import plot_confusion_matrix, matthews_corrcoef, classification_report,confusion_matrix, accuracy_score, balanced_accuracy_score, cohen_kappa_score, f1_score,  precision_score, recall_score\n",
    "from statsmodels.stats.contingency_tables import mcnemar\n",
    "from sklearn.metrics import confusion_matrix,ConfusionMatrixDisplay\n",
    "\n",
    "\n",
    "def classification_complete_report(y_true, y_pred ,labels = None  ): \n",
    "    print(classification_report(y_true, y_pred, labels = labels))\n",
    "    print(15*\"----\")\n",
    "    print(\"matthews correlation coeff: %.4f\" % (matthews_corrcoef(y_true, y_pred)) )\n",
    "    print(\"Cohen Kappa score: %.4f\" % (cohen_kappa_score(y_true, y_pred)) )\n",
    "    print(\"Accuracy: %.4f & balanced Accuracy: %.4f\" % (accuracy_score(y_true, y_pred), balanced_accuracy_score(y_true, y_pred)) )\n",
    "    print(\"macro F1 score: %.4f & micro F1 score: %.4f\" % (f1_score(y_true, y_pred, average = \"macro\"), f1_score(y_true, y_pred, average = \"micro\")) )\n",
    "    print(\"macro Precision score: %.4f & micro Precision score: %.4f\" % (precision_score(y_true, y_pred, average = \"macro\"), precision_score(y_true, y_pred, average = \"micro\")) )\n",
    "    print(\"macro Recall score: %.4f & micro Recall score: %.4f\" % (recall_score(y_true, y_pred, average = \"macro\"), recall_score(y_true, y_pred, average = \"micro\")) )\n",
    "    cm = confusion_matrix(y_true, y_pred,labels= labels)\n",
    "    disp = ConfusionMatrixDisplay(confusion_matrix=cm, display_labels=labels)\n",
    "    disp.plot(cmap=plt.cm.Blues)\n",
    "    plt.show()\n",
    "    print(15*\"----\")"
   ]
  },
  {
   "cell_type": "code",
   "execution_count": 8,
   "metadata": {},
   "outputs": [
    {
     "name": "stderr",
     "output_type": "stream",
     "text": [
      "/opt/conda/lib/python3.7/site-packages/IPython/core/interactiveshell.py:3331: DtypeWarning: Columns (6) have mixed types.Specify dtype option on import or set low_memory=False.\n",
      "  exec(code_obj, self.user_global_ns, self.user_ns)\n"
     ]
    },
    {
     "data": {
      "text/html": [
       "<div>\n",
       "<style scoped>\n",
       "    .dataframe tbody tr th:only-of-type {\n",
       "        vertical-align: middle;\n",
       "    }\n",
       "\n",
       "    .dataframe tbody tr th {\n",
       "        vertical-align: top;\n",
       "    }\n",
       "\n",
       "    .dataframe thead th {\n",
       "        text-align: right;\n",
       "    }\n",
       "</style>\n",
       "<table border=\"1\" class=\"dataframe\">\n",
       "  <thead>\n",
       "    <tr style=\"text-align: right;\">\n",
       "      <th></th>\n",
       "      <th>file</th>\n",
       "      <th>experiment</th>\n",
       "      <th>donor</th>\n",
       "      <th>condition</th>\n",
       "      <th>object_number</th>\n",
       "      <th>set</th>\n",
       "      <th>label</th>\n",
       "    </tr>\n",
       "  </thead>\n",
       "  <tbody>\n",
       "    <tr>\n",
       "      <th>0</th>\n",
       "      <td>/projects/site/pred/data_science/year/2022/imm...</td>\n",
       "      <td>Experiment_1</td>\n",
       "      <td>Donor_1</td>\n",
       "      <td>+SEA</td>\n",
       "      <td>5156</td>\n",
       "      <td>unlabeled</td>\n",
       "      <td>-1</td>\n",
       "    </tr>\n",
       "    <tr>\n",
       "      <th>1</th>\n",
       "      <td>/projects/site/pred/data_science/year/2022/imm...</td>\n",
       "      <td>Experiment_1</td>\n",
       "      <td>Donor_1</td>\n",
       "      <td>+SEA</td>\n",
       "      <td>32020</td>\n",
       "      <td>unlabeled</td>\n",
       "      <td>-1</td>\n",
       "    </tr>\n",
       "    <tr>\n",
       "      <th>2</th>\n",
       "      <td>/projects/site/pred/data_science/year/2022/imm...</td>\n",
       "      <td>Experiment_1</td>\n",
       "      <td>Donor_1</td>\n",
       "      <td>+SEA</td>\n",
       "      <td>55974</td>\n",
       "      <td>unlabeled</td>\n",
       "      <td>-1</td>\n",
       "    </tr>\n",
       "    <tr>\n",
       "      <th>3</th>\n",
       "      <td>/projects/site/pred/data_science/year/2022/imm...</td>\n",
       "      <td>Experiment_1</td>\n",
       "      <td>Donor_1</td>\n",
       "      <td>+SEA</td>\n",
       "      <td>15150</td>\n",
       "      <td>unlabeled</td>\n",
       "      <td>-1</td>\n",
       "    </tr>\n",
       "    <tr>\n",
       "      <th>4</th>\n",
       "      <td>/projects/site/pred/data_science/year/2022/imm...</td>\n",
       "      <td>Experiment_1</td>\n",
       "      <td>Donor_1</td>\n",
       "      <td>+SEA</td>\n",
       "      <td>44814</td>\n",
       "      <td>unlabeled</td>\n",
       "      <td>-1</td>\n",
       "    </tr>\n",
       "    <tr>\n",
       "      <th>...</th>\n",
       "      <td>...</td>\n",
       "      <td>...</td>\n",
       "      <td>...</td>\n",
       "      <td>...</td>\n",
       "      <td>...</td>\n",
       "      <td>...</td>\n",
       "      <td>...</td>\n",
       "    </tr>\n",
       "    <tr>\n",
       "      <th>1065962</th>\n",
       "      <td>/projects/site/pred/data_science/year/2022/imm...</td>\n",
       "      <td>Experiment_4</td>\n",
       "      <td>Donor_9</td>\n",
       "      <td>DIG-TCB</td>\n",
       "      <td>72493</td>\n",
       "      <td>unlabeled</td>\n",
       "      <td>-1</td>\n",
       "    </tr>\n",
       "    <tr>\n",
       "      <th>1065963</th>\n",
       "      <td>/projects/site/pred/data_science/year/2022/imm...</td>\n",
       "      <td>Experiment_4</td>\n",
       "      <td>Donor_9</td>\n",
       "      <td>DIG-TCB</td>\n",
       "      <td>106656</td>\n",
       "      <td>unlabeled</td>\n",
       "      <td>-1</td>\n",
       "    </tr>\n",
       "    <tr>\n",
       "      <th>1065964</th>\n",
       "      <td>/projects/site/pred/data_science/year/2022/imm...</td>\n",
       "      <td>Experiment_4</td>\n",
       "      <td>Donor_9</td>\n",
       "      <td>DIG-TCB</td>\n",
       "      <td>110990</td>\n",
       "      <td>unlabeled</td>\n",
       "      <td>-1</td>\n",
       "    </tr>\n",
       "    <tr>\n",
       "      <th>1065965</th>\n",
       "      <td>/projects/site/pred/data_science/year/2022/imm...</td>\n",
       "      <td>Experiment_4</td>\n",
       "      <td>Donor_9</td>\n",
       "      <td>DIG-TCB</td>\n",
       "      <td>71451</td>\n",
       "      <td>unlabeled</td>\n",
       "      <td>-1</td>\n",
       "    </tr>\n",
       "    <tr>\n",
       "      <th>1065966</th>\n",
       "      <td>/projects/site/pred/data_science/year/2022/imm...</td>\n",
       "      <td>Experiment_4</td>\n",
       "      <td>Donor_9</td>\n",
       "      <td>DIG-TCB</td>\n",
       "      <td>111837</td>\n",
       "      <td>unlabeled</td>\n",
       "      <td>-1</td>\n",
       "    </tr>\n",
       "  </tbody>\n",
       "</table>\n",
       "<p>1065967 rows × 7 columns</p>\n",
       "</div>"
      ],
      "text/plain": [
       "                                                      file    experiment  \\\n",
       "0        /projects/site/pred/data_science/year/2022/imm...  Experiment_1   \n",
       "1        /projects/site/pred/data_science/year/2022/imm...  Experiment_1   \n",
       "2        /projects/site/pred/data_science/year/2022/imm...  Experiment_1   \n",
       "3        /projects/site/pred/data_science/year/2022/imm...  Experiment_1   \n",
       "4        /projects/site/pred/data_science/year/2022/imm...  Experiment_1   \n",
       "...                                                    ...           ...   \n",
       "1065962  /projects/site/pred/data_science/year/2022/imm...  Experiment_4   \n",
       "1065963  /projects/site/pred/data_science/year/2022/imm...  Experiment_4   \n",
       "1065964  /projects/site/pred/data_science/year/2022/imm...  Experiment_4   \n",
       "1065965  /projects/site/pred/data_science/year/2022/imm...  Experiment_4   \n",
       "1065966  /projects/site/pred/data_science/year/2022/imm...  Experiment_4   \n",
       "\n",
       "           donor condition  object_number        set label  \n",
       "0        Donor_1      +SEA           5156  unlabeled    -1  \n",
       "1        Donor_1      +SEA          32020  unlabeled    -1  \n",
       "2        Donor_1      +SEA          55974  unlabeled    -1  \n",
       "3        Donor_1      +SEA          15150  unlabeled    -1  \n",
       "4        Donor_1      +SEA          44814  unlabeled    -1  \n",
       "...          ...       ...            ...        ...   ...  \n",
       "1065962  Donor_9   DIG-TCB          72493  unlabeled    -1  \n",
       "1065963  Donor_9   DIG-TCB         106656  unlabeled    -1  \n",
       "1065964  Donor_9   DIG-TCB         110990  unlabeled    -1  \n",
       "1065965  Donor_9   DIG-TCB          71451  unlabeled    -1  \n",
       "1065966  Donor_9   DIG-TCB         111837  unlabeled    -1  \n",
       "\n",
       "[1065967 rows x 7 columns]"
      ]
     },
     "execution_count": 8,
     "metadata": {},
     "output_type": "execute_result"
    }
   ],
   "source": [
    "metadata = pd.read_csv(\"/projects/site/pred/data_science/year/2022/immunological_synapse/synapse_data_features/metadata_subset.csv.gz\")\n",
    "metadata.file = metadata.file.astype(str)\n",
    "\n",
    "metadata.file = metadata.file.str.replace(\"/pstore/data/DS4/synapse_formation_full_data/\",\n",
    "                          \"/projects/site/pred/data_science/year/2022/immunological_synapse/synapse_formation_full_data/\", regex=True)\n",
    "\n",
    "metadata"
   ]
  },
  {
   "cell_type": "code",
   "execution_count": 9,
   "metadata": {},
   "outputs": [
    {
     "data": {
      "text/plain": [
       "array(['unlabeled', 'labeled', 'train', 'test', 'validation'],\n",
       "      dtype=object)"
      ]
     },
     "execution_count": 9,
     "metadata": {},
     "output_type": "execute_result"
    }
   ],
   "source": [
    "metadata.set.unique()"
   ]
  },
  {
   "cell_type": "code",
   "execution_count": 10,
   "metadata": {},
   "outputs": [],
   "source": [
    "indx = metadata.condition.isin([\"-SEA\",\"+SEA\"])\n",
    "metadata = metadata.loc[indx, :].reset_index(drop = True )"
   ]
  },
  {
   "cell_type": "code",
   "execution_count": null,
   "metadata": {},
   "outputs": [],
   "source": []
  },
  {
   "cell_type": "code",
   "execution_count": 11,
   "metadata": {},
   "outputs": [],
   "source": [
    "set_of_interesting_classes = ['B_cell',  \n",
    "                              'T_cell', \n",
    "                              'T_cell_with_signaling',\n",
    "                              'T_cell_with_B_cell_fragments',\n",
    "                              'B_T_cell_in_one_layer',\n",
    "                              'Synapses_without_signaling', \n",
    "                              'Synapses_with_signaling',\n",
    "                              'No_cell_cell_interaction',\n",
    "                              'Multiplets']"
   ]
  },
  {
   "cell_type": "code",
   "execution_count": 12,
   "metadata": {},
   "outputs": [
    {
     "data": {
      "text/plain": [
       "array(['unlabeled', 'labeled', 'train', 'test', 'validation'],\n",
       "      dtype=object)"
      ]
     },
     "execution_count": 12,
     "metadata": {},
     "output_type": "execute_result"
    }
   ],
   "source": [
    "metadata[\"set\"].unique()"
   ]
  },
  {
   "cell_type": "code",
   "execution_count": 13,
   "metadata": {},
   "outputs": [],
   "source": [
    "unlabeled_index = metadata[\"set\"] == \"unlabeled\"\n",
    "unlabeled_index = unlabeled_index[unlabeled_index].index\n",
    "\n",
    " \n",
    "labeled_index = metadata[\"label\"].isin(set_of_interesting_classes)\n",
    "\n",
    "train_index = metadata[\"set\"] == \"train\"\n",
    "train_index = train_index & labeled_index\n",
    "train_index = train_index[train_index].index\n",
    "\n",
    "validation_index = metadata[\"set\"] == \"validation\"\n",
    "validation_index = validation_index & labeled_index\n",
    "validation_index = validation_index[validation_index].index\n",
    "\n",
    "test_index = metadata[\"set\"] == \"test\"\n",
    "test_index = test_index & labeled_index\n",
    "test_index = test_index[test_index].index"
   ]
  },
  {
   "cell_type": "code",
   "execution_count": null,
   "metadata": {},
   "outputs": [],
   "source": [
    " "
   ]
  },
  {
   "cell_type": "code",
   "execution_count": 14,
   "metadata": {},
   "outputs": [
    {
     "name": "stdout",
     "output_type": "stream",
     "text": [
      "Number of labeled images 5221\n"
     ]
    }
   ],
   "source": [
    "\n",
    "\n",
    "label_map = dict()\n",
    "for i, cl in enumerate(set_of_interesting_classes):\n",
    "    label_map[cl] = i\n",
    "\n",
    "label_map['-1'] = -1\n",
    "label_map[-1] = -1\n",
    "\n",
    "print(\"Number of labeled images\",labeled_index.sum())"
   ]
  },
  {
   "cell_type": "code",
   "execution_count": 15,
   "metadata": {},
   "outputs": [
    {
     "data": {
      "text/plain": [
       "{'B_cell': 0,\n",
       " 'T_cell': 1,\n",
       " 'T_cell_with_signaling': 2,\n",
       " 'T_cell_with_B_cell_fragments': 3,\n",
       " 'B_T_cell_in_one_layer': 4,\n",
       " 'Synapses_without_signaling': 5,\n",
       " 'Synapses_with_signaling': 6,\n",
       " 'No_cell_cell_interaction': 7,\n",
       " 'Multiplets': 8,\n",
       " '-1': -1,\n",
       " -1: -1}"
      ]
     },
     "execution_count": 15,
     "metadata": {},
     "output_type": "execute_result"
    }
   ],
   "source": [
    "label_map"
   ]
  },
  {
   "cell_type": "code",
   "execution_count": null,
   "metadata": {},
   "outputs": [],
   "source": []
  },
  {
   "cell_type": "code",
   "execution_count": 16,
   "metadata": {},
   "outputs": [],
   "source": [
    "channels = {\n",
    "     \"Ch1\": (\"Greys\", \"BF\"),  \n",
    "     \"Ch2\": (\"Greens\", \"Antibody\"),\n",
    "     \"Ch3\": (\"Reds\", \"CD18\"),\n",
    "     \"Ch4\": (\"Oranges\", \"F-Actin\"),\n",
    "     \"Ch6\": (\"RdPu\", \"MHCII\"),\n",
    "     \"Ch7\": (\"Purples\", \"CD3/CD4\"),\n",
    "     \"Ch11\": (\"Blues\", \"P-CD3zeta\"),\n",
    "     \"Ch12\": (\"Greens\", \"Live-Dead\")\n",
    " }"
   ]
  },
  {
   "cell_type": "code",
   "execution_count": null,
   "metadata": {},
   "outputs": [],
   "source": []
  },
  {
   "cell_type": "code",
   "execution_count": null,
   "metadata": {},
   "outputs": [],
   "source": []
  },
  {
   "cell_type": "code",
   "execution_count": 17,
   "metadata": {},
   "outputs": [],
   "source": [
    "reshape_size = 160\n",
    "selected_channels = [0,3,4,5,6]\n",
    "\n",
    "stats = dict()\n",
    "\n",
    "stats[\"lower_bound\"] = torch.tensor([756.5198,52.5891,45.7574,54.1436,39.0545])\n",
    "stats[\"upper_bound\"] = torch.tensor([835.3564,288.1139,271.3861,234.2525,90.0396])"
   ]
  },
  {
   "cell_type": "code",
   "execution_count": 18,
   "metadata": {},
   "outputs": [],
   "source": [
    "class AddGaussianNoise(object):\n",
    "    def __init__(self, mean=0., std=1.):\n",
    "        self.std = std\n",
    "        self.mean = mean\n",
    "        \n",
    "    def __call__(self, tensor):\n",
    "        return tensor + torch.randn(tensor.size()) * self.std + self.mean\n",
    "    \n",
    "    def __repr__(self):\n",
    "        return self.__class__.__name__ + '(mean={0}, std={1})'.format(self.mean, self.std)"
   ]
  },
  {
   "cell_type": "code",
   "execution_count": 19,
   "metadata": {},
   "outputs": [],
   "source": [
    "class MinMaxScaler(object):\n",
    "    def __init__(self, min_in , max_in, min_out, max_out):\n",
    "        self.min_in = min_in.reshape(-1,1,1)\n",
    "        self.max_in = max_in.reshape(-1,1,1)\n",
    "        self.min_out = min_out\n",
    "        self.max_out = max_out\n",
    "        \n",
    "    def __call__(self, tensor):\n",
    "        \n",
    "        tensor_ = (tensor - self.min_in)/(self.max_in - self.min_in)\n",
    "        tensor_ = tensor_*(self.max_out - self.min_out) + self.min_out\n",
    "        tensor_[tensor_<self.min_out]= self.min_out\n",
    "        tensor_[tensor_>self.max_out]= self.max_out\n",
    "        return tensor_\n",
    "    \n",
    "    def __repr__(self):\n",
    "        return self.__class__.__name__ + '(min_out={0}, max_out={1})'.format(self.min_out, self.max_out)"
   ]
  },
  {
   "cell_type": "code",
   "execution_count": null,
   "metadata": {},
   "outputs": [],
   "source": []
  },
  {
   "cell_type": "code",
   "execution_count": 20,
   "metadata": {},
   "outputs": [],
   "source": [
    "import torch.nn as nn\n",
    "from torchvision.models import resnet152, resnet18, resnet34, resnet50\n",
    "import torch.nn.functional as F\n",
    "from lightly.models.modules import BarlowTwinsProjectionHead\n",
    "\n",
    "backbone =  resnet18(weights='IMAGENET1K_V1')\n",
    "num_channels = len(selected_channels)\n",
    "num_classes = len(set_of_interesting_classes)\n",
    "if num_channels != 3:\n",
    "    backbone.conv1 = nn.Conv2d(num_channels, 64, kernel_size=(7, 7),\n",
    "                                    stride=(2, 2), padding=(3, 3), bias=False)\n",
    "num_ftrs = backbone.fc.in_features\n",
    "backbone.fc = nn.Linear(num_ftrs, num_classes)\n",
    "backbone = nn.Sequential(*list(backbone.children())[:-1])\n",
    "\n",
    "class BarlowTwins(nn.Module):\n",
    "    def __init__(self, backbone):\n",
    "        super().__init__()\n",
    "        self.backbone = backbone\n",
    "        self.projection_head = BarlowTwinsProjectionHead(512, 2048, 2048)\n",
    "\n",
    "    def forward(self, x):\n",
    "        x = self.backbone(x).flatten(start_dim=1)\n",
    "        z = self.projection_head(x)\n",
    "        return z\n",
    "    \n",
    "class ResNet18Modified(nn.Module):\n",
    "    def __init__(self,  backbone,\n",
    "                 pretrained_weights = \"BarlowTwins.pt\",\n",
    "                 num_classes=3, **kwargs):\n",
    "        super().__init__()\n",
    "        barlow_twins = BarlowTwins(backbone)\n",
    "        barlow_twins.load_state_dict(torch.load(pretrained_weights))\n",
    "        self.backbone = barlow_twins.backbone\n",
    "        self.classifier = nn.Linear(512, num_classes)\n",
    "\n",
    "    def forward(self, x):    \n",
    "        x = self.backbone(x)\n",
    "        x = self.classifier(x.reshape(-1,512))\n",
    "        return x"
   ]
  },
  {
   "cell_type": "code",
   "execution_count": null,
   "metadata": {},
   "outputs": [],
   "source": []
  },
  {
   "cell_type": "code",
   "execution_count": 21,
   "metadata": {},
   "outputs": [],
   "source": [
    "resnet18_modified = ResNet18Modified(backbone,\n",
    "                                     pretrained_weights = \"BarlowTwins.pt\",\n",
    "                                     num_classes=len(set_of_interesting_classes), \n",
    "                                     pretrained = True)\n",
    "\n"
   ]
  },
  {
   "cell_type": "code",
   "execution_count": null,
   "metadata": {},
   "outputs": [],
   "source": []
  },
  {
   "cell_type": "code",
   "execution_count": 22,
   "metadata": {},
   "outputs": [],
   "source": [
    "train_transform = transforms.Compose([ \n",
    "        MinMaxScaler(           min_in =  stats[\"lower_bound\"] , \n",
    "                                max_in =  stats[\"upper_bound\"] , \n",
    "                                min_out =  0. , \n",
    "                                max_out =  1.),\n",
    "        transforms.RandomResizedCrop(reshape_size, scale=(0.6, 1.0), ratio=(0.8, 1.2)),\n",
    "        transforms.RandomRotation(45),\n",
    "        transforms.RandomHorizontalFlip(),\n",
    "        transforms.RandomVerticalFlip(),\n",
    "        AddGaussianNoise(mean=0., std=0.05),\n",
    "])\n",
    "\n",
    "\n",
    "\n",
    "train_dataset = DatasetGenerator(metadata.loc[train_index.tolist(),:], \n",
    "                                 reshape_size=reshape_size, \n",
    "                                 scaling_factor = 1.,\n",
    "                                label_map=label_map, \n",
    "                                 transform = train_transform,\n",
    "                                selected_channels=selected_channels)"
   ]
  },
  {
   "cell_type": "code",
   "execution_count": null,
   "metadata": {},
   "outputs": [],
   "source": []
  },
  {
   "cell_type": "code",
   "execution_count": 23,
   "metadata": {},
   "outputs": [
    {
     "data": {
      "text/plain": [
       "{'B_cell': 0,\n",
       " 'T_cell': 1,\n",
       " 'T_cell_with_signaling': 2,\n",
       " 'T_cell_with_B_cell_fragments': 3,\n",
       " 'B_T_cell_in_one_layer': 4,\n",
       " 'Synapses_without_signaling': 5,\n",
       " 'Synapses_with_signaling': 6,\n",
       " 'No_cell_cell_interaction': 7,\n",
       " 'Multiplets': 8,\n",
       " '-1': -1,\n",
       " -1: -1}"
      ]
     },
     "execution_count": 23,
     "metadata": {},
     "output_type": "execute_result"
    }
   ],
   "source": [
    "label_map"
   ]
  },
  {
   "cell_type": "code",
   "execution_count": 24,
   "metadata": {},
   "outputs": [
    {
     "name": "stdout",
     "output_type": "stream",
     "text": [
      "tensor(6)\n"
     ]
    },
    {
     "data": {
      "image/png": "[encoded data removed]",
      "text/plain": [
       "<Figure size 432x288 with 1 Axes>"
      ]
     },
     "metadata": {
      "needs_background": "light"
     },
     "output_type": "display_data"
    }
   ],
   "source": [
    "i = 40\n",
    "plt.imshow(train_dataset[i][0][0,:,:])\n",
    "print(train_dataset[i][1])"
   ]
  },
  {
   "cell_type": "code",
   "execution_count": 25,
   "metadata": {},
   "outputs": [],
   "source": [
    "validation_transforms =  transforms.Compose([ \n",
    "        MinMaxScaler(           min_in =  stats[\"lower_bound\"] , \n",
    "                                max_in =  stats[\"upper_bound\"] , \n",
    "                                min_out =  0. , \n",
    "                                max_out =  1.),\n",
    "        transforms.RandomHorizontalFlip(),\n",
    "        transforms.RandomVerticalFlip(),\n",
    "        AddGaussianNoise(mean=0., std=0.01),\n",
    "])\n",
    "\n",
    "test_transforms =  transforms.Compose([ \n",
    "        MinMaxScaler(           min_in =  stats[\"lower_bound\"] , \n",
    "                                max_in =  stats[\"upper_bound\"] , \n",
    "                                min_out =  0. , \n",
    "                                max_out =  1.),\n",
    "])\n",
    "\n",
    "validation_dataset = DatasetGenerator(metadata.loc[validation_index.tolist(),:],\n",
    "                                 reshape_size=reshape_size, \n",
    "                                label_map=label_map,\n",
    "                                 scaling_factor = 1.,\n",
    "                                transform=validation_transforms, \n",
    "                                selected_channels=selected_channels)\n",
    "\n",
    "test_dataset = DatasetGenerator(metadata.loc[test_index.tolist(),:],\n",
    "                                 reshape_size=reshape_size, \n",
    "                                label_map=label_map,\n",
    "                                 scaling_factor = 1.,\n",
    "                                transform=test_transforms, \n",
    "                                selected_channels=selected_channels)"
   ]
  },
  {
   "cell_type": "code",
   "execution_count": null,
   "metadata": {},
   "outputs": [],
   "source": []
  },
  {
   "cell_type": "code",
   "execution_count": 26,
   "metadata": {},
   "outputs": [],
   "source": [
    "lr_scheduler = LRScheduler(policy='ReduceLROnPlateau', factor=0.5, patience=5)\n",
    "\n",
    "epoch_scoring_f1_micro = EpochScoring(\"f1_micro\", \n",
    "                             name =  \"valid_f1_micro\", \n",
    "                             on_train = False,\n",
    "                             lower_is_better = False)\n",
    "\n",
    "epoch_scoring_f1_macro = EpochScoring(\"f1_macro\", \n",
    "                             name =  \"valid_f1_macro\", \n",
    "                             on_train = False,\n",
    "                             lower_is_better = False)\n",
    "\n",
    "early_stopping = EarlyStopping(monitor='valid_f1_macro', \n",
    "                               patience=50, \n",
    "                               threshold=0.0001, \n",
    "                               threshold_mode='rel', \n",
    "                               lower_is_better=False)\n",
    "\n",
    "checkpoint = Checkpoint(f_params='ResNet18.pt',\n",
    "                        monitor='valid_f1_macro_best', load_best=True)"
   ]
  },
  {
   "cell_type": "code",
   "execution_count": 27,
   "metadata": {},
   "outputs": [],
   "source": [
    "\n",
    "model = NeuralNetClassifier(    \n",
    "    resnet18_modified, \n",
    "    criterion=nn.CrossEntropyLoss,\n",
    "    lr=0.01,\n",
    "    batch_size=32,\n",
    "    max_epochs=1000,\n",
    "    optimizer=optim.Adam,\n",
    "    iterator_train__shuffle=True,\n",
    "    iterator_train__num_workers=16,\n",
    "    iterator_valid__shuffle=False,\n",
    "    iterator_valid__num_workers=2,\n",
    "    callbacks=[lr_scheduler, epoch_scoring_f1_micro, \n",
    "               epoch_scoring_f1_macro, \n",
    "               early_stopping, checkpoint],\n",
    "    train_split=predefined_split(validation_dataset),\n",
    "    device=\"cuda\",\n",
    "    warm_start=True)"
   ]
  },
  {
   "cell_type": "code",
   "execution_count": 28,
   "metadata": {},
   "outputs": [
    {
     "name": "stderr",
     "output_type": "stream",
     "text": [
      "/home/shetabs1/.local/lib/python3.7/site-packages/skorch/net.py:1921: UserWarning: You set iterator_valid__shuffle=True; this is most likely not what you want because the values returned by predict and predict_proba will be shuffled.\n",
      "  UserWarning)\n"
     ]
    },
    {
     "name": "stdout",
     "output_type": "stream",
     "text": [
      "  epoch    train_loss    valid_acc    valid_f1_macro    valid_f1_micro    valid_loss    cp      dur\n",
      "-------  ------------  -----------  ----------------  ----------------  ------------  ----  -------\n",
      "      1        \u001b[36m1.3482\u001b[0m       \u001b[32m0.6115\u001b[0m            \u001b[35m0.5874\u001b[0m            \u001b[31m0.6115\u001b[0m        \u001b[94m0.9939\u001b[0m     +  16.2586\n",
      "      2        \u001b[36m0.8801\u001b[0m       0.5294            0.4686            0.5294        1.8061        5.2922\n",
      "      3        \u001b[36m0.7426\u001b[0m       \u001b[32m0.6772\u001b[0m            \u001b[35m0.6578\u001b[0m            \u001b[31m0.6772\u001b[0m        \u001b[94m0.9806\u001b[0m     +  5.9696\n",
      "      4        \u001b[36m0.6637\u001b[0m       \u001b[32m0.7483\u001b[0m            \u001b[35m0.7386\u001b[0m            \u001b[31m0.7483\u001b[0m        \u001b[94m0.6479\u001b[0m     +  5.6620\n",
      "      5        \u001b[36m0.5896\u001b[0m       \u001b[32m0.7921\u001b[0m            \u001b[35m0.7854\u001b[0m            \u001b[31m0.7921\u001b[0m        \u001b[94m0.5501\u001b[0m     +  5.5871\n",
      "      6        \u001b[36m0.5557\u001b[0m       0.7073            0.6759            0.7073        0.8036        5.7571\n",
      "      7        0.5611       0.7415            0.7166            0.7415        0.6733        5.5890\n",
      "      8        \u001b[36m0.5165\u001b[0m       0.7278            0.7198            0.7278        0.7621        5.6756\n",
      "      9        \u001b[36m0.4937\u001b[0m       \u001b[32m0.8071\u001b[0m            \u001b[35m0.8049\u001b[0m            \u001b[31m0.8071\u001b[0m        \u001b[94m0.5487\u001b[0m     +  5.5443\n",
      "     10        \u001b[36m0.4878\u001b[0m       \u001b[32m0.8153\u001b[0m            \u001b[35m0.8123\u001b[0m            \u001b[31m0.8153\u001b[0m        \u001b[94m0.4995\u001b[0m     +  5.5295\n",
      "     11        \u001b[36m0.4851\u001b[0m       \u001b[32m0.8194\u001b[0m            0.8110            \u001b[31m0.8194\u001b[0m        \u001b[94m0.4708\u001b[0m        5.7374\n",
      "     12        \u001b[36m0.4445\u001b[0m       0.7729            0.7632            0.7729        0.6920        5.5443\n",
      "     13        \u001b[36m0.4309\u001b[0m       0.7661            0.7595            0.7661        0.6989        5.5837\n",
      "     14        \u001b[36m0.4276\u001b[0m       \u001b[32m0.8427\u001b[0m            \u001b[35m0.8375\u001b[0m            \u001b[31m0.8427\u001b[0m        \u001b[94m0.4521\u001b[0m     +  5.6178\n",
      "     15        \u001b[36m0.3759\u001b[0m       0.8112            0.8032            0.8112        0.5635        5.6044\n",
      "     16        0.3905       0.7934            0.7870            0.7934        0.5921        5.7289\n",
      "     17        0.3805       \u001b[32m0.8605\u001b[0m            \u001b[35m0.8570\u001b[0m            \u001b[31m0.8605\u001b[0m        \u001b[94m0.4003\u001b[0m     +  5.7713\n",
      "     18        0.3830       0.8454            0.8440            0.8454        0.4101        5.5019\n",
      "     19        \u001b[36m0.3455\u001b[0m       0.7415            0.7166            0.7415        0.6559        5.5812\n",
      "     20        0.3557       0.8112            0.8009            0.8112        0.5343        5.7839\n",
      "     21        0.3624       0.8208            0.8144            0.8208        0.4963        5.6385\n",
      "     22        \u001b[36m0.3270\u001b[0m       0.8550            0.8505            0.8550        0.4198        5.6160\n",
      "     23        0.3342       0.8372            0.8301            0.8372        0.5576        5.7928\n",
      "     24        \u001b[36m0.3250\u001b[0m       0.8605            0.8543            0.8605        0.4344        5.7447\n",
      "     25        \u001b[36m0.3052\u001b[0m       \u001b[32m0.8673\u001b[0m            \u001b[35m0.8660\u001b[0m            \u001b[31m0.8673\u001b[0m        0.4122     +  5.6200\n",
      "     26        0.3247       \u001b[32m0.8810\u001b[0m            \u001b[35m0.8781\u001b[0m            \u001b[31m0.8810\u001b[0m        \u001b[94m0.3737\u001b[0m     +  5.6381\n",
      "     27        \u001b[36m0.2931\u001b[0m       0.8290            0.8272            0.8290        0.6206        5.5270\n",
      "     28        0.2960       0.8440            0.8438            0.8440        0.4542        5.6145\n",
      "     29        0.3010       0.8700            0.8645            0.8700        0.4172        5.7026\n",
      "     30        0.3058       0.8741            0.8711            0.8741        0.3845        5.5690\n",
      "     31        \u001b[36m0.2880\u001b[0m       0.8523            0.8452            0.8523        0.4523        5.7255\n",
      "     32        \u001b[36m0.2795\u001b[0m       0.8085            0.8155            0.8085        0.5207        5.6064\n",
      "     33        \u001b[36m0.2609\u001b[0m       0.8673            0.8626            0.8673        0.4093        5.7416\n",
      "     34        \u001b[36m0.2600\u001b[0m       0.8796            0.8774            0.8796        \u001b[94m0.3556\u001b[0m        5.7292\n",
      "     35        0.2692       \u001b[32m0.8892\u001b[0m            \u001b[35m0.8844\u001b[0m            \u001b[31m0.8892\u001b[0m        0.3845     +  5.8238\n",
      "     36        \u001b[36m0.2411\u001b[0m       0.8618            0.8581            0.8618        0.4135        5.7337\n",
      "     37        0.2439       0.8728            0.8704            0.8728        0.4312        5.6728\n",
      "     38        0.2622       0.8413            0.8414            0.8413        0.5110        5.7580\n",
      "     39        0.2602       0.8673            0.8651            0.8673        0.4162        5.6450\n",
      "     40        0.2556       0.8523            0.8474            0.8523        0.4980        5.8742\n",
      "     41        \u001b[36m0.2375\u001b[0m       0.8454            0.8448            0.8454        0.4376        5.8625\n",
      "     42        0.2566       0.8386            0.8347            0.8386        0.4252        5.6780\n",
      "     43        0.2748       \u001b[32m0.8919\u001b[0m            \u001b[35m0.8874\u001b[0m            \u001b[31m0.8919\u001b[0m        \u001b[94m0.3385\u001b[0m     +  5.7255\n",
      "     44        0.2515       0.8632            0.8586            0.8632        0.4217        5.7655\n",
      "     45        0.2487       0.8851            0.8819            0.8851        0.3782        5.7421\n",
      "     46        \u001b[36m0.2350\u001b[0m       \u001b[32m0.8933\u001b[0m            \u001b[35m0.8877\u001b[0m            \u001b[31m0.8933\u001b[0m        0.3564     +  5.6349\n",
      "     47        \u001b[36m0.2254\u001b[0m       0.8878            0.8843            0.8878        0.3808        5.6069\n",
      "     48        \u001b[36m0.2185\u001b[0m       0.8646            0.8585            0.8646        0.4828        5.7945\n",
      "     49        0.2349       0.8810            0.8772            0.8810        0.3911        5.6480\n",
      "     50        \u001b[36m0.2141\u001b[0m       0.8878            0.8818            0.8878        0.3781        5.6655\n",
      "     51        0.2158       0.8714            0.8651            0.8714        0.4092        5.6403\n",
      "     52        0.2232       0.8646            0.8582            0.8646        0.4564        5.7404\n",
      "     53        \u001b[36m0.2063\u001b[0m       0.8878            0.8840            0.8878        0.4127        5.8255\n",
      "     54        0.2222       0.8413            0.8427            0.8413        0.4697        5.8827\n",
      "     55        0.2271       0.8769            0.8705            0.8769        0.4332        5.7003\n",
      "     56        \u001b[36m0.2060\u001b[0m       \u001b[32m0.9056\u001b[0m            \u001b[35m0.9016\u001b[0m            \u001b[31m0.9056\u001b[0m        \u001b[94m0.3241\u001b[0m     +  5.5870\n",
      "     57        0.2274       0.8824            0.8773            0.8824        0.3564        5.4617\n",
      "     58        \u001b[36m0.2001\u001b[0m       0.8796            0.8768            0.8796        0.3972        5.4652\n",
      "     59        0.2057       0.8509            0.8518            0.8509        0.4309        5.7533\n",
      "     60        \u001b[36m0.1928\u001b[0m       0.8769            0.8707            0.8769        0.4232        5.6302\n",
      "     61        \u001b[36m0.1914\u001b[0m       0.8317            0.8302            0.8317        0.4772        5.8898\n",
      "     62        0.2201       0.8810            0.8777            0.8810        0.4106        5.3886\n",
      "     63        \u001b[36m0.1867\u001b[0m       0.9029            0.8992            0.9029        0.3287        5.8021\n",
      "     64        0.1931       0.8769            0.8715            0.8769        0.4352        5.7499\n",
      "     65        0.2016       0.8769            0.8730            0.8769        0.4121        5.7173\n",
      "     66        0.2075       0.8892            0.8807            0.8892        0.4456        5.7903\n",
      "     67        0.2077       0.8906            0.8850            0.8906        0.3996        5.8156\n",
      "     68        0.2071       0.9056            0.9014            0.9056        \u001b[94m0.3216\u001b[0m        5.4522\n",
      "     69        0.2086       0.8673            0.8632            0.8673        0.3991        5.4681\n",
      "     70        \u001b[36m0.1691\u001b[0m       0.8974            0.8954            0.8974        0.3491        5.7505\n",
      "     71        \u001b[36m0.1385\u001b[0m       0.8933            0.8893            0.8933        0.3701        5.6618\n",
      "     72        \u001b[36m0.1372\u001b[0m       0.8960            0.8908            0.8960        0.3695        5.7271\n",
      "     73        \u001b[36m0.1357\u001b[0m       0.8988            0.8935            0.8988        0.3332        5.8242\n",
      "     74        \u001b[36m0.1347\u001b[0m       0.9001            0.8962            0.9001        0.3730        5.8327\n",
      "     75        \u001b[36m0.1329\u001b[0m       0.9001            0.8950            0.9001        0.3787        5.7703\n",
      "     76        \u001b[36m0.1306\u001b[0m       0.8974            0.8946            0.8974        0.3303        5.6429\n",
      "     77        \u001b[36m0.1285\u001b[0m       0.8906            0.8860            0.8906        0.3983        5.7651\n",
      "     78        \u001b[36m0.1225\u001b[0m       0.8878            0.8855            0.8878        0.3956        5.6141\n",
      "     79        0.1229       0.8865            0.8856            0.8865        0.4643        5.6891\n",
      "     80        0.1242       0.8974            0.8953            0.8974        0.3721        5.5054\n",
      "     81        0.1246       0.9042            0.9012            0.9042        0.4001        5.4712\n",
      "     82        0.1383       \u001b[32m0.9070\u001b[0m            \u001b[35m0.9043\u001b[0m            \u001b[31m0.9070\u001b[0m        0.3533     +  5.6183\n",
      "     83        0.1248       0.8906            0.8857            0.8906        0.3709        5.6534\n",
      "     84        0.1246       0.9015            0.8977            0.9015        0.3672        5.6215\n",
      "     85        \u001b[36m0.1030\u001b[0m       0.8988            0.8950            0.8988        0.3723        5.5095\n",
      "     86        \u001b[36m0.0939\u001b[0m       0.8974            0.8934            0.8974        0.3613        5.7467\n",
      "     87        0.1050       0.9070            0.9032            0.9070        0.3837        5.5023\n",
      "     88        0.0941       0.8974            0.8933            0.8974        0.4042        5.7029\n",
      "     89        \u001b[36m0.0930\u001b[0m       0.9029            0.8978            0.9029        0.4245        5.6130\n",
      "     90        \u001b[36m0.0903\u001b[0m       0.9056            0.9010            0.9056        0.4291        5.5914\n",
      "     91        0.0962       0.8974            0.8954            0.8974        0.4046        5.7135\n",
      "     92        \u001b[36m0.0850\u001b[0m       0.9070            0.9035            0.9070        0.4042        5.6082\n",
      "     93        0.0974       0.9029            0.8993            0.9029        0.4120        5.7343\n",
      "     94        0.0919       0.8782            0.8740            0.8782        0.4755        5.4596\n",
      "     95        0.0852       0.8974            0.8941            0.8974        0.3891        5.7254\n",
      "     96        \u001b[36m0.0839\u001b[0m       0.9070            0.9034            0.9070        0.4153        5.8078\n",
      "     97        0.0939       0.9029            0.8975            0.9029        0.4311        5.6707\n",
      "     98        \u001b[36m0.0822\u001b[0m       0.8947            0.8899            0.8947        0.4393        5.7480\n",
      "     99        0.0863       0.9029            0.8993            0.9029        0.4033        5.5089\n",
      "    100        \u001b[36m0.0782\u001b[0m       0.9029            0.8992            0.9029        0.4301        5.7410\n",
      "    101        0.0890       \u001b[32m0.9083\u001b[0m            0.9042            \u001b[31m0.9083\u001b[0m        0.4216        5.7271\n",
      "    102        0.0893       0.9042            0.9012            0.9042        0.4084        5.7152\n",
      "    103        \u001b[36m0.0711\u001b[0m       0.9056            0.9012            0.9056        0.4146        5.7836\n",
      "    104        0.0796       0.8960            0.8914            0.8960        0.4806        5.6641\n",
      "    105        0.0761       0.9015            0.8964            0.9015        0.4613        5.5445\n",
      "    106        0.0841       0.9001            0.8971            0.9001        0.4632        5.8233\n",
      "    107        0.0769       0.9083            \u001b[35m0.9056\u001b[0m            0.9083        0.4348     +  5.7979\n",
      "    108        0.0746       0.8974            0.8945            0.8974        0.4542        5.6581\n",
      "    109        0.0825       0.9042            0.9004            0.9042        0.4648        5.5006\n",
      "    110        \u001b[36m0.0671\u001b[0m       0.8988            0.8943            0.8988        0.4454        5.5252\n",
      "    111        0.0738       0.9070            0.9037            0.9070        0.4446        5.6801\n",
      "    112        \u001b[36m0.0669\u001b[0m       0.8919            0.8878            0.8919        0.4786        5.6592\n",
      "    113        \u001b[36m0.0593\u001b[0m       0.9083            0.9043            0.9083        0.4405        5.7671\n",
      "    114        0.0595       0.9070            0.9030            0.9070        0.4610        5.6746\n",
      "    115        0.0681       0.9070            0.9041            0.9070        0.4705        5.6779\n",
      "    116        0.0657       0.9042            0.8999            0.9042        0.4571        5.7935\n",
      "    117        \u001b[36m0.0513\u001b[0m       0.9015            0.8961            0.9015        0.4689        5.8226\n",
      "    118        0.0594       \u001b[32m0.9097\u001b[0m            \u001b[35m0.9060\u001b[0m            \u001b[31m0.9097\u001b[0m        0.4608     +  5.7741\n",
      "    119        0.0635       0.9015            0.8970            0.9015        0.4732        5.6944\n",
      "    120        0.0615       0.9056            0.9019            0.9056        0.4562        5.7533\n",
      "    121        0.0598       0.9029            0.8983            0.9029        0.5071        5.7187\n",
      "    122        0.0517       0.9001            0.8949            0.9001        0.4837        5.6943\n",
      "    123        0.0531       0.9001            0.8948            0.9001        0.5160        5.9473\n",
      "    124        0.0582       0.9029            0.8987            0.9029        0.4989        5.7213\n",
      "    125        \u001b[36m0.0487\u001b[0m       0.9070            0.9032            0.9070        0.4716        5.7612\n",
      "    126        \u001b[36m0.0441\u001b[0m       0.9042            0.8998            0.9042        0.5031        5.5719\n",
      "    127        0.0543       0.9070            0.9035            0.9070        0.4901        5.7874\n",
      "    128        0.0502       0.8988            0.8946            0.8988        0.5208        5.6783\n",
      "    129        0.0458       0.8974            0.8928            0.8974        0.5573        5.7148\n",
      "    130        0.0543       0.8988            0.8940            0.8988        0.5206        5.7675\n",
      "    131        0.0498       0.9001            0.8952            0.9001        0.5154        5.7215\n",
      "    132        0.0498       0.8933            0.8889            0.8933        0.5166        5.6262\n",
      "    133        0.0467       0.9015            0.8965            0.9015        0.5397        5.6025\n",
      "    134        \u001b[36m0.0424\u001b[0m       0.9001            0.8959            0.9001        0.5499        5.7392\n",
      "    135        0.0451       0.9070            0.9028            0.9070        0.5446        5.6243\n",
      "    136        0.0486       0.9001            0.8950            0.9001        0.5541        5.7420\n",
      "    137        0.0450       0.8974            0.8920            0.8974        0.5286        5.7442\n",
      "    138        0.0432       0.9015            0.8964            0.9015        0.5539        5.6800\n",
      "    139        0.0455       \u001b[32m0.9111\u001b[0m            \u001b[35m0.9066\u001b[0m            \u001b[31m0.9111\u001b[0m        0.5208     +  5.8049\n",
      "    140        0.0447       0.9056            0.9012            0.9056        0.5247        5.4528\n",
      "    141        \u001b[36m0.0415\u001b[0m       0.9056            0.9013            0.9056        0.5054        5.3867\n",
      "    142        0.0422       0.9042            0.8998            0.9042        0.5307        5.5375\n",
      "    143        0.0444       0.9070            0.9028            0.9070        0.5094        5.5951\n",
      "    144        0.0509       0.9001            0.8955            0.9001        0.5479        5.7449\n",
      "    145        0.0432       0.9029            0.8975            0.9029        0.5309        5.6740\n",
      "    146        0.0426       0.9056            0.9019            0.9056        0.5174        5.5984\n",
      "    147        \u001b[36m0.0400\u001b[0m       0.8947            0.8897            0.8947        0.5423        5.7912\n",
      "    148        0.0477       0.9029            0.8991            0.9029        0.5294        5.8100\n",
      "    149        0.0489       0.9029            0.8986            0.9029        0.5242        5.6066\n",
      "    150        0.0457       0.9029            0.8991            0.9029        0.5345        5.8289\n",
      "    151        0.0458       0.9056            0.9018            0.9056        0.5105        5.6945\n",
      "    152        \u001b[36m0.0375\u001b[0m       0.9056            0.9017            0.9056        0.5292        5.5734\n",
      "    153        0.0448       0.9111            \u001b[35m0.9070\u001b[0m            0.9111        0.5046     +  5.7371\n",
      "    154        0.0528       0.9056            0.9016            0.9056        0.5372        5.4191\n",
      "    155        0.0425       0.8988            0.8938            0.8988        0.5366        5.6621\n",
      "    156        0.0398       0.9042            0.9005            0.9042        0.5249        5.5666\n",
      "    157        0.0399       0.9056            0.9019            0.9056        0.5077        5.7037\n",
      "    158        0.0461       0.9001            0.8961            0.9001        0.5469        5.8204\n",
      "    159        0.0396       0.8988            0.8937            0.8988        0.5497        5.7321\n",
      "    160        \u001b[36m0.0371\u001b[0m       0.9070            0.9034            0.9070        0.5308        5.9028\n",
      "    161        0.0420       0.9056            0.9011            0.9056        0.5330        5.6306\n",
      "    162        0.0394       0.9001            0.8949            0.9001        0.5481        5.6724\n",
      "    163        0.0424       0.9001            0.8957            0.9001        0.5319        5.6390\n",
      "    164        0.0419       0.9001            0.8951            0.9001        0.5430        5.7918\n",
      "    165        0.0428       0.9042            0.8997            0.9042        0.4908        5.5609\n",
      "    166        0.0404       0.8988            0.8931            0.8988        0.5582        5.5346\n",
      "    167        0.0396       0.9015            0.8975            0.9015        0.5236        5.4910\n",
      "    168        0.0453       0.9070            0.9028            0.9070        0.5201        5.6513\n",
      "    169        0.0373       0.8933            0.8883            0.8933        0.5640        5.6780\n",
      "    170        0.0391       0.9070            0.9027            0.9070        0.5341        5.7689\n",
      "    171        0.0428       0.9029            0.8978            0.9029        0.5450        5.6851\n",
      "    172        0.0389       0.9001            0.8953            0.9001        0.5120        5.6096\n",
      "    173        0.0436       0.9083            0.9038            0.9083        0.5385        5.6640\n",
      "    174        0.0408       0.9001            0.8960            0.9001        0.5523        5.5835\n",
      "    175        \u001b[36m0.0351\u001b[0m       0.9015            0.8979            0.9015        0.5126        5.8865\n",
      "    176        0.0427       0.9070            0.9021            0.9070        0.5366        5.6715\n",
      "    177        0.0391       0.9015            0.8974            0.9015        0.5493        5.8293\n",
      "    178        0.0361       0.9015            0.8963            0.9015        0.5408        5.6364\n",
      "    179        0.0431       0.9001            0.8952            0.9001        0.5386        5.5621\n",
      "    180        0.0356       0.9070            0.9029            0.9070        0.5210        5.7503\n",
      "    181        0.0386       0.8960            0.8911            0.8960        0.5522        5.9200\n",
      "    182        0.0386       0.9042            0.9003            0.9042        0.5348        5.7295\n",
      "    183        0.0446       0.9070            0.9019            0.9070        0.5142        5.6051\n",
      "    184        0.0392       0.9083            0.9047            0.9083        0.5338        5.7483\n",
      "    185        0.0362       0.8919            0.8869            0.8919        0.5552        5.7935\n",
      "    186        0.0431       0.9070            0.9030            0.9070        0.5368        5.5067\n",
      "    187        0.0366       0.9015            0.8975            0.9015        0.5189        5.8912\n",
      "    188        0.0431       0.9056            0.9017            0.9056        0.5176        5.7247\n",
      "    189        \u001b[36m0.0344\u001b[0m       0.9015            0.8969            0.9015        0.5408        5.8868\n",
      "    190        0.0415       0.8960            0.8915            0.8960        0.5479        5.6387\n",
      "    191        0.0441       0.9056            0.9013            0.9056        0.5355        5.8349\n",
      "    192        0.0447       0.9001            0.8957            0.9001        0.5491        5.5229\n",
      "    193        0.0424       0.8988            0.8936            0.8988        0.5599        5.8022\n",
      "    194        0.0425       0.8960            0.8906            0.8960        0.5570        5.6750\n",
      "    195        0.0352       0.9042            0.9000            0.9042        0.5149        5.7567\n",
      "    196        0.0377       0.9029            0.8982            0.9029        0.5434        5.7820\n",
      "    197        0.0419       0.9029            0.8983            0.9029        0.5332        5.7310\n",
      "    198        0.0366       0.9042            0.8998            0.9042        0.5313        5.8683\n",
      "    199        0.0438       0.9015            0.8971            0.9015        0.5215        5.7146\n",
      "    200        0.0458       0.9042            0.8999            0.9042        0.5497        5.8425\n",
      "    201        0.0398       0.8933            0.8882            0.8933        0.5438        5.8081\n",
      "    202        0.0465       0.9029            0.8988            0.9029        0.5524        5.8902\n",
      "Stopping since valid_f1_macro has not improved in the last 50 epochs.\n"
     ]
    }
   ],
   "source": [
    "model = model.fit(train_dataset, y = None)"
   ]
  },
  {
   "cell_type": "code",
   "execution_count": 29,
   "metadata": {},
   "outputs": [
    {
     "data": {
      "text/plain": [
       "<All keys matched successfully>"
      ]
     },
     "execution_count": 29,
     "metadata": {},
     "output_type": "execute_result"
    }
   ],
   "source": [
    "model.module.load_state_dict(torch.load('ResNet18.pt')) "
   ]
  },
  {
   "cell_type": "code",
   "execution_count": null,
   "metadata": {},
   "outputs": [],
   "source": []
  },
  {
   "cell_type": "code",
   "execution_count": 30,
   "metadata": {},
   "outputs": [],
   "source": [
    "## START from here"
   ]
  },
  {
   "cell_type": "code",
   "execution_count": 31,
   "metadata": {},
   "outputs": [
    {
     "name": "stdout",
     "output_type": "stream",
     "text": [
      "              precision    recall  f1-score   support\n",
      "\n",
      "           0       0.98      1.00      0.99        89\n",
      "           1       0.94      0.95      0.94        94\n",
      "           2       0.90      0.93      0.92        70\n",
      "           3       0.90      0.93      0.92        88\n",
      "           4       0.89      0.77      0.83        74\n",
      "           5       0.82      0.80      0.81        69\n",
      "           6       0.88      0.90      0.89        94\n",
      "           7       0.89      0.90      0.90        82\n",
      "           8       0.93      0.93      0.93        71\n",
      "\n",
      "    accuracy                           0.91       731\n",
      "   macro avg       0.90      0.90      0.90       731\n",
      "weighted avg       0.91      0.91      0.90       731\n",
      "\n",
      "------------------------------------------------------------\n",
      "matthews correlation coeff: 0.8937\n",
      "Cohen Kappa score: 0.8936\n",
      "Accuracy: 0.9056 & balanced Accuracy: 0.9012\n",
      "macro F1 score: 0.9015 & micro F1 score: 0.9056\n",
      "macro Precision score: 0.9031 & micro Precision score: 0.9056\n",
      "macro Recall score: 0.9012 & micro Recall score: 0.9056\n"
     ]
    },
    {
     "data": {
      "image/png": "[encoded data removed]",
      "text/plain": [
       "<Figure size 432x288 with 2 Axes>"
      ]
     },
     "metadata": {
      "needs_background": "light"
     },
     "output_type": "display_data"
    },
    {
     "name": "stdout",
     "output_type": "stream",
     "text": [
      "------------------------------------------------------------\n"
     ]
    }
   ],
   "source": [
    "preds = model.predict(validation_dataset)\n",
    "\n",
    "classification_complete_report([label_map[t] for t in validation_dataset.metadata.label], \n",
    "                               preds  )"
   ]
  },
  {
   "cell_type": "code",
   "execution_count": 32,
   "metadata": {},
   "outputs": [
    {
     "data": {
      "text/plain": [
       "['B_cell',\n",
       " 'T_cell',\n",
       " 'T_cell_with_signaling',\n",
       " 'T_cell_with_B_cell_fragments',\n",
       " 'B_T_cell_in_one_layer',\n",
       " 'Synapses_without_signaling',\n",
       " 'Synapses_with_signaling',\n",
       " 'No_cell_cell_interaction',\n",
       " 'Multiplets']"
      ]
     },
     "execution_count": 32,
     "metadata": {},
     "output_type": "execute_result"
    }
   ],
   "source": [
    "set_of_interesting_classes"
   ]
  },
  {
   "cell_type": "code",
   "execution_count": 33,
   "metadata": {},
   "outputs": [
    {
     "name": "stdout",
     "output_type": "stream",
     "text": [
      "              precision    recall  f1-score   support\n",
      "\n",
      "           0       0.98      0.98      0.98       190\n",
      "           1       0.96      0.95      0.96       200\n",
      "           2       0.93      0.91      0.92       148\n",
      "           3       0.90      0.90      0.90       189\n",
      "           4       0.85      0.88      0.87       161\n",
      "           5       0.82      0.87      0.84       147\n",
      "           6       0.86      0.90      0.88       196\n",
      "           7       0.97      0.92      0.95       182\n",
      "           8       0.95      0.88      0.91       154\n",
      "\n",
      "    accuracy                           0.91      1567\n",
      "   macro avg       0.91      0.91      0.91      1567\n",
      "weighted avg       0.92      0.91      0.91      1567\n",
      "\n",
      "------------------------------------------------------------\n",
      "matthews correlation coeff: 0.9023\n",
      "Cohen Kappa score: 0.9022\n",
      "Accuracy: 0.9132 & balanced Accuracy: 0.9105\n",
      "macro F1 score: 0.9113 & micro F1 score: 0.9132\n",
      "macro Precision score: 0.9129 & micro Precision score: 0.9132\n",
      "macro Recall score: 0.9105 & micro Recall score: 0.9132\n"
     ]
    },
    {
     "data": {
      "image/png": "[encoded data removed]",
      "text/plain": [
       "<Figure size 432x288 with 2 Axes>"
      ]
     },
     "metadata": {
      "needs_background": "light"
     },
     "output_type": "display_data"
    },
    {
     "name": "stdout",
     "output_type": "stream",
     "text": [
      "------------------------------------------------------------\n"
     ]
    }
   ],
   "source": [
    "preds = model.predict(test_dataset)\n",
    "\n",
    "classification_complete_report([label_map[t] for t in test_dataset.metadata.label],  preds)"
   ]
  },
  {
   "cell_type": "markdown",
   "metadata": {},
   "source": [
    "## saving the results"
   ]
  },
  {
   "cell_type": "code",
   "execution_count": 34,
   "metadata": {},
   "outputs": [],
   "source": [
    "preds = pd.Series(preds).to_csv(\"resnet18_barlowtwins_preds.csv\")"
   ]
  },
  {
   "cell_type": "code",
   "execution_count": null,
   "metadata": {},
   "outputs": [],
   "source": []
  },
  {
   "cell_type": "code",
   "execution_count": null,
   "metadata": {},
   "outputs": [],
   "source": []
  }
 ],
 "metadata": {
  "kernelspec": {
   "display_name": "Python 3",
   "language": "python",
   "name": "python3"
  },
  "language_info": {
   "codemirror_mode": {
    "name": "ipython",
    "version": 3
   },
   "file_extension": ".py",
   "mimetype": "text/x-python",
   "name": "python",
   "nbconvert_exporter": "python",
   "pygments_lexer": "ipython3",
   "version": "3.7.6"
  }
 },
 "nbformat": 4,
 "nbformat_minor": 4
}
