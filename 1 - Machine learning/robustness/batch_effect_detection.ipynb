{
 "cells": [
  {
   "cell_type": "code",
   "execution_count": 1,
   "metadata": {},
   "outputs": [],
   "source": [
    "import pandas as pd\n",
    "import matplotlib.pyplot as plt\n",
    "import seaborn as sns\n",
    "import numpy as np\n",
    "import skorch\n",
    "import torch\n",
    "from skorch import NeuralNetClassifier\n",
    "from tqdm import tqdm\n",
    "from torchvision import transforms\n",
    "import torch.nn as nn\n",
    "from scipy.stats import entropy\n",
    "import random\n",
    "import h5py\n",
    "from sklearn.cluster import KMeans\n",
    "from sklearn.preprocessing import MinMaxScaler, StandardScaler\n",
    "from sklearn.cluster import FeatureAgglomeration"
   ]
  },
  {
   "cell_type": "code",
   "execution_count": 2,
   "metadata": {},
   "outputs": [],
   "source": [
    "\n",
    "\n",
    "# Compare Algorithmsa\n",
    "import matplotlib.pyplot as plt\n",
    "from sklearn import preprocessing\n",
    "from sklearn.model_selection import train_test_split\n",
    "from sklearn import model_selection\n",
    "from sklearn.linear_model import LogisticRegression\n",
    "from sklearn.tree import DecisionTreeClassifier\n",
    "from sklearn.neighbors import KNeighborsClassifier\n",
    "from sklearn.discriminant_analysis import LinearDiscriminantAnalysis\n",
    "from sklearn.naive_bayes import GaussianNB\n",
    "from sklearn.svm import SVC\n",
    "from sklearn.ensemble import RandomForestClassifier\n",
    "from sklearn.ensemble import GradientBoostingClassifier\n",
    "from sklearn.preprocessing import MinMaxScaler, StandardScaler\n",
    "from sklearn.linear_model import SGDClassifier\n",
    "from sklearn.semi_supervised import LabelPropagation\n",
    "from sklearn.ensemble import GradientBoostingClassifier\n",
    "from sklearn.discriminant_analysis import LinearDiscriminantAnalysis\n",
    "from sklearn.ensemble import VotingClassifier\n",
    "from sklearn.ensemble import GradientBoostingClassifier\n",
    "from sklearn.neural_network import MLPClassifier\n",
    "from xgboost import XGBClassifier"
   ]
  },
  {
   "cell_type": "code",
   "execution_count": 3,
   "metadata": {},
   "outputs": [],
   "source": [
    "from sklearn.metrics import plot_confusion_matrix, matthews_corrcoef, classification_report,confusion_matrix, accuracy_score, balanced_accuracy_score, cohen_kappa_score, f1_score,  precision_score, recall_score\n",
    "from statsmodels.stats.contingency_tables import mcnemar\n",
    "from sklearn.metrics import confusion_matrix,ConfusionMatrixDisplay\n",
    "\n",
    "\n",
    "def classification_complete_report(y_true, y_pred ,labels = None  ): \n",
    "    print(classification_report(y_true, y_pred, labels = labels))\n",
    "    print(15*\"----\")\n",
    "    print(\"matthews correlation coeff: %.4f\" % (matthews_corrcoef(y_true, y_pred)) )\n",
    "    print(\"Cohen Kappa score: %.4f\" % (cohen_kappa_score(y_true, y_pred)) )\n",
    "    print(\"Accuracy: %.4f & balanced Accuracy: %.4f\" % (accuracy_score(y_true, y_pred), balanced_accuracy_score(y_true, y_pred)) )\n",
    "    print(\"macro F1 score: %.4f & micro F1 score: %.4f\" % (f1_score(y_true, y_pred, average = \"macro\"), f1_score(y_true, y_pred, average = \"micro\")) )\n",
    "    print(\"macro Precision score: %.4f & micro Precision score: %.4f\" % (precision_score(y_true, y_pred, average = \"macro\"), precision_score(y_true, y_pred, average = \"micro\")) )\n",
    "    print(\"macro Recall score: %.4f & micro Recall score: %.4f\" % (recall_score(y_true, y_pred, average = \"macro\"), recall_score(y_true, y_pred, average = \"micro\")) )\n",
    "    cm = confusion_matrix(y_true, y_pred,labels= labels)\n",
    "    disp = ConfusionMatrixDisplay(confusion_matrix=cm, display_labels=labels)\n",
    "    disp.plot(cmap=plt.cm.Blues)\n",
    "    plt.show()\n",
    "    print(15*\"----\")"
   ]
  },
  {
   "cell_type": "code",
   "execution_count": 4,
   "metadata": {},
   "outputs": [
    {
     "name": "stderr",
     "output_type": "stream",
     "text": [
      "/opt/conda/lib/python3.7/site-packages/IPython/core/interactiveshell.py:3331: DtypeWarning: Columns (6) have mixed types.Specify dtype option on import or set low_memory=False.\n",
      "  exec(code_obj, self.user_global_ns, self.user_ns)\n"
     ]
    }
   ],
   "source": [
    "metadata = pd.read_csv(\"/projects/site/pred/data_science/year/2022/immunological_synapse/synapse_data_features/metadata_subset_with_predictions.csv.gz\")\n",
    "metadata\n",
    "\n",
    "df_features = pd.read_csv(\"/projects/site/pred/data_science/year/2022/immunological_synapse/synapse_data_features/df_features_subset.csv.gz\")"
   ]
  },
  {
   "cell_type": "code",
   "execution_count": 5,
   "metadata": {},
   "outputs": [],
   "source": [
    "metadata[\"key\"] = metadata[\"experiment\"] + \"_\" + metadata[\"donor\"] "
   ]
  },
  {
   "cell_type": "code",
   "execution_count": 6,
   "metadata": {},
   "outputs": [],
   "source": [
    "set_of_interesting_classes = ['B_cell',  'T_cell', \n",
    "                        'T_cell_with_signaling',\n",
    "                        'T_cell_with_B_cell_fragments',\n",
    "                        'B_T_cell_in_one_layer',\n",
    "                        'Synapses_without_signaling', \n",
    "                        'Synapses_with_signaling',\n",
    "                        'No_cell_cell_interaction', \n",
    "                        'Multiplets']"
   ]
  },
  {
   "cell_type": "code",
   "execution_count": 7,
   "metadata": {},
   "outputs": [],
   "source": [
    "\n",
    "\n",
    "label_map = dict()\n",
    "for i, cl in enumerate(set_of_interesting_classes):\n",
    "    label_map[cl] = i\n",
    "label_map['-1'] = -1\n",
    "label_map[-1] = -1\n",
    "\n",
    "inv_map = {v: k for k, v in label_map.items()}"
   ]
  },
  {
   "cell_type": "code",
   "execution_count": 8,
   "metadata": {},
   "outputs": [
    {
     "data": {
      "text/plain": [
       "{0: 'B_cell',\n",
       " 1: 'T_cell',\n",
       " 2: 'T_cell_with_signaling',\n",
       " 3: 'T_cell_with_B_cell_fragments',\n",
       " 4: 'B_T_cell_in_one_layer',\n",
       " 5: 'Synapses_without_signaling',\n",
       " 6: 'Synapses_with_signaling',\n",
       " 7: 'No_cell_cell_interaction',\n",
       " 8: 'Multiplets',\n",
       " -1: -1}"
      ]
     },
     "execution_count": 8,
     "metadata": {},
     "output_type": "execute_result"
    }
   ],
   "source": [
    "inv_map\n"
   ]
  },
  {
   "cell_type": "code",
   "execution_count": 9,
   "metadata": {},
   "outputs": [],
   "source": [
    "labeled_index = metadata[\"label\"].isin(set_of_interesting_classes)\n",
    "\n",
    "train_index = metadata[\"set\"] == \"train\"\n",
    "train_index = train_index[train_index].index\n",
    "\n",
    "validation_index = metadata[\"set\"] == \"validation\"\n",
    "validation_index = validation_index[validation_index].index\n",
    "\n",
    "test_index = metadata[\"set\"] == \"test\"\n",
    "test_index = test_index[test_index].index"
   ]
  },
  {
   "cell_type": "markdown",
   "metadata": {},
   "source": [
    "## Donor cross validation & experiment cross validation"
   ]
  },
  {
   "cell_type": "code",
   "execution_count": 10,
   "metadata": {},
   "outputs": [
    {
     "name": "stdout",
     "output_type": "stream",
     "text": [
      "list of remained columns:\n",
      " Index(['mask_based_area_BF', 'mask_based_bbox_area_BF',\n",
      "       'mask_based_convex_area_BF', 'mask_based_eccentricity_BF',\n",
      "       'mask_based_equivalent_diameter_BF', 'mask_based_euler_number_BF',\n",
      "       'mask_based_extent_BF', 'mask_based_feret_diameter_max_BF',\n",
      "       'mask_based_filled_area_BF', 'mask_based_major_axis_length_BF',\n",
      "       ...\n",
      "       'max_intensity_ratio_F-Actin_R5_R7', 'sum_intensity_ratio_MHCII_R5_R7',\n",
      "       'mean_intensity_ratio_MHCII_R5_R7', 'max_intensity_ratio_MHCII_R5_R7',\n",
      "       'sum_intensity_ratio_CD3_R5_R7', 'mean_intensity_ratio_CD3_R5_R7',\n",
      "       'max_intensity_ratio_CD3_R5_R7', 'sum_intensity_ratio_P-CD3zeta_R5_R7',\n",
      "       'mean_intensity_ratio_P-CD3zeta_R5_R7',\n",
      "       'max_intensity_ratio_P-CD3zeta_R5_R7'],\n",
      "      dtype='object', length=247) \n",
      " so we have these many columns: 247\n"
     ]
    }
   ],
   "source": [
    "list_of_features_to_exclude = [\"Antibody\",\"Live-Dead\",\"CD18\",  \"_R2\",  \"_R3\",  \"_R8\", \"background\",\n",
    "                               \"moment\",\"percent\",\"mask_based_mean\",\"mask_based_min\",\"mask_based_max\",  \n",
    "                               \"RMS\",\"intensity_BF\",\"_R1_R2\",\"_R1_R3\",\"_R1_R4\",\"_R1_R5\",\"_R1_R6\",\"_R1_R7\",\n",
    "                               \"_R1_R8\",\"_R2_R1\",\"_R2_R3\",\"_R2_R4\",\"_R2_R5\",\"_R2_R6\",\"_R2_R7\",\"_R2_R8\",\n",
    "                               \"_R3_R1\",\"_R3_R2\",\"_R3_R4\",\"_R3_R5\",\"_R3_R6\",\"_R3_R7\",\"_R3_R8\",\n",
    "                               \"_R4_R1\",\"_R4_R2\",\"_R4_R3\",\"_R4_R5\",\"_R4_R6\",\"_R4_R7\",\"_R4_R8\",\n",
    "                               \"_R5_R1\",\"_R5_R2\",\"_R5_R3\",\"_R5_R4\",\"_R5_R8\",\"_R6_R1\",\"_R6_R2\",\n",
    "                               \"_R6_R3\",\"_R6_R4\",\"_R6_R5\",\"_R6_R7\",\"_R6_R8\",\"_R7_R1\",\"_R7_R2\",\n",
    "                               \"_R7_R3\",\"_R7_R4\",\"_R7_R5\",\"_R7_R6\",\"_R7_R8\",\"_R8_R1\",\"_R8_R2\",\n",
    "                               \"_R8_R3\",\"_R8_R4\",\"_R8_R5\",\"_R8_R6\",\"_R8_R7\",\"cell_distance\"]\n",
    "classification_indx = ~df_features.columns.str.contains( list_of_features_to_exclude[0]) \n",
    "\n",
    "for f_to_exclude in list_of_features_to_exclude:\n",
    "    classification_indx = classification_indx & ~df_features.columns.str.contains( f_to_exclude) \n",
    "    \n",
    "\n",
    "print(\"list of remained columns:\\n\", \n",
    "      df_features.columns[classification_indx],\n",
    "     \"\\n\",\n",
    "     \"so we have these many columns:\",\n",
    "     classification_indx.sum())"
   ]
  },
  {
   "cell_type": "code",
   "execution_count": 11,
   "metadata": {},
   "outputs": [
    {
     "name": "stdout",
     "output_type": "stream",
     "text": [
      "{'B_cell': 0, 'T_cell': 1, 'T_cell_with_signaling': 2, 'T_cell_with_B_cell_fragments': 3, 'B_T_cell_in_one_layer': 4, 'Synapses_without_signaling': 5, 'Synapses_with_signaling': 6, 'No_cell_cell_interaction': 7, 'Multiplets': 8, '-1': -1, -1: -1}\n"
     ]
    }
   ],
   "source": [
    "label_map = dict()\n",
    "for i, cl in enumerate(set_of_interesting_classes):\n",
    "    label_map[cl] = i\n",
    "\n",
    "label_map['-1'] = -1\n",
    "label_map[-1] = -1\n",
    "\n",
    "print(label_map)"
   ]
  },
  {
   "cell_type": "code",
   "execution_count": 12,
   "metadata": {},
   "outputs": [],
   "source": [
    "\n",
    "selected_feature_names = ['mask_based_major_axis_length_MHCII',\n",
    "       'mask_based_major_axis_length_CD3', 'correlation_F-Actin',\n",
    "       'contrast_P-CD3zeta', 'homogeneity_F-Actin', 'ASM_CD3',\n",
    "       'mean_intensity_ratio_F-Actin_R5_R6',\n",
    "       'max_intensity_ratio_MHCII_R5_R6', 'mask_based_solidity_F-Actin',\n",
    "       'max_intensity_ratio_F-Actin_R5_R6',\n",
    "       'mask_based_equivalent_diameter_BF', 'dissimilarity_F-Actin',\n",
    "       'mask_based_eccentricity_CD3',\n",
    "       'mean_intensity_ratio_P-CD3zeta_R5_R6', 'correlation_CD3',\n",
    "       'manders_overlap_coefficient_R5_MHCII_R7_P-CD3zeta',\n",
    "       'correlation_P-CD3zeta', 'mask_based_solidity_P-CD3zeta',\n",
    "       'mean_intensity_P-CD3zeta', 'skew_intensity_P-CD3zeta',\n",
    "       'correlation_distance_R5_MHCII_R6_CD3', 'dissimilarity_P-CD3zeta',\n",
    "       'contrast_CD3', 'sum_intensity_CD3',\n",
    "       'sum_intensity_ratio_MHCII_R5_R6', 'mask_based_eccentricity_BF',\n",
    "       'homogeneity_BF', 'mask_based_solidity_CD3', 'mask_based_area_CD3',\n",
    "       'kurtosis_intensity_P-CD3zeta', 'mean_intensity_CD3',\n",
    "       'skew_intensity_MHCII', 'mask_based_feret_diameter_max_BF',\n",
    "       'correlation_MHCII', 'mask_based_major_axis_length_P-CD3zeta',\n",
    "       'mask_based_bbox_area_CD3', 'mean_intensity_ratio_CD3_R5_R6',\n",
    "       'manders_overlap_coefficient_R5_MHCII_R6_CD3',\n",
    "       'mean_intensity_ratio_MHCII_R5_R6',\n",
    "       'mask_based_feret_diameter_max_CD3', 'kurtosis_intensity_CD3',\n",
    "       'homogeneity_CD3', 'sum_intensity_ratio_CD3_R5_R6',\n",
    "       'mask_based_eccentricity_F-Actin',\n",
    "       'structural_similarity_R4_F-Actin_R5_MHCII',\n",
    "       'max_intensity_ratio_P-CD3zeta_R5_R6', 'mask_based_solidity_MHCII',\n",
    "       'mean_intensity_F-Actin', 'homogeneity_MHCII',\n",
    "       'mean_intensity_MHCII', 'contrast_MHCII', 'dissimilarity_MHCII',\n",
    "       'dissimilarity_CD3', 'skew_intensity_F-Actin',\n",
    "       'mask_based_extent_BF', 'max_intensity_ratio_CD3_R5_R6',\n",
    "       'mask_based_major_axis_length_F-Actin',\n",
    "       'euclidean_distance_R5_MHCII_R6_CD3', 'std_intensity_P-CD3zeta',\n",
    "       'mask_based_eccentricity_MHCII', 'dice_distance_BF_CD3',\n",
    "       'intensity_correlation_quotient_R5_MHCII_R6_CD3',\n",
    "       'mask_based_eccentricity_P-CD3zeta', 'skew_intensity_CD3',\n",
    "       'sum_intensity_F-Actin', 'correlation_BF']"
   ]
  },
  {
   "cell_type": "code",
   "execution_count": null,
   "metadata": {},
   "outputs": [],
   "source": []
  }
 ],
 "metadata": {
  "kernelspec": {
   "display_name": "Python 3",
   "language": "python",
   "name": "python3"
  },
  "language_info": {
   "codemirror_mode": {
    "name": "ipython",
    "version": 3
   },
   "file_extension": ".py",
   "mimetype": "text/x-python",
   "name": "python",
   "nbconvert_exporter": "python",
   "pygments_lexer": "ipython3",
   "version": "3.7.6"
  }
 },
 "nbformat": 4,
 "nbformat_minor": 4
}
